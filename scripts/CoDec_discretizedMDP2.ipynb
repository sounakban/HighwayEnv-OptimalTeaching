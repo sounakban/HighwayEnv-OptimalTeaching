{
 "cells": [
  {
   "cell_type": "markdown",
   "metadata": {},
   "source": [
    "This is stage 2 for developing a discrete MDP wrapper for the highway environment based on discretizedMDP.ipynb.\n",
    "\n",
    "The purpose of this code is to implement multiprocessing and set up a separate discretized mdp python script in the codebase."
   ]
  },
  {
   "cell_type": "code",
   "execution_count": 1,
   "metadata": {},
   "outputs": [
    {
     "name": "stdout",
     "output_type": "stream",
     "text": [
      "d:\\Project Files\\HoLab\\Codes\\Mine\\HighwayEnv-TRI\n"
     ]
    },
    {
     "data": {
      "text/plain": [
       "'d:\\\\Project Files\\\\HoLab\\\\Codes\\\\Mine\\\\HighwayEnv-TRI'"
      ]
     },
     "execution_count": 1,
     "metadata": {},
     "output_type": "execute_result"
    }
   ],
   "source": [
    "# Move up one directory level to import local instance of highway environment\n",
    "%cd ..\n",
    "%pwd"
   ]
  },
  {
   "cell_type": "markdown",
   "metadata": {},
   "source": [
    "Import necessary modules"
   ]
  },
  {
   "cell_type": "code",
   "execution_count": null,
   "metadata": {},
   "outputs": [
    {
     "name": "stderr",
     "output_type": "stream",
     "text": [
      "<frozen importlib._bootstrap>:488: RuntimeWarning: Your system is avx2 capable but pygame was not built with support for it. The performance of some of your blits could be adversely affected. Consider enabling compile time detection with environment variables like PYGAME_DETECT_AVX2=1 if you are compiling without cross compilation.\n"
     ]
    }
   ],
   "source": [
    "import gymnasium as gym\n",
    "import highway_env\n",
    "\n",
    "from frozendict import frozendict\n",
    "import numpy as np\n",
    "import copy\n",
    "\n",
    "from matplotlib import pyplot as plt\n",
    "%matplotlib inline\n"
   ]
  },
  {
   "cell_type": "markdown",
   "metadata": {},
   "source": [
    "Set up MDP"
   ]
  },
  {
   "cell_type": "code",
   "execution_count": 2,
   "metadata": {},
   "outputs": [
    {
     "name": "stderr",
     "output_type": "stream",
     "text": [
      "<frozen importlib._bootstrap>:488: RuntimeWarning: Your system is avx2 capable but pygame was not built with support for it. The performance of some of your blits could be adversely affected. Consider enabling compile time detection with environment variables like PYGAME_DETECT_AVX2=1 if you are compiling without cross compilation.\n"
     ]
    }
   ],
   "source": [
    "from highway_env.envs.discreteMDP_wrapper import HighwayDiscreteMDP\n",
    "\n",
    "import cProfile\n",
    "import logging\n",
    "logger = logging.getLogger()\n",
    "logger.setLevel(logging.INFO)    # Other options: INFO, WARNING, ERROR, CRITICAL\n",
    "\n",
    "import functools\n",
    "import multiprocessing as mp\n",
    "# pool = mp.Pool((mp.cpu_count()-1)) #This uses all processors instead of manually putting the number"
   ]
  },
  {
   "cell_type": "code",
   "execution_count": 3,
   "metadata": {},
   "outputs": [],
   "source": [
    "config = {\n",
    "        \"observation\": {\n",
    "            \"type\": \"Kinematics\",\n",
    "            \"vehicles_count\": 50,\n",
    "            \"features\": [\"presence\", \"x\", \"y\", \"vx\", \"vy\", \"heading\"],\n",
    "            \"normalize\": False,\n",
    "            \"absolute\": True,\n",
    "            \"order\": \"sorted\",\n",
    "            \"observe_intentions\": False,\n",
    "            \"include_obstacles\": True\n",
    "            }\n",
    "        }\n",
    "\n",
    "highway_mdp = HighwayDiscreteMDP('highway-v0', config=config, render_mode='human')\n",
    "\n",
    "initial_state, actions = highway_mdp.get_env_properties()"
   ]
  },
  {
   "cell_type": "code",
   "execution_count": null,
   "metadata": {},
   "outputs": [
    {
     "name": "stdout",
     "output_type": "stream",
     "text": [
      "calling function\n"
     ]
    }
   ],
   "source": [
    "max_depth = 2   # The number of steps to plan ahead\n",
    "\n",
    "def exeuteAction(action, envMDP: HighwayDiscreteMDP):\n",
    "    \"\"\"\n",
    "    Given an instance of a gym environment and an action the environment will execute \n",
    "    the action and return the next state and a copy of the updated environment instance.\n",
    "    \"\"\"\n",
    "    print(\"In function\")\n",
    "    envMDP_copy = copy.deepcopy(envMDP)\n",
    "    # logging.debug(envMDP_copy.env.unwrapped.road.vehicles[0])\n",
    "    next_state, reward, done, truncated, info = envMDP_copy.step(action)\n",
    "    logging.debug(' | '.join((state[0], action, next_state[0])))\n",
    "    return((action, next_state, reward, done, truncated, info, envMDP_copy.copy_env()))\n",
    "\n",
    "visited = set()\n",
    "transitions = {}\n",
    "frontier = {(initial_state, 0, highway_mdp.copy_env())}\n",
    "while frontier:\n",
    "    state, depth, curr_env = frontier.pop()\n",
    "    visited.add(state)\n",
    "    if depth < max_depth:\n",
    "        highway_mdp.set_env(curr_env)\n",
    "        print(\"calling function\")\n",
    "        process_count = (mp.cpu_count()-2)\n",
    "        with mp.Pool(process_count) as pool:\n",
    "            return_vals = [pool.apply_async(functools.partial(exeuteAction, envMDP=highway_mdp), a) for a in actions]\n",
    "            # return_vals = pool.map(functools.partial(exeuteAction, envMDP=highway_mdp), actions)\n",
    "        # for action, next_state, reward, done, truncated, info, updated_env in return_vals:\n",
    "        for val in return_vals:\n",
    "            action, next_state, reward, done, truncated, info, updated_env = val.get()\n",
    "            if (state[0], action) not in transitions:\n",
    "                transitions[(state[0], action)] = {}            \n",
    "            if next_state[0] not in transitions[(state[0], action)]:\n",
    "                transitions[(state[0], action)][next_state[0]] = 0\n",
    "            transitions[(state[0], action)][next_state[0]] += 1\n",
    "            if next_state not in visited:\n",
    "                frontier.add((next_state, depth + 1, updated_env))\n",
    "    MDPstatus = \"Current Depth: \" + str(depth) + \" | Frontier: \" + str(len(frontier)) +\\\n",
    "                \" | Visited: \" + str(len(visited)) + \" | Transitions:\" + str(len(transitions))\n",
    "    logging.info(MDPstatus)\n",
    "\n"
   ]
  },
  {
   "cell_type": "code",
   "execution_count": null,
   "metadata": {},
   "outputs": [
    {
     "data": {
      "text/plain": [
       "[<multiprocessing.pool.ApplyResult at 0x1fd81b2a8a0>,\n",
       " <multiprocessing.pool.ApplyResult at 0x1fd81396240>,\n",
       " <multiprocessing.pool.ApplyResult at 0x1fd81bab590>,\n",
       " <multiprocessing.pool.ApplyResult at 0x1fd81af6ea0>,\n",
       " <multiprocessing.pool.ApplyResult at 0x1fdfe10fc50>]"
      ]
     },
     "execution_count": 13,
     "metadata": {},
     "output_type": "execute_result"
    }
   ],
   "source": [
    "return_vals"
   ]
  },
  {
   "cell_type": "code",
   "execution_count": 6,
   "metadata": {},
   "outputs": [
    {
     "name": "stderr",
     "output_type": "stream",
     "text": [
      "INFO:root:Current Depth: 0 | Frontier: 5 | Visited: 1 | Transitions:5\n",
      "INFO:root:Current Depth: 1 | Frontier: 9 | Visited: 2 | Transitions:10\n",
      "INFO:root:Current Depth: 2 | Frontier: 8 | Visited: 3 | Transitions:10\n",
      "INFO:root:Current Depth: 2 | Frontier: 7 | Visited: 4 | Transitions:10\n",
      "INFO:root:Current Depth: 1 | Frontier: 11 | Visited: 5 | Transitions:15\n",
      "INFO:root:Current Depth: 2 | Frontier: 10 | Visited: 6 | Transitions:15\n",
      "INFO:root:Current Depth: 2 | Frontier: 9 | Visited: 7 | Transitions:15\n",
      "INFO:root:Current Depth: 1 | Frontier: 13 | Visited: 8 | Transitions:20\n",
      "INFO:root:Current Depth: 2 | Frontier: 12 | Visited: 9 | Transitions:20\n",
      "INFO:root:Current Depth: 2 | Frontier: 11 | Visited: 10 | Transitions:20\n",
      "INFO:root:Current Depth: 2 | Frontier: 10 | Visited: 11 | Transitions:20\n",
      "INFO:root:Current Depth: 1 | Frontier: 14 | Visited: 12 | Transitions:25\n",
      "INFO:root:Current Depth: 1 | Frontier: 18 | Visited: 13 | Transitions:30\n",
      "INFO:root:Current Depth: 2 | Frontier: 17 | Visited: 14 | Transitions:30\n",
      "INFO:root:Current Depth: 2 | Frontier: 16 | Visited: 15 | Transitions:30\n",
      "INFO:root:Current Depth: 2 | Frontier: 15 | Visited: 16 | Transitions:30\n",
      "INFO:root:Current Depth: 2 | Frontier: 14 | Visited: 17 | Transitions:30\n",
      "INFO:root:Current Depth: 2 | Frontier: 13 | Visited: 18 | Transitions:30\n",
      "INFO:root:Current Depth: 2 | Frontier: 12 | Visited: 19 | Transitions:30\n",
      "INFO:root:Current Depth: 2 | Frontier: 11 | Visited: 20 | Transitions:30\n",
      "INFO:root:Current Depth: 2 | Frontier: 10 | Visited: 20 | Transitions:30\n",
      "INFO:root:Current Depth: 2 | Frontier: 9 | Visited: 21 | Transitions:30\n",
      "INFO:root:Current Depth: 2 | Frontier: 8 | Visited: 22 | Transitions:30\n",
      "INFO:root:Current Depth: 2 | Frontier: 7 | Visited: 23 | Transitions:30\n",
      "INFO:root:Current Depth: 2 | Frontier: 6 | Visited: 23 | Transitions:30\n",
      "INFO:root:Current Depth: 2 | Frontier: 5 | Visited: 24 | Transitions:30\n",
      "INFO:root:Current Depth: 2 | Frontier: 4 | Visited: 24 | Transitions:30\n",
      "INFO:root:Current Depth: 2 | Frontier: 3 | Visited: 25 | Transitions:30\n",
      "INFO:root:Current Depth: 2 | Frontier: 2 | Visited: 26 | Transitions:30\n",
      "INFO:root:Current Depth: 2 | Frontier: 1 | Visited: 27 | Transitions:30\n",
      "INFO:root:Current Depth: 2 | Frontier: 0 | Visited: 28 | Transitions:30\n"
     ]
    },
    {
     "name": "stdout",
     "output_type": "stream",
     "text": [
      "Number of execution calls:  30\n"
     ]
    }
   ],
   "source": [
    "max_depth = 2   # The number of steps to plan ahead\n",
    "\n",
    "def run_code():\n",
    "    visited = set()\n",
    "    transitions = {}\n",
    "    frontier = {(initial_state, 0, highway_mdp.copy_env())}\n",
    "    loop_counter = 0\n",
    "    while frontier:\n",
    "        state, depth, curr_env = frontier.pop()\n",
    "        visited.add(state)\n",
    "        if depth < max_depth:\n",
    "            for action in actions:\n",
    "                highway_mdp.set_env(curr_env)\n",
    "                # logging.debug(highway_mdp.env.unwrapped.road.vehicles[0])\n",
    "                if (state[0], action) not in transitions:\n",
    "                    transitions[(state[0], action)] = {}\n",
    "                next_state, reward, done, truncated, info = highway_mdp.step(action)\n",
    "                logging.debug(str(state[0]) + ' | ' + str(action) + ' | ' + str(next_state[0]))\n",
    "                if next_state[0] not in transitions[(state[0], action)]:\n",
    "                    transitions[(state[0], action)][next_state[0]] = 0\n",
    "                transitions[(state[0], action)][next_state[0]] += 1\n",
    "                if next_state not in visited:\n",
    "                    frontier.add((next_state, depth + 1, highway_mdp.copy_env()))\n",
    "                loop_counter += 1\n",
    "        MDPstatus = \"Current Depth: \" + str(depth) + \" | Frontier: \" + str(len(frontier)) +\\\n",
    "                    \" | Visited: \" + str(len(visited)) + \" | Transitions:\" + str(len(transitions))\n",
    "        logging.info(MDPstatus)\n",
    "    print(\"Number of execution calls: \", loop_counter)\n",
    "\n",
    "run_code()\n",
    "\n",
    "# cProfile.run('run_code()')\n"
   ]
  },
  {
   "cell_type": "code",
   "execution_count": 109,
   "metadata": {},
   "outputs": [
    {
     "name": "stdout",
     "output_type": "stream",
     "text": [
      "{'LANE_LEFT': 0, 'IDLE': 1, 'LANE_RIGHT': 2, 'FASTER': 3, 'SLOWER': 4}\n"
     ]
    },
    {
     "data": {
      "text/plain": [
       "{(frozendict.frozendict({'position': (178.19, 0.0), 'speed': (25.0, 0.0), 'heading': 0.0}),\n",
       "  0): {frozendict.frozendict({'position': (296.98, 0.2), 'speed': (0.04, -0.01), 'heading': -0.173}): 1},\n",
       " (frozendict.frozendict({'position': (178.19, 0.0), 'speed': (25.0, 0.0), 'heading': 0.0}),\n",
       "  1): {frozendict.frozendict({'position': (296.98, 0.2), 'speed': (0.04, -0.01), 'heading': -0.173}): 1},\n",
       " (frozendict.frozendict({'position': (178.19, 0.0), 'speed': (25.0, 0.0), 'heading': 0.0}),\n",
       "  2): {frozendict.frozendict({'position': (296.98, 0.2), 'speed': (0.04, -0.01), 'heading': -0.173}): 1},\n",
       " (frozendict.frozendict({'position': (178.19, 0.0), 'speed': (25.0, 0.0), 'heading': 0.0}),\n",
       "  3): {frozendict.frozendict({'position': (296.98, 0.2), 'speed': (0.04, -0.01), 'heading': -0.173}): 1},\n",
       " (frozendict.frozendict({'position': (178.19, 0.0), 'speed': (25.0, 0.0), 'heading': 0.0}),\n",
       "  4): {frozendict.frozendict({'position': (296.98, 0.2), 'speed': (0.04, -0.01), 'heading': -0.173}): 1},\n",
       " (frozendict.frozendict({'position': (296.98, 0.2), 'speed': (0.04, -0.01), 'heading': -0.173}),\n",
       "  0): {frozendict.frozendict({'position': (297.0, 0.2), 'speed': (0.01, -0.0), 'heading': -0.173}): 5},\n",
       " (frozendict.frozendict({'position': (296.98, 0.2), 'speed': (0.04, -0.01), 'heading': -0.173}),\n",
       "  1): {frozendict.frozendict({'position': (297.0, 0.2), 'speed': (0.01, -0.0), 'heading': -0.173}): 5},\n",
       " (frozendict.frozendict({'position': (296.98, 0.2), 'speed': (0.04, -0.01), 'heading': -0.173}),\n",
       "  2): {frozendict.frozendict({'position': (297.0, 0.2), 'speed': (0.01, -0.0), 'heading': -0.173}): 5},\n",
       " (frozendict.frozendict({'position': (296.98, 0.2), 'speed': (0.04, -0.01), 'heading': -0.173}),\n",
       "  3): {frozendict.frozendict({'position': (297.0, 0.2), 'speed': (0.01, -0.0), 'heading': -0.173}): 5},\n",
       " (frozendict.frozendict({'position': (296.98, 0.2), 'speed': (0.04, -0.01), 'heading': -0.173}),\n",
       "  4): {frozendict.frozendict({'position': (297.0, 0.2), 'speed': (0.01, -0.0), 'heading': -0.173}): 5}}"
      ]
     },
     "execution_count": 109,
     "metadata": {},
     "output_type": "execute_result"
    }
   ],
   "source": [
    "print(highway_mdp.env.unwrapped.action_type.actions_indexes)\n",
    "\n",
    "transitions"
   ]
  },
  {
   "cell_type": "markdown",
   "metadata": {},
   "source": [
    "# TEST CODE"
   ]
  },
  {
   "cell_type": "code",
   "execution_count": 127,
   "metadata": {},
   "outputs": [
    {
     "name": "stdout",
     "output_type": "stream",
     "text": [
      "MDPVehicle #544: [207.38302935   8.        ]\n",
      "MDPVehicle #248: [207.38302935   8.        ]\n",
      "1 [1.   1.   0.08 1.   0.   0.  ]\n",
      "MDPVehicle #544: [232.38302935   8.        ]\n",
      "MDPVehicle #248: [207.38302935   8.        ]\n",
      "MDPVehicle #248: [207.38302935   8.        ]\n"
     ]
    }
   ],
   "source": [
    "# |DEBUGGING CODE\n",
    "\n",
    "print(highway_mdp.env.unwrapped.road.vehicles[0])\n",
    "tmp = highway_mdp.copy_env()\n",
    "print(tmp.unwrapped.road.vehicles[0])\n",
    "highway_mdp.step(1)\n",
    "print(highway_mdp.env.unwrapped.road.vehicles[0])\n",
    "print(tmp.unwrapped.road.vehicles[0])\n",
    "highway_mdp.set_env(tmp)\n",
    "print(highway_mdp.env.unwrapped.road.vehicles[0])\n",
    "\n",
    "\n",
    "# dir(highway_mdp.env.unwrapped)\n",
    "\n",
    "next_state, reward, done, truncated, info = highway_mdp.step(1)\n",
    "# next_state\n"
   ]
  },
  {
   "cell_type": "code",
   "execution_count": null,
   "metadata": {},
   "outputs": [],
   "source": [
    "config = {\n",
    "        \"observation\": {\n",
    "            \"type\": \"Kinematics\",\n",
    "            \"vehicles_count\": 50,\n",
    "            \"features\": [\"presence\", \"x\", \"y\", \"vx\", \"vy\", \"heading\"],\n",
    "            \"normalize\": False,\n",
    "            \"absolute\": True,\n",
    "            \"order\": \"sorted\",\n",
    "            \"observe_intentions\": False,\n",
    "            \"include_obstacles\": True\n",
    "            }\n",
    "        }\n",
    "\n",
    "env = gym.make('highway-v0', config=config, render_mode='human')"
   ]
  },
  {
   "cell_type": "code",
   "execution_count": 75,
   "metadata": {},
   "outputs": [
    {
     "data": {
      "text/plain": [
       "(frozendict.frozendict({'position': (1.0, 0.08), 'speed': (1.0, 0.0), 'heading': 0.0}),\n",
       " frozendict.frozendict({'position': (0.08, 0.0), 'speed': (-0.24, 0.0), 'heading': 0.0}),\n",
       " frozendict.frozendict({'position': (0.33, -0.04), 'speed': (-0.18, 0.0), 'heading': 0.003}),\n",
       " frozendict.frozendict({'position': (0.45, 0.04), 'speed': (-0.31, 0.0), 'heading': 0.005}),\n",
       " frozendict.frozendict({'position': (0.72, 0.0), 'speed': (-0.19, 0.0), 'heading': 0.0}),\n",
       " frozendict.frozendict({'position': (0.93, 0.04), 'speed': (-0.19, 0.0), 'heading': 0.0}),\n",
       " frozendict.frozendict({'position': (1.0, -0.08), 'speed': (-0.27, 0.0), 'heading': 0.0}),\n",
       " frozendict.frozendict({'position': (1.0, -0.04), 'speed': (-0.24, -0.0), 'heading': -0.0}),\n",
       " frozendict.frozendict({'position': (1.0, -0.0), 'speed': (-0.16, 0.0), 'heading': 0.001}),\n",
       " frozendict.frozendict({'position': (1.0, -0.08), 'speed': (-0.28, 0.0), 'heading': 0.0}),\n",
       " frozendict.frozendict({'position': (0.0, 0.0), 'speed': (0.0, 0.0), 'heading': 0.0}),\n",
       " frozendict.frozendict({'position': (0.0, 0.0), 'speed': (0.0, 0.0), 'heading': 0.0}),\n",
       " frozendict.frozendict({'position': (0.0, 0.0), 'speed': (0.0, 0.0), 'heading': 0.0}),\n",
       " frozendict.frozendict({'position': (0.0, 0.0), 'speed': (0.0, 0.0), 'heading': 0.0}),\n",
       " frozendict.frozendict({'position': (0.0, 0.0), 'speed': (0.0, 0.0), 'heading': 0.0}))"
      ]
     },
     "execution_count": 75,
     "metadata": {},
     "output_type": "execute_result"
    }
   ],
   "source": [
    "vehicles = []\n",
    "for veh_state in obs:\n",
    "    feature_vals = {k: v for k,v in zip(config[\"observation\"][\"features\"], veh_state)}\n",
    "    veh = {}\n",
    "    veh[\"position\"] = tuple(np.round((feature_vals[\"x\"],feature_vals[\"y\"]), 2))\n",
    "    veh[\"speed\"] = tuple(np.round((feature_vals[\"vx\"],feature_vals[\"vy\"]), 2))\n",
    "    veh[\"heading\"] = np.round(feature_vals[\"heading\"], 3)\n",
    "    vehicles.append(frozendict(veh))\n",
    "vehicles = tuple(vehicles)\n",
    "vehicles"
   ]
  },
  {
   "cell_type": "code",
   "execution_count": 77,
   "metadata": {},
   "outputs": [
    {
     "data": {
      "text/plain": [
       "48"
      ]
     },
     "execution_count": 77,
     "metadata": {},
     "output_type": "execute_result"
    }
   ],
   "source": [
    "import sys\n",
    "\n",
    "# sys.getsizeof(transitions)\n",
    "sys.getsizeof(highway_mdp.copy_env())\n",
    "# sys.getsizeof(int(10.0))\n"
   ]
  }
 ],
 "metadata": {
  "kernelspec": {
   "display_name": "myHighwayEnv",
   "language": "python",
   "name": "python3"
  },
  "language_info": {
   "codemirror_mode": {
    "name": "ipython",
    "version": 3
   },
   "file_extension": ".py",
   "mimetype": "text/x-python",
   "name": "python",
   "nbconvert_exporter": "python",
   "pygments_lexer": "ipython3",
   "version": "3.12.7"
  }
 },
 "nbformat": 4,
 "nbformat_minor": 2
}
