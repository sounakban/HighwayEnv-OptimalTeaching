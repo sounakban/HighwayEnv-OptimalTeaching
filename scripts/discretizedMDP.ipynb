{
 "cells": [
  {
   "cell_type": "code",
   "execution_count": 2,
   "metadata": {},
   "outputs": [
    {
     "name": "stdout",
     "output_type": "stream",
     "text": [
      "d:\\Project Files\\HoLab\\Codes\\Mine\\HighwayEnv-TRI\n"
     ]
    },
    {
     "data": {
      "text/plain": [
       "'d:\\\\Project Files\\\\HoLab\\\\Codes\\\\Mine\\\\HighwayEnv-TRI'"
      ]
     },
     "execution_count": 2,
     "metadata": {},
     "output_type": "execute_result"
    }
   ],
   "source": [
    "# Move up one directory level to import local instance of highway environment\n",
    "%cd ..\n",
    "%pwd"
   ]
  },
  {
   "cell_type": "markdown",
   "metadata": {},
   "source": [
    "Import necessary modules"
   ]
  },
  {
   "cell_type": "code",
   "execution_count": 29,
   "metadata": {},
   "outputs": [],
   "source": [
    "import gymnasium as gym\n",
    "import highway_env\n",
    "\n",
    "from frozendict import frozendict\n",
    "import numpy as np\n",
    "import math\n",
    "import copy\n",
    "\n",
    "from matplotlib import pyplot as plt\n",
    "%matplotlib inline"
   ]
  },
  {
   "cell_type": "code",
   "execution_count": 45,
   "metadata": {},
   "outputs": [
    {
     "data": {
      "text/plain": [
       "{'LANE_LEFT': 0, 'IDLE': 1, 'LANE_RIGHT': 2, 'FASTER': 3, 'SLOWER': 4}"
      ]
     },
     "execution_count": 45,
     "metadata": {},
     "output_type": "execute_result"
    }
   ],
   "source": [
    "env.unwrapped.action_type.actions_indexes"
   ]
  },
  {
   "cell_type": "code",
   "execution_count": 46,
   "metadata": {},
   "outputs": [
    {
     "data": {
      "text/plain": [
       "[0, 1, 2, 3, 4]"
      ]
     },
     "execution_count": 46,
     "metadata": {},
     "output_type": "execute_result"
    }
   ],
   "source": [
    "list(range(0,5))"
   ]
  },
  {
   "cell_type": "markdown",
   "metadata": {},
   "source": [
    "Set up MDP"
   ]
  },
  {
   "cell_type": "code",
   "execution_count": null,
   "metadata": {},
   "outputs": [],
   "source": [
    "class GymMDP:\n",
    "    def __init__(self, config: dict = None, *args, **kwargs):\n",
    "        if \"config\" in kwargs:\n",
    "            self.config = kwargs.get(\"config\", None)\n",
    "        self.env = gym.make(*args, **kwargs)\n",
    "        self.obs, self.info = self.env.reset()\n",
    "        action_space = self.env.action_space\n",
    "        if isinstance(action_space, gym.spaces.discrete.Discrete):\n",
    "            self.actions = range(action_space.start, action_space.n)\n",
    "        else:\n",
    "            raise NotImplementedError(\"Only discrete action spaces are currently supported\")\n",
    "            # Can later be extended for other gym actionspaces\n",
    "\n",
    "\n",
    "    def to_hashable_state(self, obs):\n",
    "        raise NotImplementedError(\"Please Implement this method\")\n",
    "\n",
    "\n",
    "\n",
    "\n",
    "class HighwayMDP(GymMDP):\n",
    "    '''\n",
    "    The class currently only supports kinematics observation space in HighwayEnv\n",
    "    '''\n",
    "    def __init__(self, *args, **kwargs):\n",
    "        if self.config == None:\n",
    "            raise ValueError(\"Please use Kinematics observation space \\\n",
    "                             and specify features in config\")\n",
    "        super().__init__(*args, **kwargs)\n",
    "        # self.action_dict = self.env.unwrapped.action_type.actions_indexes\n",
    "        self.initial_state = self.to_hashable_state(self.obs)\n",
    "    \n",
    "    def get_env_properties(self):\n",
    "        return self.initial_state, list(self.action_dict.keys())\n",
    "\n",
    "    def to_hashable_state(self, info):\n",
    "        pass\n",
    "\n",
    "    def step(self, state, action):\n",
    "        # set_vehicles(state, self.env)\n",
    "        obs, reward, done, truncated, info = self.env.step(self.action_dict[action])\n",
    "        next_state = self.to_hashable_state(info)\n",
    "        return next_state, reward, done\n",
    "\n",
    "\n",
    "def make_highwayMDP(*args, **kwargs):\n",
    "    env = gym.make(*args, **kwargs)\n",
    "    obs, info = env.reset()\n",
    "    initial_state = to_hashable_state(info)\n",
    "    action_dict = env.unwrapped.action_type.actions_indexes\n",
    "    def step(state, action):\n",
    "        set_vehicles(state, env)\n",
    "        obs, reward, done, truncated, info = env.step(action_dict[action])\n",
    "        next_state = to_hashable_state(info)\n",
    "        return next_state, reward, done\n",
    "    return initial_state, step, list(action_dict.keys())\n",
    "\n",
    "\n",
    "\n",
    "def make_mdp(gym_env, *args, **kwargs):\n",
    "    if gym_env == \"highway\":\n",
    "        # initial_state, step, action_indices = make_highwayMDP(*args, **kwargs)\n",
    "        highwaymdp = HighwayMDP(*args, **kwargs)    \n",
    "        return highwaymdp\n",
    "    return 0\n"
   ]
  },
  {
   "cell_type": "markdown",
   "metadata": {},
   "source": [
    "Test code"
   ]
  },
  {
   "cell_type": "code",
   "execution_count": null,
   "metadata": {},
   "outputs": [],
   "source": [
    "\n",
    "\n",
    "env = gym.make('highway-v0', config=config, render_mode='human')"
   ]
  },
  {
   "cell_type": "code",
   "execution_count": 26,
   "metadata": {},
   "outputs": [],
   "source": [
    "obs, info = env.reset()\n",
    "for _ in range(3):\n",
    "    action = env.unwrapped.action_type.actions_indexes[\"IDLE\"]\n",
    "    obs, reward, done, truncated, info = env.step(action)\n",
    "    # env.render()\n",
    "\n",
    "# plt.imshow(env.render())\n",
    "# plt.show()\n",
    "\n",
    "\n",
    "\n",
    "# obs, info = env.reset()\n",
    "# done = truncated = False\n",
    "# while not (done or truncated):\n",
    "#     action = ... # Your agent code here\n",
    "#     obs, reward, done, truncated, info = env.step(action)"
   ]
  },
  {
   "cell_type": "code",
   "execution_count": 48,
   "metadata": {},
   "outputs": [
    {
     "data": {
      "text/plain": [
       "dict"
      ]
     },
     "execution_count": 48,
     "metadata": {},
     "output_type": "execute_result"
    }
   ],
   "source": [
    "type(info)"
   ]
  },
  {
   "cell_type": "code",
   "execution_count": 44,
   "metadata": {},
   "outputs": [
    {
     "data": {
      "text/plain": [
       "[1, 2, 3, 4]"
      ]
     },
     "execution_count": 44,
     "metadata": {},
     "output_type": "execute_result"
    }
   ],
   "source": [
    "list(range(1,5))"
   ]
  },
  {
   "cell_type": "code",
   "execution_count": 27,
   "metadata": {},
   "outputs": [
    {
     "name": "stdout",
     "output_type": "stream",
     "text": [
      "15\n"
     ]
    },
    {
     "data": {
      "text/plain": [
       "[1.0, 1.0, 1.0, 1.0, 1.0, 1.0, 1.0, 1.0, 1.0, 1.0, 0.0, 0.0, 0.0, 0.0, 0.0]"
      ]
     },
     "execution_count": 27,
     "metadata": {},
     "output_type": "execute_result"
    }
   ],
   "source": [
    "print(len([ob[0] for ob in obs]))\n",
    "[ob[0] for ob in obs]"
   ]
  },
  {
   "cell_type": "code",
   "execution_count": null,
   "metadata": {},
   "outputs": [],
   "source": []
  }
 ],
 "metadata": {
  "kernelspec": {
   "display_name": "myHighwayEnv",
   "language": "python",
   "name": "python3"
  },
  "language_info": {
   "codemirror_mode": {
    "name": "ipython",
    "version": 3
   },
   "file_extension": ".py",
   "mimetype": "text/x-python",
   "name": "python",
   "nbconvert_exporter": "python",
   "pygments_lexer": "ipython3",
   "version": "3.12.7"
  }
 },
 "nbformat": 4,
 "nbformat_minor": 2
}
