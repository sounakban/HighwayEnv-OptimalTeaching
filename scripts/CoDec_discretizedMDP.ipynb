{
 "cells": [
  {
   "cell_type": "markdown",
   "metadata": {},
   "source": [
    "This is stage 2 for developing a discrete MDP wrapper for the highway environment based on discretizedMDP.ipynb.\n",
    "\n",
    "The purpose of this code is to implement multiprocessing and set up a separate discretized mdp python script in the codebase."
   ]
  },
  {
   "cell_type": "code",
   "execution_count": 1,
   "metadata": {},
   "outputs": [
    {
     "name": "stdout",
     "output_type": "stream",
     "text": [
      "d:\\WorkFiles\\ProjectCode\\ActiveProjects\\HoLab\\Mine\\HighwayEnv-TRI\n"
     ]
    },
    {
     "data": {
      "text/plain": [
       "'d:\\\\WorkFiles\\\\ProjectCode\\\\ActiveProjects\\\\HoLab\\\\Mine\\\\HighwayEnv-TRI'"
      ]
     },
     "execution_count": 1,
     "metadata": {},
     "output_type": "execute_result"
    }
   ],
   "source": [
    "# Move up one directory level to import local instance of highway environment\n",
    "%cd ..\n",
    "%pwd"
   ]
  },
  {
   "cell_type": "markdown",
   "metadata": {},
   "source": [
    "Import necessary modules"
   ]
  },
  {
   "cell_type": "code",
   "execution_count": 2,
   "metadata": {},
   "outputs": [
    {
     "name": "stderr",
     "output_type": "stream",
     "text": [
      "<frozen importlib._bootstrap>:488: RuntimeWarning: Your system is avx2 capable but pygame was not built with support for it. The performance of some of your blits could be adversely affected. Consider enabling compile time detection with environment variables like PYGAME_DETECT_AVX2=1 if you are compiling without cross compilation.\n"
     ]
    }
   ],
   "source": [
    "from highway_env.envs.discreteMDP_wrapper import HighwayDiscreteMDP, OptimalPolicy\n",
    "\n",
    "import cProfile\n",
    "import logging\n",
    "logger = logging.getLogger()\n",
    "logger.setLevel(logging.INFO)    # Other options: INFO, WARNING, ERROR, CRITICAL\n",
    "\n",
    "import copy"
   ]
  },
  {
   "cell_type": "markdown",
   "metadata": {},
   "source": [
    "MDP Stuff"
   ]
  },
  {
   "cell_type": "code",
   "execution_count": 3,
   "metadata": {},
   "outputs": [
    {
     "name": "stderr",
     "output_type": "stream",
     "text": [
      "c:\\Users\\Sounak\\anaconda3\\envs\\myHighwayEnv\\Lib\\site-packages\\gymnasium\\utils\\passive_env_checker.py:158: UserWarning: \u001b[33mWARN: The obs returned by the `reset()` method is not within the observation space.\u001b[0m\n",
      "  logger.warn(f\"{pre} is not within the observation space.\")\n"
     ]
    }
   ],
   "source": [
    "# Define Configuration\n",
    "\n",
    "config = {    \n",
    "        ## Parameters of interest ##\n",
    "        \"observation\": {\n",
    "            # For more details about observation parameters check out \"highway_env\\envs\\common\\observation.py\"\n",
    "            \"vehicles_count\": 50,   # Number of vehicles to show in the observation. Keep greater than value \n",
    "                                    #   of vehicles out outside obervation dictionary to observe all vehicles\n",
    "                                    #   in the environment.\n",
    "            \"type\": \"Kinematics\",\n",
    "            \"features\": [\"presence\", \"x\", \"y\", \"vx\", \"vy\", \"heading\"],\n",
    "            \"normalize\": False, # Normalize object coordinates\n",
    "            \"absolute\": True,   # Provide absolute coordinate of vehicles\n",
    "            \"order\": \"sorted\",\n",
    "            \"observe_intentions\": False,\n",
    "            \"include_obstacles\": True,\n",
    "            \"see_behind\": True  # Report vehicles behind the ego vehicle\n",
    "            }\n",
    "        ## Keep these to default, because the fast versions of the environments implement different values ##\n",
    "        ## of these variables for faster execution ##\n",
    "        # \"vehicles_count\": 50,\n",
    "        # \"lanes_count\": 4,\n",
    "        # \"simulation_frequency\": 5,\n",
    "        # \"duration\": 40,  # [s]\n",
    "        ## Other parameters aleady set by default configurations ##\n",
    "        # \"action\": {\n",
    "        #     \"type\": \"DiscreteMetaAction\",\n",
    "        # },\n",
    "        # \"controlled_vehicles\": 1,\n",
    "        # \"initial_lane_id\": None,\n",
    "        # \"ego_spacing\": 2,\n",
    "        # \"vehicles_density\": 1,\n",
    "        # \"collision_reward\": -1,  # The reward received when colliding with a vehicle.\n",
    "        # \"right_lane_reward\": 0.1,  # The reward received when driving on the right-most lanes, linearly mapped to\n",
    "        # # zero for other lanes.\n",
    "        # \"high_speed_reward\": 0.4,  # The reward received when driving at full speed, linearly mapped to zero for\n",
    "        # # lower speeds according to config[\"reward_speed_range\"].\n",
    "        # \"lane_change_reward\": 0,  # The reward received at each lane change action.\n",
    "        # \"reward_speed_range\": [20, 30],\n",
    "        # \"normalize_reward\": True,\n",
    "        # \"offroad_terminal\": False,\n",
    "        }\n",
    "# highway_mdp = HighwayDiscreteMDP('highway-v0', config=config, render_mode='rgb_array')\n",
    "# highway_mdp = HighwayDiscreteMDP('highway-v0', config=config, render_mode=None)\n",
    "# highway_mdp = HighwayDiscreteMDP('highway-fast-v0', config=config, render_mode=None)\n",
    "highway_mdp = HighwayDiscreteMDP('highway-icy-fast-v0', config=config, render_mode=None)\n",
    "# highway_mdp = HighwayDiscreteMDP('highway-icy-v0', config=config, render_mode=None)\n",
    "\n",
    "max_depth = 3"
   ]
  },
  {
   "cell_type": "code",
   "execution_count": 4,
   "metadata": {},
   "outputs": [
    {
     "name": "stdout",
     "output_type": "stream",
     "text": [
      "currently running contrual  1\n"
     ]
    },
    {
     "name": "stderr",
     "output_type": "stream",
     "text": [
      "INFO:root:Current Depth: 0 | Frontier: 5 | Visited: 1 | Transitions:5\n",
      "INFO:root:Current Depth: 1 | Frontier: 9 | Visited: 2 | Transitions:10\n",
      "INFO:root:Current Depth: 2 | Frontier: 13 | Visited: 3 | Transitions:15\n",
      "INFO:root:Current Depth: 3 | Frontier: 12 | Visited: 4 | Transitions:15\n",
      "INFO:root:Current Depth: 3 | Frontier: 11 | Visited: 4 | Transitions:15\n",
      "INFO:root:Current Depth: 1 | Frontier: 10 | Visited: 4 | Transitions:15\n",
      "INFO:root:Current Depth: 1 | Frontier: 9 | Visited: 4 | Transitions:15\n",
      "INFO:root:Current Depth: 1 | Frontier: 8 | Visited: 4 | Transitions:15\n",
      "INFO:root:Current Depth: 2 | Frontier: 7 | Visited: 4 | Transitions:15\n",
      "INFO:root:Current Depth: 3 | Frontier: 6 | Visited: 4 | Transitions:15\n",
      "INFO:root:Current Depth: 2 | Frontier: 5 | Visited: 4 | Transitions:15\n",
      "INFO:root:Current Depth: 1 | Frontier: 4 | Visited: 4 | Transitions:15\n",
      "INFO:root:Current Depth: 2 | Frontier: 3 | Visited: 4 | Transitions:15\n",
      "INFO:root:Current Depth: 3 | Frontier: 2 | Visited: 4 | Transitions:15\n",
      "INFO:root:Current Depth: 2 | Frontier: 1 | Visited: 4 | Transitions:15\n",
      "INFO:root:Current Depth: 3 | Frontier: 0 | Visited: 4 | Transitions:15\n",
      "INFO:root:Current Depth: 0 | Frontier: 5 | Visited: 1 | Transitions:5\n"
     ]
    },
    {
     "name": "stdout",
     "output_type": "stream",
     "text": [
      "currently running contrual  2\n"
     ]
    },
    {
     "name": "stderr",
     "output_type": "stream",
     "text": [
      "INFO:root:Current Depth: 1 | Frontier: 9 | Visited: 2 | Transitions:10\n",
      "INFO:root:Current Depth: 1 | Frontier: 13 | Visited: 2 | Transitions:10\n",
      "INFO:root:Current Depth: 2 | Frontier: 17 | Visited: 3 | Transitions:15\n",
      "INFO:root:Current Depth: 2 | Frontier: 21 | Visited: 3 | Transitions:15\n",
      "INFO:root:Current Depth: 2 | Frontier: 25 | Visited: 3 | Transitions:15\n",
      "INFO:root:Current Depth: 2 | Frontier: 29 | Visited: 3 | Transitions:15\n",
      "INFO:root:Current Depth: 3 | Frontier: 28 | Visited: 4 | Transitions:15\n",
      "INFO:root:Current Depth: 3 | Frontier: 27 | Visited: 4 | Transitions:15\n",
      "INFO:root:Current Depth: 2 | Frontier: 26 | Visited: 4 | Transitions:15\n",
      "INFO:root:Current Depth: 2 | Frontier: 25 | Visited: 4 | Transitions:15\n",
      "INFO:root:Current Depth: 3 | Frontier: 24 | Visited: 4 | Transitions:15\n",
      "INFO:root:Current Depth: 3 | Frontier: 23 | Visited: 4 | Transitions:15\n",
      "INFO:root:Current Depth: 2 | Frontier: 22 | Visited: 4 | Transitions:15\n",
      "INFO:root:Current Depth: 1 | Frontier: 21 | Visited: 4 | Transitions:15\n",
      "INFO:root:Current Depth: 3 | Frontier: 20 | Visited: 4 | Transitions:15\n",
      "INFO:root:Current Depth: 3 | Frontier: 19 | Visited: 4 | Transitions:15\n",
      "INFO:root:Current Depth: 3 | Frontier: 18 | Visited: 4 | Transitions:15\n",
      "INFO:root:Current Depth: 3 | Frontier: 17 | Visited: 4 | Transitions:15\n",
      "INFO:root:Current Depth: 3 | Frontier: 16 | Visited: 4 | Transitions:15\n",
      "INFO:root:Current Depth: 3 | Frontier: 15 | Visited: 4 | Transitions:15\n",
      "INFO:root:Current Depth: 3 | Frontier: 14 | Visited: 4 | Transitions:15\n",
      "INFO:root:Current Depth: 3 | Frontier: 13 | Visited: 4 | Transitions:15\n",
      "INFO:root:Current Depth: 3 | Frontier: 12 | Visited: 4 | Transitions:15\n",
      "INFO:root:Current Depth: 1 | Frontier: 11 | Visited: 4 | Transitions:15\n",
      "INFO:root:Current Depth: 2 | Frontier: 10 | Visited: 4 | Transitions:15\n",
      "INFO:root:Current Depth: 3 | Frontier: 9 | Visited: 4 | Transitions:15\n",
      "INFO:root:Current Depth: 2 | Frontier: 8 | Visited: 4 | Transitions:15\n",
      "INFO:root:Current Depth: 3 | Frontier: 7 | Visited: 4 | Transitions:15\n",
      "INFO:root:Current Depth: 3 | Frontier: 6 | Visited: 4 | Transitions:15\n",
      "INFO:root:Current Depth: 1 | Frontier: 5 | Visited: 4 | Transitions:15\n",
      "INFO:root:Current Depth: 3 | Frontier: 4 | Visited: 4 | Transitions:15\n",
      "INFO:root:Current Depth: 2 | Frontier: 3 | Visited: 4 | Transitions:15\n",
      "INFO:root:Current Depth: 3 | Frontier: 2 | Visited: 4 | Transitions:15\n",
      "INFO:root:Current Depth: 3 | Frontier: 1 | Visited: 4 | Transitions:15\n",
      "INFO:root:Current Depth: 3 | Frontier: 0 | Visited: 4 | Transitions:15\n"
     ]
    },
    {
     "name": "stdout",
     "output_type": "stream",
     "text": [
      "currently running contrual  3\n"
     ]
    },
    {
     "name": "stderr",
     "output_type": "stream",
     "text": [
      "INFO:root:Current Depth: 0 | Frontier: 5 | Visited: 1 | Transitions:5\n",
      "INFO:root:Current Depth: 1 | Frontier: 9 | Visited: 2 | Transitions:10\n",
      "INFO:root:Current Depth: 2 | Frontier: 13 | Visited: 3 | Transitions:15\n",
      "INFO:root:Current Depth: 3 | Frontier: 12 | Visited: 4 | Transitions:15\n",
      "INFO:root:Current Depth: 2 | Frontier: 11 | Visited: 4 | Transitions:15\n",
      "INFO:root:Current Depth: 3 | Frontier: 10 | Visited: 4 | Transitions:15\n",
      "INFO:root:Current Depth: 3 | Frontier: 9 | Visited: 4 | Transitions:15\n",
      "INFO:root:Current Depth: 1 | Frontier: 8 | Visited: 4 | Transitions:15\n",
      "INFO:root:Current Depth: 2 | Frontier: 7 | Visited: 4 | Transitions:15\n",
      "INFO:root:Current Depth: 2 | Frontier: 6 | Visited: 4 | Transitions:15\n",
      "INFO:root:Current Depth: 1 | Frontier: 5 | Visited: 4 | Transitions:15\n",
      "INFO:root:Current Depth: 3 | Frontier: 4 | Visited: 4 | Transitions:15\n",
      "INFO:root:Current Depth: 2 | Frontier: 3 | Visited: 4 | Transitions:15\n",
      "INFO:root:Current Depth: 1 | Frontier: 2 | Visited: 4 | Transitions:15\n",
      "INFO:root:Current Depth: 3 | Frontier: 1 | Visited: 4 | Transitions:15\n",
      "INFO:root:Current Depth: 1 | Frontier: 0 | Visited: 4 | Transitions:15\n"
     ]
    },
    {
     "name": "stdout",
     "output_type": "stream",
     "text": [
      "currently running contrual  4\n"
     ]
    },
    {
     "name": "stderr",
     "output_type": "stream",
     "text": [
      "INFO:root:Current Depth: 0 | Frontier: 5 | Visited: 1 | Transitions:5\n",
      "INFO:root:Current Depth: 1 | Frontier: 9 | Visited: 2 | Transitions:10\n",
      "INFO:root:Current Depth: 1 | Frontier: 13 | Visited: 2 | Transitions:10\n",
      "INFO:root:Current Depth: 1 | Frontier: 17 | Visited: 2 | Transitions:10\n",
      "INFO:root:Current Depth: 2 | Frontier: 21 | Visited: 3 | Transitions:15\n",
      "INFO:root:Current Depth: 2 | Frontier: 25 | Visited: 3 | Transitions:15\n",
      "INFO:root:Current Depth: 3 | Frontier: 24 | Visited: 4 | Transitions:15\n",
      "INFO:root:Current Depth: 2 | Frontier: 23 | Visited: 4 | Transitions:15\n",
      "INFO:root:Current Depth: 2 | Frontier: 22 | Visited: 4 | Transitions:15\n",
      "INFO:root:Current Depth: 2 | Frontier: 21 | Visited: 4 | Transitions:15\n",
      "INFO:root:Current Depth: 1 | Frontier: 20 | Visited: 4 | Transitions:15\n",
      "INFO:root:Current Depth: 2 | Frontier: 19 | Visited: 4 | Transitions:15\n",
      "INFO:root:Current Depth: 2 | Frontier: 18 | Visited: 4 | Transitions:15\n",
      "INFO:root:Current Depth: 2 | Frontier: 17 | Visited: 4 | Transitions:15\n",
      "INFO:root:Current Depth: 2 | Frontier: 16 | Visited: 4 | Transitions:15\n",
      "INFO:root:Current Depth: 1 | Frontier: 15 | Visited: 4 | Transitions:15\n",
      "INFO:root:Current Depth: 3 | Frontier: 14 | Visited: 4 | Transitions:15\n",
      "INFO:root:Current Depth: 2 | Frontier: 13 | Visited: 4 | Transitions:15\n",
      "INFO:root:Current Depth: 3 | Frontier: 12 | Visited: 4 | Transitions:15\n",
      "INFO:root:Current Depth: 3 | Frontier: 11 | Visited: 4 | Transitions:15\n",
      "INFO:root:Current Depth: 3 | Frontier: 10 | Visited: 4 | Transitions:15\n",
      "INFO:root:Current Depth: 2 | Frontier: 9 | Visited: 4 | Transitions:15\n",
      "INFO:root:Current Depth: 3 | Frontier: 8 | Visited: 4 | Transitions:15\n",
      "INFO:root:Current Depth: 2 | Frontier: 7 | Visited: 4 | Transitions:15\n",
      "INFO:root:Current Depth: 3 | Frontier: 6 | Visited: 4 | Transitions:15\n",
      "INFO:root:Current Depth: 2 | Frontier: 5 | Visited: 4 | Transitions:15\n",
      "INFO:root:Current Depth: 3 | Frontier: 4 | Visited: 4 | Transitions:15\n",
      "INFO:root:Current Depth: 2 | Frontier: 3 | Visited: 4 | Transitions:15\n",
      "INFO:root:Current Depth: 3 | Frontier: 2 | Visited: 4 | Transitions:15\n",
      "INFO:root:Current Depth: 2 | Frontier: 1 | Visited: 4 | Transitions:15\n",
      "INFO:root:Current Depth: 3 | Frontier: 0 | Visited: 4 | Transitions:15\n",
      "INFO:root:Current Depth: 0 | Frontier: 5 | Visited: 1 | Transitions:5\n"
     ]
    },
    {
     "name": "stdout",
     "output_type": "stream",
     "text": [
      "currently running contrual  5\n"
     ]
    },
    {
     "name": "stderr",
     "output_type": "stream",
     "text": [
      "INFO:root:Current Depth: 1 | Frontier: 9 | Visited: 2 | Transitions:10\n",
      "INFO:root:Current Depth: 1 | Frontier: 13 | Visited: 2 | Transitions:10\n",
      "INFO:root:Current Depth: 2 | Frontier: 17 | Visited: 3 | Transitions:15\n",
      "INFO:root:Current Depth: 2 | Frontier: 21 | Visited: 3 | Transitions:15\n",
      "INFO:root:Current Depth: 2 | Frontier: 25 | Visited: 3 | Transitions:15\n",
      "INFO:root:Current Depth: 3 | Frontier: 24 | Visited: 4 | Transitions:15\n",
      "INFO:root:Current Depth: 1 | Frontier: 23 | Visited: 4 | Transitions:15\n",
      "INFO:root:Current Depth: 3 | Frontier: 22 | Visited: 4 | Transitions:15\n",
      "INFO:root:Current Depth: 3 | Frontier: 21 | Visited: 4 | Transitions:15\n",
      "INFO:root:Current Depth: 3 | Frontier: 20 | Visited: 4 | Transitions:15\n",
      "INFO:root:Current Depth: 2 | Frontier: 19 | Visited: 4 | Transitions:15\n",
      "INFO:root:Current Depth: 2 | Frontier: 18 | Visited: 4 | Transitions:15\n",
      "INFO:root:Current Depth: 3 | Frontier: 17 | Visited: 4 | Transitions:15\n",
      "INFO:root:Current Depth: 2 | Frontier: 16 | Visited: 4 | Transitions:15\n",
      "INFO:root:Current Depth: 3 | Frontier: 15 | Visited: 4 | Transitions:15\n",
      "INFO:root:Current Depth: 2 | Frontier: 14 | Visited: 4 | Transitions:15\n",
      "INFO:root:Current Depth: 2 | Frontier: 13 | Visited: 4 | Transitions:15\n",
      "INFO:root:Current Depth: 3 | Frontier: 12 | Visited: 4 | Transitions:15\n",
      "INFO:root:Current Depth: 2 | Frontier: 11 | Visited: 4 | Transitions:15\n",
      "INFO:root:Current Depth: 3 | Frontier: 10 | Visited: 4 | Transitions:15\n",
      "INFO:root:Current Depth: 3 | Frontier: 9 | Visited: 4 | Transitions:15\n",
      "INFO:root:Current Depth: 3 | Frontier: 8 | Visited: 4 | Transitions:15\n",
      "INFO:root:Current Depth: 3 | Frontier: 7 | Visited: 4 | Transitions:15\n",
      "INFO:root:Current Depth: 3 | Frontier: 6 | Visited: 4 | Transitions:15\n",
      "INFO:root:Current Depth: 3 | Frontier: 5 | Visited: 4 | Transitions:15\n",
      "INFO:root:Current Depth: 1 | Frontier: 4 | Visited: 4 | Transitions:15\n",
      "INFO:root:Current Depth: 3 | Frontier: 3 | Visited: 4 | Transitions:15\n",
      "INFO:root:Current Depth: 2 | Frontier: 2 | Visited: 4 | Transitions:15\n",
      "INFO:root:Current Depth: 1 | Frontier: 1 | Visited: 4 | Transitions:15\n",
      "INFO:root:Current Depth: 3 | Frontier: 0 | Visited: 4 | Transitions:15\n",
      "INFO:root:Current Depth: 0 | Frontier: 5 | Visited: 1 | Transitions:5\n"
     ]
    },
    {
     "name": "stdout",
     "output_type": "stream",
     "text": [
      "currently running contrual  6\n"
     ]
    },
    {
     "name": "stderr",
     "output_type": "stream",
     "text": [
      "INFO:root:Current Depth: 1 | Frontier: 9 | Visited: 2 | Transitions:10\n",
      "INFO:root:Current Depth: 1 | Frontier: 13 | Visited: 2 | Transitions:10\n",
      "INFO:root:Current Depth: 2 | Frontier: 17 | Visited: 3 | Transitions:15\n",
      "INFO:root:Current Depth: 3 | Frontier: 16 | Visited: 4 | Transitions:15\n",
      "INFO:root:Current Depth: 3 | Frontier: 15 | Visited: 4 | Transitions:15\n",
      "INFO:root:Current Depth: 2 | Frontier: 14 | Visited: 4 | Transitions:15\n",
      "INFO:root:Current Depth: 2 | Frontier: 13 | Visited: 4 | Transitions:15\n",
      "INFO:root:Current Depth: 1 | Frontier: 12 | Visited: 4 | Transitions:15\n",
      "INFO:root:Current Depth: 2 | Frontier: 11 | Visited: 4 | Transitions:15\n",
      "INFO:root:Current Depth: 2 | Frontier: 10 | Visited: 4 | Transitions:15\n",
      "INFO:root:Current Depth: 2 | Frontier: 9 | Visited: 4 | Transitions:15\n",
      "INFO:root:Current Depth: 3 | Frontier: 8 | Visited: 4 | Transitions:15\n",
      "INFO:root:Current Depth: 1 | Frontier: 7 | Visited: 4 | Transitions:15\n",
      "INFO:root:Current Depth: 2 | Frontier: 6 | Visited: 4 | Transitions:15\n",
      "INFO:root:Current Depth: 2 | Frontier: 5 | Visited: 4 | Transitions:15\n",
      "INFO:root:Current Depth: 2 | Frontier: 4 | Visited: 4 | Transitions:15\n",
      "INFO:root:Current Depth: 2 | Frontier: 3 | Visited: 4 | Transitions:15\n",
      "INFO:root:Current Depth: 3 | Frontier: 2 | Visited: 4 | Transitions:15\n",
      "INFO:root:Current Depth: 1 | Frontier: 1 | Visited: 4 | Transitions:15\n",
      "INFO:root:Current Depth: 3 | Frontier: 0 | Visited: 4 | Transitions:15\n",
      "INFO:root:Current Depth: 0 | Frontier: 5 | Visited: 1 | Transitions:5\n"
     ]
    },
    {
     "name": "stdout",
     "output_type": "stream",
     "text": [
      "currently running contrual  7\n"
     ]
    },
    {
     "name": "stderr",
     "output_type": "stream",
     "text": [
      "INFO:root:Current Depth: 1 | Frontier: 9 | Visited: 2 | Transitions:10\n",
      "INFO:root:Current Depth: 2 | Frontier: 13 | Visited: 3 | Transitions:15\n",
      "INFO:root:Current Depth: 2 | Frontier: 17 | Visited: 3 | Transitions:15\n",
      "INFO:root:Current Depth: 3 | Frontier: 16 | Visited: 4 | Transitions:15\n",
      "INFO:root:Current Depth: 3 | Frontier: 15 | Visited: 4 | Transitions:15\n",
      "INFO:root:Current Depth: 2 | Frontier: 14 | Visited: 4 | Transitions:15\n",
      "INFO:root:Current Depth: 1 | Frontier: 13 | Visited: 4 | Transitions:15\n",
      "INFO:root:Current Depth: 3 | Frontier: 12 | Visited: 4 | Transitions:15\n",
      "INFO:root:Current Depth: 2 | Frontier: 11 | Visited: 4 | Transitions:15\n",
      "INFO:root:Current Depth: 3 | Frontier: 10 | Visited: 4 | Transitions:15\n",
      "INFO:root:Current Depth: 1 | Frontier: 9 | Visited: 4 | Transitions:15\n",
      "INFO:root:Current Depth: 3 | Frontier: 8 | Visited: 4 | Transitions:15\n",
      "INFO:root:Current Depth: 1 | Frontier: 7 | Visited: 4 | Transitions:15\n",
      "INFO:root:Current Depth: 1 | Frontier: 6 | Visited: 4 | Transitions:15\n",
      "INFO:root:Current Depth: 3 | Frontier: 5 | Visited: 4 | Transitions:15\n",
      "INFO:root:Current Depth: 3 | Frontier: 4 | Visited: 4 | Transitions:15\n",
      "INFO:root:Current Depth: 3 | Frontier: 3 | Visited: 4 | Transitions:15\n",
      "INFO:root:Current Depth: 3 | Frontier: 2 | Visited: 4 | Transitions:15\n",
      "INFO:root:Current Depth: 2 | Frontier: 1 | Visited: 4 | Transitions:15\n",
      "INFO:root:Current Depth: 3 | Frontier: 0 | Visited: 4 | Transitions:15\n",
      "INFO:root:Current Depth: 0 | Frontier: 5 | Visited: 1 | Transitions:5\n"
     ]
    },
    {
     "name": "stdout",
     "output_type": "stream",
     "text": [
      "currently running contrual  8\n"
     ]
    },
    {
     "name": "stderr",
     "output_type": "stream",
     "text": [
      "INFO:root:Current Depth: 1 | Frontier: 9 | Visited: 2 | Transitions:10\n",
      "INFO:root:Current Depth: 2 | Frontier: 13 | Visited: 3 | Transitions:15\n",
      "INFO:root:Current Depth: 1 | Frontier: 12 | Visited: 3 | Transitions:15\n",
      "INFO:root:Current Depth: 1 | Frontier: 11 | Visited: 3 | Transitions:15\n",
      "INFO:root:Current Depth: 1 | Frontier: 10 | Visited: 3 | Transitions:15\n",
      "INFO:root:Current Depth: 2 | Frontier: 14 | Visited: 3 | Transitions:15\n",
      "INFO:root:Current Depth: 2 | Frontier: 18 | Visited: 3 | Transitions:15\n",
      "INFO:root:Current Depth: 2 | Frontier: 22 | Visited: 3 | Transitions:15\n",
      "INFO:root:Current Depth: 1 | Frontier: 21 | Visited: 3 | Transitions:15\n",
      "INFO:root:Current Depth: 3 | Frontier: 20 | Visited: 4 | Transitions:15\n",
      "INFO:root:Current Depth: 3 | Frontier: 19 | Visited: 4 | Transitions:15\n",
      "INFO:root:Current Depth: 3 | Frontier: 18 | Visited: 4 | Transitions:15\n",
      "INFO:root:Current Depth: 3 | Frontier: 17 | Visited: 4 | Transitions:15\n",
      "INFO:root:Current Depth: 3 | Frontier: 16 | Visited: 4 | Transitions:15\n",
      "INFO:root:Current Depth: 3 | Frontier: 15 | Visited: 4 | Transitions:15\n",
      "INFO:root:Current Depth: 2 | Frontier: 14 | Visited: 4 | Transitions:15\n",
      "INFO:root:Current Depth: 3 | Frontier: 13 | Visited: 4 | Transitions:15\n",
      "INFO:root:Current Depth: 3 | Frontier: 12 | Visited: 4 | Transitions:15\n",
      "INFO:root:Current Depth: 3 | Frontier: 11 | Visited: 4 | Transitions:15\n",
      "INFO:root:Current Depth: 3 | Frontier: 10 | Visited: 4 | Transitions:15\n",
      "INFO:root:Current Depth: 3 | Frontier: 9 | Visited: 4 | Transitions:15\n",
      "INFO:root:Current Depth: 3 | Frontier: 8 | Visited: 4 | Transitions:15\n",
      "INFO:root:Current Depth: 3 | Frontier: 7 | Visited: 4 | Transitions:15\n",
      "INFO:root:Current Depth: 3 | Frontier: 6 | Visited: 4 | Transitions:15\n",
      "INFO:root:Current Depth: 3 | Frontier: 5 | Visited: 4 | Transitions:15\n",
      "INFO:root:Current Depth: 3 | Frontier: 4 | Visited: 4 | Transitions:15\n",
      "INFO:root:Current Depth: 3 | Frontier: 3 | Visited: 4 | Transitions:15\n",
      "INFO:root:Current Depth: 3 | Frontier: 2 | Visited: 4 | Transitions:15\n",
      "INFO:root:Current Depth: 3 | Frontier: 1 | Visited: 4 | Transitions:15\n",
      "INFO:root:Current Depth: 3 | Frontier: 0 | Visited: 4 | Transitions:15\n",
      "INFO:root:Current Depth: 0 | Frontier: 5 | Visited: 1 | Transitions:5\n"
     ]
    },
    {
     "name": "stdout",
     "output_type": "stream",
     "text": [
      "currently running contrual  9\n"
     ]
    },
    {
     "name": "stderr",
     "output_type": "stream",
     "text": [
      "INFO:root:Current Depth: 1 | Frontier: 9 | Visited: 2 | Transitions:10\n",
      "INFO:root:Current Depth: 1 | Frontier: 13 | Visited: 2 | Transitions:10\n",
      "INFO:root:Current Depth: 1 | Frontier: 17 | Visited: 2 | Transitions:10\n",
      "INFO:root:Current Depth: 2 | Frontier: 21 | Visited: 3 | Transitions:15\n",
      "INFO:root:Current Depth: 2 | Frontier: 25 | Visited: 3 | Transitions:15\n",
      "INFO:root:Current Depth: 2 | Frontier: 29 | Visited: 3 | Transitions:15\n",
      "INFO:root:Current Depth: 3 | Frontier: 28 | Visited: 4 | Transitions:15\n",
      "INFO:root:Current Depth: 3 | Frontier: 27 | Visited: 4 | Transitions:15\n",
      "INFO:root:Current Depth: 3 | Frontier: 26 | Visited: 4 | Transitions:15\n",
      "INFO:root:Current Depth: 3 | Frontier: 25 | Visited: 4 | Transitions:15\n",
      "INFO:root:Current Depth: 3 | Frontier: 24 | Visited: 4 | Transitions:15\n",
      "INFO:root:Current Depth: 2 | Frontier: 23 | Visited: 4 | Transitions:15\n",
      "INFO:root:Current Depth: 2 | Frontier: 22 | Visited: 4 | Transitions:15\n",
      "INFO:root:Current Depth: 3 | Frontier: 21 | Visited: 4 | Transitions:15\n",
      "INFO:root:Current Depth: 3 | Frontier: 20 | Visited: 4 | Transitions:15\n",
      "INFO:root:Current Depth: 3 | Frontier: 19 | Visited: 4 | Transitions:15\n",
      "INFO:root:Current Depth: 2 | Frontier: 18 | Visited: 4 | Transitions:15\n",
      "INFO:root:Current Depth: 2 | Frontier: 17 | Visited: 4 | Transitions:15\n",
      "INFO:root:Current Depth: 2 | Frontier: 16 | Visited: 4 | Transitions:15\n",
      "INFO:root:Current Depth: 2 | Frontier: 15 | Visited: 4 | Transitions:15\n",
      "INFO:root:Current Depth: 2 | Frontier: 14 | Visited: 4 | Transitions:15\n",
      "INFO:root:Current Depth: 2 | Frontier: 13 | Visited: 4 | Transitions:15\n",
      "INFO:root:Current Depth: 3 | Frontier: 12 | Visited: 4 | Transitions:15\n",
      "INFO:root:Current Depth: 3 | Frontier: 11 | Visited: 4 | Transitions:15\n",
      "INFO:root:Current Depth: 3 | Frontier: 10 | Visited: 4 | Transitions:15\n",
      "INFO:root:Current Depth: 2 | Frontier: 9 | Visited: 4 | Transitions:15\n",
      "INFO:root:Current Depth: 3 | Frontier: 8 | Visited: 4 | Transitions:15\n",
      "INFO:root:Current Depth: 1 | Frontier: 7 | Visited: 4 | Transitions:15\n",
      "INFO:root:Current Depth: 2 | Frontier: 6 | Visited: 4 | Transitions:15\n",
      "INFO:root:Current Depth: 3 | Frontier: 5 | Visited: 4 | Transitions:15\n",
      "INFO:root:Current Depth: 1 | Frontier: 4 | Visited: 4 | Transitions:15\n",
      "INFO:root:Current Depth: 2 | Frontier: 3 | Visited: 4 | Transitions:15\n",
      "INFO:root:Current Depth: 3 | Frontier: 2 | Visited: 4 | Transitions:15\n",
      "INFO:root:Current Depth: 2 | Frontier: 1 | Visited: 4 | Transitions:15\n",
      "INFO:root:Current Depth: 3 | Frontier: 0 | Visited: 4 | Transitions:15\n",
      "INFO:root:Current Depth: 0 | Frontier: 5 | Visited: 1 | Transitions:5\n"
     ]
    },
    {
     "name": "stdout",
     "output_type": "stream",
     "text": [
      "currently running contrual  10\n"
     ]
    },
    {
     "name": "stderr",
     "output_type": "stream",
     "text": [
      "INFO:root:Current Depth: 1 | Frontier: 9 | Visited: 2 | Transitions:10\n",
      "INFO:root:Current Depth: 2 | Frontier: 13 | Visited: 3 | Transitions:15\n",
      "INFO:root:Current Depth: 2 | Frontier: 17 | Visited: 3 | Transitions:15\n",
      "INFO:root:Current Depth: 3 | Frontier: 16 | Visited: 4 | Transitions:15\n",
      "INFO:root:Current Depth: 3 | Frontier: 15 | Visited: 4 | Transitions:15\n",
      "INFO:root:Current Depth: 1 | Frontier: 14 | Visited: 4 | Transitions:15\n",
      "INFO:root:Current Depth: 2 | Frontier: 13 | Visited: 4 | Transitions:15\n",
      "INFO:root:Current Depth: 3 | Frontier: 12 | Visited: 4 | Transitions:15\n",
      "INFO:root:Current Depth: 1 | Frontier: 11 | Visited: 4 | Transitions:15\n",
      "INFO:root:Current Depth: 2 | Frontier: 10 | Visited: 4 | Transitions:15\n",
      "INFO:root:Current Depth: 1 | Frontier: 9 | Visited: 4 | Transitions:15\n",
      "INFO:root:Current Depth: 3 | Frontier: 8 | Visited: 4 | Transitions:15\n",
      "INFO:root:Current Depth: 3 | Frontier: 7 | Visited: 4 | Transitions:15\n",
      "INFO:root:Current Depth: 3 | Frontier: 6 | Visited: 4 | Transitions:15\n",
      "INFO:root:Current Depth: 2 | Frontier: 5 | Visited: 4 | Transitions:15\n",
      "INFO:root:Current Depth: 1 | Frontier: 4 | Visited: 4 | Transitions:15\n",
      "INFO:root:Current Depth: 3 | Frontier: 3 | Visited: 4 | Transitions:15\n",
      "INFO:root:Current Depth: 3 | Frontier: 2 | Visited: 4 | Transitions:15\n",
      "INFO:root:Current Depth: 3 | Frontier: 1 | Visited: 4 | Transitions:15\n",
      "INFO:root:Current Depth: 3 | Frontier: 0 | Visited: 4 | Transitions:15\n",
      "INFO:root:Current Depth: 0 | Frontier: 5 | Visited: 1 | Transitions:5\n"
     ]
    },
    {
     "name": "stdout",
     "output_type": "stream",
     "text": [
      "currently running contrual  11\n"
     ]
    },
    {
     "name": "stderr",
     "output_type": "stream",
     "text": [
      "INFO:root:Current Depth: 1 | Frontier: 9 | Visited: 2 | Transitions:10\n",
      "INFO:root:Current Depth: 2 | Frontier: 13 | Visited: 3 | Transitions:15\n",
      "INFO:root:Current Depth: 2 | Frontier: 17 | Visited: 3 | Transitions:15\n",
      "INFO:root:Current Depth: 3 | Frontier: 16 | Visited: 4 | Transitions:15\n",
      "INFO:root:Current Depth: 3 | Frontier: 15 | Visited: 4 | Transitions:15\n",
      "INFO:root:Current Depth: 2 | Frontier: 14 | Visited: 4 | Transitions:15\n",
      "INFO:root:Current Depth: 1 | Frontier: 13 | Visited: 4 | Transitions:15\n",
      "INFO:root:Current Depth: 3 | Frontier: 12 | Visited: 4 | Transitions:15\n",
      "INFO:root:Current Depth: 3 | Frontier: 11 | Visited: 4 | Transitions:15\n",
      "INFO:root:Current Depth: 3 | Frontier: 10 | Visited: 4 | Transitions:15\n",
      "INFO:root:Current Depth: 2 | Frontier: 9 | Visited: 4 | Transitions:15\n",
      "INFO:root:Current Depth: 2 | Frontier: 8 | Visited: 4 | Transitions:15\n",
      "INFO:root:Current Depth: 3 | Frontier: 7 | Visited: 4 | Transitions:15\n",
      "INFO:root:Current Depth: 1 | Frontier: 6 | Visited: 4 | Transitions:15\n",
      "INFO:root:Current Depth: 3 | Frontier: 5 | Visited: 4 | Transitions:15\n",
      "INFO:root:Current Depth: 3 | Frontier: 4 | Visited: 4 | Transitions:15\n",
      "INFO:root:Current Depth: 3 | Frontier: 3 | Visited: 4 | Transitions:15\n",
      "INFO:root:Current Depth: 1 | Frontier: 2 | Visited: 4 | Transitions:15\n",
      "INFO:root:Current Depth: 3 | Frontier: 1 | Visited: 4 | Transitions:15\n",
      "INFO:root:Current Depth: 1 | Frontier: 0 | Visited: 4 | Transitions:15\n",
      "INFO:root:Current Depth: 0 | Frontier: 5 | Visited: 1 | Transitions:5\n"
     ]
    },
    {
     "name": "stdout",
     "output_type": "stream",
     "text": [
      "currently running contrual  12\n"
     ]
    },
    {
     "name": "stderr",
     "output_type": "stream",
     "text": [
      "INFO:root:Current Depth: 1 | Frontier: 9 | Visited: 2 | Transitions:10\n",
      "INFO:root:Current Depth: 1 | Frontier: 13 | Visited: 2 | Transitions:10\n",
      "INFO:root:Current Depth: 2 | Frontier: 17 | Visited: 3 | Transitions:15\n",
      "INFO:root:Current Depth: 2 | Frontier: 21 | Visited: 3 | Transitions:15\n",
      "INFO:root:Current Depth: 2 | Frontier: 25 | Visited: 3 | Transitions:15\n",
      "INFO:root:Current Depth: 2 | Frontier: 29 | Visited: 3 | Transitions:15\n",
      "INFO:root:Current Depth: 3 | Frontier: 28 | Visited: 4 | Transitions:15\n",
      "INFO:root:Current Depth: 3 | Frontier: 27 | Visited: 4 | Transitions:15\n",
      "INFO:root:Current Depth: 3 | Frontier: 26 | Visited: 4 | Transitions:15\n",
      "INFO:root:Current Depth: 3 | Frontier: 25 | Visited: 4 | Transitions:15\n",
      "INFO:root:Current Depth: 1 | Frontier: 24 | Visited: 4 | Transitions:15\n",
      "INFO:root:Current Depth: 3 | Frontier: 23 | Visited: 4 | Transitions:15\n",
      "INFO:root:Current Depth: 3 | Frontier: 22 | Visited: 4 | Transitions:15\n",
      "INFO:root:Current Depth: 3 | Frontier: 21 | Visited: 4 | Transitions:15\n",
      "INFO:root:Current Depth: 2 | Frontier: 20 | Visited: 4 | Transitions:15\n",
      "INFO:root:Current Depth: 3 | Frontier: 19 | Visited: 4 | Transitions:15\n",
      "INFO:root:Current Depth: 3 | Frontier: 18 | Visited: 4 | Transitions:15\n",
      "INFO:root:Current Depth: 3 | Frontier: 17 | Visited: 4 | Transitions:15\n",
      "INFO:root:Current Depth: 3 | Frontier: 16 | Visited: 4 | Transitions:15\n",
      "INFO:root:Current Depth: 3 | Frontier: 15 | Visited: 4 | Transitions:15\n",
      "INFO:root:Current Depth: 3 | Frontier: 14 | Visited: 4 | Transitions:15\n",
      "INFO:root:Current Depth: 2 | Frontier: 13 | Visited: 4 | Transitions:15\n",
      "INFO:root:Current Depth: 1 | Frontier: 12 | Visited: 4 | Transitions:15\n",
      "INFO:root:Current Depth: 2 | Frontier: 11 | Visited: 4 | Transitions:15\n",
      "INFO:root:Current Depth: 2 | Frontier: 10 | Visited: 4 | Transitions:15\n",
      "INFO:root:Current Depth: 3 | Frontier: 9 | Visited: 4 | Transitions:15\n",
      "INFO:root:Current Depth: 3 | Frontier: 8 | Visited: 4 | Transitions:15\n",
      "INFO:root:Current Depth: 3 | Frontier: 7 | Visited: 4 | Transitions:15\n",
      "INFO:root:Current Depth: 1 | Frontier: 6 | Visited: 4 | Transitions:15\n",
      "INFO:root:Current Depth: 3 | Frontier: 5 | Visited: 4 | Transitions:15\n",
      "INFO:root:Current Depth: 2 | Frontier: 4 | Visited: 4 | Transitions:15\n",
      "INFO:root:Current Depth: 2 | Frontier: 3 | Visited: 4 | Transitions:15\n",
      "INFO:root:Current Depth: 3 | Frontier: 2 | Visited: 4 | Transitions:15\n",
      "INFO:root:Current Depth: 3 | Frontier: 1 | Visited: 4 | Transitions:15\n",
      "INFO:root:Current Depth: 3 | Frontier: 0 | Visited: 4 | Transitions:15\n",
      "INFO:root:Current Depth: 0 | Frontier: 5 | Visited: 1 | Transitions:5\n"
     ]
    },
    {
     "name": "stdout",
     "output_type": "stream",
     "text": [
      "currently running contrual  13\n"
     ]
    },
    {
     "name": "stderr",
     "output_type": "stream",
     "text": [
      "INFO:root:Current Depth: 1 | Frontier: 9 | Visited: 2 | Transitions:10\n",
      "INFO:root:Current Depth: 2 | Frontier: 13 | Visited: 3 | Transitions:15\n",
      "INFO:root:Current Depth: 1 | Frontier: 12 | Visited: 3 | Transitions:15\n",
      "INFO:root:Current Depth: 2 | Frontier: 16 | Visited: 3 | Transitions:15\n",
      "INFO:root:Current Depth: 2 | Frontier: 20 | Visited: 3 | Transitions:15\n",
      "INFO:root:Current Depth: 3 | Frontier: 19 | Visited: 4 | Transitions:15\n",
      "INFO:root:Current Depth: 3 | Frontier: 18 | Visited: 4 | Transitions:15\n",
      "INFO:root:Current Depth: 2 | Frontier: 17 | Visited: 4 | Transitions:15\n",
      "INFO:root:Current Depth: 3 | Frontier: 16 | Visited: 4 | Transitions:15\n",
      "INFO:root:Current Depth: 3 | Frontier: 15 | Visited: 4 | Transitions:15\n",
      "INFO:root:Current Depth: 3 | Frontier: 14 | Visited: 4 | Transitions:15\n",
      "INFO:root:Current Depth: 3 | Frontier: 13 | Visited: 4 | Transitions:15\n",
      "INFO:root:Current Depth: 1 | Frontier: 12 | Visited: 4 | Transitions:15\n",
      "INFO:root:Current Depth: 1 | Frontier: 11 | Visited: 4 | Transitions:15\n",
      "INFO:root:Current Depth: 3 | Frontier: 10 | Visited: 4 | Transitions:15\n",
      "INFO:root:Current Depth: 3 | Frontier: 9 | Visited: 4 | Transitions:15\n",
      "INFO:root:Current Depth: 3 | Frontier: 8 | Visited: 4 | Transitions:15\n",
      "INFO:root:Current Depth: 3 | Frontier: 7 | Visited: 4 | Transitions:15\n",
      "INFO:root:Current Depth: 3 | Frontier: 6 | Visited: 4 | Transitions:15\n",
      "INFO:root:Current Depth: 3 | Frontier: 5 | Visited: 4 | Transitions:15\n",
      "INFO:root:Current Depth: 3 | Frontier: 4 | Visited: 4 | Transitions:15\n",
      "INFO:root:Current Depth: 2 | Frontier: 3 | Visited: 4 | Transitions:15\n",
      "INFO:root:Current Depth: 3 | Frontier: 2 | Visited: 4 | Transitions:15\n",
      "INFO:root:Current Depth: 1 | Frontier: 1 | Visited: 4 | Transitions:15\n",
      "INFO:root:Current Depth: 3 | Frontier: 0 | Visited: 4 | Transitions:15\n",
      "INFO:root:Current Depth: 0 | Frontier: 5 | Visited: 1 | Transitions:5\n"
     ]
    },
    {
     "name": "stdout",
     "output_type": "stream",
     "text": [
      "currently running contrual  14\n"
     ]
    },
    {
     "name": "stderr",
     "output_type": "stream",
     "text": [
      "INFO:root:Current Depth: 1 | Frontier: 9 | Visited: 2 | Transitions:10\n",
      "INFO:root:Current Depth: 1 | Frontier: 13 | Visited: 2 | Transitions:10\n",
      "INFO:root:Current Depth: 2 | Frontier: 17 | Visited: 3 | Transitions:15\n",
      "INFO:root:Current Depth: 2 | Frontier: 21 | Visited: 3 | Transitions:15\n",
      "INFO:root:Current Depth: 3 | Frontier: 20 | Visited: 4 | Transitions:15\n",
      "INFO:root:Current Depth: 2 | Frontier: 19 | Visited: 4 | Transitions:15\n",
      "INFO:root:Current Depth: 2 | Frontier: 18 | Visited: 4 | Transitions:15\n",
      "INFO:root:Current Depth: 3 | Frontier: 17 | Visited: 4 | Transitions:15\n",
      "INFO:root:Current Depth: 2 | Frontier: 16 | Visited: 4 | Transitions:15\n",
      "INFO:root:Current Depth: 2 | Frontier: 15 | Visited: 4 | Transitions:15\n",
      "INFO:root:Current Depth: 1 | Frontier: 14 | Visited: 4 | Transitions:15\n",
      "INFO:root:Current Depth: 3 | Frontier: 13 | Visited: 4 | Transitions:15\n",
      "INFO:root:Current Depth: 3 | Frontier: 12 | Visited: 4 | Transitions:15\n",
      "INFO:root:Current Depth: 2 | Frontier: 11 | Visited: 4 | Transitions:15\n",
      "INFO:root:Current Depth: 2 | Frontier: 10 | Visited: 4 | Transitions:15\n",
      "INFO:root:Current Depth: 1 | Frontier: 9 | Visited: 4 | Transitions:15\n",
      "INFO:root:Current Depth: 3 | Frontier: 8 | Visited: 4 | Transitions:15\n",
      "INFO:root:Current Depth: 2 | Frontier: 7 | Visited: 4 | Transitions:15\n",
      "INFO:root:Current Depth: 3 | Frontier: 6 | Visited: 4 | Transitions:15\n",
      "INFO:root:Current Depth: 3 | Frontier: 5 | Visited: 4 | Transitions:15\n",
      "INFO:root:Current Depth: 1 | Frontier: 4 | Visited: 4 | Transitions:15\n",
      "INFO:root:Current Depth: 3 | Frontier: 3 | Visited: 4 | Transitions:15\n",
      "INFO:root:Current Depth: 2 | Frontier: 2 | Visited: 4 | Transitions:15\n",
      "INFO:root:Current Depth: 3 | Frontier: 1 | Visited: 4 | Transitions:15\n",
      "INFO:root:Current Depth: 3 | Frontier: 0 | Visited: 4 | Transitions:15\n",
      "INFO:root:Current Depth: 0 | Frontier: 5 | Visited: 1 | Transitions:5\n"
     ]
    },
    {
     "name": "stdout",
     "output_type": "stream",
     "text": [
      "currently running contrual  15\n"
     ]
    },
    {
     "name": "stderr",
     "output_type": "stream",
     "text": [
      "INFO:root:Current Depth: 1 | Frontier: 9 | Visited: 2 | Transitions:10\n",
      "INFO:root:Current Depth: 1 | Frontier: 13 | Visited: 2 | Transitions:10\n",
      "INFO:root:Current Depth: 2 | Frontier: 17 | Visited: 3 | Transitions:15\n",
      "INFO:root:Current Depth: 3 | Frontier: 16 | Visited: 4 | Transitions:15\n",
      "INFO:root:Current Depth: 2 | Frontier: 15 | Visited: 4 | Transitions:15\n",
      "INFO:root:Current Depth: 3 | Frontier: 14 | Visited: 4 | Transitions:15\n",
      "INFO:root:Current Depth: 2 | Frontier: 13 | Visited: 4 | Transitions:15\n",
      "INFO:root:Current Depth: 2 | Frontier: 12 | Visited: 4 | Transitions:15\n",
      "INFO:root:Current Depth: 1 | Frontier: 11 | Visited: 4 | Transitions:15\n",
      "INFO:root:Current Depth: 2 | Frontier: 10 | Visited: 4 | Transitions:15\n",
      "INFO:root:Current Depth: 2 | Frontier: 9 | Visited: 4 | Transitions:15\n",
      "INFO:root:Current Depth: 2 | Frontier: 8 | Visited: 4 | Transitions:15\n",
      "INFO:root:Current Depth: 3 | Frontier: 7 | Visited: 4 | Transitions:15\n",
      "INFO:root:Current Depth: 3 | Frontier: 6 | Visited: 4 | Transitions:15\n",
      "INFO:root:Current Depth: 1 | Frontier: 5 | Visited: 4 | Transitions:15\n",
      "INFO:root:Current Depth: 1 | Frontier: 4 | Visited: 4 | Transitions:15\n",
      "INFO:root:Current Depth: 2 | Frontier: 3 | Visited: 4 | Transitions:15\n",
      "INFO:root:Current Depth: 2 | Frontier: 2 | Visited: 4 | Transitions:15\n",
      "INFO:root:Current Depth: 3 | Frontier: 1 | Visited: 4 | Transitions:15\n",
      "INFO:root:Current Depth: 2 | Frontier: 0 | Visited: 4 | Transitions:15\n",
      "INFO:root:Current Depth: 0 | Frontier: 5 | Visited: 1 | Transitions:5\n"
     ]
    },
    {
     "name": "stdout",
     "output_type": "stream",
     "text": [
      "currently running contrual  16\n"
     ]
    },
    {
     "name": "stderr",
     "output_type": "stream",
     "text": [
      "INFO:root:Current Depth: 1 | Frontier: 9 | Visited: 2 | Transitions:10\n",
      "INFO:root:Current Depth: 2 | Frontier: 13 | Visited: 3 | Transitions:15\n",
      "INFO:root:Current Depth: 1 | Frontier: 12 | Visited: 3 | Transitions:15\n",
      "INFO:root:Current Depth: 1 | Frontier: 11 | Visited: 3 | Transitions:15\n",
      "INFO:root:Current Depth: 1 | Frontier: 10 | Visited: 3 | Transitions:15\n",
      "INFO:root:Current Depth: 3 | Frontier: 9 | Visited: 4 | Transitions:15\n",
      "INFO:root:Current Depth: 1 | Frontier: 8 | Visited: 4 | Transitions:15\n",
      "INFO:root:Current Depth: 3 | Frontier: 7 | Visited: 4 | Transitions:15\n",
      "INFO:root:Current Depth: 3 | Frontier: 6 | Visited: 4 | Transitions:15\n",
      "INFO:root:Current Depth: 2 | Frontier: 5 | Visited: 4 | Transitions:15\n",
      "INFO:root:Current Depth: 2 | Frontier: 4 | Visited: 4 | Transitions:15\n",
      "INFO:root:Current Depth: 3 | Frontier: 3 | Visited: 4 | Transitions:15\n",
      "INFO:root:Current Depth: 2 | Frontier: 2 | Visited: 4 | Transitions:15\n",
      "INFO:root:Current Depth: 3 | Frontier: 1 | Visited: 4 | Transitions:15\n",
      "INFO:root:Current Depth: 2 | Frontier: 0 | Visited: 4 | Transitions:15\n",
      "INFO:root:Current Depth: 0 | Frontier: 5 | Visited: 1 | Transitions:5\n"
     ]
    },
    {
     "name": "stdout",
     "output_type": "stream",
     "text": [
      "currently running contrual  17\n"
     ]
    },
    {
     "name": "stderr",
     "output_type": "stream",
     "text": [
      "INFO:root:Current Depth: 1 | Frontier: 9 | Visited: 2 | Transitions:10\n",
      "INFO:root:Current Depth: 1 | Frontier: 13 | Visited: 2 | Transitions:10\n",
      "INFO:root:Current Depth: 1 | Frontier: 17 | Visited: 2 | Transitions:10\n",
      "INFO:root:Current Depth: 1 | Frontier: 21 | Visited: 2 | Transitions:10\n",
      "INFO:root:Current Depth: 2 | Frontier: 25 | Visited: 3 | Transitions:15\n",
      "INFO:root:Current Depth: 2 | Frontier: 29 | Visited: 3 | Transitions:15\n",
      "INFO:root:Current Depth: 3 | Frontier: 28 | Visited: 4 | Transitions:15\n",
      "INFO:root:Current Depth: 3 | Frontier: 27 | Visited: 4 | Transitions:15\n",
      "INFO:root:Current Depth: 2 | Frontier: 26 | Visited: 4 | Transitions:15\n",
      "INFO:root:Current Depth: 2 | Frontier: 25 | Visited: 4 | Transitions:15\n",
      "INFO:root:Current Depth: 2 | Frontier: 24 | Visited: 4 | Transitions:15\n",
      "INFO:root:Current Depth: 3 | Frontier: 23 | Visited: 4 | Transitions:15\n",
      "INFO:root:Current Depth: 2 | Frontier: 22 | Visited: 4 | Transitions:15\n",
      "INFO:root:Current Depth: 2 | Frontier: 21 | Visited: 4 | Transitions:15\n",
      "INFO:root:Current Depth: 3 | Frontier: 20 | Visited: 4 | Transitions:15\n",
      "INFO:root:Current Depth: 2 | Frontier: 19 | Visited: 4 | Transitions:15\n",
      "INFO:root:Current Depth: 2 | Frontier: 18 | Visited: 4 | Transitions:15\n",
      "INFO:root:Current Depth: 2 | Frontier: 17 | Visited: 4 | Transitions:15\n",
      "INFO:root:Current Depth: 3 | Frontier: 16 | Visited: 4 | Transitions:15\n",
      "INFO:root:Current Depth: 2 | Frontier: 15 | Visited: 4 | Transitions:15\n",
      "INFO:root:Current Depth: 2 | Frontier: 14 | Visited: 4 | Transitions:15\n",
      "INFO:root:Current Depth: 2 | Frontier: 13 | Visited: 4 | Transitions:15\n",
      "INFO:root:Current Depth: 3 | Frontier: 12 | Visited: 4 | Transitions:15\n",
      "INFO:root:Current Depth: 2 | Frontier: 11 | Visited: 4 | Transitions:15\n",
      "INFO:root:Current Depth: 2 | Frontier: 10 | Visited: 4 | Transitions:15\n",
      "INFO:root:Current Depth: 2 | Frontier: 9 | Visited: 4 | Transitions:15\n",
      "INFO:root:Current Depth: 1 | Frontier: 8 | Visited: 4 | Transitions:15\n",
      "INFO:root:Current Depth: 2 | Frontier: 7 | Visited: 4 | Transitions:15\n",
      "INFO:root:Current Depth: 3 | Frontier: 6 | Visited: 4 | Transitions:15\n",
      "INFO:root:Current Depth: 2 | Frontier: 5 | Visited: 4 | Transitions:15\n",
      "INFO:root:Current Depth: 3 | Frontier: 4 | Visited: 4 | Transitions:15\n",
      "INFO:root:Current Depth: 2 | Frontier: 3 | Visited: 4 | Transitions:15\n",
      "INFO:root:Current Depth: 2 | Frontier: 2 | Visited: 4 | Transitions:15\n",
      "INFO:root:Current Depth: 3 | Frontier: 1 | Visited: 4 | Transitions:15\n",
      "INFO:root:Current Depth: 3 | Frontier: 0 | Visited: 4 | Transitions:15\n",
      "INFO:root:Current Depth: 0 | Frontier: 5 | Visited: 1 | Transitions:5\n"
     ]
    },
    {
     "name": "stdout",
     "output_type": "stream",
     "text": [
      "currently running contrual  18\n"
     ]
    },
    {
     "name": "stderr",
     "output_type": "stream",
     "text": [
      "INFO:root:Current Depth: 1 | Frontier: 9 | Visited: 2 | Transitions:10\n",
      "INFO:root:Current Depth: 2 | Frontier: 13 | Visited: 3 | Transitions:15\n",
      "INFO:root:Current Depth: 2 | Frontier: 17 | Visited: 3 | Transitions:15\n",
      "INFO:root:Current Depth: 1 | Frontier: 16 | Visited: 3 | Transitions:15\n",
      "INFO:root:Current Depth: 2 | Frontier: 20 | Visited: 3 | Transitions:15\n",
      "INFO:root:Current Depth: 3 | Frontier: 19 | Visited: 4 | Transitions:15\n",
      "INFO:root:Current Depth: 1 | Frontier: 18 | Visited: 4 | Transitions:15\n",
      "INFO:root:Current Depth: 2 | Frontier: 17 | Visited: 4 | Transitions:15\n",
      "INFO:root:Current Depth: 3 | Frontier: 16 | Visited: 4 | Transitions:15\n",
      "INFO:root:Current Depth: 3 | Frontier: 15 | Visited: 4 | Transitions:15\n",
      "INFO:root:Current Depth: 3 | Frontier: 14 | Visited: 4 | Transitions:15\n",
      "INFO:root:Current Depth: 3 | Frontier: 13 | Visited: 4 | Transitions:15\n",
      "INFO:root:Current Depth: 3 | Frontier: 12 | Visited: 4 | Transitions:15\n",
      "INFO:root:Current Depth: 3 | Frontier: 11 | Visited: 4 | Transitions:15\n",
      "INFO:root:Current Depth: 2 | Frontier: 10 | Visited: 4 | Transitions:15\n",
      "INFO:root:Current Depth: 3 | Frontier: 9 | Visited: 4 | Transitions:15\n",
      "INFO:root:Current Depth: 3 | Frontier: 8 | Visited: 4 | Transitions:15\n",
      "INFO:root:Current Depth: 1 | Frontier: 7 | Visited: 4 | Transitions:15\n",
      "INFO:root:Current Depth: 3 | Frontier: 6 | Visited: 4 | Transitions:15\n",
      "INFO:root:Current Depth: 3 | Frontier: 5 | Visited: 4 | Transitions:15\n",
      "INFO:root:Current Depth: 3 | Frontier: 4 | Visited: 4 | Transitions:15\n",
      "INFO:root:Current Depth: 3 | Frontier: 3 | Visited: 4 | Transitions:15\n",
      "INFO:root:Current Depth: 1 | Frontier: 2 | Visited: 4 | Transitions:15\n",
      "INFO:root:Current Depth: 3 | Frontier: 1 | Visited: 4 | Transitions:15\n",
      "INFO:root:Current Depth: 3 | Frontier: 0 | Visited: 4 | Transitions:15\n",
      "INFO:root:Current Depth: 0 | Frontier: 5 | Visited: 1 | Transitions:5\n"
     ]
    },
    {
     "name": "stdout",
     "output_type": "stream",
     "text": [
      "currently running contrual  19\n"
     ]
    },
    {
     "name": "stderr",
     "output_type": "stream",
     "text": [
      "INFO:root:Current Depth: 1 | Frontier: 9 | Visited: 2 | Transitions:10\n",
      "INFO:root:Current Depth: 2 | Frontier: 13 | Visited: 3 | Transitions:15\n",
      "INFO:root:Current Depth: 3 | Frontier: 12 | Visited: 4 | Transitions:15\n",
      "INFO:root:Current Depth: 3 | Frontier: 11 | Visited: 4 | Transitions:15\n",
      "INFO:root:Current Depth: 3 | Frontier: 10 | Visited: 4 | Transitions:15\n",
      "INFO:root:Current Depth: 2 | Frontier: 9 | Visited: 4 | Transitions:15\n",
      "INFO:root:Current Depth: 2 | Frontier: 8 | Visited: 4 | Transitions:15\n",
      "INFO:root:Current Depth: 1 | Frontier: 7 | Visited: 4 | Transitions:15\n",
      "INFO:root:Current Depth: 3 | Frontier: 6 | Visited: 4 | Transitions:15\n",
      "INFO:root:Current Depth: 1 | Frontier: 5 | Visited: 4 | Transitions:15\n",
      "INFO:root:Current Depth: 1 | Frontier: 4 | Visited: 4 | Transitions:15\n",
      "INFO:root:Current Depth: 2 | Frontier: 3 | Visited: 4 | Transitions:15\n",
      "INFO:root:Current Depth: 1 | Frontier: 2 | Visited: 4 | Transitions:15\n",
      "INFO:root:Current Depth: 3 | Frontier: 1 | Visited: 4 | Transitions:15\n",
      "INFO:root:Current Depth: 2 | Frontier: 0 | Visited: 4 | Transitions:15\n",
      "INFO:root:Current Depth: 0 | Frontier: 5 | Visited: 1 | Transitions:5\n"
     ]
    },
    {
     "name": "stdout",
     "output_type": "stream",
     "text": [
      "currently running contrual  20\n"
     ]
    },
    {
     "name": "stderr",
     "output_type": "stream",
     "text": [
      "INFO:root:Current Depth: 1 | Frontier: 9 | Visited: 2 | Transitions:10\n",
      "INFO:root:Current Depth: 2 | Frontier: 13 | Visited: 3 | Transitions:15\n",
      "INFO:root:Current Depth: 1 | Frontier: 12 | Visited: 3 | Transitions:15\n",
      "INFO:root:Current Depth: 1 | Frontier: 11 | Visited: 3 | Transitions:15\n",
      "INFO:root:Current Depth: 1 | Frontier: 10 | Visited: 3 | Transitions:15\n",
      "INFO:root:Current Depth: 1 | Frontier: 9 | Visited: 3 | Transitions:15\n",
      "INFO:root:Current Depth: 2 | Frontier: 13 | Visited: 3 | Transitions:15\n",
      "INFO:root:Current Depth: 3 | Frontier: 12 | Visited: 4 | Transitions:15\n",
      "INFO:root:Current Depth: 3 | Frontier: 11 | Visited: 4 | Transitions:15\n",
      "INFO:root:Current Depth: 3 | Frontier: 10 | Visited: 4 | Transitions:15\n",
      "INFO:root:Current Depth: 3 | Frontier: 9 | Visited: 4 | Transitions:15\n",
      "INFO:root:Current Depth: 3 | Frontier: 8 | Visited: 4 | Transitions:15\n",
      "INFO:root:Current Depth: 3 | Frontier: 7 | Visited: 4 | Transitions:15\n",
      "INFO:root:Current Depth: 3 | Frontier: 6 | Visited: 4 | Transitions:15\n",
      "INFO:root:Current Depth: 2 | Frontier: 5 | Visited: 4 | Transitions:15\n",
      "INFO:root:Current Depth: 3 | Frontier: 4 | Visited: 4 | Transitions:15\n",
      "INFO:root:Current Depth: 3 | Frontier: 3 | Visited: 4 | Transitions:15\n",
      "INFO:root:Current Depth: 3 | Frontier: 2 | Visited: 4 | Transitions:15\n",
      "INFO:root:Current Depth: 2 | Frontier: 1 | Visited: 4 | Transitions:15\n",
      "INFO:root:Current Depth: 2 | Frontier: 0 | Visited: 4 | Transitions:15\n",
      "INFO:root:Current Depth: 0 | Frontier: 5 | Visited: 1 | Transitions:5\n"
     ]
    },
    {
     "name": "stdout",
     "output_type": "stream",
     "text": [
      "currently running contrual  21\n"
     ]
    },
    {
     "name": "stderr",
     "output_type": "stream",
     "text": [
      "INFO:root:Current Depth: 1 | Frontier: 9 | Visited: 2 | Transitions:10\n",
      "INFO:root:Current Depth: 2 | Frontier: 13 | Visited: 3 | Transitions:15\n",
      "INFO:root:Current Depth: 2 | Frontier: 17 | Visited: 3 | Transitions:15\n",
      "INFO:root:Current Depth: 2 | Frontier: 21 | Visited: 3 | Transitions:15\n",
      "INFO:root:Current Depth: 3 | Frontier: 20 | Visited: 4 | Transitions:15\n",
      "INFO:root:Current Depth: 3 | Frontier: 19 | Visited: 4 | Transitions:15\n",
      "INFO:root:Current Depth: 1 | Frontier: 18 | Visited: 4 | Transitions:15\n",
      "INFO:root:Current Depth: 3 | Frontier: 17 | Visited: 4 | Transitions:15\n",
      "INFO:root:Current Depth: 1 | Frontier: 16 | Visited: 4 | Transitions:15\n",
      "INFO:root:Current Depth: 3 | Frontier: 15 | Visited: 4 | Transitions:15\n",
      "INFO:root:Current Depth: 2 | Frontier: 14 | Visited: 4 | Transitions:15\n",
      "INFO:root:Current Depth: 1 | Frontier: 13 | Visited: 4 | Transitions:15\n",
      "INFO:root:Current Depth: 3 | Frontier: 12 | Visited: 4 | Transitions:15\n",
      "INFO:root:Current Depth: 3 | Frontier: 11 | Visited: 4 | Transitions:15\n",
      "INFO:root:Current Depth: 3 | Frontier: 10 | Visited: 4 | Transitions:15\n",
      "INFO:root:Current Depth: 3 | Frontier: 9 | Visited: 4 | Transitions:15\n",
      "INFO:root:Current Depth: 2 | Frontier: 8 | Visited: 4 | Transitions:15\n",
      "INFO:root:Current Depth: 3 | Frontier: 7 | Visited: 4 | Transitions:15\n",
      "INFO:root:Current Depth: 3 | Frontier: 6 | Visited: 4 | Transitions:15\n",
      "INFO:root:Current Depth: 1 | Frontier: 5 | Visited: 4 | Transitions:15\n",
      "INFO:root:Current Depth: 3 | Frontier: 4 | Visited: 4 | Transitions:15\n",
      "INFO:root:Current Depth: 3 | Frontier: 3 | Visited: 4 | Transitions:15\n",
      "INFO:root:Current Depth: 3 | Frontier: 2 | Visited: 4 | Transitions:15\n",
      "INFO:root:Current Depth: 3 | Frontier: 1 | Visited: 4 | Transitions:15\n",
      "INFO:root:Current Depth: 3 | Frontier: 0 | Visited: 4 | Transitions:15\n",
      "INFO:root:Current Depth: 0 | Frontier: 5 | Visited: 1 | Transitions:5\n"
     ]
    },
    {
     "name": "stdout",
     "output_type": "stream",
     "text": [
      "currently running contrual  22\n"
     ]
    },
    {
     "name": "stderr",
     "output_type": "stream",
     "text": [
      "INFO:root:Current Depth: 1 | Frontier: 9 | Visited: 2 | Transitions:10\n",
      "INFO:root:Current Depth: 1 | Frontier: 13 | Visited: 2 | Transitions:10\n",
      "INFO:root:Current Depth: 2 | Frontier: 17 | Visited: 3 | Transitions:15\n",
      "INFO:root:Current Depth: 2 | Frontier: 21 | Visited: 3 | Transitions:15\n",
      "INFO:root:Current Depth: 1 | Frontier: 20 | Visited: 3 | Transitions:15\n",
      "INFO:root:Current Depth: 3 | Frontier: 19 | Visited: 4 | Transitions:15\n",
      "INFO:root:Current Depth: 3 | Frontier: 18 | Visited: 4 | Transitions:15\n",
      "INFO:root:Current Depth: 3 | Frontier: 17 | Visited: 4 | Transitions:15\n",
      "INFO:root:Current Depth: 3 | Frontier: 16 | Visited: 4 | Transitions:15\n",
      "INFO:root:Current Depth: 2 | Frontier: 15 | Visited: 4 | Transitions:15\n",
      "INFO:root:Current Depth: 3 | Frontier: 14 | Visited: 4 | Transitions:15\n",
      "INFO:root:Current Depth: 1 | Frontier: 13 | Visited: 4 | Transitions:15\n",
      "INFO:root:Current Depth: 2 | Frontier: 12 | Visited: 4 | Transitions:15\n",
      "INFO:root:Current Depth: 3 | Frontier: 11 | Visited: 4 | Transitions:15\n",
      "INFO:root:Current Depth: 3 | Frontier: 10 | Visited: 4 | Transitions:15\n",
      "INFO:root:Current Depth: 3 | Frontier: 9 | Visited: 4 | Transitions:15\n",
      "INFO:root:Current Depth: 1 | Frontier: 8 | Visited: 4 | Transitions:15\n",
      "INFO:root:Current Depth: 3 | Frontier: 7 | Visited: 4 | Transitions:15\n",
      "INFO:root:Current Depth: 2 | Frontier: 6 | Visited: 4 | Transitions:15\n",
      "INFO:root:Current Depth: 2 | Frontier: 5 | Visited: 4 | Transitions:15\n",
      "INFO:root:Current Depth: 2 | Frontier: 4 | Visited: 4 | Transitions:15\n",
      "INFO:root:Current Depth: 2 | Frontier: 3 | Visited: 4 | Transitions:15\n",
      "INFO:root:Current Depth: 2 | Frontier: 2 | Visited: 4 | Transitions:15\n",
      "INFO:root:Current Depth: 2 | Frontier: 1 | Visited: 4 | Transitions:15\n",
      "INFO:root:Current Depth: 3 | Frontier: 0 | Visited: 4 | Transitions:15\n"
     ]
    },
    {
     "name": "stdout",
     "output_type": "stream",
     "text": [
      "currently running contrual  23\n"
     ]
    },
    {
     "name": "stderr",
     "output_type": "stream",
     "text": [
      "INFO:root:Current Depth: 0 | Frontier: 5 | Visited: 1 | Transitions:5\n",
      "INFO:root:Current Depth: 1 | Frontier: 9 | Visited: 2 | Transitions:10\n",
      "INFO:root:Current Depth: 2 | Frontier: 13 | Visited: 3 | Transitions:15\n",
      "INFO:root:Current Depth: 3 | Frontier: 12 | Visited: 4 | Transitions:15\n",
      "INFO:root:Current Depth: 3 | Frontier: 11 | Visited: 4 | Transitions:15\n",
      "INFO:root:Current Depth: 1 | Frontier: 10 | Visited: 4 | Transitions:15\n",
      "INFO:root:Current Depth: 3 | Frontier: 9 | Visited: 4 | Transitions:15\n",
      "INFO:root:Current Depth: 3 | Frontier: 8 | Visited: 4 | Transitions:15\n",
      "INFO:root:Current Depth: 2 | Frontier: 7 | Visited: 4 | Transitions:15\n",
      "INFO:root:Current Depth: 1 | Frontier: 6 | Visited: 4 | Transitions:15\n",
      "INFO:root:Current Depth: 1 | Frontier: 5 | Visited: 4 | Transitions:15\n",
      "INFO:root:Current Depth: 2 | Frontier: 4 | Visited: 4 | Transitions:15\n",
      "INFO:root:Current Depth: 1 | Frontier: 3 | Visited: 4 | Transitions:15\n",
      "INFO:root:Current Depth: 2 | Frontier: 2 | Visited: 4 | Transitions:15\n",
      "INFO:root:Current Depth: 2 | Frontier: 1 | Visited: 4 | Transitions:15\n",
      "INFO:root:Current Depth: 3 | Frontier: 0 | Visited: 4 | Transitions:15\n",
      "INFO:root:Current Depth: 0 | Frontier: 5 | Visited: 1 | Transitions:5\n"
     ]
    },
    {
     "name": "stdout",
     "output_type": "stream",
     "text": [
      "currently running contrual  24\n"
     ]
    },
    {
     "name": "stderr",
     "output_type": "stream",
     "text": [
      "INFO:root:Current Depth: 1 | Frontier: 9 | Visited: 2 | Transitions:10\n",
      "INFO:root:Current Depth: 2 | Frontier: 13 | Visited: 3 | Transitions:15\n",
      "INFO:root:Current Depth: 1 | Frontier: 12 | Visited: 3 | Transitions:15\n",
      "INFO:root:Current Depth: 3 | Frontier: 11 | Visited: 4 | Transitions:15\n",
      "INFO:root:Current Depth: 1 | Frontier: 10 | Visited: 4 | Transitions:15\n",
      "INFO:root:Current Depth: 2 | Frontier: 9 | Visited: 4 | Transitions:15\n",
      "INFO:root:Current Depth: 2 | Frontier: 8 | Visited: 4 | Transitions:15\n",
      "INFO:root:Current Depth: 1 | Frontier: 7 | Visited: 4 | Transitions:15\n",
      "INFO:root:Current Depth: 2 | Frontier: 6 | Visited: 4 | Transitions:15\n",
      "INFO:root:Current Depth: 3 | Frontier: 5 | Visited: 4 | Transitions:15\n",
      "INFO:root:Current Depth: 2 | Frontier: 4 | Visited: 4 | Transitions:15\n",
      "INFO:root:Current Depth: 3 | Frontier: 3 | Visited: 4 | Transitions:15\n",
      "INFO:root:Current Depth: 1 | Frontier: 2 | Visited: 4 | Transitions:15\n",
      "INFO:root:Current Depth: 3 | Frontier: 1 | Visited: 4 | Transitions:15\n",
      "INFO:root:Current Depth: 3 | Frontier: 0 | Visited: 4 | Transitions:15\n"
     ]
    },
    {
     "name": "stdout",
     "output_type": "stream",
     "text": [
      "currently running contrual  25\n"
     ]
    },
    {
     "name": "stderr",
     "output_type": "stream",
     "text": [
      "INFO:root:Current Depth: 0 | Frontier: 5 | Visited: 1 | Transitions:5\n",
      "INFO:root:Current Depth: 1 | Frontier: 9 | Visited: 2 | Transitions:10\n",
      "INFO:root:Current Depth: 1 | Frontier: 13 | Visited: 2 | Transitions:10\n",
      "INFO:root:Current Depth: 2 | Frontier: 17 | Visited: 3 | Transitions:15\n",
      "INFO:root:Current Depth: 1 | Frontier: 16 | Visited: 3 | Transitions:15\n",
      "INFO:root:Current Depth: 2 | Frontier: 20 | Visited: 3 | Transitions:15\n",
      "INFO:root:Current Depth: 3 | Frontier: 19 | Visited: 4 | Transitions:15\n",
      "INFO:root:Current Depth: 2 | Frontier: 18 | Visited: 4 | Transitions:15\n",
      "INFO:root:Current Depth: 3 | Frontier: 17 | Visited: 4 | Transitions:15\n",
      "INFO:root:Current Depth: 3 | Frontier: 16 | Visited: 4 | Transitions:15\n",
      "INFO:root:Current Depth: 3 | Frontier: 15 | Visited: 4 | Transitions:15\n",
      "INFO:root:Current Depth: 3 | Frontier: 14 | Visited: 4 | Transitions:15\n",
      "INFO:root:Current Depth: 2 | Frontier: 13 | Visited: 4 | Transitions:15\n",
      "INFO:root:Current Depth: 3 | Frontier: 12 | Visited: 4 | Transitions:15\n",
      "INFO:root:Current Depth: 2 | Frontier: 11 | Visited: 4 | Transitions:15\n",
      "INFO:root:Current Depth: 2 | Frontier: 10 | Visited: 4 | Transitions:15\n",
      "INFO:root:Current Depth: 2 | Frontier: 9 | Visited: 4 | Transitions:15\n",
      "INFO:root:Current Depth: 1 | Frontier: 8 | Visited: 4 | Transitions:15\n",
      "INFO:root:Current Depth: 2 | Frontier: 7 | Visited: 4 | Transitions:15\n",
      "INFO:root:Current Depth: 2 | Frontier: 6 | Visited: 4 | Transitions:15\n",
      "INFO:root:Current Depth: 3 | Frontier: 5 | Visited: 4 | Transitions:15\n",
      "INFO:root:Current Depth: 2 | Frontier: 4 | Visited: 4 | Transitions:15\n",
      "INFO:root:Current Depth: 3 | Frontier: 3 | Visited: 4 | Transitions:15\n",
      "INFO:root:Current Depth: 3 | Frontier: 2 | Visited: 4 | Transitions:15\n",
      "INFO:root:Current Depth: 1 | Frontier: 1 | Visited: 4 | Transitions:15\n",
      "INFO:root:Current Depth: 3 | Frontier: 0 | Visited: 4 | Transitions:15\n",
      "INFO:root:Current Depth: 0 | Frontier: 5 | Visited: 1 | Transitions:5\n"
     ]
    },
    {
     "name": "stdout",
     "output_type": "stream",
     "text": [
      "currently running contrual  26\n"
     ]
    },
    {
     "name": "stderr",
     "output_type": "stream",
     "text": [
      "INFO:root:Current Depth: 1 | Frontier: 9 | Visited: 2 | Transitions:10\n",
      "INFO:root:Current Depth: 1 | Frontier: 13 | Visited: 2 | Transitions:10\n",
      "INFO:root:Current Depth: 1 | Frontier: 17 | Visited: 2 | Transitions:10\n",
      "INFO:root:Current Depth: 2 | Frontier: 21 | Visited: 3 | Transitions:15\n",
      "INFO:root:Current Depth: 3 | Frontier: 20 | Visited: 4 | Transitions:15\n",
      "INFO:root:Current Depth: 1 | Frontier: 19 | Visited: 4 | Transitions:15\n",
      "INFO:root:Current Depth: 2 | Frontier: 18 | Visited: 4 | Transitions:15\n",
      "INFO:root:Current Depth: 2 | Frontier: 17 | Visited: 4 | Transitions:15\n",
      "INFO:root:Current Depth: 2 | Frontier: 16 | Visited: 4 | Transitions:15\n",
      "INFO:root:Current Depth: 2 | Frontier: 15 | Visited: 4 | Transitions:15\n",
      "INFO:root:Current Depth: 3 | Frontier: 14 | Visited: 4 | Transitions:15\n",
      "INFO:root:Current Depth: 2 | Frontier: 13 | Visited: 4 | Transitions:15\n",
      "INFO:root:Current Depth: 3 | Frontier: 12 | Visited: 4 | Transitions:15\n",
      "INFO:root:Current Depth: 2 | Frontier: 11 | Visited: 4 | Transitions:15\n",
      "INFO:root:Current Depth: 2 | Frontier: 10 | Visited: 4 | Transitions:15\n",
      "INFO:root:Current Depth: 2 | Frontier: 9 | Visited: 4 | Transitions:15\n",
      "INFO:root:Current Depth: 2 | Frontier: 8 | Visited: 4 | Transitions:15\n",
      "INFO:root:Current Depth: 3 | Frontier: 7 | Visited: 4 | Transitions:15\n",
      "INFO:root:Current Depth: 1 | Frontier: 6 | Visited: 4 | Transitions:15\n",
      "INFO:root:Current Depth: 3 | Frontier: 5 | Visited: 4 | Transitions:15\n",
      "INFO:root:Current Depth: 2 | Frontier: 4 | Visited: 4 | Transitions:15\n",
      "INFO:root:Current Depth: 2 | Frontier: 3 | Visited: 4 | Transitions:15\n",
      "INFO:root:Current Depth: 2 | Frontier: 2 | Visited: 4 | Transitions:15\n",
      "INFO:root:Current Depth: 2 | Frontier: 1 | Visited: 4 | Transitions:15\n",
      "INFO:root:Current Depth: 2 | Frontier: 0 | Visited: 4 | Transitions:15\n"
     ]
    },
    {
     "name": "stdout",
     "output_type": "stream",
     "text": [
      "currently running contrual  27\n"
     ]
    },
    {
     "name": "stderr",
     "output_type": "stream",
     "text": [
      "INFO:root:Current Depth: 0 | Frontier: 5 | Visited: 1 | Transitions:5\n",
      "INFO:root:Current Depth: 1 | Frontier: 9 | Visited: 2 | Transitions:10\n",
      "INFO:root:Current Depth: 1 | Frontier: 13 | Visited: 2 | Transitions:10\n",
      "INFO:root:Current Depth: 2 | Frontier: 17 | Visited: 3 | Transitions:15\n",
      "INFO:root:Current Depth: 3 | Frontier: 16 | Visited: 4 | Transitions:15\n",
      "INFO:root:Current Depth: 1 | Frontier: 15 | Visited: 4 | Transitions:15\n",
      "INFO:root:Current Depth: 3 | Frontier: 14 | Visited: 4 | Transitions:15\n",
      "INFO:root:Current Depth: 3 | Frontier: 13 | Visited: 4 | Transitions:15\n",
      "INFO:root:Current Depth: 1 | Frontier: 12 | Visited: 4 | Transitions:15\n",
      "INFO:root:Current Depth: 3 | Frontier: 11 | Visited: 4 | Transitions:15\n",
      "INFO:root:Current Depth: 2 | Frontier: 10 | Visited: 4 | Transitions:15\n",
      "INFO:root:Current Depth: 2 | Frontier: 9 | Visited: 4 | Transitions:15\n",
      "INFO:root:Current Depth: 2 | Frontier: 8 | Visited: 4 | Transitions:15\n",
      "INFO:root:Current Depth: 2 | Frontier: 7 | Visited: 4 | Transitions:15\n",
      "INFO:root:Current Depth: 1 | Frontier: 6 | Visited: 4 | Transitions:15\n",
      "INFO:root:Current Depth: 2 | Frontier: 5 | Visited: 4 | Transitions:15\n",
      "INFO:root:Current Depth: 2 | Frontier: 4 | Visited: 4 | Transitions:15\n",
      "INFO:root:Current Depth: 3 | Frontier: 3 | Visited: 4 | Transitions:15\n",
      "INFO:root:Current Depth: 2 | Frontier: 2 | Visited: 4 | Transitions:15\n",
      "INFO:root:Current Depth: 2 | Frontier: 1 | Visited: 4 | Transitions:15\n",
      "INFO:root:Current Depth: 2 | Frontier: 0 | Visited: 4 | Transitions:15\n",
      "INFO:root:Current Depth: 0 | Frontier: 5 | Visited: 1 | Transitions:5\n"
     ]
    },
    {
     "name": "stdout",
     "output_type": "stream",
     "text": [
      "currently running contrual  28\n"
     ]
    },
    {
     "name": "stderr",
     "output_type": "stream",
     "text": [
      "INFO:root:Current Depth: 1 | Frontier: 9 | Visited: 2 | Transitions:10\n",
      "INFO:root:Current Depth: 2 | Frontier: 13 | Visited: 3 | Transitions:15\n",
      "INFO:root:Current Depth: 1 | Frontier: 12 | Visited: 3 | Transitions:15\n",
      "INFO:root:Current Depth: 2 | Frontier: 16 | Visited: 3 | Transitions:15\n",
      "INFO:root:Current Depth: 3 | Frontier: 15 | Visited: 4 | Transitions:15\n",
      "INFO:root:Current Depth: 1 | Frontier: 14 | Visited: 4 | Transitions:15\n",
      "INFO:root:Current Depth: 1 | Frontier: 13 | Visited: 4 | Transitions:15\n",
      "INFO:root:Current Depth: 3 | Frontier: 12 | Visited: 4 | Transitions:15\n",
      "INFO:root:Current Depth: 2 | Frontier: 11 | Visited: 4 | Transitions:15\n",
      "INFO:root:Current Depth: 3 | Frontier: 10 | Visited: 4 | Transitions:15\n",
      "INFO:root:Current Depth: 3 | Frontier: 9 | Visited: 4 | Transitions:15\n",
      "INFO:root:Current Depth: 3 | Frontier: 8 | Visited: 4 | Transitions:15\n",
      "INFO:root:Current Depth: 2 | Frontier: 7 | Visited: 4 | Transitions:15\n",
      "INFO:root:Current Depth: 3 | Frontier: 6 | Visited: 4 | Transitions:15\n",
      "INFO:root:Current Depth: 3 | Frontier: 5 | Visited: 4 | Transitions:15\n",
      "INFO:root:Current Depth: 3 | Frontier: 4 | Visited: 4 | Transitions:15\n",
      "INFO:root:Current Depth: 3 | Frontier: 3 | Visited: 4 | Transitions:15\n",
      "INFO:root:Current Depth: 1 | Frontier: 2 | Visited: 4 | Transitions:15\n",
      "INFO:root:Current Depth: 2 | Frontier: 1 | Visited: 4 | Transitions:15\n",
      "INFO:root:Current Depth: 3 | Frontier: 0 | Visited: 4 | Transitions:15\n",
      "INFO:root:Current Depth: 0 | Frontier: 5 | Visited: 1 | Transitions:5\n"
     ]
    },
    {
     "name": "stdout",
     "output_type": "stream",
     "text": [
      "currently running contrual  29\n"
     ]
    },
    {
     "name": "stderr",
     "output_type": "stream",
     "text": [
      "INFO:root:Current Depth: 1 | Frontier: 9 | Visited: 2 | Transitions:10\n",
      "INFO:root:Current Depth: 1 | Frontier: 13 | Visited: 2 | Transitions:10\n",
      "INFO:root:Current Depth: 2 | Frontier: 17 | Visited: 3 | Transitions:15\n",
      "INFO:root:Current Depth: 3 | Frontier: 16 | Visited: 4 | Transitions:15\n",
      "INFO:root:Current Depth: 2 | Frontier: 15 | Visited: 4 | Transitions:15\n",
      "INFO:root:Current Depth: 1 | Frontier: 14 | Visited: 4 | Transitions:15\n",
      "INFO:root:Current Depth: 2 | Frontier: 13 | Visited: 4 | Transitions:15\n",
      "INFO:root:Current Depth: 2 | Frontier: 12 | Visited: 4 | Transitions:15\n",
      "INFO:root:Current Depth: 3 | Frontier: 11 | Visited: 4 | Transitions:15\n",
      "INFO:root:Current Depth: 2 | Frontier: 10 | Visited: 4 | Transitions:15\n",
      "INFO:root:Current Depth: 1 | Frontier: 9 | Visited: 4 | Transitions:15\n",
      "INFO:root:Current Depth: 2 | Frontier: 8 | Visited: 4 | Transitions:15\n",
      "INFO:root:Current Depth: 1 | Frontier: 7 | Visited: 4 | Transitions:15\n",
      "INFO:root:Current Depth: 3 | Frontier: 6 | Visited: 4 | Transitions:15\n",
      "INFO:root:Current Depth: 2 | Frontier: 5 | Visited: 4 | Transitions:15\n",
      "INFO:root:Current Depth: 2 | Frontier: 4 | Visited: 4 | Transitions:15\n",
      "INFO:root:Current Depth: 2 | Frontier: 3 | Visited: 4 | Transitions:15\n",
      "INFO:root:Current Depth: 2 | Frontier: 2 | Visited: 4 | Transitions:15\n",
      "INFO:root:Current Depth: 3 | Frontier: 1 | Visited: 4 | Transitions:15\n",
      "INFO:root:Current Depth: 3 | Frontier: 0 | Visited: 4 | Transitions:15\n",
      "INFO:root:Current Depth: 0 | Frontier: 5 | Visited: 1 | Transitions:5\n"
     ]
    },
    {
     "name": "stdout",
     "output_type": "stream",
     "text": [
      "currently running contrual  30\n"
     ]
    },
    {
     "name": "stderr",
     "output_type": "stream",
     "text": [
      "INFO:root:Current Depth: 1 | Frontier: 9 | Visited: 2 | Transitions:10\n",
      "INFO:root:Current Depth: 2 | Frontier: 13 | Visited: 3 | Transitions:15\n",
      "INFO:root:Current Depth: 3 | Frontier: 12 | Visited: 4 | Transitions:15\n",
      "INFO:root:Current Depth: 1 | Frontier: 11 | Visited: 4 | Transitions:15\n",
      "INFO:root:Current Depth: 3 | Frontier: 10 | Visited: 4 | Transitions:15\n",
      "INFO:root:Current Depth: 3 | Frontier: 9 | Visited: 4 | Transitions:15\n",
      "INFO:root:Current Depth: 2 | Frontier: 8 | Visited: 4 | Transitions:15\n",
      "INFO:root:Current Depth: 1 | Frontier: 7 | Visited: 4 | Transitions:15\n",
      "INFO:root:Current Depth: 2 | Frontier: 6 | Visited: 4 | Transitions:15\n",
      "INFO:root:Current Depth: 1 | Frontier: 5 | Visited: 4 | Transitions:15\n",
      "INFO:root:Current Depth: 1 | Frontier: 4 | Visited: 4 | Transitions:15\n",
      "INFO:root:Current Depth: 2 | Frontier: 3 | Visited: 4 | Transitions:15\n",
      "INFO:root:Current Depth: 2 | Frontier: 2 | Visited: 4 | Transitions:15\n",
      "INFO:root:Current Depth: 3 | Frontier: 1 | Visited: 4 | Transitions:15\n",
      "INFO:root:Current Depth: 3 | Frontier: 0 | Visited: 4 | Transitions:15\n",
      "INFO:root:Current Depth: 0 | Frontier: 5 | Visited: 1 | Transitions:5\n"
     ]
    },
    {
     "name": "stdout",
     "output_type": "stream",
     "text": [
      "currently running contrual  31\n"
     ]
    },
    {
     "name": "stderr",
     "output_type": "stream",
     "text": [
      "INFO:root:Current Depth: 1 | Frontier: 9 | Visited: 2 | Transitions:10\n",
      "INFO:root:Current Depth: 2 | Frontier: 13 | Visited: 3 | Transitions:15\n",
      "INFO:root:Current Depth: 2 | Frontier: 17 | Visited: 3 | Transitions:15\n",
      "INFO:root:Current Depth: 1 | Frontier: 16 | Visited: 3 | Transitions:15\n",
      "INFO:root:Current Depth: 1 | Frontier: 15 | Visited: 3 | Transitions:15\n",
      "INFO:root:Current Depth: 3 | Frontier: 14 | Visited: 4 | Transitions:15\n",
      "INFO:root:Current Depth: 1 | Frontier: 13 | Visited: 4 | Transitions:15\n",
      "INFO:root:Current Depth: 2 | Frontier: 12 | Visited: 4 | Transitions:15\n",
      "INFO:root:Current Depth: 2 | Frontier: 11 | Visited: 4 | Transitions:15\n",
      "INFO:root:Current Depth: 3 | Frontier: 10 | Visited: 4 | Transitions:15\n",
      "INFO:root:Current Depth: 3 | Frontier: 9 | Visited: 4 | Transitions:15\n",
      "INFO:root:Current Depth: 3 | Frontier: 8 | Visited: 4 | Transitions:15\n",
      "INFO:root:Current Depth: 3 | Frontier: 7 | Visited: 4 | Transitions:15\n",
      "INFO:root:Current Depth: 3 | Frontier: 6 | Visited: 4 | Transitions:15\n",
      "INFO:root:Current Depth: 1 | Frontier: 5 | Visited: 4 | Transitions:15\n",
      "INFO:root:Current Depth: 3 | Frontier: 4 | Visited: 4 | Transitions:15\n",
      "INFO:root:Current Depth: 3 | Frontier: 3 | Visited: 4 | Transitions:15\n",
      "INFO:root:Current Depth: 3 | Frontier: 2 | Visited: 4 | Transitions:15\n",
      "INFO:root:Current Depth: 2 | Frontier: 1 | Visited: 4 | Transitions:15\n",
      "INFO:root:Current Depth: 3 | Frontier: 0 | Visited: 4 | Transitions:15\n"
     ]
    }
   ],
   "source": [
    "# Construal MDP Code\n",
    "construals = highway_mdp.get_construals_singleobj()\n",
    "# len(construals)\n",
    "\n",
    "construal_policies = dict()\n",
    "for constr in construals:\n",
    "    print(\"currently running contrual \", len(construal_policies)+1)\n",
    "    # print(constr.env.unwrapped.road.vehicles)\n",
    "    # print(constr.env.unwrapped.road.objects)\n",
    "    # print(\"----------------\")\n",
    "    constr.populate_MDPtable(max_depth = max_depth)\n",
    "    value_function = constr.value_iteration()\n",
    "    policy = OptimalPolicy(constr)\n",
    "    construal_policies[constr] = policy"
   ]
  },
  {
   "cell_type": "code",
   "execution_count": 7,
   "metadata": {},
   "outputs": [
    {
     "name": "stdout",
     "output_type": "stream",
     "text": [
      "[1, 2, 3, 4]\n",
      "[1, 2, 3, 4]\n",
      "[1, 2, 3, 4]\n"
     ]
    },
    {
     "name": "stderr",
     "output_type": "stream",
     "text": [
      "c:\\Users\\Sounak\\anaconda3\\envs\\myHighwayEnv\\Lib\\site-packages\\gymnasium\\utils\\passive_env_checker.py:158: UserWarning: \u001b[33mWARN: The obs returned by the `step()` method is not within the observation space.\u001b[0m\n",
      "  logger.warn(f\"{pre} is not within the observation space.\")\n",
      "c:\\Users\\Sounak\\anaconda3\\envs\\myHighwayEnv\\Lib\\site-packages\\gymnasium\\utils\\passive_env_checker.py:158: UserWarning: \u001b[33mWARN: The obs returned by the `step()` method is not within the observation space.\u001b[0m\n",
      "  logger.warn(f\"{pre} is not within the observation space.\")\n",
      "c:\\Users\\Sounak\\anaconda3\\envs\\myHighwayEnv\\Lib\\site-packages\\gymnasium\\utils\\passive_env_checker.py:158: UserWarning: \u001b[33mWARN: The obs returned by the `step()` method is not within the observation space.\u001b[0m\n",
      "  logger.warn(f\"{pre} is not within the observation space.\")\n"
     ]
    },
    {
     "name": "stdout",
     "output_type": "stream",
     "text": [
      "[1, 2, 3, 4]\n",
      "[1, 2, 3, 4]\n",
      "[1, 2, 3, 4]\n"
     ]
    },
    {
     "name": "stderr",
     "output_type": "stream",
     "text": [
      "c:\\Users\\Sounak\\anaconda3\\envs\\myHighwayEnv\\Lib\\site-packages\\gymnasium\\utils\\passive_env_checker.py:158: UserWarning: \u001b[33mWARN: The obs returned by the `step()` method is not within the observation space.\u001b[0m\n",
      "  logger.warn(f\"{pre} is not within the observation space.\")\n",
      "c:\\Users\\Sounak\\anaconda3\\envs\\myHighwayEnv\\Lib\\site-packages\\gymnasium\\utils\\passive_env_checker.py:158: UserWarning: \u001b[33mWARN: The obs returned by the `step()` method is not within the observation space.\u001b[0m\n",
      "  logger.warn(f\"{pre} is not within the observation space.\")\n",
      "c:\\Users\\Sounak\\anaconda3\\envs\\myHighwayEnv\\Lib\\site-packages\\gymnasium\\utils\\passive_env_checker.py:158: UserWarning: \u001b[33mWARN: The obs returned by the `step()` method is not within the observation space.\u001b[0m\n",
      "  logger.warn(f\"{pre} is not within the observation space.\")\n"
     ]
    },
    {
     "name": "stdout",
     "output_type": "stream",
     "text": [
      "[1, 2, 3, 4]\n",
      "[1, 2, 3, 4]\n",
      "[1, 2, 3, 4]\n"
     ]
    },
    {
     "name": "stderr",
     "output_type": "stream",
     "text": [
      "c:\\Users\\Sounak\\anaconda3\\envs\\myHighwayEnv\\Lib\\site-packages\\gymnasium\\utils\\passive_env_checker.py:158: UserWarning: \u001b[33mWARN: The obs returned by the `step()` method is not within the observation space.\u001b[0m\n",
      "  logger.warn(f\"{pre} is not within the observation space.\")\n",
      "c:\\Users\\Sounak\\anaconda3\\envs\\myHighwayEnv\\Lib\\site-packages\\gymnasium\\utils\\passive_env_checker.py:158: UserWarning: \u001b[33mWARN: The obs returned by the `step()` method is not within the observation space.\u001b[0m\n",
      "  logger.warn(f\"{pre} is not within the observation space.\")\n",
      "c:\\Users\\Sounak\\anaconda3\\envs\\myHighwayEnv\\Lib\\site-packages\\gymnasium\\utils\\passive_env_checker.py:158: UserWarning: \u001b[33mWARN: The obs returned by the `step()` method is not within the observation space.\u001b[0m\n",
      "  logger.warn(f\"{pre} is not within the observation space.\")\n"
     ]
    },
    {
     "name": "stdout",
     "output_type": "stream",
     "text": [
      "[1, 2, 3, 4]\n",
      "[1, 2, 3, 4]\n",
      "[1, 2, 3, 4]\n"
     ]
    },
    {
     "name": "stderr",
     "output_type": "stream",
     "text": [
      "c:\\Users\\Sounak\\anaconda3\\envs\\myHighwayEnv\\Lib\\site-packages\\gymnasium\\utils\\passive_env_checker.py:158: UserWarning: \u001b[33mWARN: The obs returned by the `step()` method is not within the observation space.\u001b[0m\n",
      "  logger.warn(f\"{pre} is not within the observation space.\")\n",
      "c:\\Users\\Sounak\\anaconda3\\envs\\myHighwayEnv\\Lib\\site-packages\\gymnasium\\utils\\passive_env_checker.py:158: UserWarning: \u001b[33mWARN: The obs returned by the `step()` method is not within the observation space.\u001b[0m\n",
      "  logger.warn(f\"{pre} is not within the observation space.\")\n",
      "c:\\Users\\Sounak\\anaconda3\\envs\\myHighwayEnv\\Lib\\site-packages\\gymnasium\\utils\\passive_env_checker.py:158: UserWarning: \u001b[33mWARN: The obs returned by the `step()` method is not within the observation space.\u001b[0m\n",
      "  logger.warn(f\"{pre} is not within the observation space.\")\n"
     ]
    },
    {
     "name": "stdout",
     "output_type": "stream",
     "text": [
      "[1, 2, 3, 4]\n",
      "[1, 2, 3, 4]\n"
     ]
    },
    {
     "name": "stderr",
     "output_type": "stream",
     "text": [
      "c:\\Users\\Sounak\\anaconda3\\envs\\myHighwayEnv\\Lib\\site-packages\\gymnasium\\utils\\passive_env_checker.py:158: UserWarning: \u001b[33mWARN: The obs returned by the `step()` method is not within the observation space.\u001b[0m\n",
      "  logger.warn(f\"{pre} is not within the observation space.\")\n",
      "c:\\Users\\Sounak\\anaconda3\\envs\\myHighwayEnv\\Lib\\site-packages\\gymnasium\\utils\\passive_env_checker.py:158: UserWarning: \u001b[33mWARN: The obs returned by the `step()` method is not within the observation space.\u001b[0m\n",
      "  logger.warn(f\"{pre} is not within the observation space.\")\n"
     ]
    },
    {
     "name": "stdout",
     "output_type": "stream",
     "text": [
      "[1, 2, 3, 4]\n",
      "[1, 2, 3, 4]\n"
     ]
    },
    {
     "name": "stderr",
     "output_type": "stream",
     "text": [
      "c:\\Users\\Sounak\\anaconda3\\envs\\myHighwayEnv\\Lib\\site-packages\\gymnasium\\utils\\passive_env_checker.py:158: UserWarning: \u001b[33mWARN: The obs returned by the `step()` method is not within the observation space.\u001b[0m\n",
      "  logger.warn(f\"{pre} is not within the observation space.\")\n",
      "c:\\Users\\Sounak\\anaconda3\\envs\\myHighwayEnv\\Lib\\site-packages\\gymnasium\\utils\\passive_env_checker.py:158: UserWarning: \u001b[33mWARN: The obs returned by the `step()` method is not within the observation space.\u001b[0m\n",
      "  logger.warn(f\"{pre} is not within the observation space.\")\n"
     ]
    },
    {
     "name": "stdout",
     "output_type": "stream",
     "text": [
      "[1, 2, 3, 4]\n",
      "[1, 2, 3, 4]\n",
      "[1, 2, 3, 4]\n"
     ]
    },
    {
     "name": "stderr",
     "output_type": "stream",
     "text": [
      "c:\\Users\\Sounak\\anaconda3\\envs\\myHighwayEnv\\Lib\\site-packages\\gymnasium\\utils\\passive_env_checker.py:158: UserWarning: \u001b[33mWARN: The obs returned by the `step()` method is not within the observation space.\u001b[0m\n",
      "  logger.warn(f\"{pre} is not within the observation space.\")\n",
      "c:\\Users\\Sounak\\anaconda3\\envs\\myHighwayEnv\\Lib\\site-packages\\gymnasium\\utils\\passive_env_checker.py:158: UserWarning: \u001b[33mWARN: The obs returned by the `step()` method is not within the observation space.\u001b[0m\n",
      "  logger.warn(f\"{pre} is not within the observation space.\")\n",
      "c:\\Users\\Sounak\\anaconda3\\envs\\myHighwayEnv\\Lib\\site-packages\\gymnasium\\utils\\passive_env_checker.py:158: UserWarning: \u001b[33mWARN: The obs returned by the `step()` method is not within the observation space.\u001b[0m\n",
      "  logger.warn(f\"{pre} is not within the observation space.\")\n"
     ]
    },
    {
     "name": "stdout",
     "output_type": "stream",
     "text": [
      "[1, 2, 3, 4]\n",
      "[1, 2, 3, 4]\n"
     ]
    },
    {
     "name": "stderr",
     "output_type": "stream",
     "text": [
      "c:\\Users\\Sounak\\anaconda3\\envs\\myHighwayEnv\\Lib\\site-packages\\gymnasium\\utils\\passive_env_checker.py:158: UserWarning: \u001b[33mWARN: The obs returned by the `step()` method is not within the observation space.\u001b[0m\n",
      "  logger.warn(f\"{pre} is not within the observation space.\")\n",
      "c:\\Users\\Sounak\\anaconda3\\envs\\myHighwayEnv\\Lib\\site-packages\\gymnasium\\utils\\passive_env_checker.py:158: UserWarning: \u001b[33mWARN: The obs returned by the `step()` method is not within the observation space.\u001b[0m\n",
      "  logger.warn(f\"{pre} is not within the observation space.\")\n"
     ]
    },
    {
     "name": "stdout",
     "output_type": "stream",
     "text": [
      "[1, 2, 3, 4]\n",
      "[1, 2, 3, 4]\n"
     ]
    },
    {
     "name": "stderr",
     "output_type": "stream",
     "text": [
      "c:\\Users\\Sounak\\anaconda3\\envs\\myHighwayEnv\\Lib\\site-packages\\gymnasium\\utils\\passive_env_checker.py:158: UserWarning: \u001b[33mWARN: The obs returned by the `step()` method is not within the observation space.\u001b[0m\n",
      "  logger.warn(f\"{pre} is not within the observation space.\")\n",
      "c:\\Users\\Sounak\\anaconda3\\envs\\myHighwayEnv\\Lib\\site-packages\\gymnasium\\utils\\passive_env_checker.py:158: UserWarning: \u001b[33mWARN: The obs returned by the `step()` method is not within the observation space.\u001b[0m\n",
      "  logger.warn(f\"{pre} is not within the observation space.\")\n"
     ]
    },
    {
     "name": "stdout",
     "output_type": "stream",
     "text": [
      "[1, 2, 3, 4]\n",
      "[1, 2, 3, 4]\n"
     ]
    },
    {
     "name": "stderr",
     "output_type": "stream",
     "text": [
      "c:\\Users\\Sounak\\anaconda3\\envs\\myHighwayEnv\\Lib\\site-packages\\gymnasium\\utils\\passive_env_checker.py:158: UserWarning: \u001b[33mWARN: The obs returned by the `step()` method is not within the observation space.\u001b[0m\n",
      "  logger.warn(f\"{pre} is not within the observation space.\")\n",
      "c:\\Users\\Sounak\\anaconda3\\envs\\myHighwayEnv\\Lib\\site-packages\\gymnasium\\utils\\passive_env_checker.py:158: UserWarning: \u001b[33mWARN: The obs returned by the `step()` method is not within the observation space.\u001b[0m\n",
      "  logger.warn(f\"{pre} is not within the observation space.\")\n",
      "c:\\Users\\Sounak\\anaconda3\\envs\\myHighwayEnv\\Lib\\site-packages\\gymnasium\\utils\\passive_env_checker.py:158: UserWarning: \u001b[33mWARN: The obs returned by the `step()` method is not within the observation space.\u001b[0m\n",
      "  logger.warn(f\"{pre} is not within the observation space.\")\n"
     ]
    },
    {
     "name": "stdout",
     "output_type": "stream",
     "text": [
      "[1, 2, 3, 4]\n",
      "[1, 2, 3, 4]\n",
      "[1, 2, 3, 4]\n"
     ]
    },
    {
     "name": "stderr",
     "output_type": "stream",
     "text": [
      "c:\\Users\\Sounak\\anaconda3\\envs\\myHighwayEnv\\Lib\\site-packages\\gymnasium\\utils\\passive_env_checker.py:158: UserWarning: \u001b[33mWARN: The obs returned by the `step()` method is not within the observation space.\u001b[0m\n",
      "  logger.warn(f\"{pre} is not within the observation space.\")\n",
      "c:\\Users\\Sounak\\anaconda3\\envs\\myHighwayEnv\\Lib\\site-packages\\gymnasium\\utils\\passive_env_checker.py:158: UserWarning: \u001b[33mWARN: The obs returned by the `step()` method is not within the observation space.\u001b[0m\n",
      "  logger.warn(f\"{pre} is not within the observation space.\")\n",
      "c:\\Users\\Sounak\\anaconda3\\envs\\myHighwayEnv\\Lib\\site-packages\\gymnasium\\utils\\passive_env_checker.py:158: UserWarning: \u001b[33mWARN: The obs returned by the `step()` method is not within the observation space.\u001b[0m\n",
      "  logger.warn(f\"{pre} is not within the observation space.\")\n"
     ]
    },
    {
     "name": "stdout",
     "output_type": "stream",
     "text": [
      "[1, 2, 3, 4]\n",
      "[1, 2, 3, 4]\n",
      "[1, 2, 3, 4]\n"
     ]
    },
    {
     "name": "stderr",
     "output_type": "stream",
     "text": [
      "c:\\Users\\Sounak\\anaconda3\\envs\\myHighwayEnv\\Lib\\site-packages\\gymnasium\\utils\\passive_env_checker.py:158: UserWarning: \u001b[33mWARN: The obs returned by the `step()` method is not within the observation space.\u001b[0m\n",
      "  logger.warn(f\"{pre} is not within the observation space.\")\n",
      "c:\\Users\\Sounak\\anaconda3\\envs\\myHighwayEnv\\Lib\\site-packages\\gymnasium\\utils\\passive_env_checker.py:158: UserWarning: \u001b[33mWARN: The obs returned by the `step()` method is not within the observation space.\u001b[0m\n",
      "  logger.warn(f\"{pre} is not within the observation space.\")\n"
     ]
    }
   ],
   "source": [
    "construal_rewards = {}\n",
    "for constr, policy in construal_policies.items():\n",
    "    actns = policy(constr.current_state)\n",
    "    print(actns)\n",
    "    temp_mdp = highway_mdp.get_copy()\n",
    "    obs, rwrd, done, truncated, info = temp_mdp.step(actns[0])\n",
    "    construal_rewards[constr] = rwrd\n",
    "\n",
    "# TODO: take optimal actions based on each policy and calculate reward\n",
    "# Question: The behavior of other vehicles will also change in these construals \n",
    "#           (do we account for that by repreating the construal creation process at each timestep?)\n",
    "\n",
    "# #2# The below oprations can be repeated upto max depth iterations, to execute all actions calculated by the current policy\n",
    "# acts = policy(highway_mdp.current_state)\n",
    "# _ = highway_mdp.step(acts[0])"
   ]
  },
  {
   "cell_type": "code",
   "execution_count": 6,
   "metadata": {},
   "outputs": [
    {
     "data": {
      "text/plain": [
       "{<highway_env.envs.discreteMDP_wrapper.HighwayDiscreteMDP at 0x22279d3ffe0>: 0.8666666666666667,\n",
       " <highway_env.envs.discreteMDP_wrapper.HighwayDiscreteMDP at 0x2227cd14590>: 0.8666666666666667,\n",
       " <highway_env.envs.discreteMDP_wrapper.HighwayDiscreteMDP at 0x2227d6378c0>: 0.8666666666666667,\n",
       " <highway_env.envs.discreteMDP_wrapper.HighwayDiscreteMDP at 0x2227ccb4f20>: 0.8666666666666667,\n",
       " <highway_env.envs.discreteMDP_wrapper.HighwayDiscreteMDP at 0x2227d8589e0>: 0.8666666666666667,\n",
       " <highway_env.envs.discreteMDP_wrapper.HighwayDiscreteMDP at 0x2227d991ac0>: 0.8666666666666667,\n",
       " <highway_env.envs.discreteMDP_wrapper.HighwayDiscreteMDP at 0x2227d8a6e40>: 0.8666666666666667,\n",
       " <highway_env.envs.discreteMDP_wrapper.HighwayDiscreteMDP at 0x2227d858800>: 0.8666666666666667,\n",
       " <highway_env.envs.discreteMDP_wrapper.HighwayDiscreteMDP at 0x2227d7c7e30>: 0.8666666666666667,\n",
       " <highway_env.envs.discreteMDP_wrapper.HighwayDiscreteMDP at 0x2227d9ce0c0>: 0.8666666666666667,\n",
       " <highway_env.envs.discreteMDP_wrapper.HighwayDiscreteMDP at 0x2227ce6da60>: 0.8666666666666667,\n",
       " <highway_env.envs.discreteMDP_wrapper.HighwayDiscreteMDP at 0x2227d9ebf20>: 0.8666666666666667,\n",
       " <highway_env.envs.discreteMDP_wrapper.HighwayDiscreteMDP at 0x2227d9ebb30>: 0.8666666666666667,\n",
       " <highway_env.envs.discreteMDP_wrapper.HighwayDiscreteMDP at 0x2227d9ebfe0>: 0.8666666666666667,\n",
       " <highway_env.envs.discreteMDP_wrapper.HighwayDiscreteMDP at 0x2227d9eba10>: 0.8666666666666667,\n",
       " <highway_env.envs.discreteMDP_wrapper.HighwayDiscreteMDP at 0x2227d73c320>: 0.8666666666666667,\n",
       " <highway_env.envs.discreteMDP_wrapper.HighwayDiscreteMDP at 0x2227da03b30>: 0.8666666666666667,\n",
       " <highway_env.envs.discreteMDP_wrapper.HighwayDiscreteMDP at 0x2227da03ad0>: 0.8666666666666667,\n",
       " <highway_env.envs.discreteMDP_wrapper.HighwayDiscreteMDP at 0x2227d82bb60>: 0.8666666666666667,\n",
       " <highway_env.envs.discreteMDP_wrapper.HighwayDiscreteMDP at 0x2227da02fc0>: 0.8666666666666667,\n",
       " <highway_env.envs.discreteMDP_wrapper.HighwayDiscreteMDP at 0x2227da02e70>: 0.8666666666666667,\n",
       " <highway_env.envs.discreteMDP_wrapper.HighwayDiscreteMDP at 0x2227da1f770>: 0.8666666666666667,\n",
       " <highway_env.envs.discreteMDP_wrapper.HighwayDiscreteMDP at 0x2227da1f680>: 0.8666666666666667,\n",
       " <highway_env.envs.discreteMDP_wrapper.HighwayDiscreteMDP at 0x2227da1fad0>: 0.8666666666666667,\n",
       " <highway_env.envs.discreteMDP_wrapper.HighwayDiscreteMDP at 0x2227da1dbe0>: 0.8666666666666667,\n",
       " <highway_env.envs.discreteMDP_wrapper.HighwayDiscreteMDP at 0x2227da1d1c0>: 0.8666666666666667,\n",
       " <highway_env.envs.discreteMDP_wrapper.HighwayDiscreteMDP at 0x2227da2f290>: 0.8666666666666667,\n",
       " <highway_env.envs.discreteMDP_wrapper.HighwayDiscreteMDP at 0x2227da2ff50>: 0.8666666666666667,\n",
       " <highway_env.envs.discreteMDP_wrapper.HighwayDiscreteMDP at 0x2227da2e4b0>: 0.8666666666666667,\n",
       " <highway_env.envs.discreteMDP_wrapper.HighwayDiscreteMDP at 0x2227da2fbc0>: 0.8666666666666667,\n",
       " <highway_env.envs.discreteMDP_wrapper.HighwayDiscreteMDP at 0x2227da2f680>: 0.8666666666666667}"
      ]
     },
     "execution_count": 6,
     "metadata": {},
     "output_type": "execute_result"
    }
   ],
   "source": [
    "construal_rewards\n",
    "# len(highway_mdp.env.unwrapped.road.vehicles)\n",
    "# highway_mdp.env.unwrapped.road.vehicles\n",
    "# len(highway_mdp.env.unwrapped.road.objects)\n",
    "# highway_mdp.env.unwrapped.road.objects\n",
    "# construals[3].env.unwrapped.road.vehicles\n",
    "# construals[1].env.unwrapped.road.objects"
   ]
  },
  {
   "cell_type": "code",
   "execution_count": 15,
   "metadata": {},
   "outputs": [
    {
     "data": {
      "text/plain": [
       "(frozendict.frozendict({'position': (154.56, 4.0), 'speed': (25.0, 0.0), 'heading': 0.0}),\n",
       " frozendict.frozendict({'position': (151.09, 4.0), 'speed': (0.0, 0.0), 'heading': -1}),\n",
       " frozendict.frozendict({'position': (176.5, 0.0), 'speed': (23.3, 0.0), 'heading': 0.0}),\n",
       " frozendict.frozendict({'position': (197.53, 0.0), 'speed': (21.31, 0.0), 'heading': 0.0}),\n",
       " frozendict.frozendict({'position': (218.85, 8.0), 'speed': (0.0, 0.0), 'heading': -1}),\n",
       " frozendict.frozendict({'position': (221.24, 8.0), 'speed': (23.13, 0.0), 'heading': 0.0}),\n",
       " frozendict.frozendict({'position': (242.76, 0.0), 'speed': (22.4, 0.0), 'heading': 0.0}),\n",
       " frozendict.frozendict({'position': (265.23, 4.0), 'speed': (22.53, 0.0), 'heading': 0.0}),\n",
       " frozendict.frozendict({'position': (268.53, 0.0), 'speed': (0.0, 0.0), 'heading': -1}),\n",
       " frozendict.frozendict({'position': (288.73, 8.0), 'speed': (21.33, 0.0), 'heading': 0.0}),\n",
       " frozendict.frozendict({'position': (294.44, 0.0), 'speed': (0.0, 0.0), 'heading': -1}),\n",
       " frozendict.frozendict({'position': (313.14, 4.0), 'speed': (21.45, 0.0), 'heading': 0.0}),\n",
       " frozendict.frozendict({'position': (335.64, 4.0), 'speed': (22.26, 0.0), 'heading': 0.0}),\n",
       " frozendict.frozendict({'position': (343.98, 4.0), 'speed': (0.0, 0.0), 'heading': -1}),\n",
       " frozendict.frozendict({'position': (0.0, 0.0), 'speed': (0.0, 0.0), 'heading': 0.0}),\n",
       " frozendict.frozendict({'position': (0.0, 0.0), 'speed': (0.0, 0.0), 'heading': 0.0}),\n",
       " frozendict.frozendict({'position': (0.0, 0.0), 'speed': (0.0, 0.0), 'heading': 0.0}),\n",
       " frozendict.frozendict({'position': (0.0, 0.0), 'speed': (0.0, 0.0), 'heading': 0.0}),\n",
       " frozendict.frozendict({'position': (0.0, 0.0), 'speed': (0.0, 0.0), 'heading': 0.0}),\n",
       " frozendict.frozendict({'position': (0.0, 0.0), 'speed': (0.0, 0.0), 'heading': 0.0}),\n",
       " frozendict.frozendict({'position': (0.0, 0.0), 'speed': (0.0, 0.0), 'heading': 0.0}),\n",
       " frozendict.frozendict({'position': (0.0, 0.0), 'speed': (0.0, 0.0), 'heading': 0.0}),\n",
       " frozendict.frozendict({'position': (0.0, 0.0), 'speed': (0.0, 0.0), 'heading': 0.0}),\n",
       " frozendict.frozendict({'position': (0.0, 0.0), 'speed': (0.0, 0.0), 'heading': 0.0}),\n",
       " frozendict.frozendict({'position': (0.0, 0.0), 'speed': (0.0, 0.0), 'heading': 0.0}),\n",
       " frozendict.frozendict({'position': (0.0, 0.0), 'speed': (0.0, 0.0), 'heading': 0.0}),\n",
       " frozendict.frozendict({'position': (0.0, 0.0), 'speed': (0.0, 0.0), 'heading': 0.0}),\n",
       " frozendict.frozendict({'position': (0.0, 0.0), 'speed': (0.0, 0.0), 'heading': 0.0}),\n",
       " frozendict.frozendict({'position': (0.0, 0.0), 'speed': (0.0, 0.0), 'heading': 0.0}),\n",
       " frozendict.frozendict({'position': (0.0, 0.0), 'speed': (0.0, 0.0), 'heading': 0.0}),\n",
       " frozendict.frozendict({'position': (0.0, 0.0), 'speed': (0.0, 0.0), 'heading': 0.0}),\n",
       " frozendict.frozendict({'position': (0.0, 0.0), 'speed': (0.0, 0.0), 'heading': 0.0}),\n",
       " frozendict.frozendict({'position': (0.0, 0.0), 'speed': (0.0, 0.0), 'heading': 0.0}),\n",
       " frozendict.frozendict({'position': (0.0, 0.0), 'speed': (0.0, 0.0), 'heading': 0.0}),\n",
       " frozendict.frozendict({'position': (0.0, 0.0), 'speed': (0.0, 0.0), 'heading': 0.0}),\n",
       " frozendict.frozendict({'position': (0.0, 0.0), 'speed': (0.0, 0.0), 'heading': 0.0}),\n",
       " frozendict.frozendict({'position': (0.0, 0.0), 'speed': (0.0, 0.0), 'heading': 0.0}),\n",
       " frozendict.frozendict({'position': (0.0, 0.0), 'speed': (0.0, 0.0), 'heading': 0.0}),\n",
       " frozendict.frozendict({'position': (0.0, 0.0), 'speed': (0.0, 0.0), 'heading': 0.0}),\n",
       " frozendict.frozendict({'position': (0.0, 0.0), 'speed': (0.0, 0.0), 'heading': 0.0}),\n",
       " frozendict.frozendict({'position': (0.0, 0.0), 'speed': (0.0, 0.0), 'heading': 0.0}),\n",
       " frozendict.frozendict({'position': (0.0, 0.0), 'speed': (0.0, 0.0), 'heading': 0.0}),\n",
       " frozendict.frozendict({'position': (0.0, 0.0), 'speed': (0.0, 0.0), 'heading': 0.0}),\n",
       " frozendict.frozendict({'position': (0.0, 0.0), 'speed': (0.0, 0.0), 'heading': 0.0}),\n",
       " frozendict.frozendict({'position': (0.0, 0.0), 'speed': (0.0, 0.0), 'heading': 0.0}),\n",
       " frozendict.frozendict({'position': (0.0, 0.0), 'speed': (0.0, 0.0), 'heading': 0.0}),\n",
       " frozendict.frozendict({'position': (0.0, 0.0), 'speed': (0.0, 0.0), 'heading': 0.0}),\n",
       " frozendict.frozendict({'position': (0.0, 0.0), 'speed': (0.0, 0.0), 'heading': 0.0}),\n",
       " frozendict.frozendict({'position': (0.0, 0.0), 'speed': (0.0, 0.0), 'heading': 0.0}),\n",
       " frozendict.frozendict({'position': (0.0, 0.0), 'speed': (0.0, 0.0), 'heading': 0.0}))"
      ]
     },
     "execution_count": 15,
     "metadata": {},
     "output_type": "execute_result"
    }
   ],
   "source": [
    "# construal_policies[0][0].first_state\n",
    "# construal_policies[0][0].current_state\n",
    "# policy(construal_policies[0][0].current_state)"
   ]
  },
  {
   "cell_type": "markdown",
   "metadata": {},
   "source": [
    "TODO:\n",
    "1. Create a m-vehicle n-icesheet environment\n",
    "2. Split it into x=m+n+1 separate environments each with a single ice-sheet or vehicle or completely empty\n",
    "3. Calculate the optimal policy for each of the x environments\n",
    "4. Run each of those poliies in the oriinal m-vehicle n-icesheet environment."
   ]
  },
  {
   "cell_type": "code",
   "execution_count": 4,
   "metadata": {},
   "outputs": [
    {
     "name": "stderr",
     "output_type": "stream",
     "text": [
      "INFO:root:Current Depth: 0 | Frontier: 5 | Visited: 1 | Transitions:5\n",
      "INFO:root:Current Depth: 1 | Frontier: 9 | Visited: 2 | Transitions:10\n",
      "INFO:root:Current Depth: 1 | Frontier: 13 | Visited: 3 | Transitions:15\n",
      "INFO:root:Current Depth: 2 | Frontier: 17 | Visited: 4 | Transitions:20\n",
      "INFO:root:Current Depth: 3 | Frontier: 16 | Visited: 5 | Transitions:20\n",
      "INFO:root:Current Depth: 2 | Frontier: 20 | Visited: 6 | Transitions:25\n",
      "INFO:root:Current Depth: 2 | Frontier: 24 | Visited: 6 | Transitions:25\n",
      "INFO:root:Current Depth: 3 | Frontier: 23 | Visited: 7 | Transitions:25\n",
      "INFO:root:Current Depth: 2 | Frontier: 27 | Visited: 8 | Transitions:30\n",
      "INFO:root:Current Depth: 3 | Frontier: 26 | Visited: 9 | Transitions:30\n",
      "INFO:root:Current Depth: 3 | Frontier: 25 | Visited: 9 | Transitions:30\n",
      "INFO:root:Current Depth: 3 | Frontier: 24 | Visited: 9 | Transitions:30\n",
      "INFO:root:Current Depth: 3 | Frontier: 23 | Visited: 10 | Transitions:30\n",
      "INFO:root:Current Depth: 3 | Frontier: 22 | Visited: 11 | Transitions:30\n",
      "INFO:root:Current Depth: 1 | Frontier: 26 | Visited: 12 | Transitions:35\n",
      "INFO:root:Current Depth: 3 | Frontier: 25 | Visited: 13 | Transitions:35\n",
      "INFO:root:Current Depth: 2 | Frontier: 29 | Visited: 14 | Transitions:40\n",
      "INFO:root:Current Depth: 3 | Frontier: 28 | Visited: 15 | Transitions:40\n",
      "INFO:root:Current Depth: 3 | Frontier: 27 | Visited: 16 | Transitions:40\n",
      "INFO:root:Current Depth: 2 | Frontier: 31 | Visited: 17 | Transitions:45\n",
      "INFO:root:Current Depth: 2 | Frontier: 35 | Visited: 17 | Transitions:45\n",
      "INFO:root:Current Depth: 3 | Frontier: 34 | Visited: 18 | Transitions:45\n",
      "INFO:root:Current Depth: 2 | Frontier: 38 | Visited: 19 | Transitions:50\n",
      "INFO:root:Current Depth: 1 | Frontier: 39 | Visited: 19 | Transitions:50\n",
      "INFO:root:Current Depth: 3 | Frontier: 38 | Visited: 19 | Transitions:50\n",
      "INFO:root:Current Depth: 3 | Frontier: 37 | Visited: 19 | Transitions:50\n",
      "INFO:root:Current Depth: 3 | Frontier: 36 | Visited: 20 | Transitions:50\n",
      "INFO:root:Current Depth: 3 | Frontier: 35 | Visited: 21 | Transitions:50\n",
      "INFO:root:Current Depth: 2 | Frontier: 39 | Visited: 22 | Transitions:55\n",
      "INFO:root:Current Depth: 3 | Frontier: 38 | Visited: 23 | Transitions:55\n",
      "INFO:root:Current Depth: 3 | Frontier: 37 | Visited: 24 | Transitions:55\n",
      "INFO:root:Current Depth: 1 | Frontier: 41 | Visited: 25 | Transitions:60\n",
      "INFO:root:Current Depth: 3 | Frontier: 40 | Visited: 26 | Transitions:60\n",
      "INFO:root:Current Depth: 2 | Frontier: 44 | Visited: 27 | Transitions:65\n",
      "INFO:root:Current Depth: 2 | Frontier: 43 | Visited: 27 | Transitions:65\n",
      "INFO:root:Current Depth: 3 | Frontier: 42 | Visited: 28 | Transitions:65\n",
      "INFO:root:Current Depth: 2 | Frontier: 46 | Visited: 29 | Transitions:70\n",
      "INFO:root:Current Depth: 3 | Frontier: 45 | Visited: 29 | Transitions:70\n",
      "INFO:root:Current Depth: 2 | Frontier: 49 | Visited: 30 | Transitions:75\n",
      "INFO:root:Current Depth: 3 | Frontier: 48 | Visited: 30 | Transitions:75\n",
      "INFO:root:Current Depth: 3 | Frontier: 47 | Visited: 31 | Transitions:75\n",
      "INFO:root:Current Depth: 3 | Frontier: 46 | Visited: 32 | Transitions:75\n",
      "INFO:root:Current Depth: 2 | Frontier: 50 | Visited: 33 | Transitions:80\n",
      "INFO:root:Current Depth: 3 | Frontier: 49 | Visited: 33 | Transitions:80\n",
      "INFO:root:Current Depth: 3 | Frontier: 48 | Visited: 34 | Transitions:80\n",
      "INFO:root:Current Depth: 3 | Frontier: 47 | Visited: 35 | Transitions:80\n",
      "INFO:root:Current Depth: 2 | Frontier: 51 | Visited: 36 | Transitions:85\n",
      "INFO:root:Current Depth: 3 | Frontier: 50 | Visited: 37 | Transitions:85\n",
      "INFO:root:Current Depth: 3 | Frontier: 49 | Visited: 38 | Transitions:85\n",
      "INFO:root:Current Depth: 3 | Frontier: 48 | Visited: 38 | Transitions:85\n",
      "INFO:root:Current Depth: 3 | Frontier: 47 | Visited: 39 | Transitions:85\n",
      "INFO:root:Current Depth: 3 | Frontier: 46 | Visited: 40 | Transitions:85\n",
      "INFO:root:Current Depth: 3 | Frontier: 45 | Visited: 41 | Transitions:85\n",
      "INFO:root:Current Depth: 3 | Frontier: 44 | Visited: 41 | Transitions:85\n",
      "INFO:root:Current Depth: 3 | Frontier: 43 | Visited: 42 | Transitions:85\n",
      "INFO:root:Current Depth: 3 | Frontier: 42 | Visited: 43 | Transitions:85\n",
      "INFO:root:Current Depth: 2 | Frontier: 43 | Visited: 43 | Transitions:85\n",
      "INFO:root:Current Depth: 3 | Frontier: 42 | Visited: 44 | Transitions:85\n",
      "INFO:root:Current Depth: 3 | Frontier: 41 | Visited: 44 | Transitions:85\n",
      "INFO:root:Current Depth: 3 | Frontier: 40 | Visited: 44 | Transitions:85\n",
      "INFO:root:Current Depth: 3 | Frontier: 39 | Visited: 45 | Transitions:85\n",
      "INFO:root:Current Depth: 3 | Frontier: 38 | Visited: 46 | Transitions:85\n",
      "INFO:root:Current Depth: 3 | Frontier: 37 | Visited: 47 | Transitions:85\n",
      "INFO:root:Current Depth: 2 | Frontier: 41 | Visited: 48 | Transitions:90\n",
      "INFO:root:Current Depth: 3 | Frontier: 40 | Visited: 49 | Transitions:90\n",
      "INFO:root:Current Depth: 3 | Frontier: 39 | Visited: 49 | Transitions:90\n",
      "INFO:root:Current Depth: 3 | Frontier: 38 | Visited: 50 | Transitions:90\n",
      "INFO:root:Current Depth: 3 | Frontier: 37 | Visited: 50 | Transitions:90\n",
      "INFO:root:Current Depth: 3 | Frontier: 36 | Visited: 50 | Transitions:90\n",
      "INFO:root:Current Depth: 3 | Frontier: 35 | Visited: 51 | Transitions:90\n",
      "INFO:root:Current Depth: 3 | Frontier: 34 | Visited: 52 | Transitions:90\n",
      "INFO:root:Current Depth: 2 | Frontier: 38 | Visited: 53 | Transitions:95\n",
      "INFO:root:Current Depth: 3 | Frontier: 37 | Visited: 54 | Transitions:95\n",
      "INFO:root:Current Depth: 3 | Frontier: 36 | Visited: 55 | Transitions:95\n",
      "INFO:root:Current Depth: 2 | Frontier: 35 | Visited: 55 | Transitions:95\n",
      "INFO:root:Current Depth: 3 | Frontier: 34 | Visited: 55 | Transitions:95\n",
      "INFO:root:Current Depth: 3 | Frontier: 33 | Visited: 56 | Transitions:95\n",
      "INFO:root:Current Depth: 3 | Frontier: 32 | Visited: 57 | Transitions:95\n",
      "INFO:root:Current Depth: 3 | Frontier: 31 | Visited: 57 | Transitions:95\n",
      "INFO:root:Current Depth: 3 | Frontier: 30 | Visited: 58 | Transitions:95\n",
      "INFO:root:Current Depth: 3 | Frontier: 29 | Visited: 58 | Transitions:95\n",
      "INFO:root:Current Depth: 3 | Frontier: 28 | Visited: 58 | Transitions:95\n",
      "INFO:root:Current Depth: 3 | Frontier: 27 | Visited: 58 | Transitions:95\n",
      "INFO:root:Current Depth: 3 | Frontier: 26 | Visited: 58 | Transitions:95\n",
      "INFO:root:Current Depth: 3 | Frontier: 25 | Visited: 58 | Transitions:95\n",
      "INFO:root:Current Depth: 2 | Frontier: 28 | Visited: 58 | Transitions:95\n",
      "INFO:root:Current Depth: 3 | Frontier: 27 | Visited: 59 | Transitions:95\n",
      "INFO:root:Current Depth: 3 | Frontier: 26 | Visited: 59 | Transitions:95\n",
      "INFO:root:Current Depth: 3 | Frontier: 25 | Visited: 59 | Transitions:95\n",
      "INFO:root:Current Depth: 3 | Frontier: 24 | Visited: 59 | Transitions:95\n",
      "INFO:root:Current Depth: 3 | Frontier: 23 | Visited: 59 | Transitions:95\n",
      "INFO:root:Current Depth: 3 | Frontier: 22 | Visited: 60 | Transitions:95\n",
      "INFO:root:Current Depth: 3 | Frontier: 21 | Visited: 61 | Transitions:95\n",
      "INFO:root:Current Depth: 3 | Frontier: 20 | Visited: 62 | Transitions:95\n",
      "INFO:root:Current Depth: 3 | Frontier: 19 | Visited: 62 | Transitions:95\n",
      "INFO:root:Current Depth: 3 | Frontier: 18 | Visited: 62 | Transitions:95\n",
      "INFO:root:Current Depth: 3 | Frontier: 17 | Visited: 62 | Transitions:95\n",
      "INFO:root:Current Depth: 3 | Frontier: 16 | Visited: 63 | Transitions:95\n",
      "INFO:root:Current Depth: 3 | Frontier: 15 | Visited: 63 | Transitions:95\n",
      "INFO:root:Current Depth: 3 | Frontier: 14 | Visited: 63 | Transitions:95\n",
      "INFO:root:Current Depth: 3 | Frontier: 13 | Visited: 63 | Transitions:95\n",
      "INFO:root:Current Depth: 2 | Frontier: 12 | Visited: 63 | Transitions:95\n",
      "INFO:root:Current Depth: 3 | Frontier: 11 | Visited: 64 | Transitions:95\n",
      "INFO:root:Current Depth: 3 | Frontier: 10 | Visited: 65 | Transitions:95\n",
      "INFO:root:Current Depth: 3 | Frontier: 9 | Visited: 65 | Transitions:95\n",
      "INFO:root:Current Depth: 2 | Frontier: 8 | Visited: 65 | Transitions:95\n",
      "INFO:root:Current Depth: 3 | Frontier: 7 | Visited: 66 | Transitions:95\n",
      "INFO:root:Current Depth: 3 | Frontier: 6 | Visited: 66 | Transitions:95\n",
      "INFO:root:Current Depth: 3 | Frontier: 5 | Visited: 66 | Transitions:95\n",
      "INFO:root:Current Depth: 3 | Frontier: 4 | Visited: 66 | Transitions:95\n",
      "INFO:root:Current Depth: 3 | Frontier: 3 | Visited: 66 | Transitions:95\n",
      "INFO:root:Current Depth: 3 | Frontier: 2 | Visited: 66 | Transitions:95\n",
      "INFO:root:Current Depth: 3 | Frontier: 1 | Visited: 66 | Transitions:95\n",
      "INFO:root:Current Depth: 3 | Frontier: 0 | Visited: 66 | Transitions:95\n",
      "c:\\Users\\Sounak\\anaconda3\\envs\\myHighwayEnv\\Lib\\site-packages\\gymnasium\\utils\\passive_env_checker.py:158: UserWarning: \u001b[33mWARN: The obs returned by the `step()` method is not within the observation space.\u001b[0m\n",
      "  logger.warn(f\"{pre} is not within the observation space.\")\n"
     ]
    }
   ],
   "source": [
    "# Simple MDP Code\n",
    "highway_mdp_current = highway_mdp.get_copy()\n",
    "\n",
    "#2# Set up the MDP\n",
    "_ = highway_mdp_current.populate_MDPtable(max_depth = max_depth)\n",
    "# matMDP = highway_mdp_current.get_MDPmatrices()    # value iteration already calls this function\n",
    "value_function = highway_mdp_current.value_iteration()\n",
    "policy = OptimalPolicy(highway_mdp_current)\n",
    "\n",
    "#2# The below oprations can be repeated upto max depth iterations, to execute all actions calculated by the current policy\n",
    "acts = policy(highway_mdp_current.current_state)\n",
    "_ = highway_mdp_current.step(acts[0])\n",
    "\n",
    "#2# OR optimal policy can be calculated for each action\n"
   ]
  },
  {
   "cell_type": "markdown",
   "metadata": {},
   "source": [
    "Print MDP Tables"
   ]
  },
  {
   "cell_type": "code",
   "execution_count": 5,
   "metadata": {},
   "outputs": [
    {
     "name": "stdout",
     "output_type": "stream",
     "text": [
      "{'LANE_LEFT': 0, 'IDLE': 1, 'LANE_RIGHT': 2, 'FASTER': 3, 'SLOWER': 4}\n"
     ]
    },
    {
     "data": {
      "text/plain": [
       "{(frozendict.frozendict({'position': (153.62, 0.0), 'speed': (25.0, 0.0), 'heading': 0.0}),\n",
       "  0): {frozendict.frozendict({'position': (178.62, 0.0), 'speed': (25.0, 0.0), 'heading': 0.0}): 1},\n",
       " (frozendict.frozendict({'position': (153.62, 0.0), 'speed': (25.0, 0.0), 'heading': 0.0}),\n",
       "  1): {frozendict.frozendict({'position': (178.62, 0.0), 'speed': (25.0, 0.0), 'heading': 0.0}): 1},\n",
       " (frozendict.frozendict({'position': (153.62, 0.0), 'speed': (25.0, 0.0), 'heading': 0.0}),\n",
       "  2): {frozendict.frozendict({'position': (178.3, 3.66), 'speed': (24.98, 1.08), 'heading': 0.043}): 1},\n",
       " (frozendict.frozendict({'position': (153.62, 0.0), 'speed': (25.0, 0.0), 'heading': 0.0}),\n",
       "  3): {frozendict.frozendict({'position': (181.02, 0.0), 'speed': (29.34, 0.0), 'heading': 0.0}): 1},\n",
       " (frozendict.frozendict({'position': (153.62, 0.0), 'speed': (25.0, 0.0), 'heading': 0.0}),\n",
       "  4): {frozendict.frozendict({'position': (176.23, 0.0), 'speed': (20.66, 0.0), 'heading': 0.0}): 1},\n",
       " (frozendict.frozendict({'position': (176.23, 0.0), 'speed': (20.66, 0.0), 'heading': 0.0}),\n",
       "  0): {frozendict.frozendict({'position': (196.57, 0.0), 'speed': (20.09, 0.0), 'heading': 0.0}): 1},\n",
       " (frozendict.frozendict({'position': (176.23, 0.0), 'speed': (20.66, 0.0), 'heading': 0.0}),\n",
       "  1): {frozendict.frozendict({'position': (196.57, 0.0), 'speed': (20.09, 0.0), 'heading': 0.0}): 1},\n",
       " (frozendict.frozendict({'position': (176.23, 0.0), 'speed': (20.66, 0.0), 'heading': 0.0}),\n",
       "  2): {frozendict.frozendict({'position': (196.19, 3.6), 'speed': (20.05, 1.16), 'heading': 0.058}): 1},\n",
       " (frozendict.frozendict({'position': (176.23, 0.0), 'speed': (20.66, 0.0), 'heading': 0.0}),\n",
       "  3): {frozendict.frozendict({'position': (198.96, 0.0), 'speed': (24.43, 0.0), 'heading': 0.0}): 1},\n",
       " (frozendict.frozendict({'position': (176.23, 0.0), 'speed': (20.66, 0.0), 'heading': 0.0}),\n",
       "  4): {frozendict.frozendict({'position': (196.57, 0.0), 'speed': (20.09, 0.0), 'heading': 0.0}): 1},\n",
       " (frozendict.frozendict({'position': (178.62, 0.0), 'speed': (25.0, 0.0), 'heading': 0.0}),\n",
       "  0): {frozendict.frozendict({'position': (203.62, 0.0), 'speed': (25.0, 0.0), 'heading': 0.0}): 1},\n",
       " (frozendict.frozendict({'position': (178.62, 0.0), 'speed': (25.0, 0.0), 'heading': 0.0}),\n",
       "  1): {frozendict.frozendict({'position': (203.62, 0.0), 'speed': (25.0, 0.0), 'heading': 0.0}): 1},\n",
       " (frozendict.frozendict({'position': (178.62, 0.0), 'speed': (25.0, 0.0), 'heading': 0.0}),\n",
       "  2): {frozendict.frozendict({'position': (203.3, 3.66), 'speed': (24.98, 1.08), 'heading': 0.043}): 1},\n",
       " (frozendict.frozendict({'position': (178.62, 0.0), 'speed': (25.0, 0.0), 'heading': 0.0}),\n",
       "  3): {frozendict.frozendict({'position': (206.02, 0.0), 'speed': (29.34, 0.0), 'heading': 0.0}): 1},\n",
       " (frozendict.frozendict({'position': (178.62, 0.0), 'speed': (25.0, 0.0), 'heading': 0.0}),\n",
       "  4): {frozendict.frozendict({'position': (201.23, 0.0), 'speed': (20.66, 0.0), 'heading': 0.0}): 1},\n",
       " (frozendict.frozendict({'position': (178.3, 3.66), 'speed': (24.98, 1.08), 'heading': 0.043}),\n",
       "  0): {frozendict.frozendict({'position': (203.03, 0.33), 'speed': (24.98, -1.04), 'heading': -0.042}): 1},\n",
       " (frozendict.frozendict({'position': (178.3, 3.66), 'speed': (24.98, 1.08), 'heading': 0.043}),\n",
       "  1): {frozendict.frozendict({'position': (203.3, 3.99), 'speed': (25.0, 0.04), 'heading': 0.002}): 1},\n",
       " (frozendict.frozendict({'position': (178.3, 3.66), 'speed': (24.98, 1.08), 'heading': 0.043}),\n",
       "  2): {frozendict.frozendict({'position': (202.92, 7.65), 'speed': (24.98, 1.12), 'heading': 0.045}): 1},\n",
       " (frozendict.frozendict({'position': (178.3, 3.66), 'speed': (24.98, 1.08), 'heading': 0.043}),\n",
       "  3): {frozendict.frozendict({'position': (205.69, 3.99), 'speed': (29.34, 0.03), 'heading': 0.001}): 1},\n",
       " (frozendict.frozendict({'position': (178.3, 3.66), 'speed': (24.98, 1.08), 'heading': 0.043}),\n",
       "  4): {frozendict.frozendict({'position': (200.9, 3.98), 'speed': (20.66, 0.05), 'heading': 0.002}): 1},\n",
       " (frozendict.frozendict({'position': (181.02, 0.0), 'speed': (29.34, 0.0), 'heading': 0.0}),\n",
       "  0): {frozendict.frozendict({'position': (210.67, 0.0), 'speed': (29.91, 0.0), 'heading': 0.0}): 1},\n",
       " (frozendict.frozendict({'position': (181.02, 0.0), 'speed': (29.34, 0.0), 'heading': 0.0}),\n",
       "  1): {frozendict.frozendict({'position': (210.67, 0.0), 'speed': (29.91, 0.0), 'heading': 0.0}): 1},\n",
       " (frozendict.frozendict({'position': (181.02, 0.0), 'speed': (29.34, 0.0), 'heading': 0.0}),\n",
       "  2): {frozendict.frozendict({'position': (210.39, 3.71), 'speed': (29.9, 1.02), 'heading': 0.034}): 1},\n",
       " (frozendict.frozendict({'position': (181.02, 0.0), 'speed': (29.34, 0.0), 'heading': 0.0}),\n",
       "  3): {frozendict.frozendict({'position': (210.67, 0.0), 'speed': (29.91, 0.0), 'heading': 0.0}): 1},\n",
       " (frozendict.frozendict({'position': (181.02, 0.0), 'speed': (29.34, 0.0), 'heading': 0.0}),\n",
       "  4): {frozendict.frozendict({'position': (208.28, 0.0), 'speed': (25.57, 0.0), 'heading': 0.0}): 1}}"
      ]
     },
     "execution_count": 5,
     "metadata": {},
     "output_type": "execute_result"
    }
   ],
   "source": [
    "print(highway_mdp.env.unwrapped.action_type.actions_indexes)\n",
    "\n",
    "highway_mdp.currMDP.transition"
   ]
  },
  {
   "cell_type": "code",
   "execution_count": 6,
   "metadata": {},
   "outputs": [
    {
     "data": {
      "text/plain": [
       "{(frozendict.frozendict({'position': (153.62, 0.0), 'speed': (25.0, 0.0), 'heading': 0.0}),\n",
       "  0,\n",
       "  frozendict.frozendict({'position': (178.62, 0.0), 'speed': (25.0, 0.0), 'heading': 0.0})): 0.7999999999999999,\n",
       " (frozendict.frozendict({'position': (153.62, 0.0), 'speed': (25.0, 0.0), 'heading': 0.0}),\n",
       "  1,\n",
       "  frozendict.frozendict({'position': (178.62, 0.0), 'speed': (25.0, 0.0), 'heading': 0.0})): 0.7999999999999999,\n",
       " (frozendict.frozendict({'position': (153.62, 0.0), 'speed': (25.0, 0.0), 'heading': 0.0}),\n",
       "  2,\n",
       "  frozendict.frozendict({'position': (178.3, 3.66), 'speed': (24.98, 1.08), 'heading': 0.043})): 0.8327113850086175,\n",
       " (frozendict.frozendict({'position': (153.62, 0.0), 'speed': (25.0, 0.0), 'heading': 0.0}),\n",
       "  3,\n",
       "  frozendict.frozendict({'position': (181.02, 0.0), 'speed': (29.34, 0.0), 'heading': 0.0})): 0.9157750342935529,\n",
       " (frozendict.frozendict({'position': (153.62, 0.0), 'speed': (25.0, 0.0), 'heading': 0.0}),\n",
       "  4,\n",
       "  frozendict.frozendict({'position': (176.23, 0.0), 'speed': (20.66, 0.0), 'heading': 0.0})): 0.6842249657064472,\n",
       " (frozendict.frozendict({'position': (176.23, 0.0), 'speed': (20.66, 0.0), 'heading': 0.0}),\n",
       "  0,\n",
       "  frozendict.frozendict({'position': (196.57, 0.0), 'speed': (20.09, 0.0), 'heading': 0.0})): 0.6689788706554444,\n",
       " (frozendict.frozendict({'position': (176.23, 0.0), 'speed': (20.66, 0.0), 'heading': 0.0}),\n",
       "  1,\n",
       "  frozendict.frozendict({'position': (196.57, 0.0), 'speed': (20.09, 0.0), 'heading': 0.0})): 0.6689788706554444,\n",
       " (frozendict.frozendict({'position': (176.23, 0.0), 'speed': (20.66, 0.0), 'heading': 0.0}),\n",
       "  2,\n",
       "  frozendict.frozendict({'position': (196.19, 3.6), 'speed': (20.05, 1.16), 'heading': 0.058})): 0.701422038389655,\n",
       " (frozendict.frozendict({'position': (176.23, 0.0), 'speed': (20.66, 0.0), 'heading': 0.0}),\n",
       "  3,\n",
       "  frozendict.frozendict({'position': (198.96, 0.0), 'speed': (24.43, 0.0), 'heading': 0.0})): 0.7847539049489972,\n",
       " (frozendict.frozendict({'position': (176.23, 0.0), 'speed': (20.66, 0.0), 'heading': 0.0}),\n",
       "  4,\n",
       "  frozendict.frozendict({'position': (196.57, 0.0), 'speed': (20.09, 0.0), 'heading': 0.0})): 0.6689788706554444,\n",
       " (frozendict.frozendict({'position': (178.62, 0.0), 'speed': (25.0, 0.0), 'heading': 0.0}),\n",
       "  0,\n",
       "  frozendict.frozendict({'position': (203.62, 0.0), 'speed': (25.0, 0.0), 'heading': 0.0})): 0.7999999999999999,\n",
       " (frozendict.frozendict({'position': (178.62, 0.0), 'speed': (25.0, 0.0), 'heading': 0.0}),\n",
       "  1,\n",
       "  frozendict.frozendict({'position': (203.62, 0.0), 'speed': (25.0, 0.0), 'heading': 0.0})): 0.7999999999999999,\n",
       " (frozendict.frozendict({'position': (178.62, 0.0), 'speed': (25.0, 0.0), 'heading': 0.0}),\n",
       "  2,\n",
       "  frozendict.frozendict({'position': (203.3, 3.66), 'speed': (24.98, 1.08), 'heading': 0.043})): 0.8327113850086175,\n",
       " (frozendict.frozendict({'position': (178.62, 0.0), 'speed': (25.0, 0.0), 'heading': 0.0}),\n",
       "  3,\n",
       "  frozendict.frozendict({'position': (206.02, 0.0), 'speed': (29.34, 0.0), 'heading': 0.0})): 0.9157750342935529,\n",
       " (frozendict.frozendict({'position': (178.62, 0.0), 'speed': (25.0, 0.0), 'heading': 0.0}),\n",
       "  4,\n",
       "  frozendict.frozendict({'position': (201.23, 0.0), 'speed': (20.66, 0.0), 'heading': 0.0})): 0.6842249657064472,\n",
       " (frozendict.frozendict({'position': (178.3, 3.66), 'speed': (24.98, 1.08), 'heading': 0.043}),\n",
       "  0,\n",
       "  frozendict.frozendict({'position': (203.03, 0.33), 'speed': (24.98, -1.04), 'heading': -0.042})): 0.799420639638421,\n",
       " (frozendict.frozendict({'position': (178.3, 3.66), 'speed': (24.98, 1.08), 'heading': 0.043}),\n",
       "  1,\n",
       "  frozendict.frozendict({'position': (203.3, 3.99), 'speed': (25.0, 0.04), 'heading': 0.002})): 0.8333325585628742,\n",
       " (frozendict.frozendict({'position': (178.3, 3.66), 'speed': (24.98, 1.08), 'heading': 0.043}),\n",
       "  2,\n",
       "  frozendict.frozendict({'position': (202.92, 7.65), 'speed': (24.98, 1.12), 'heading': 0.045})): 0.8660005399738949,\n",
       " (frozendict.frozendict({'position': (178.3, 3.66), 'speed': (24.98, 1.08), 'heading': 0.043}),\n",
       "  3,\n",
       "  frozendict.frozendict({'position': (205.69, 3.99), 'speed': (29.34, 0.03), 'heading': 0.001})): 0.9491080333766447,\n",
       " (frozendict.frozendict({'position': (178.3, 3.66), 'speed': (24.98, 1.08), 'heading': 0.043}),\n",
       "  4,\n",
       "  frozendict.frozendict({'position': (200.9, 3.98), 'speed': (20.66, 0.05), 'heading': 0.002})): 0.7175567607980314,\n",
       " (frozendict.frozendict({'position': (181.02, 0.0), 'speed': (29.34, 0.0), 'heading': 0.0}),\n",
       "  0,\n",
       "  frozendict.frozendict({'position': (210.67, 0.0), 'speed': (29.91, 0.0), 'heading': 0.0})): 0.9310211293445557,\n",
       " (frozendict.frozendict({'position': (181.02, 0.0), 'speed': (29.34, 0.0), 'heading': 0.0}),\n",
       "  1,\n",
       "  frozendict.frozendict({'position': (210.67, 0.0), 'speed': (29.91, 0.0), 'heading': 0.0})): 0.9310211293445557,\n",
       " (frozendict.frozendict({'position': (181.02, 0.0), 'speed': (29.34, 0.0), 'heading': 0.0}),\n",
       "  2,\n",
       "  frozendict.frozendict({'position': (210.39, 3.71), 'speed': (29.9, 1.02), 'heading': 0.034})): 0.9638923291747313,\n",
       " (frozendict.frozendict({'position': (181.02, 0.0), 'speed': (29.34, 0.0), 'heading': 0.0}),\n",
       "  3,\n",
       "  frozendict.frozendict({'position': (210.67, 0.0), 'speed': (29.91, 0.0), 'heading': 0.0})): 0.9310211293445557,\n",
       " (frozendict.frozendict({'position': (181.02, 0.0), 'speed': (29.34, 0.0), 'heading': 0.0}),\n",
       "  4,\n",
       "  frozendict.frozendict({'position': (208.28, 0.0), 'speed': (25.57, 0.0), 'heading': 0.0})): 0.8152460950510028}"
      ]
     },
     "execution_count": 6,
     "metadata": {},
     "output_type": "execute_result"
    }
   ],
   "source": [
    "highway_mdp.currMDP.reward"
   ]
  },
  {
   "cell_type": "code",
   "execution_count": 7,
   "metadata": {},
   "outputs": [
    {
     "data": {
      "text/plain": [
       "{frozendict.frozendict({'position': (178.62, 0.0), 'speed': (25.0, 0.0), 'heading': 0.0}): False,\n",
       " frozendict.frozendict({'position': (178.3, 3.66), 'speed': (24.98, 1.08), 'heading': 0.043}): False,\n",
       " frozendict.frozendict({'position': (181.02, 0.0), 'speed': (29.34, 0.0), 'heading': 0.0}): False,\n",
       " frozendict.frozendict({'position': (176.23, 0.0), 'speed': (20.66, 0.0), 'heading': 0.0}): False,\n",
       " frozendict.frozendict({'position': (196.57, 0.0), 'speed': (20.09, 0.0), 'heading': 0.0}): False,\n",
       " frozendict.frozendict({'position': (196.19, 3.6), 'speed': (20.05, 1.16), 'heading': 0.058}): False,\n",
       " frozendict.frozendict({'position': (198.96, 0.0), 'speed': (24.43, 0.0), 'heading': 0.0}): False,\n",
       " frozendict.frozendict({'position': (203.62, 0.0), 'speed': (25.0, 0.0), 'heading': 0.0}): False,\n",
       " frozendict.frozendict({'position': (203.3, 3.66), 'speed': (24.98, 1.08), 'heading': 0.043}): False,\n",
       " frozendict.frozendict({'position': (206.02, 0.0), 'speed': (29.34, 0.0), 'heading': 0.0}): False,\n",
       " frozendict.frozendict({'position': (201.23, 0.0), 'speed': (20.66, 0.0), 'heading': 0.0}): False,\n",
       " frozendict.frozendict({'position': (203.03, 0.33), 'speed': (24.98, -1.04), 'heading': -0.042}): False,\n",
       " frozendict.frozendict({'position': (203.3, 3.99), 'speed': (25.0, 0.04), 'heading': 0.002}): False,\n",
       " frozendict.frozendict({'position': (202.92, 7.65), 'speed': (24.98, 1.12), 'heading': 0.045}): False,\n",
       " frozendict.frozendict({'position': (205.69, 3.99), 'speed': (29.34, 0.03), 'heading': 0.001}): False,\n",
       " frozendict.frozendict({'position': (200.9, 3.98), 'speed': (20.66, 0.05), 'heading': 0.002}): False,\n",
       " frozendict.frozendict({'position': (210.67, 0.0), 'speed': (29.91, 0.0), 'heading': 0.0}): False,\n",
       " frozendict.frozendict({'position': (210.39, 3.71), 'speed': (29.9, 1.02), 'heading': 0.034}): False,\n",
       " frozendict.frozendict({'position': (208.28, 0.0), 'speed': (25.57, 0.0), 'heading': 0.0}): False}"
      ]
     },
     "execution_count": 7,
     "metadata": {},
     "output_type": "execute_result"
    }
   ],
   "source": [
    "highway_mdp.currMDP.absorption"
   ]
  },
  {
   "cell_type": "markdown",
   "metadata": {},
   "source": [
    "Find optimal policy"
   ]
  },
  {
   "cell_type": "code",
   "execution_count": null,
   "metadata": {},
   "outputs": [],
   "source": []
  },
  {
   "cell_type": "markdown",
   "metadata": {},
   "source": [
    "# TEST CODE"
   ]
  },
  {
   "cell_type": "code",
   "execution_count": null,
   "metadata": {},
   "outputs": [
    {
     "name": "stderr",
     "output_type": "stream",
     "text": [
      "INFO:root:Current Depth: 0 | Frontier: 5 | Visited: 1 | Transitions:5\n",
      "INFO:root:Current Depth: 1 | Frontier: 9 | Visited: 2 | Transitions:10\n",
      "INFO:root:Current Depth: 1 | Frontier: 13 | Visited: 3 | Transitions:15\n",
      "INFO:root:Current Depth: 1 | Frontier: 16 | Visited: 5 | Transitions:20\n",
      "INFO:root:Current Depth: 1 | Frontier: 13 | Visited: 12 | Transitions:25\n",
      "INFO:root:Current Depth: 1 | Frontier: 4 | Visited: 17 | Transitions:25\n"
     ]
    }
   ],
   "source": [
    "import functools\n",
    "import multiprocessing as mp\n",
    "process_count = (mp.cpu_count()-2)\n",
    "from pathos.multiprocessing import ProcessingPool as Pool    # Can run multiprocessing in interactive shell\n",
    "\n",
    "\n",
    "max_depth = 2   # The number of steps to plan ahead\n",
    "actions = highway_mdp.actions\n",
    "\n",
    "start_env = (highway_mdp.initial_state, 0, highway_mdp)\n",
    "visited = set()\n",
    "transitions = {}\n",
    "rewards = {}\n",
    "absorption = {}\n",
    "frontier = {start_env}\n",
    "env2close = set()   # Maintain list of environments to close\n",
    "while frontier:\n",
    "    state, depth, curr_MDPstate = frontier.pop()\n",
    "    visited.add(state)\n",
    "    env2close.add(curr_MDPstate)\n",
    "    if depth < max_depth:\n",
    "        with Pool(process_count) as pool:\n",
    "            return_vals = pool.map(functools.partial(HighwayDiscreteMDP.exeuteAction, envMDP=curr_MDPstate), actions)\n",
    "        for action, next_state, trans_prob, reward, done, truncated, info, updated_MDPstate in return_vals:\n",
    "            logging.debug(str(state[0]) + ' | ' + str(action) + ' | ' + str(next_state[0]))\n",
    "            #2# Populate transitions table\n",
    "            if (state[0], action) not in transitions:\n",
    "                transitions[(state[0], action)] = {}\n",
    "            if next_state[0] not in transitions[(state[0], action)]:\n",
    "                transitions[(state[0], action)][next_state[0]] = trans_prob\n",
    "            #2# Populate reward functions\n",
    "            if (state[0], action) in rewards:\n",
    "                rewards[(state[0], action, next_state[0])] += reward * trans_prob\n",
    "            else:\n",
    "                rewards[(state[0], action, next_state[0])] = reward * trans_prob\n",
    "            #2# set absorption states\n",
    "            absorption[next_state[0]] = done or truncated\n",
    "            #2# Populate visited\n",
    "            if next_state not in visited:\n",
    "                frontier.add((next_state, depth + 1, updated_MDPstate))\n",
    "            else:\n",
    "                updated_MDPstate.env.close()\n",
    "        MDPstatus = \"Current Depth: \" + str(depth) + \" | Frontier: \" + str(len(frontier)) +\\\n",
    "                    \" | Visited: \" + str(len(visited)) + \" | Transitions:\" + str(len(transitions))\n",
    "        logging.info(MDPstatus)\n",
    "env2close.discard(start_env[2]) #Keep the first step active\n",
    "for curr_MDPstate in env2close:\n",
    "    # close all duplicate environments\n",
    "    curr_MDPstate.env.close()\n",
    "env2close = set()   # Close ununsed environments at the end of the loop\n",
    "# print(highway_mdp.actions)\n",
    "highway_mdp.create_MDPTable(transition=transitions, absorption=absorption, reward=rewards, state_list=visited, action_list=actions)"
   ]
  },
  {
   "cell_type": "code",
   "execution_count": null,
   "metadata": {},
   "outputs": [
    {
     "name": "stdout",
     "output_type": "stream",
     "text": [
      "frozendict.frozendict({'position': (251.43, 0.0), 'speed': (25.0, -0.0), 'heading': -0.0}) frozendict.frozendict({'position': (251.43, 0.0), 'speed': (25.0, -0.0), 'heading': -0.0})\n",
      "frozendict.frozendict({'position': (250.74, 4.0), 'speed': (19.92, 0.01), 'heading': 0.0}) frozendict.frozendict({'position': (248.15, 3.95), 'speed': (19.14, 0.15), 'heading': 0.008})\n",
      "\n",
      "\n",
      "frozendict.frozendict({'position': (253.83, 0.0), 'speed': (29.34, -0.0), 'heading': -0.0}) frozendict.frozendict({'position': (253.83, 0.0), 'speed': (29.34, -0.0), 'heading': -0.0})\n",
      "frozendict.frozendict({'position': (248.15, 3.95), 'speed': (19.14, 0.15), 'heading': 0.008}) frozendict.frozendict({'position': (250.74, 4.0), 'speed': (19.92, 0.01), 'heading': 0.0})\n",
      "\n",
      "\n",
      "frozendict.frozendict({'position': (244.38, 0.0), 'speed': (20.09, -0.0), 'heading': -0.0}) frozendict.frozendict({'position': (244.38, 0.0), 'speed': (20.09, -0.0), 'heading': -0.0})\n",
      "frozendict.frozendict({'position': (248.15, 3.95), 'speed': (19.14, 0.15), 'heading': 0.008}) frozendict.frozendict({'position': (250.74, 4.0), 'speed': (19.92, 0.01), 'heading': 0.0})\n",
      "\n",
      "\n",
      "frozendict.frozendict({'position': (246.78, 8.0), 'speed': (24.43, 0.0), 'heading': 0.0}) frozendict.frozendict({'position': (246.78, 8.0), 'speed': (24.43, 0.0), 'heading': 0.0})\n",
      "frozendict.frozendict({'position': (250.74, 4.0), 'speed': (19.92, 0.01), 'heading': 0.0}) frozendict.frozendict({'position': (248.15, 3.95), 'speed': (19.14, 0.15), 'heading': 0.008})\n",
      "\n",
      "\n",
      "frozendict.frozendict({'position': (244.38, 8.0), 'speed': (20.09, 0.0), 'heading': 0.0}) frozendict.frozendict({'position': (244.38, 8.0), 'speed': (20.09, 0.0), 'heading': 0.0})\n",
      "frozendict.frozendict({'position': (250.74, 4.0), 'speed': (19.92, 0.01), 'heading': 0.0}) frozendict.frozendict({'position': (248.15, 3.95), 'speed': (19.14, 0.15), 'heading': 0.008})\n",
      "\n",
      "\n",
      "frozendict.frozendict({'position': (253.83, 8.0), 'speed': (29.34, 0.0), 'heading': 0.0}) frozendict.frozendict({'position': (253.83, 8.0), 'speed': (29.34, 0.0), 'heading': 0.0})\n",
      "frozendict.frozendict({'position': (248.15, 3.95), 'speed': (19.14, 0.15), 'heading': 0.008}) frozendict.frozendict({'position': (250.74, 4.0), 'speed': (19.92, 0.01), 'heading': 0.0})\n",
      "\n",
      "\n",
      "frozendict.frozendict({'position': (251.43, 8.0), 'speed': (25.0, 0.0), 'heading': 0.0}) frozendict.frozendict({'position': (251.43, 8.0), 'speed': (25.0, 0.0), 'heading': 0.0})\n",
      "frozendict.frozendict({'position': (250.74, 4.0), 'speed': (19.92, 0.01), 'heading': 0.0}) frozendict.frozendict({'position': (248.15, 3.95), 'speed': (19.14, 0.15), 'heading': 0.008})\n",
      "\n",
      "\n",
      "frozendict.frozendict({'position': (244.38, 8.0), 'speed': (20.09, 0.0), 'heading': 0.0}) frozendict.frozendict({'position': (244.38, 8.0), 'speed': (20.09, 0.0), 'heading': 0.0})\n",
      "frozendict.frozendict({'position': (248.15, 3.95), 'speed': (19.14, 0.15), 'heading': 0.008}) frozendict.frozendict({'position': (250.74, 4.0), 'speed': (19.92, 0.01), 'heading': 0.0})\n",
      "\n",
      "\n",
      "frozendict.frozendict({'position': (249.04, 0.0), 'speed': (20.66, -0.0), 'heading': -0.0}) frozendict.frozendict({'position': (249.04, 0.0), 'speed': (20.66, -0.0), 'heading': -0.0})\n",
      "frozendict.frozendict({'position': (250.74, 4.0), 'speed': (19.92, 0.01), 'heading': 0.0}) frozendict.frozendict({'position': (248.15, 3.95), 'speed': (19.14, 0.15), 'heading': 0.008})\n",
      "\n",
      "\n",
      "frozendict.frozendict({'position': (256.09, 8.0), 'speed': (25.57, 0.0), 'heading': 0.0}) frozendict.frozendict({'position': (256.09, 8.0), 'speed': (25.57, 0.0), 'heading': 0.0})\n",
      "frozendict.frozendict({'position': (248.15, 3.95), 'speed': (19.14, 0.15), 'heading': 0.008}) frozendict.frozendict({'position': (250.74, 4.0), 'speed': (19.92, 0.01), 'heading': 0.0})\n",
      "\n",
      "\n",
      "frozendict.frozendict({'position': (246.78, 0.0), 'speed': (24.43, -0.0), 'heading': -0.0}) frozendict.frozendict({'position': (246.78, 0.0), 'speed': (24.43, -0.0), 'heading': -0.0})\n",
      "frozendict.frozendict({'position': (250.74, 4.0), 'speed': (19.92, 0.01), 'heading': 0.0}) frozendict.frozendict({'position': (248.15, 3.95), 'speed': (19.14, 0.15), 'heading': 0.008})\n",
      "\n",
      "\n",
      "frozendict.frozendict({'position': (249.04, 0.0), 'speed': (20.66, -0.0), 'heading': -0.0}) frozendict.frozendict({'position': (249.04, 0.0), 'speed': (20.66, -0.0), 'heading': -0.0})\n",
      "frozendict.frozendict({'position': (248.15, 3.95), 'speed': (19.14, 0.15), 'heading': 0.008}) frozendict.frozendict({'position': (250.74, 4.0), 'speed': (19.92, 0.01), 'heading': 0.0})\n",
      "\n",
      "\n",
      "frozendict.frozendict({'position': (253.83, 8.0), 'speed': (29.34, 0.0), 'heading': 0.0}) frozendict.frozendict({'position': (253.83, 8.0), 'speed': (29.34, 0.0), 'heading': 0.0})\n",
      "frozendict.frozendict({'position': (250.74, 4.0), 'speed': (19.92, 0.01), 'heading': 0.0}) frozendict.frozendict({'position': (248.15, 3.95), 'speed': (19.14, 0.15), 'heading': 0.008})\n",
      "\n",
      "\n",
      "frozendict.frozendict({'position': (249.04, 8.0), 'speed': (20.66, 0.0), 'heading': 0.0}) frozendict.frozendict({'position': (249.04, 8.0), 'speed': (20.66, 0.0), 'heading': 0.0})\n",
      "frozendict.frozendict({'position': (248.15, 3.95), 'speed': (19.14, 0.15), 'heading': 0.008}) frozendict.frozendict({'position': (250.74, 4.0), 'speed': (19.92, 0.01), 'heading': 0.0})\n",
      "\n",
      "\n",
      "frozendict.frozendict({'position': (253.83, 0.0), 'speed': (29.34, -0.0), 'heading': -0.0}) frozendict.frozendict({'position': (253.83, 0.0), 'speed': (29.34, -0.0), 'heading': -0.0})\n",
      "frozendict.frozendict({'position': (250.74, 4.0), 'speed': (19.92, 0.01), 'heading': 0.0}) frozendict.frozendict({'position': (248.15, 3.95), 'speed': (19.14, 0.15), 'heading': 0.008})\n",
      "\n",
      "\n",
      "frozendict.frozendict({'position': (256.09, 8.0), 'speed': (25.57, 0.0), 'heading': 0.0}) frozendict.frozendict({'position': (256.09, 8.0), 'speed': (25.57, 0.0), 'heading': 0.0})\n",
      "frozendict.frozendict({'position': (250.74, 4.0), 'speed': (19.92, 0.01), 'heading': 0.0}) frozendict.frozendict({'position': (248.15, 3.95), 'speed': (19.14, 0.15), 'heading': 0.008})\n",
      "\n",
      "\n",
      "frozendict.frozendict({'position': (258.48, 8.0), 'speed': (29.91, 0.0), 'heading': 0.0}) frozendict.frozendict({'position': (258.48, 8.0), 'speed': (29.91, 0.0), 'heading': 0.0})\n",
      "frozendict.frozendict({'position': (250.74, 4.0), 'speed': (19.92, 0.01), 'heading': 0.0}) frozendict.frozendict({'position': (286.78, 0.0), 'speed': (21.75, 0.0), 'heading': 0.0})\n",
      "frozendict.frozendict({'position': (286.78, 0.0), 'speed': (21.75, 0.0), 'heading': 0.0}) frozendict.frozendict({'position': (313.03, 4.0), 'speed': (21.17, 0.0), 'heading': 0.0})\n",
      "frozendict.frozendict({'position': (313.03, 4.0), 'speed': (21.17, 0.0), 'heading': 0.0}) frozendict.frozendict({'position': (314.1, 8.0), 'speed': (15.39, 0.0), 'heading': 0.0})\n",
      "frozendict.frozendict({'position': (314.1, 8.0), 'speed': (15.39, 0.0), 'heading': 0.0}) frozendict.frozendict({'position': (348.79, 8.0), 'speed': (18.35, 0.0), 'heading': 0.0})\n",
      "frozendict.frozendict({'position': (348.79, 8.0), 'speed': (18.35, 0.0), 'heading': 0.0}) frozendict.frozendict({'position': (378.97, 4.0), 'speed': (20.74, 0.0), 'heading': 0.0})\n",
      "frozendict.frozendict({'position': (378.97, 4.0), 'speed': (20.74, 0.0), 'heading': 0.0}) frozendict.frozendict({'position': (399.21, 8.0), 'speed': (19.2, 0.0), 'heading': 0.0})\n",
      "frozendict.frozendict({'position': (399.21, 8.0), 'speed': (19.2, 0.0), 'heading': 0.0}) frozendict.frozendict({'position': (427.25, 0.0), 'speed': (21.19, -0.0), 'heading': -0.0})\n",
      "frozendict.frozendict({'position': (427.25, 0.0), 'speed': (21.19, -0.0), 'heading': -0.0}) frozendict.frozendict({'position': (453.41, 8.0), 'speed': (20.69, 0.0), 'heading': 0.0})\n",
      "frozendict.frozendict({'position': (453.41, 8.0), 'speed': (20.69, 0.0), 'heading': 0.0}) frozendict.frozendict({'position': (475.68, 4.0), 'speed': (20.37, 0.0), 'heading': 0.0})\n",
      "frozendict.frozendict({'position': (475.68, 4.0), 'speed': (20.37, 0.0), 'heading': 0.0}) frozendict.frozendict({'position': (506.92, 0.0), 'speed': (21.43, 0.0), 'heading': 0.0})\n",
      "frozendict.frozendict({'position': (506.92, 0.0), 'speed': (21.43, 0.0), 'heading': 0.0}) frozendict.frozendict({'position': (525.75, 8.0), 'speed': (19.66, 0.0), 'heading': 0.0})\n",
      "frozendict.frozendict({'position': (525.75, 8.0), 'speed': (19.66, 0.0), 'heading': 0.0}) frozendict.frozendict({'position': (549.33, 4.0), 'speed': (20.39, 0.0), 'heading': 0.0})\n",
      "frozendict.frozendict({'position': (549.33, 4.0), 'speed': (20.39, 0.0), 'heading': 0.0}) frozendict.frozendict({'position': (576.35, 0.0), 'speed': (21.02, 0.0), 'heading': 0.0})\n",
      "frozendict.frozendict({'position': (576.35, 0.0), 'speed': (21.02, 0.0), 'heading': 0.0}) frozendict.frozendict({'position': (601.17, 8.0), 'speed': (11.9, 0.0), 'heading': 0.0})\n",
      "frozendict.frozendict({'position': (601.17, 8.0), 'speed': (11.9, 0.0), 'heading': 0.0}) frozendict.frozendict({'position': (612.11, 4.0), 'speed': (23.98, 0.0), 'heading': 0.0})\n",
      "frozendict.frozendict({'position': (612.11, 4.0), 'speed': (23.98, 0.0), 'heading': 0.0}) frozendict.frozendict({'position': (627.33, 8.0), 'speed': (14.96, 0.0), 'heading': 0.0})\n",
      "frozendict.frozendict({'position': (627.33, 8.0), 'speed': (14.96, 0.0), 'heading': 0.0}) frozendict.frozendict({'position': (659.76, 8.0), 'speed': (18.18, 0.0), 'heading': 0.0})\n",
      "frozendict.frozendict({'position': (659.76, 8.0), 'speed': (18.18, 0.0), 'heading': 0.0}) frozendict.frozendict({'position': (699.53, 8.0), 'speed': (22.55, 0.0), 'heading': 0.0})\n",
      "frozendict.frozendict({'position': (699.53, 8.0), 'speed': (22.55, 0.0), 'heading': 0.0}) frozendict.frozendict({'position': (718.3, 0.0), 'speed': (21.06, 0.0), 'heading': 0.0})\n",
      "frozendict.frozendict({'position': (718.3, 0.0), 'speed': (21.06, 0.0), 'heading': 0.0}) frozendict.frozendict({'position': (0.0, 0.0), 'speed': (0.0, 0.0), 'heading': 0.0})\n",
      "\n",
      "\n",
      "frozendict.frozendict({'position': (246.78, 8.0), 'speed': (24.43, 0.0), 'heading': 0.0}) frozendict.frozendict({'position': (246.78, 8.0), 'speed': (24.43, 0.0), 'heading': 0.0})\n",
      "frozendict.frozendict({'position': (248.15, 3.95), 'speed': (19.14, 0.15), 'heading': 0.008}) frozendict.frozendict({'position': (250.74, 4.0), 'speed': (19.92, 0.01), 'heading': 0.0})\n",
      "\n",
      "\n",
      "frozendict.frozendict({'position': (246.78, 0.0), 'speed': (24.43, -0.0), 'heading': -0.0}) frozendict.frozendict({'position': (246.78, 0.0), 'speed': (24.43, -0.0), 'heading': -0.0})\n",
      "frozendict.frozendict({'position': (248.15, 3.95), 'speed': (19.14, 0.15), 'heading': 0.008}) frozendict.frozendict({'position': (250.74, 4.0), 'speed': (19.92, 0.01), 'heading': 0.0})\n",
      "\n",
      "\n",
      "frozendict.frozendict({'position': (244.38, 0.0), 'speed': (20.09, -0.0), 'heading': -0.0}) frozendict.frozendict({'position': (244.38, 0.0), 'speed': (20.09, -0.0), 'heading': -0.0})\n",
      "frozendict.frozendict({'position': (250.74, 4.0), 'speed': (19.92, 0.01), 'heading': 0.0}) frozendict.frozendict({'position': (248.15, 3.95), 'speed': (19.14, 0.15), 'heading': 0.008})\n",
      "\n",
      "\n",
      "frozendict.frozendict({'position': (249.04, 8.0), 'speed': (20.66, 0.0), 'heading': 0.0}) frozendict.frozendict({'position': (249.04, 8.0), 'speed': (20.66, 0.0), 'heading': 0.0})\n",
      "frozendict.frozendict({'position': (250.74, 4.0), 'speed': (19.92, 0.01), 'heading': 0.0}) frozendict.frozendict({'position': (248.15, 3.95), 'speed': (19.14, 0.15), 'heading': 0.008})\n",
      "\n",
      "\n",
      "frozendict.frozendict({'position': (251.43, 8.0), 'speed': (25.0, 0.0), 'heading': 0.0}) frozendict.frozendict({'position': (251.43, 8.0), 'speed': (25.0, 0.0), 'heading': 0.0})\n",
      "frozendict.frozendict({'position': (248.15, 3.95), 'speed': (19.14, 0.15), 'heading': 0.008}) frozendict.frozendict({'position': (250.74, 4.0), 'speed': (19.92, 0.01), 'heading': 0.0})\n",
      "\n",
      "\n",
      "frozendict.frozendict({'position': (258.48, 8.0), 'speed': (29.91, 0.0), 'heading': 0.0}) frozendict.frozendict({'position': (258.48, 8.0), 'speed': (29.91, 0.0), 'heading': 0.0})\n",
      "frozendict.frozendict({'position': (286.78, 0.0), 'speed': (21.75, 0.0), 'heading': 0.0}) frozendict.frozendict({'position': (250.74, 4.0), 'speed': (19.92, 0.01), 'heading': 0.0})\n",
      "frozendict.frozendict({'position': (313.03, 4.0), 'speed': (21.17, 0.0), 'heading': 0.0}) frozendict.frozendict({'position': (286.78, 0.0), 'speed': (21.75, 0.0), 'heading': 0.0})\n",
      "frozendict.frozendict({'position': (314.1, 8.0), 'speed': (15.39, 0.0), 'heading': 0.0}) frozendict.frozendict({'position': (313.03, 4.0), 'speed': (21.17, 0.0), 'heading': 0.0})\n",
      "frozendict.frozendict({'position': (348.79, 8.0), 'speed': (18.35, 0.0), 'heading': 0.0}) frozendict.frozendict({'position': (314.1, 8.0), 'speed': (15.39, 0.0), 'heading': 0.0})\n",
      "frozendict.frozendict({'position': (378.97, 4.0), 'speed': (20.74, 0.0), 'heading': 0.0}) frozendict.frozendict({'position': (348.79, 8.0), 'speed': (18.35, 0.0), 'heading': 0.0})\n",
      "frozendict.frozendict({'position': (399.21, 8.0), 'speed': (19.2, 0.0), 'heading': 0.0}) frozendict.frozendict({'position': (378.97, 4.0), 'speed': (20.74, 0.0), 'heading': 0.0})\n",
      "frozendict.frozendict({'position': (427.25, 0.0), 'speed': (21.19, -0.0), 'heading': -0.0}) frozendict.frozendict({'position': (399.21, 8.0), 'speed': (19.2, 0.0), 'heading': 0.0})\n",
      "frozendict.frozendict({'position': (453.41, 8.0), 'speed': (20.69, 0.0), 'heading': 0.0}) frozendict.frozendict({'position': (427.25, 0.0), 'speed': (21.19, -0.0), 'heading': -0.0})\n",
      "frozendict.frozendict({'position': (475.68, 4.0), 'speed': (20.37, 0.0), 'heading': 0.0}) frozendict.frozendict({'position': (453.41, 8.0), 'speed': (20.69, 0.0), 'heading': 0.0})\n",
      "frozendict.frozendict({'position': (506.92, 0.0), 'speed': (21.43, 0.0), 'heading': 0.0}) frozendict.frozendict({'position': (475.68, 4.0), 'speed': (20.37, 0.0), 'heading': 0.0})\n",
      "frozendict.frozendict({'position': (525.75, 8.0), 'speed': (19.66, 0.0), 'heading': 0.0}) frozendict.frozendict({'position': (506.92, 0.0), 'speed': (21.43, 0.0), 'heading': 0.0})\n",
      "frozendict.frozendict({'position': (549.33, 4.0), 'speed': (20.39, 0.0), 'heading': 0.0}) frozendict.frozendict({'position': (525.75, 8.0), 'speed': (19.66, 0.0), 'heading': 0.0})\n",
      "frozendict.frozendict({'position': (576.35, 0.0), 'speed': (21.02, 0.0), 'heading': 0.0}) frozendict.frozendict({'position': (549.33, 4.0), 'speed': (20.39, 0.0), 'heading': 0.0})\n",
      "frozendict.frozendict({'position': (601.17, 8.0), 'speed': (11.9, 0.0), 'heading': 0.0}) frozendict.frozendict({'position': (576.35, 0.0), 'speed': (21.02, 0.0), 'heading': 0.0})\n",
      "frozendict.frozendict({'position': (612.11, 4.0), 'speed': (23.98, 0.0), 'heading': 0.0}) frozendict.frozendict({'position': (601.17, 8.0), 'speed': (11.9, 0.0), 'heading': 0.0})\n",
      "frozendict.frozendict({'position': (627.33, 8.0), 'speed': (14.96, 0.0), 'heading': 0.0}) frozendict.frozendict({'position': (612.11, 4.0), 'speed': (23.98, 0.0), 'heading': 0.0})\n",
      "frozendict.frozendict({'position': (659.76, 8.0), 'speed': (18.18, 0.0), 'heading': 0.0}) frozendict.frozendict({'position': (627.33, 8.0), 'speed': (14.96, 0.0), 'heading': 0.0})\n",
      "frozendict.frozendict({'position': (699.53, 8.0), 'speed': (22.55, 0.0), 'heading': 0.0}) frozendict.frozendict({'position': (659.76, 8.0), 'speed': (18.18, 0.0), 'heading': 0.0})\n",
      "frozendict.frozendict({'position': (718.3, 0.0), 'speed': (21.06, 0.0), 'heading': 0.0}) frozendict.frozendict({'position': (699.53, 8.0), 'speed': (22.55, 0.0), 'heading': 0.0})\n",
      "frozendict.frozendict({'position': (0.0, 0.0), 'speed': (0.0, 0.0), 'heading': 0.0}) frozendict.frozendict({'position': (718.3, 0.0), 'speed': (21.06, 0.0), 'heading': 0.0})\n",
      "\n",
      "\n"
     ]
    }
   ],
   "source": [
    "# Test differences in environment state for situations with same ego-vehivle state\n",
    "visited = highway_mdp.populate_MDPtable(max_depth = 4)\n",
    "\n",
    "for v1 in list(visited)[:-1]:\n",
    "    for v2 in list(visited)[1:]:\n",
    "        if v1 != v2 and v1[0] == v2[0]:\n",
    "            print(v1[0],v2[0])\n",
    "            for veh1, veh2 in zip(v1,v2):\n",
    "                if veh1 != veh2:\n",
    "                    print(veh1, veh2)\n",
    "            print('\\n')\n"
   ]
  },
  {
   "cell_type": "code",
   "execution_count": null,
   "metadata": {},
   "outputs": [
    {
     "name": "stdout",
     "output_type": "stream",
     "text": [
      "MDPVehicle #544: [207.38302935   8.        ]\n",
      "MDPVehicle #248: [207.38302935   8.        ]\n",
      "1 [1.   1.   0.08 1.   0.   0.  ]\n",
      "MDPVehicle #544: [232.38302935   8.        ]\n",
      "MDPVehicle #248: [207.38302935   8.        ]\n",
      "MDPVehicle #248: [207.38302935   8.        ]\n"
     ]
    }
   ],
   "source": [
    "# |DEBUGGING CODE\n",
    "\n",
    "print(highway_mdp.env.unwrapped.road.vehicles[0])\n",
    "tmp = highway_mdp.env()\n",
    "print(tmp.unwrapped.road.vehicles[0])\n",
    "highway_mdp.step(1)\n",
    "print(highway_mdp.env.unwrapped.road.vehicles[0])\n",
    "print(tmp.unwrapped.road.vehicles[0])\n",
    "highway_mdp.env = tmp\n",
    "print(highway_mdp.env.unwrapped.road.vehicles[0])\n",
    "\n",
    "\n",
    "# dir(highway_mdp.env.unwrapped)\n",
    "\n",
    "next_state, reward, done, truncated, info = highway_mdp.step(1)\n",
    "# next_state\n"
   ]
  },
  {
   "cell_type": "code",
   "execution_count": null,
   "metadata": {},
   "outputs": [],
   "source": [
    "config = {\n",
    "        \"observation\": {\n",
    "            \"type\": \"Kinematics\",\n",
    "            \"vehicles_count\": 50,\n",
    "            \"features\": [\"presence\", \"x\", \"y\", \"vx\", \"vy\", \"heading\"],\n",
    "            \"normalize\": False,\n",
    "            \"absolute\": True,\n",
    "            \"order\": \"sorted\",\n",
    "            \"observe_intentions\": False,\n",
    "            \"include_obstacles\": True\n",
    "            }\n",
    "        }\n",
    "\n",
    "env = gym.make('highway-v0', config=config, render_mode='human')"
   ]
  },
  {
   "cell_type": "code",
   "execution_count": 75,
   "metadata": {},
   "outputs": [
    {
     "data": {
      "text/plain": [
       "(frozendict.frozendict({'position': (1.0, 0.08), 'speed': (1.0, 0.0), 'heading': 0.0}),\n",
       " frozendict.frozendict({'position': (0.08, 0.0), 'speed': (-0.24, 0.0), 'heading': 0.0}),\n",
       " frozendict.frozendict({'position': (0.33, -0.04), 'speed': (-0.18, 0.0), 'heading': 0.003}),\n",
       " frozendict.frozendict({'position': (0.45, 0.04), 'speed': (-0.31, 0.0), 'heading': 0.005}),\n",
       " frozendict.frozendict({'position': (0.72, 0.0), 'speed': (-0.19, 0.0), 'heading': 0.0}),\n",
       " frozendict.frozendict({'position': (0.93, 0.04), 'speed': (-0.19, 0.0), 'heading': 0.0}),\n",
       " frozendict.frozendict({'position': (1.0, -0.08), 'speed': (-0.27, 0.0), 'heading': 0.0}),\n",
       " frozendict.frozendict({'position': (1.0, -0.04), 'speed': (-0.24, -0.0), 'heading': -0.0}),\n",
       " frozendict.frozendict({'position': (1.0, -0.0), 'speed': (-0.16, 0.0), 'heading': 0.001}),\n",
       " frozendict.frozendict({'position': (1.0, -0.08), 'speed': (-0.28, 0.0), 'heading': 0.0}),\n",
       " frozendict.frozendict({'position': (0.0, 0.0), 'speed': (0.0, 0.0), 'heading': 0.0}),\n",
       " frozendict.frozendict({'position': (0.0, 0.0), 'speed': (0.0, 0.0), 'heading': 0.0}),\n",
       " frozendict.frozendict({'position': (0.0, 0.0), 'speed': (0.0, 0.0), 'heading': 0.0}),\n",
       " frozendict.frozendict({'position': (0.0, 0.0), 'speed': (0.0, 0.0), 'heading': 0.0}),\n",
       " frozendict.frozendict({'position': (0.0, 0.0), 'speed': (0.0, 0.0), 'heading': 0.0}))"
      ]
     },
     "execution_count": 75,
     "metadata": {},
     "output_type": "execute_result"
    }
   ],
   "source": [
    "vehicles = []\n",
    "for veh_state in obs:\n",
    "    feature_vals = {k: v for k,v in zip(config[\"observation\"][\"features\"], veh_state)}\n",
    "    veh = {}\n",
    "    veh[\"position\"] = tuple(np.round((feature_vals[\"x\"],feature_vals[\"y\"]), 2))\n",
    "    veh[\"speed\"] = tuple(np.round((feature_vals[\"vx\"],feature_vals[\"vy\"]), 2))\n",
    "    veh[\"heading\"] = np.round(feature_vals[\"heading\"], 3)\n",
    "    vehicles.append(frozendict(veh))\n",
    "vehicles = tuple(vehicles)\n",
    "vehicles"
   ]
  },
  {
   "cell_type": "code",
   "execution_count": 77,
   "metadata": {},
   "outputs": [
    {
     "data": {
      "text/plain": [
       "48"
      ]
     },
     "execution_count": 77,
     "metadata": {},
     "output_type": "execute_result"
    }
   ],
   "source": [
    "import sys\n",
    "\n",
    "# sys.getsizeof(transitions)\n",
    "sys.getsizeof(highway_mdp.copy_env())\n",
    "# sys.getsizeof(int(10.0))\n"
   ]
  }
 ],
 "metadata": {
  "kernelspec": {
   "display_name": "myHighwayEnv",
   "language": "python",
   "name": "python3"
  },
  "language_info": {
   "codemirror_mode": {
    "name": "ipython",
    "version": 3
   },
   "file_extension": ".py",
   "mimetype": "text/x-python",
   "name": "python",
   "nbconvert_exporter": "python",
   "pygments_lexer": "ipython3",
   "version": "3.12.7"
  }
 },
 "nbformat": 4,
 "nbformat_minor": 2
}
