{
 "cells": [
  {
   "cell_type": "markdown",
   "metadata": {},
   "source": [
    "This is the first working implementation of a discrete MDP wrapper for the highway environment"
   ]
  },
  {
   "cell_type": "code",
   "execution_count": 1,
   "metadata": {},
   "outputs": [
    {
     "name": "stdout",
     "output_type": "stream",
     "text": [
      "d:\\Project Files\\HoLab\\Codes\\Mine\\HighwayEnv-TRI\n"
     ]
    },
    {
     "data": {
      "text/plain": [
       "'d:\\\\Project Files\\\\HoLab\\\\Codes\\\\Mine\\\\HighwayEnv-TRI'"
      ]
     },
     "execution_count": 1,
     "metadata": {},
     "output_type": "execute_result"
    }
   ],
   "source": [
    "# Move up one directory level to import local instance of highway environment\n",
    "%cd ..\n",
    "%pwd"
   ]
  },
  {
   "cell_type": "markdown",
   "metadata": {},
   "source": [
    "Import necessary modules"
   ]
  },
  {
   "cell_type": "code",
   "execution_count": 2,
   "metadata": {},
   "outputs": [
    {
     "name": "stderr",
     "output_type": "stream",
     "text": [
      "<frozen importlib._bootstrap>:488: RuntimeWarning: Your system is avx2 capable but pygame was not built with support for it. The performance of some of your blits could be adversely affected. Consider enabling compile time detection with environment variables like PYGAME_DETECT_AVX2=1 if you are compiling without cross compilation.\n"
     ]
    }
   ],
   "source": [
    "import gymnasium as gym\n",
    "import highway_env\n",
    "\n",
    "from frozendict import frozendict\n",
    "import numpy as np\n",
    "import math\n",
    "import copy\n",
    "\n",
    "from matplotlib import pyplot as plt\n",
    "%matplotlib inline\n",
    "\n",
    "import warnings\n",
    "import logging\n",
    "logger = logging.getLogger()"
   ]
  },
  {
   "cell_type": "markdown",
   "metadata": {},
   "source": [
    "Define MDP class"
   ]
  },
  {
   "cell_type": "code",
   "execution_count": 3,
   "metadata": {},
   "outputs": [],
   "source": [
    "class GymDiscreteMDP:\n",
    "    def __init__(self, *args, **kwargs):\n",
    "        if \"config\" in kwargs:\n",
    "            self.config = kwargs.get(\"config\", None)\n",
    "        self.env = gym.make(*args, **kwargs)\n",
    "        self.obs, self.info = self.env.reset()\n",
    "        action_space = self.env.action_space\n",
    "        if isinstance(action_space, gym.spaces.discrete.Discrete):\n",
    "            self.actions = range(action_space.start, action_space.n)\n",
    "        else:\n",
    "            raise NotImplementedError(\"Only discrete action spaces are currently supported\")\n",
    "            # |Can later be extended for other gym actionspaces\n",
    "\n",
    "\n",
    "    def to_hashable_state(self, obs):\n",
    "        \"\"\"\n",
    "        Create hashable variable using environment state information.\n",
    "        \"\"\"        \n",
    "        raise NotImplementedError(\"Please Implement this method\")\n",
    "\n",
    "    def step(self, action):\n",
    "        \"\"\"\n",
    "        The function takes an action and returns MDP-compatible state information.\n",
    "        Can be overridden based on simulation-specific properties.\n",
    "        \"\"\"\n",
    "        obs, reward, done, truncated, info = self.env.step(action)\n",
    "        logging.debug(obs)\n",
    "        next_state = self.to_hashable_state(obs)\n",
    "        return next_state, reward, done, truncated, info\n",
    "\n",
    "    def copy_env(self):\n",
    "        \"\"\"\n",
    "        Return a copy of the current state of the environment,\n",
    "        so it can be set back to simulate the outcome of various actions.\n",
    "        \"\"\"\n",
    "        raise NotImplementedError(\"Please Implement this method\")\n",
    "\n",
    "    def set_env(self, env):\n",
    "        \"\"\"\n",
    "        Set current environent state to the one passed in the argument.\n",
    "        \"\"\"\n",
    "        raise NotImplementedError(\"Please Implement this method\")\n",
    "\n",
    "\n",
    "\n",
    "\n",
    "class HighwayDiscreteMDP(GymDiscreteMDP):\n",
    "    '''\n",
    "    The class currently only supports kinematics observation space in HighwayEnv\n",
    "    '''\n",
    "    def __init__(self, *args, **kwargs):\n",
    "        if (not \"config\" in kwargs \n",
    "            or not \"observation\" in kwargs[\"config\"]\n",
    "            or not \"features\" in kwargs[\"config\"][\"observation\"]\n",
    "            or not \"Kinematics\" == kwargs[\"config\"][\"observation\"][\"type\"]):\n",
    "            kwargs[\"config\"] = self.default_config()\n",
    "            warnings.warn(\"Config not specified/does not match requirement. USING DEFAULT CONFIG.\\n \\\n",
    "                  To use custom config, please use Kinematics observation space, \\\n",
    "                  and specify (at least) the following features in config:\\n \\\n",
    "                  \\tpresence, x, y, vx, vy, heading.\")\n",
    "        super().__init__(*args, **kwargs)\n",
    "        # self.action_dict = self.env.unwrapped.action_type.actions_indexes\n",
    "        # |Set perception distance to maximum. So, state of all cars in the environment \n",
    "        # |are available irrespective of whether they are in the visibility window.\n",
    "        self.env.unwrapped.PERCEPTION_DISTANCE = float('inf')\n",
    "        self.initial_state = self.to_hashable_state(self.obs)\n",
    "    \n",
    "    def get_env_properties(self):\n",
    "        return self.initial_state, self.actions\n",
    "\n",
    "    # def step(self, action):\n",
    "    #     # set_vehicles(state, self.env)\n",
    "    #     obs, reward, done, truncated, info = self.env.step(action)\n",
    "    #     logging.debug(action, obs[0])\n",
    "    #     next_state = self.to_hashable_state(obs)\n",
    "    #     return next_state, reward, done, truncated, info\n",
    "\n",
    "    def to_hashable_state(self, obs):\n",
    "        road_objects = []\n",
    "        for road_obj in obs:\n",
    "            feature_vals = {k: v for k,v in zip(self.config[\"observation\"][\"features\"], road_obj)}\n",
    "            veh = {}\n",
    "            veh[\"position\"] = tuple(np.round((feature_vals[\"x\"],feature_vals[\"y\"]), 2))\n",
    "            veh[\"speed\"] = tuple(np.round((feature_vals[\"vx\"],feature_vals[\"vy\"]), 2))\n",
    "            veh[\"heading\"] = np.round(feature_vals[\"heading\"], 3)\n",
    "            road_objects.append(frozendict(veh))\n",
    "        return tuple(road_objects)\n",
    "    \n",
    "    def default_config(self):\n",
    "        return {\n",
    "        \"observation\": {\n",
    "            \"type\": \"Kinematics\",\n",
    "            \"vehicles_count\": 50,\n",
    "            \"features\": [\"presence\", \"x\", \"y\", \"vx\", \"vy\", \"heading\"],\n",
    "            \"normalize\": False,\n",
    "            \"absolute\": True,\n",
    "            \"order\": \"sorted\",\n",
    "            \"observe_intentions\": False,\n",
    "            \"include_obstacles\": True\n",
    "            }\n",
    "        }\n",
    "\n",
    "    def copy_env(self):\n",
    "        return copy.deepcopy(self.env)\n",
    "\n",
    "    def set_env(self, env):\n",
    "        self.env = copy.deepcopy(env)\n",
    "\n",
    "    # def set_vehicles(self, vehicles):\n",
    "    #     # |Would like to avoid using this funtion if possible.\n",
    "    #     for v, new_v in zip(self.env.unwrapped.road.vehicles, vehicles):\n",
    "    #         assert id(v) == new_v['id']\n",
    "    #         v.position = np.array(new_v['position'])\n",
    "    #         v.heading = new_v['heading']\n",
    "    #         v.speed = new_v['speed']\n",
    "\n",
    "    # def step(self, state, action):\n",
    "    #     # |Avoid using this overloaded function, use super step funtion instead\n",
    "    #     self.set_vehicles(state, self.env)\n",
    "    #     obs, reward, done, truncated, info = self.env.step(self.action_dict[action])\n",
    "    #     next_state = self.to_hashable_state(obs)\n",
    "    #     return next_state, reward, done, truncated, info\n",
    "\n",
    "\n",
    "\n",
    "def mdp_factory(*args, gym_env, **kwargs):\n",
    "    if gym_env == \"highway\":\n",
    "        highwaymdp = HighwayDiscreteMDP(*args, **kwargs)    \n",
    "        return highwaymdp\n",
    "    return 0\n"
   ]
  },
  {
   "cell_type": "markdown",
   "metadata": {},
   "source": [
    "Set up MDP"
   ]
  },
  {
   "cell_type": "code",
   "execution_count": 5,
   "metadata": {},
   "outputs": [],
   "source": [
    "import cProfile\n",
    "\n",
    "logger.setLevel(logging.INFO)    # Other options: INFO, WARNING, ERROR, CRITICAL\n",
    "\n",
    "import functools\n",
    "import multiprocessing as mp\n",
    "# pool = mp.Pool((mp.cpu_count()-1)) #This uses all processors instead of manually putting the number"
   ]
  },
  {
   "cell_type": "code",
   "execution_count": 6,
   "metadata": {},
   "outputs": [],
   "source": [
    "config = {\n",
    "        \"observation\": {\n",
    "            \"type\": \"Kinematics\",\n",
    "            \"vehicles_count\": 50,\n",
    "            \"features\": [\"presence\", \"x\", \"y\", \"vx\", \"vy\", \"heading\"],\n",
    "            \"normalize\": False,\n",
    "            \"absolute\": True,\n",
    "            \"order\": \"sorted\",\n",
    "            \"observe_intentions\": False,\n",
    "            \"include_obstacles\": True\n",
    "            }\n",
    "        }\n",
    "\n",
    "highway_mdp = mdp_factory('highway-v0', gym_env=\"highway\", config=config, render_mode='human')\n",
    "\n",
    "initial_state, actions = highway_mdp.get_env_properties()"
   ]
  },
  {
   "cell_type": "code",
   "execution_count": 7,
   "metadata": {},
   "outputs": [
    {
     "name": "stderr",
     "output_type": "stream",
     "text": [
      "INFO:root:Current Depth: 0 | Frontier: 5 | Visited: 1 | Transitions:5\n",
      "INFO:root:Current Depth: 1 | Frontier: 9 | Visited: 2 | Transitions:10\n",
      "INFO:root:Current Depth: 1 | Frontier: 13 | Visited: 2 | Transitions:10\n",
      "INFO:root:Current Depth: 1 | Frontier: 17 | Visited: 3 | Transitions:15\n",
      "INFO:root:Current Depth: 2 | Frontier: 16 | Visited: 4 | Transitions:15\n",
      "INFO:root:Current Depth: 2 | Frontier: 15 | Visited: 5 | Transitions:15\n",
      "INFO:root:Current Depth: 2 | Frontier: 14 | Visited: 6 | Transitions:15\n",
      "INFO:root:Current Depth: 2 | Frontier: 13 | Visited: 7 | Transitions:15\n",
      "INFO:root:Current Depth: 2 | Frontier: 12 | Visited: 8 | Transitions:15\n",
      "INFO:root:Current Depth: 2 | Frontier: 11 | Visited: 8 | Transitions:15\n",
      "INFO:root:Current Depth: 2 | Frontier: 10 | Visited: 8 | Transitions:15\n",
      "INFO:root:Current Depth: 2 | Frontier: 9 | Visited: 9 | Transitions:15\n",
      "INFO:root:Current Depth: 2 | Frontier: 8 | Visited: 9 | Transitions:15\n",
      "INFO:root:Current Depth: 2 | Frontier: 7 | Visited: 10 | Transitions:15\n",
      "INFO:root:Current Depth: 1 | Frontier: 11 | Visited: 11 | Transitions:20\n",
      "INFO:root:Current Depth: 2 | Frontier: 10 | Visited: 11 | Transitions:20\n",
      "INFO:root:Current Depth: 2 | Frontier: 9 | Visited: 11 | Transitions:20\n",
      "INFO:root:Current Depth: 2 | Frontier: 8 | Visited: 12 | Transitions:20\n",
      "INFO:root:Current Depth: 1 | Frontier: 12 | Visited: 13 | Transitions:25\n",
      "INFO:root:Current Depth: 2 | Frontier: 11 | Visited: 13 | Transitions:25\n",
      "INFO:root:Current Depth: 2 | Frontier: 10 | Visited: 13 | Transitions:25\n",
      "INFO:root:Current Depth: 2 | Frontier: 9 | Visited: 13 | Transitions:25\n",
      "INFO:root:Current Depth: 2 | Frontier: 8 | Visited: 14 | Transitions:25\n",
      "INFO:root:Current Depth: 2 | Frontier: 7 | Visited: 15 | Transitions:25\n",
      "INFO:root:Current Depth: 2 | Frontier: 6 | Visited: 16 | Transitions:25\n",
      "INFO:root:Current Depth: 2 | Frontier: 5 | Visited: 17 | Transitions:25\n",
      "INFO:root:Current Depth: 2 | Frontier: 4 | Visited: 18 | Transitions:25\n",
      "INFO:root:Current Depth: 2 | Frontier: 3 | Visited: 18 | Transitions:25\n",
      "INFO:root:Current Depth: 2 | Frontier: 2 | Visited: 18 | Transitions:25\n",
      "INFO:root:Current Depth: 2 | Frontier: 1 | Visited: 19 | Transitions:25\n",
      "INFO:root:Current Depth: 2 | Frontier: 0 | Visited: 20 | Transitions:25\n"
     ]
    },
    {
     "name": "stdout",
     "output_type": "stream",
     "text": [
      "Number of execution calls:  30\n"
     ]
    }
   ],
   "source": [
    "max_depth = 2   # The number of steps to plan ahead\n",
    "\n",
    "def run_code():\n",
    "    visited = set()\n",
    "    transitions = {}\n",
    "    frontier = {(initial_state, 0, highway_mdp.copy_env())}\n",
    "    loop_counter = 0\n",
    "    while frontier:\n",
    "        state, depth, curr_env = frontier.pop()\n",
    "        visited.add(state)\n",
    "        if depth < max_depth:\n",
    "            for action in actions:\n",
    "                highway_mdp.set_env(curr_env)\n",
    "                # logging.debug(highway_mdp.env.unwrapped.road.vehicles[0])\n",
    "                if (state[0], action) not in transitions:\n",
    "                    transitions[(state[0], action)] = {}\n",
    "                next_state, reward, done, truncated, info = highway_mdp.step(action)\n",
    "                logging.debug(str(state[0]) + ' | ' + str(action) + ' | ' + str(next_state[0]))\n",
    "                if next_state[0] not in transitions[(state[0], action)]:\n",
    "                    transitions[(state[0], action)][next_state[0]] = 0\n",
    "                transitions[(state[0], action)][next_state[0]] += 1\n",
    "                if next_state not in visited:\n",
    "                    frontier.add((next_state, depth + 1, highway_mdp.copy_env()))\n",
    "                loop_counter += 1\n",
    "        MDPstatus = \"Current Depth: \" + str(depth) + \" | Frontier: \" + str(len(frontier)) +\\\n",
    "                    \" | Visited: \" + str(len(visited)) + \" | Transitions:\" + str(len(transitions))\n",
    "        logging.info(MDPstatus)\n",
    "    print(\"Number of execution calls: \", loop_counter)\n",
    "\n",
    "run_code()\n",
    "\n",
    "# cProfile.run('run_code()')\n"
   ]
  },
  {
   "cell_type": "code",
   "execution_count": 109,
   "metadata": {},
   "outputs": [
    {
     "name": "stdout",
     "output_type": "stream",
     "text": [
      "{'LANE_LEFT': 0, 'IDLE': 1, 'LANE_RIGHT': 2, 'FASTER': 3, 'SLOWER': 4}\n"
     ]
    },
    {
     "data": {
      "text/plain": [
       "{(frozendict.frozendict({'position': (178.19, 0.0), 'speed': (25.0, 0.0), 'heading': 0.0}),\n",
       "  0): {frozendict.frozendict({'position': (296.98, 0.2), 'speed': (0.04, -0.01), 'heading': -0.173}): 1},\n",
       " (frozendict.frozendict({'position': (178.19, 0.0), 'speed': (25.0, 0.0), 'heading': 0.0}),\n",
       "  1): {frozendict.frozendict({'position': (296.98, 0.2), 'speed': (0.04, -0.01), 'heading': -0.173}): 1},\n",
       " (frozendict.frozendict({'position': (178.19, 0.0), 'speed': (25.0, 0.0), 'heading': 0.0}),\n",
       "  2): {frozendict.frozendict({'position': (296.98, 0.2), 'speed': (0.04, -0.01), 'heading': -0.173}): 1},\n",
       " (frozendict.frozendict({'position': (178.19, 0.0), 'speed': (25.0, 0.0), 'heading': 0.0}),\n",
       "  3): {frozendict.frozendict({'position': (296.98, 0.2), 'speed': (0.04, -0.01), 'heading': -0.173}): 1},\n",
       " (frozendict.frozendict({'position': (178.19, 0.0), 'speed': (25.0, 0.0), 'heading': 0.0}),\n",
       "  4): {frozendict.frozendict({'position': (296.98, 0.2), 'speed': (0.04, -0.01), 'heading': -0.173}): 1},\n",
       " (frozendict.frozendict({'position': (296.98, 0.2), 'speed': (0.04, -0.01), 'heading': -0.173}),\n",
       "  0): {frozendict.frozendict({'position': (297.0, 0.2), 'speed': (0.01, -0.0), 'heading': -0.173}): 5},\n",
       " (frozendict.frozendict({'position': (296.98, 0.2), 'speed': (0.04, -0.01), 'heading': -0.173}),\n",
       "  1): {frozendict.frozendict({'position': (297.0, 0.2), 'speed': (0.01, -0.0), 'heading': -0.173}): 5},\n",
       " (frozendict.frozendict({'position': (296.98, 0.2), 'speed': (0.04, -0.01), 'heading': -0.173}),\n",
       "  2): {frozendict.frozendict({'position': (297.0, 0.2), 'speed': (0.01, -0.0), 'heading': -0.173}): 5},\n",
       " (frozendict.frozendict({'position': (296.98, 0.2), 'speed': (0.04, -0.01), 'heading': -0.173}),\n",
       "  3): {frozendict.frozendict({'position': (297.0, 0.2), 'speed': (0.01, -0.0), 'heading': -0.173}): 5},\n",
       " (frozendict.frozendict({'position': (296.98, 0.2), 'speed': (0.04, -0.01), 'heading': -0.173}),\n",
       "  4): {frozendict.frozendict({'position': (297.0, 0.2), 'speed': (0.01, -0.0), 'heading': -0.173}): 5}}"
      ]
     },
     "execution_count": 109,
     "metadata": {},
     "output_type": "execute_result"
    }
   ],
   "source": [
    "print(highway_mdp.env.unwrapped.action_type.actions_indexes)\n",
    "\n",
    "transitions"
   ]
  },
  {
   "cell_type": "markdown",
   "metadata": {},
   "source": [
    "# TEST CODE"
   ]
  },
  {
   "cell_type": "code",
   "execution_count": 127,
   "metadata": {},
   "outputs": [
    {
     "name": "stdout",
     "output_type": "stream",
     "text": [
      "MDPVehicle #544: [207.38302935   8.        ]\n",
      "MDPVehicle #248: [207.38302935   8.        ]\n",
      "1 [1.   1.   0.08 1.   0.   0.  ]\n",
      "MDPVehicle #544: [232.38302935   8.        ]\n",
      "MDPVehicle #248: [207.38302935   8.        ]\n",
      "MDPVehicle #248: [207.38302935   8.        ]\n"
     ]
    }
   ],
   "source": [
    "# |DEBUGGING CODE\n",
    "\n",
    "print(highway_mdp.env.unwrapped.road.vehicles[0])\n",
    "tmp = highway_mdp.copy_env()\n",
    "print(tmp.unwrapped.road.vehicles[0])\n",
    "highway_mdp.step(1)\n",
    "print(highway_mdp.env.unwrapped.road.vehicles[0])\n",
    "print(tmp.unwrapped.road.vehicles[0])\n",
    "highway_mdp.set_env(tmp)\n",
    "print(highway_mdp.env.unwrapped.road.vehicles[0])\n",
    "\n",
    "\n",
    "# dir(highway_mdp.env.unwrapped)\n",
    "\n",
    "next_state, reward, done, truncated, info = highway_mdp.step(1)\n",
    "# next_state\n"
   ]
  },
  {
   "cell_type": "code",
   "execution_count": null,
   "metadata": {},
   "outputs": [],
   "source": [
    "config = {\n",
    "        \"observation\": {\n",
    "            \"type\": \"Kinematics\",\n",
    "            \"vehicles_count\": 50,\n",
    "            \"features\": [\"presence\", \"x\", \"y\", \"vx\", \"vy\", \"heading\"],\n",
    "            \"normalize\": False,\n",
    "            \"absolute\": True,\n",
    "            \"order\": \"sorted\",\n",
    "            \"observe_intentions\": False,\n",
    "            \"include_obstacles\": True\n",
    "            }\n",
    "        }\n",
    "\n",
    "env = gym.make('highway-v0', config=config, render_mode='human')"
   ]
  },
  {
   "cell_type": "code",
   "execution_count": 75,
   "metadata": {},
   "outputs": [
    {
     "data": {
      "text/plain": [
       "(frozendict.frozendict({'position': (1.0, 0.08), 'speed': (1.0, 0.0), 'heading': 0.0}),\n",
       " frozendict.frozendict({'position': (0.08, 0.0), 'speed': (-0.24, 0.0), 'heading': 0.0}),\n",
       " frozendict.frozendict({'position': (0.33, -0.04), 'speed': (-0.18, 0.0), 'heading': 0.003}),\n",
       " frozendict.frozendict({'position': (0.45, 0.04), 'speed': (-0.31, 0.0), 'heading': 0.005}),\n",
       " frozendict.frozendict({'position': (0.72, 0.0), 'speed': (-0.19, 0.0), 'heading': 0.0}),\n",
       " frozendict.frozendict({'position': (0.93, 0.04), 'speed': (-0.19, 0.0), 'heading': 0.0}),\n",
       " frozendict.frozendict({'position': (1.0, -0.08), 'speed': (-0.27, 0.0), 'heading': 0.0}),\n",
       " frozendict.frozendict({'position': (1.0, -0.04), 'speed': (-0.24, -0.0), 'heading': -0.0}),\n",
       " frozendict.frozendict({'position': (1.0, -0.0), 'speed': (-0.16, 0.0), 'heading': 0.001}),\n",
       " frozendict.frozendict({'position': (1.0, -0.08), 'speed': (-0.28, 0.0), 'heading': 0.0}),\n",
       " frozendict.frozendict({'position': (0.0, 0.0), 'speed': (0.0, 0.0), 'heading': 0.0}),\n",
       " frozendict.frozendict({'position': (0.0, 0.0), 'speed': (0.0, 0.0), 'heading': 0.0}),\n",
       " frozendict.frozendict({'position': (0.0, 0.0), 'speed': (0.0, 0.0), 'heading': 0.0}),\n",
       " frozendict.frozendict({'position': (0.0, 0.0), 'speed': (0.0, 0.0), 'heading': 0.0}),\n",
       " frozendict.frozendict({'position': (0.0, 0.0), 'speed': (0.0, 0.0), 'heading': 0.0}))"
      ]
     },
     "execution_count": 75,
     "metadata": {},
     "output_type": "execute_result"
    }
   ],
   "source": [
    "vehicles = []\n",
    "for veh_state in obs:\n",
    "    feature_vals = {k: v for k,v in zip(config[\"observation\"][\"features\"], veh_state)}\n",
    "    veh = {}\n",
    "    veh[\"position\"] = tuple(np.round((feature_vals[\"x\"],feature_vals[\"y\"]), 2))\n",
    "    veh[\"speed\"] = tuple(np.round((feature_vals[\"vx\"],feature_vals[\"vy\"]), 2))\n",
    "    veh[\"heading\"] = np.round(feature_vals[\"heading\"], 3)\n",
    "    vehicles.append(frozendict(veh))\n",
    "vehicles = tuple(vehicles)\n",
    "vehicles"
   ]
  },
  {
   "cell_type": "code",
   "execution_count": 77,
   "metadata": {},
   "outputs": [
    {
     "data": {
      "text/plain": [
       "48"
      ]
     },
     "execution_count": 77,
     "metadata": {},
     "output_type": "execute_result"
    }
   ],
   "source": [
    "import sys\n",
    "\n",
    "# sys.getsizeof(transitions)\n",
    "sys.getsizeof(highway_mdp.copy_env())\n",
    "# sys.getsizeof(int(10.0))\n"
   ]
  }
 ],
 "metadata": {
  "kernelspec": {
   "display_name": "myHighwayEnv",
   "language": "python",
   "name": "python3"
  },
  "language_info": {
   "codemirror_mode": {
    "name": "ipython",
    "version": 3
   },
   "file_extension": ".py",
   "mimetype": "text/x-python",
   "name": "python",
   "nbconvert_exporter": "python",
   "pygments_lexer": "ipython3",
   "version": "3.12.7"
  }
 },
 "nbformat": 4,
 "nbformat_minor": 2
}
