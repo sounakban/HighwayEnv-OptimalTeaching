{
 "cells": [
  {
   "cell_type": "markdown",
   "metadata": {},
   "source": [
    "This is a standalone python notebook file where the highway environment is dicretized to a custom level of coarse granularity to reduce simulation complexity for faster generation of MDP tables."
   ]
  },
  {
   "cell_type": "code",
   "execution_count": 1,
   "metadata": {},
   "outputs": [
    {
     "name": "stdout",
     "output_type": "stream",
     "text": [
      "d:\\WorkFiles\\ProjectCode\\ActiveProjects\\HoLab\\Mine\\HighwayEnv-TRI\n"
     ]
    }
   ],
   "source": [
    "# Move up one directory level to import local instance of highway environment\n",
    "%cd ..\n",
    "# %pwd"
   ]
  },
  {
   "cell_type": "markdown",
   "metadata": {},
   "source": [
    "Import necessary modules"
   ]
  },
  {
   "cell_type": "code",
   "execution_count": 2,
   "metadata": {},
   "outputs": [],
   "source": [
    "from highway_env.envs.MDPwrapper_highwayenv import HighwayGridworldMDP\n",
    "from highway_env.envs.MDPwrapper_Gym import OptimalPolicy\n",
    "\n",
    "import logging\n",
    "logger = logging.getLogger()\n",
    "logger.setLevel(logging.INFO)    # Other options: INFO, WARNING, ERROR, CRITICAL\n",
    "\n",
    "import numpy as np\n",
    "import itertools as it\n",
    "\n",
    "from copy import deepcopy"
   ]
  },
  {
   "cell_type": "markdown",
   "metadata": {},
   "source": [
    "MDP Stuff"
   ]
  },
  {
   "cell_type": "code",
   "execution_count": 3,
   "metadata": {},
   "outputs": [],
   "source": [
    "# Define Configuration\n",
    "num_of_vehicles = 0\n",
    "num_of_ice = 5\n",
    "num_of_obstacles = 10\n",
    "env_length = 3000  # Max car speed (for MDP vehicle) is 30m/s At constant max speed, the simulation will last 100s in simulation time\n",
    "lane_count = 3\n",
    "config = {    \n",
    "        ## Parameters of interest ##\n",
    "        \"observation\": {\n",
    "            # For more details about observation parameters check out \"highway_env\\envs\\common\\observation.py\"\n",
    "            \"type\": \"Kinematics\",\n",
    "            \"vehicles_count\": num_of_vehicles+num_of_ice+5,   # Number of vehicles (and objects) to show in the observation. \n",
    "                                                                #   Keep greater than value of vehicles out outside obervation\n",
    "                                                                #   dictionary to observe all vehicles in the environment.\n",
    "            \"features\": [\"presence\", \"x\", \"y\", \"vx\", \"vy\"],# \"heading\"],\n",
    "            \"normalize\": False, # Normalize object coordinates\n",
    "            \"absolute\": True,   # Provide absolute coordinate of vehicles\n",
    "            \"order\": \"sorted\",\n",
    "            \"observe_intentions\": False,\n",
    "            \"include_obstacles\": True,\n",
    "            \"see_behind\": True  # Report vehicles behind the ego vehicle\n",
    "            },\n",
    "        ## Parameters specialized for the icy highway environment ##\n",
    "        \"ice_count\": num_of_ice,    # Number of ice sheets in the environment\n",
    "        \"obstacle_count\": num_of_obstacles,    # Number of obstacles in the environment\n",
    "        \"env_len\":  env_length,    # Length of the road\n",
    "        ## Keep these to default, because the fast versions of the environments implement different values ##\n",
    "        ## of these variables for faster execution ##\n",
    "        \"vehicles_count\": num_of_vehicles,\n",
    "        \"lanes_count\": lane_count,\n",
    "        \"simulation_frequency\": 5,\n",
    "        \"duration\": (env_length/20)+5,  # [in simulation seconds], minimum speed for MDP vehicle is 20m/s, with extra 5s\n",
    "        \"disable_collision_checks\": True,    # Check collisions for other vehicles\n",
    "        \"enable_lane_change\": False,\n",
    "        ## Other parameters aleady set by default configurations ##\n",
    "        # \"action\": {\n",
    "        #     \"type\": \"DiscreteMetaAction\",\n",
    "        # },\n",
    "        # \"controlled_vehicles\": 1,\n",
    "        # \"initial_lane_id\": None,\n",
    "        # \"ego_spacing\": 2,\n",
    "        # \"vehicles_density\": 1,\n",
    "        # \"collision_reward\": -1,  # The reward received when colliding with a vehicle.\n",
    "        # \"right_lane_reward\": 0.1,  # The reward received when driving on the right-most lanes, linearly mapped to\n",
    "        # # zero for other lanes.\n",
    "        # \"high_speed_reward\": 0.4,  # The reward received when driving at full speed, linearly mapped to zero for\n",
    "        # # lower speeds according to config[\"reward_speed_range\"].\n",
    "        # \"lane_change_reward\": 0,  # The reward received at each lane change action.\n",
    "        # \"reward_speed_range\": [20, 30],\n",
    "        # \"normalize_reward\": True,\n",
    "        # \"offroad_terminal\": False\n",
    "        }\n",
    "# highway_mdp = HighwayGridworldMDP('highway-v0', config=config, render_mode='rgb_array')\n",
    "# highway_mdp = HighwayGridworldMDP('highway-v0', config=config, render_mode=None)\n",
    "# highway_mdp = HighwayGridworldMDP('highway-fast-v0', config=config, render_mode=None)\n",
    "# highway_mdp = HighwayGridworldMDP('highway-icy-v0', config=config, render_mode=None)\n",
    "# highway_mdp = HighwayGridworldMDP('highway-icy-fast-v0', config=config, render_mode=None)\n",
    "highway_mdp = HighwayGridworldMDP('highway-icy-custom-v0', config=config, render_mode=None)"
   ]
  },
  {
   "cell_type": "code",
   "execution_count": 4,
   "metadata": {},
   "outputs": [
    {
     "data": {
      "text/plain": [
       "[3000.0, 8.0]"
      ]
     },
     "execution_count": 4,
     "metadata": {},
     "output_type": "execute_result"
    }
   ],
   "source": [
    "# Create discrete world grid\n",
    "temp = highway_mdp.env.unwrapped.road.network.lanes_list()\n",
    "x_max = max([lane.end[0] for lane in temp])\n",
    "y_max = max([lane.end[1] for lane in temp])\n",
    "#2# |Divide the environment into 600 blocks along the x-axis\n",
    "x_grid = np.linspace(0, x_max, 600)\n",
    "y_grid = np.linspace(0, y_max, lane_count)\n",
    "coord_list = list(it.product(x_grid, y_grid))\n",
    "[x_max, y_max]"
   ]
  },
  {
   "cell_type": "code",
   "execution_count": 5,
   "metadata": {},
   "outputs": [],
   "source": [
    "# veh_speed for MDP vehicle can be 18/25/32 [Vaerages to: 20/25/30]\n",
    "temp = highway_mdp.populate_MDPtable(coord_list, parallel_exec=False, speed = 25)   # notebook does not handle multiprocessing well\n",
    "# temp"
   ]
  },
  {
   "cell_type": "code",
   "execution_count": 6,
   "metadata": {},
   "outputs": [],
   "source": [
    "value_function = highway_mdp.value_iteration(iterations=10000)"
   ]
  },
  {
   "cell_type": "code",
   "execution_count": 7,
   "metadata": {},
   "outputs": [
    {
     "data": {
      "text/plain": [
       "[[(0, 0, 18), 2, (20.03338898163606, 4.0, 18.0)],\n",
       " [(20.03338898163606, 4.0, 18.0), 3, (40.06677796327212, 4.0, 25.0)],\n",
       " [(40.06677796327212, 4.0, 25.0), 4, (60.10016694490818, 4.0, 18.0)],\n",
       " [(60.10016694490818, 4.0, 18.0), 2, (80.13355592654425, 8.0, 18.0)],\n",
       " [(80.13355592654425, 8.0, 18.0), 3, (100.16694490818031, 8.0, 25.0)],\n",
       " [(100.16694490818031, 8.0, 25.0), 4, (120.20033388981636, 8.0, 18.0)],\n",
       " [(120.20033388981636, 8.0, 18.0), 3, (140.23372287145244, 8.0, 25.0)],\n",
       " [(140.23372287145244, 8.0, 25.0), 4, (165.27545909849752, 8.0, 18.0)],\n",
       " [(165.27545909849752, 8.0, 18.0), 0, (180.30050083472455, 4.0, 18.0)],\n",
       " [(180.30050083472455, 4.0, 18.0), 1, (200.33388981636062, 4.0, 18.0)],\n",
       " [(200.33388981636062, 4.0, 18.0), 3, (220.36727879799668, 4.0, 25.0)],\n",
       " [(220.36727879799668, 4.0, 25.0), 4, (240.40066777963273, 4.0, 18.0)],\n",
       " [(240.40066777963273, 4.0, 18.0), 2, (260.4340567612688, 8.0, 18.0)],\n",
       " [(260.4340567612688, 8.0, 18.0), 3, (280.4674457429049, 8.0, 25.0)],\n",
       " [(280.4674457429049, 8.0, 25.0), 4, (300.50083472454094, 8.0, 18.0)],\n",
       " [(300.50083472454094, 8.0, 18.0), 3, (325.542570951586, 8.0, 25.0)],\n",
       " [(325.542570951586, 8.0, 25.0), 4, (345.57595993322207, 8.0, 18.0)],\n",
       " [(345.57595993322207, 8.0, 18.0), 1, (365.6093489148581, 8.0, 18.0)],\n",
       " [(365.6093489148581, 8.0, 18.0), 3, (385.64273789649417, 8.0, 25.0)],\n",
       " [(385.64273789649417, 8.0, 25.0), 1, (410.68447412353925, 8.0, 25.0)],\n",
       " [(410.68447412353925, 8.0, 25.0), 4, (430.71786310517535, 8.0, 18.0)],\n",
       " [(430.71786310517535, 8.0, 18.0), 3, (455.75959933222043, 8.0, 25.0)],\n",
       " [(455.75959933222043, 8.0, 25.0), 4, (475.7929883138565, 8.0, 18.0)],\n",
       " [(475.7929883138565, 8.0, 18.0), 3, (495.82637729549253, 8.0, 25.0)],\n",
       " [(495.82637729549253, 8.0, 25.0), 4, (515.8597662771286, 8.0, 18.0)],\n",
       " [(515.8597662771286, 8.0, 18.0), 0, (535.8931552587646, 4.0, 18.0)],\n",
       " [(535.8931552587646, 4.0, 18.0), 0, (550.9181969949917, 0.0, 18.0)],\n",
       " [(550.9181969949917, 0.0, 18.0), 3, (575.9599332220367, 0.0, 25.0)],\n",
       " [(575.9599332220367, 0.0, 25.0), 2, (595.9933222036728, 4.0, 18.0)]]"
      ]
     },
     "execution_count": 7,
     "metadata": {},
     "output_type": "execute_result"
    }
   ],
   "source": [
    "policy = OptimalPolicy(highway_mdp)\n",
    "agent_traj, infor = highway_mdp.simulatePlan((0,0,18), policy, obs_config = highway_mdp.get_obsFeatures())\n",
    "agent_traj"
   ]
  },
  {
   "cell_type": "code",
   "execution_count": 31,
   "metadata": {},
   "outputs": [
    {
     "data": {
      "text/plain": [
       "{0: 86.76293497671844,\n",
       " 1: 86.79626831005177,\n",
       " 2: 86.79626831005177,\n",
       " 3: 2.6320894366839016,\n",
       " 4: 86.79626831005177}"
      ]
     },
     "execution_count": 31,
     "metadata": {},
     "output_type": "execute_result"
    }
   ],
   "source": [
    "value_function.action_values[(485.8096828046745, 8.0, 32.0)]"
   ]
  },
  {
   "cell_type": "code",
   "execution_count": 10,
   "metadata": {},
   "outputs": [
    {
     "data": {
      "text/plain": [
       "{0: 0.0, 1: 0.0, 2: 0.0, 3: 0.0, 4: 0.0}"
      ]
     },
     "execution_count": 10,
     "metadata": {},
     "output_type": "execute_result"
    }
   ],
   "source": [
    "value_function.action_values[(595.9933222036728, 4.0, 18.0)]"
   ]
  },
  {
   "cell_type": "code",
   "execution_count": 11,
   "metadata": {},
   "outputs": [
    {
     "data": {
      "text/plain": [
       "{0: 94.27947846229607,\n",
       " 1: 94.27947846229607,\n",
       " 2: 94.34614512896273,\n",
       " 3: 94.03863731093455,\n",
       " 4: 0.6666666666666666}"
      ]
     },
     "execution_count": 11,
     "metadata": {},
     "output_type": "execute_result"
    }
   ],
   "source": [
    "value_function.action_values[(575.9599332220367, 0.0, 25.0)]"
   ]
  },
  {
   "cell_type": "code",
   "execution_count": 9,
   "metadata": {},
   "outputs": [
    {
     "data": {
      "text/plain": [
       "True"
      ]
     },
     "execution_count": 9,
     "metadata": {},
     "output_type": "execute_result"
    }
   ],
   "source": [
    "highway_mdp._mdp_matrices.absorbing_state_mask[highway_mdp._mdp_matrices.state_list.index((595.9933222036728, 4.0, 18.0))]"
   ]
  },
  {
   "cell_type": "code",
   "execution_count": 16,
   "metadata": {},
   "outputs": [
    {
     "name": "stdout",
     "output_type": "stream",
     "text": [
      "[[1.0000000e+00 6.0064020e+02 3.6599650e+00 2.4976677e+01 1.0796338e+00]\n",
      " [1.0000000e+00 8.7000000e+02 4.0000000e+00 0.0000000e+00 0.0000000e+00]\n",
      " [1.0000000e+00 9.3200000e+02 4.0000000e+00 0.0000000e+00 0.0000000e+00]\n",
      " [1.0000000e+00 1.8610000e+03 4.0000000e+00 0.0000000e+00 0.0000000e+00]\n",
      " [1.0000000e+00 2.4390000e+03 0.0000000e+00 0.0000000e+00 0.0000000e+00]\n",
      " [1.0000000e+00 2.7530000e+03 0.0000000e+00 0.0000000e+00 0.0000000e+00]\n",
      " [1.0000000e+00 2.8600000e+03 8.0000000e+00 0.0000000e+00 0.0000000e+00]\n",
      " [0.0000000e+00 0.0000000e+00 0.0000000e+00 0.0000000e+00 0.0000000e+00]\n",
      " [0.0000000e+00 0.0000000e+00 0.0000000e+00 0.0000000e+00 0.0000000e+00]\n",
      " [0.0000000e+00 0.0000000e+00 0.0000000e+00 0.0000000e+00 0.0000000e+00]] False\n"
     ]
    },
    {
     "data": {
      "text/plain": [
       "(601.0016694490819, 4.0, 25.0)"
      ]
     },
     "execution_count": 16,
     "metadata": {},
     "output_type": "execute_result"
    }
   ],
   "source": [
    "sim_env = highway_mdp.set_agentState(deepcopy(highway_mdp.env), target_state=(575.9599332220367, 0.0, 25.0), obs_config = highway_mdp.get_obsFeatures())\n",
    "obs, reward, done, truncated, info = sim_env.step(2)\n",
    "print(obs, done)\n",
    "tuple(highway_mdp.get_nearestState(highway_mdp.obs_to_hashable(obs, obs_config = highway_mdp.get_obsFeatures())))"
   ]
  },
  {
   "cell_type": "code",
   "execution_count": 8,
   "metadata": {},
   "outputs": [],
   "source": [
    "# |Plot Simulation result\n",
    "# |Plot objects\n",
    "import numpy, imageio\n",
    "X,Y = env_length, lane_count\n",
    "obj_len = 15\n",
    "image = numpy.zeros((Y, X, 3), dtype=numpy.uint8)\n",
    "for obj in highway_mdp.env.unwrapped.road.objects:\n",
    "    if 'ice' in obj.__class__.__name__.lower():\n",
    "        plot_color = (0xFF, 0xFF, 0xFF)\n",
    "    else:\n",
    "        plot_color = (0xA8, 0x32, 0x3E)\n",
    "    obj_pos = obj.position.astype(int)\n",
    "    obj_xRange = range(int(obj_pos[0]-obj_len/2),int(obj_pos[0]+obj_len/2))\n",
    "    for obj_range in obj_xRange:\n",
    "        image[int(obj_pos[1]/4), obj_range, :] = plot_color\n",
    "# |Plot agent trajectory\n",
    "plot_color = (0xED, 0xE8, 0x4A)\n",
    "for traj_pos in agent_traj[:-1]:\n",
    "    traj_pos = traj_pos[0]\n",
    "    traj_xRange = range(int(traj_pos[0]-2),int(traj_pos[0]+2))\n",
    "    for x_pos in traj_xRange:\n",
    "        if x_pos >= X:\n",
    "            continue\n",
    "        image[int(traj_pos[1]/4), x_pos, :] = plot_color\n",
    "# |Plot agent final position\n",
    "plot_color = (0x6E, 0xE3, 0x5E)\n",
    "obj_pos = agent_traj[-1][0]\n",
    "obj_xRange = range(int(obj_pos[0]-obj_len/2),int(obj_pos[0]+obj_len/2))\n",
    "for obj_range in obj_xRange:\n",
    "    if obj_range >= X:\n",
    "        continue\n",
    "    image[int(obj_pos[1]/4), obj_range, :] = plot_color\n",
    "imageio.imwrite('output.png', image)"
   ]
  },
  {
   "cell_type": "code",
   "execution_count": null,
   "metadata": {},
   "outputs": [],
   "source": [
    "\n",
    "startCoord = (0,0)\n",
    "startCoord = tuple(highway_mdp.get_nearestGridCoord(highway_mdp.env.unwrapped.road.vehicles[0].position))\n",
    "acts = policy(startCoord)\n",
    "acts"
   ]
  },
  {
   "cell_type": "code",
   "execution_count": 9,
   "metadata": {},
   "outputs": [
    {
     "data": {
      "text/plain": [
       "[MDPVehicle #440: [150.36790864   8.        ],\n",
       " IDMVehicle #400: [173.77567741   4.        ],\n",
       " IDMVehicle #608: [195.86602574   8.        ]]"
      ]
     },
     "execution_count": 9,
     "metadata": {},
     "output_type": "execute_result"
    }
   ],
   "source": [
    "highway_mdp.env.unwrapped.road.vehicles"
   ]
  },
  {
   "cell_type": "code",
   "execution_count": 10,
   "metadata": {},
   "outputs": [],
   "source": [
    "highway_mdp_copy = deepcopy(highway_mdp)\n",
    "tmp = highway_mdp_copy.step(acts[0])\n",
    "# tmp = highway_mdp_copy.step(0)"
   ]
  },
  {
   "cell_type": "code",
   "execution_count": 11,
   "metadata": {},
   "outputs": [
    {
     "data": {
      "text/plain": [
       "((frozendict.frozendict({'position': (176.31, 8.0), 'speed': (25.0, 0.0), 'heading': -1}),\n",
       "  frozendict.frozendict({'position': (194.76, 5.99), 'speed': (15.19, -4.76), 'heading': -1}),\n",
       "  frozendict.frozendict({'position': (218.85, 8.0), 'speed': (0.0, 0.0), 'heading': -1}),\n",
       "  frozendict.frozendict({'position': (219.63, 4.0), 'speed': (20.4, 0.0), 'heading': -1}),\n",
       "  frozendict.frozendict({'position': (268.53, 0.0), 'speed': (0.0, 0.0), 'heading': -1}),\n",
       "  frozendict.frozendict({'position': (294.44, 0.0), 'speed': (0.0, 0.0), 'heading': -1}),\n",
       "  frozendict.frozendict({'position': (343.98, 4.0), 'speed': (0.0, 0.0), 'heading': -1}),\n",
       "  frozendict.frozendict({'position': (392.54, 8.0), 'speed': (0.0, 0.0), 'heading': -1}),\n",
       "  frozendict.frozendict({'position': (460.6, 4.0), 'speed': (0.0, 0.0), 'heading': -1}),\n",
       "  frozendict.frozendict({'position': (505.45, 0.0), 'speed': (0.0, 0.0), 'heading': -1}),\n",
       "  frozendict.frozendict({'position': (551.08, 8.0), 'speed': (0.0, 0.0), 'heading': -1}),\n",
       "  frozendict.frozendict({'position': (633.43, 0.0), 'speed': (0.0, 0.0), 'heading': -1})),\n",
       " 0.8666666666666667,\n",
       " False,\n",
       " False,\n",
       " {'speed': 25.0,\n",
       "  'crashed': False,\n",
       "  'action': 2,\n",
       "  'rewards': {'collision_reward': 0.0,\n",
       "   'right_lane_reward': 1.0,\n",
       "   'high_speed_reward': 0.5,\n",
       "   'on_road_reward': 1.0}})"
      ]
     },
     "execution_count": 11,
     "metadata": {},
     "output_type": "execute_result"
    }
   ],
   "source": [
    "tmp"
   ]
  },
  {
   "cell_type": "markdown",
   "metadata": {},
   "source": [
    "Construal code"
   ]
  },
  {
   "cell_type": "code",
   "execution_count": null,
   "metadata": {},
   "outputs": [],
   "source": [
    "# Construal MDP Code\n",
    "construals = highway_mdp.get_construals_singleobj()\n",
    "# len(construals)\n",
    "\n",
    "construal_policies = dict()\n",
    "for constr in construals:\n",
    "    print(\"currently running contrual \", len(construal_policies)+1)\n",
    "    # print(constr.env.unwrapped.road.vehicles)\n",
    "    # print(constr.env.unwrapped.road.objects)\n",
    "    # print(\"----------------\")\n",
    "    constr.populate_MDPtable(max_depth = max_depth)\n",
    "    value_function = constr.value_iteration()\n",
    "    policy = OptimalPolicy(constr)\n",
    "    construal_policies[constr] = policy"
   ]
  },
  {
   "cell_type": "code",
   "execution_count": 7,
   "metadata": {},
   "outputs": [
    {
     "name": "stdout",
     "output_type": "stream",
     "text": [
      "[1, 2, 3, 4]\n",
      "[1, 2, 3, 4]\n",
      "[1, 2, 3, 4]\n"
     ]
    },
    {
     "name": "stderr",
     "output_type": "stream",
     "text": [
      "c:\\Users\\Sounak\\anaconda3\\envs\\myHighwayEnv\\Lib\\site-packages\\gymnasium\\utils\\passive_env_checker.py:158: UserWarning: \u001b[33mWARN: The obs returned by the `step()` method is not within the observation space.\u001b[0m\n",
      "  logger.warn(f\"{pre} is not within the observation space.\")\n",
      "c:\\Users\\Sounak\\anaconda3\\envs\\myHighwayEnv\\Lib\\site-packages\\gymnasium\\utils\\passive_env_checker.py:158: UserWarning: \u001b[33mWARN: The obs returned by the `step()` method is not within the observation space.\u001b[0m\n",
      "  logger.warn(f\"{pre} is not within the observation space.\")\n",
      "c:\\Users\\Sounak\\anaconda3\\envs\\myHighwayEnv\\Lib\\site-packages\\gymnasium\\utils\\passive_env_checker.py:158: UserWarning: \u001b[33mWARN: The obs returned by the `step()` method is not within the observation space.\u001b[0m\n",
      "  logger.warn(f\"{pre} is not within the observation space.\")\n"
     ]
    },
    {
     "name": "stdout",
     "output_type": "stream",
     "text": [
      "[1, 2, 3, 4]\n",
      "[1, 2, 3, 4]\n",
      "[1, 2, 3, 4]\n"
     ]
    },
    {
     "name": "stderr",
     "output_type": "stream",
     "text": [
      "c:\\Users\\Sounak\\anaconda3\\envs\\myHighwayEnv\\Lib\\site-packages\\gymnasium\\utils\\passive_env_checker.py:158: UserWarning: \u001b[33mWARN: The obs returned by the `step()` method is not within the observation space.\u001b[0m\n",
      "  logger.warn(f\"{pre} is not within the observation space.\")\n",
      "c:\\Users\\Sounak\\anaconda3\\envs\\myHighwayEnv\\Lib\\site-packages\\gymnasium\\utils\\passive_env_checker.py:158: UserWarning: \u001b[33mWARN: The obs returned by the `step()` method is not within the observation space.\u001b[0m\n",
      "  logger.warn(f\"{pre} is not within the observation space.\")\n",
      "c:\\Users\\Sounak\\anaconda3\\envs\\myHighwayEnv\\Lib\\site-packages\\gymnasium\\utils\\passive_env_checker.py:158: UserWarning: \u001b[33mWARN: The obs returned by the `step()` method is not within the observation space.\u001b[0m\n",
      "  logger.warn(f\"{pre} is not within the observation space.\")\n"
     ]
    },
    {
     "name": "stdout",
     "output_type": "stream",
     "text": [
      "[1, 2, 3, 4]\n",
      "[1, 2, 3, 4]\n",
      "[1, 2, 3, 4]\n"
     ]
    },
    {
     "name": "stderr",
     "output_type": "stream",
     "text": [
      "c:\\Users\\Sounak\\anaconda3\\envs\\myHighwayEnv\\Lib\\site-packages\\gymnasium\\utils\\passive_env_checker.py:158: UserWarning: \u001b[33mWARN: The obs returned by the `step()` method is not within the observation space.\u001b[0m\n",
      "  logger.warn(f\"{pre} is not within the observation space.\")\n",
      "c:\\Users\\Sounak\\anaconda3\\envs\\myHighwayEnv\\Lib\\site-packages\\gymnasium\\utils\\passive_env_checker.py:158: UserWarning: \u001b[33mWARN: The obs returned by the `step()` method is not within the observation space.\u001b[0m\n",
      "  logger.warn(f\"{pre} is not within the observation space.\")\n",
      "c:\\Users\\Sounak\\anaconda3\\envs\\myHighwayEnv\\Lib\\site-packages\\gymnasium\\utils\\passive_env_checker.py:158: UserWarning: \u001b[33mWARN: The obs returned by the `step()` method is not within the observation space.\u001b[0m\n",
      "  logger.warn(f\"{pre} is not within the observation space.\")\n"
     ]
    },
    {
     "name": "stdout",
     "output_type": "stream",
     "text": [
      "[1, 2, 3, 4]\n",
      "[1, 2, 3, 4]\n",
      "[1, 2, 3, 4]\n"
     ]
    },
    {
     "name": "stderr",
     "output_type": "stream",
     "text": [
      "c:\\Users\\Sounak\\anaconda3\\envs\\myHighwayEnv\\Lib\\site-packages\\gymnasium\\utils\\passive_env_checker.py:158: UserWarning: \u001b[33mWARN: The obs returned by the `step()` method is not within the observation space.\u001b[0m\n",
      "  logger.warn(f\"{pre} is not within the observation space.\")\n",
      "c:\\Users\\Sounak\\anaconda3\\envs\\myHighwayEnv\\Lib\\site-packages\\gymnasium\\utils\\passive_env_checker.py:158: UserWarning: \u001b[33mWARN: The obs returned by the `step()` method is not within the observation space.\u001b[0m\n",
      "  logger.warn(f\"{pre} is not within the observation space.\")\n",
      "c:\\Users\\Sounak\\anaconda3\\envs\\myHighwayEnv\\Lib\\site-packages\\gymnasium\\utils\\passive_env_checker.py:158: UserWarning: \u001b[33mWARN: The obs returned by the `step()` method is not within the observation space.\u001b[0m\n",
      "  logger.warn(f\"{pre} is not within the observation space.\")\n"
     ]
    },
    {
     "name": "stdout",
     "output_type": "stream",
     "text": [
      "[1, 2, 3, 4]\n",
      "[1, 2, 3, 4]\n"
     ]
    },
    {
     "name": "stderr",
     "output_type": "stream",
     "text": [
      "c:\\Users\\Sounak\\anaconda3\\envs\\myHighwayEnv\\Lib\\site-packages\\gymnasium\\utils\\passive_env_checker.py:158: UserWarning: \u001b[33mWARN: The obs returned by the `step()` method is not within the observation space.\u001b[0m\n",
      "  logger.warn(f\"{pre} is not within the observation space.\")\n",
      "c:\\Users\\Sounak\\anaconda3\\envs\\myHighwayEnv\\Lib\\site-packages\\gymnasium\\utils\\passive_env_checker.py:158: UserWarning: \u001b[33mWARN: The obs returned by the `step()` method is not within the observation space.\u001b[0m\n",
      "  logger.warn(f\"{pre} is not within the observation space.\")\n"
     ]
    },
    {
     "name": "stdout",
     "output_type": "stream",
     "text": [
      "[1, 2, 3, 4]\n",
      "[1, 2, 3, 4]\n"
     ]
    },
    {
     "name": "stderr",
     "output_type": "stream",
     "text": [
      "c:\\Users\\Sounak\\anaconda3\\envs\\myHighwayEnv\\Lib\\site-packages\\gymnasium\\utils\\passive_env_checker.py:158: UserWarning: \u001b[33mWARN: The obs returned by the `step()` method is not within the observation space.\u001b[0m\n",
      "  logger.warn(f\"{pre} is not within the observation space.\")\n",
      "c:\\Users\\Sounak\\anaconda3\\envs\\myHighwayEnv\\Lib\\site-packages\\gymnasium\\utils\\passive_env_checker.py:158: UserWarning: \u001b[33mWARN: The obs returned by the `step()` method is not within the observation space.\u001b[0m\n",
      "  logger.warn(f\"{pre} is not within the observation space.\")\n"
     ]
    },
    {
     "name": "stdout",
     "output_type": "stream",
     "text": [
      "[1, 2, 3, 4]\n",
      "[1, 2, 3, 4]\n",
      "[1, 2, 3, 4]\n"
     ]
    },
    {
     "name": "stderr",
     "output_type": "stream",
     "text": [
      "c:\\Users\\Sounak\\anaconda3\\envs\\myHighwayEnv\\Lib\\site-packages\\gymnasium\\utils\\passive_env_checker.py:158: UserWarning: \u001b[33mWARN: The obs returned by the `step()` method is not within the observation space.\u001b[0m\n",
      "  logger.warn(f\"{pre} is not within the observation space.\")\n",
      "c:\\Users\\Sounak\\anaconda3\\envs\\myHighwayEnv\\Lib\\site-packages\\gymnasium\\utils\\passive_env_checker.py:158: UserWarning: \u001b[33mWARN: The obs returned by the `step()` method is not within the observation space.\u001b[0m\n",
      "  logger.warn(f\"{pre} is not within the observation space.\")\n",
      "c:\\Users\\Sounak\\anaconda3\\envs\\myHighwayEnv\\Lib\\site-packages\\gymnasium\\utils\\passive_env_checker.py:158: UserWarning: \u001b[33mWARN: The obs returned by the `step()` method is not within the observation space.\u001b[0m\n",
      "  logger.warn(f\"{pre} is not within the observation space.\")\n"
     ]
    },
    {
     "name": "stdout",
     "output_type": "stream",
     "text": [
      "[1, 2, 3, 4]\n",
      "[1, 2, 3, 4]\n"
     ]
    },
    {
     "name": "stderr",
     "output_type": "stream",
     "text": [
      "c:\\Users\\Sounak\\anaconda3\\envs\\myHighwayEnv\\Lib\\site-packages\\gymnasium\\utils\\passive_env_checker.py:158: UserWarning: \u001b[33mWARN: The obs returned by the `step()` method is not within the observation space.\u001b[0m\n",
      "  logger.warn(f\"{pre} is not within the observation space.\")\n",
      "c:\\Users\\Sounak\\anaconda3\\envs\\myHighwayEnv\\Lib\\site-packages\\gymnasium\\utils\\passive_env_checker.py:158: UserWarning: \u001b[33mWARN: The obs returned by the `step()` method is not within the observation space.\u001b[0m\n",
      "  logger.warn(f\"{pre} is not within the observation space.\")\n"
     ]
    },
    {
     "name": "stdout",
     "output_type": "stream",
     "text": [
      "[1, 2, 3, 4]\n",
      "[1, 2, 3, 4]\n"
     ]
    },
    {
     "name": "stderr",
     "output_type": "stream",
     "text": [
      "c:\\Users\\Sounak\\anaconda3\\envs\\myHighwayEnv\\Lib\\site-packages\\gymnasium\\utils\\passive_env_checker.py:158: UserWarning: \u001b[33mWARN: The obs returned by the `step()` method is not within the observation space.\u001b[0m\n",
      "  logger.warn(f\"{pre} is not within the observation space.\")\n",
      "c:\\Users\\Sounak\\anaconda3\\envs\\myHighwayEnv\\Lib\\site-packages\\gymnasium\\utils\\passive_env_checker.py:158: UserWarning: \u001b[33mWARN: The obs returned by the `step()` method is not within the observation space.\u001b[0m\n",
      "  logger.warn(f\"{pre} is not within the observation space.\")\n"
     ]
    },
    {
     "name": "stdout",
     "output_type": "stream",
     "text": [
      "[1, 2, 3, 4]\n",
      "[1, 2, 3, 4]\n"
     ]
    },
    {
     "name": "stderr",
     "output_type": "stream",
     "text": [
      "c:\\Users\\Sounak\\anaconda3\\envs\\myHighwayEnv\\Lib\\site-packages\\gymnasium\\utils\\passive_env_checker.py:158: UserWarning: \u001b[33mWARN: The obs returned by the `step()` method is not within the observation space.\u001b[0m\n",
      "  logger.warn(f\"{pre} is not within the observation space.\")\n",
      "c:\\Users\\Sounak\\anaconda3\\envs\\myHighwayEnv\\Lib\\site-packages\\gymnasium\\utils\\passive_env_checker.py:158: UserWarning: \u001b[33mWARN: The obs returned by the `step()` method is not within the observation space.\u001b[0m\n",
      "  logger.warn(f\"{pre} is not within the observation space.\")\n",
      "c:\\Users\\Sounak\\anaconda3\\envs\\myHighwayEnv\\Lib\\site-packages\\gymnasium\\utils\\passive_env_checker.py:158: UserWarning: \u001b[33mWARN: The obs returned by the `step()` method is not within the observation space.\u001b[0m\n",
      "  logger.warn(f\"{pre} is not within the observation space.\")\n"
     ]
    },
    {
     "name": "stdout",
     "output_type": "stream",
     "text": [
      "[1, 2, 3, 4]\n",
      "[1, 2, 3, 4]\n",
      "[1, 2, 3, 4]\n"
     ]
    },
    {
     "name": "stderr",
     "output_type": "stream",
     "text": [
      "c:\\Users\\Sounak\\anaconda3\\envs\\myHighwayEnv\\Lib\\site-packages\\gymnasium\\utils\\passive_env_checker.py:158: UserWarning: \u001b[33mWARN: The obs returned by the `step()` method is not within the observation space.\u001b[0m\n",
      "  logger.warn(f\"{pre} is not within the observation space.\")\n",
      "c:\\Users\\Sounak\\anaconda3\\envs\\myHighwayEnv\\Lib\\site-packages\\gymnasium\\utils\\passive_env_checker.py:158: UserWarning: \u001b[33mWARN: The obs returned by the `step()` method is not within the observation space.\u001b[0m\n",
      "  logger.warn(f\"{pre} is not within the observation space.\")\n",
      "c:\\Users\\Sounak\\anaconda3\\envs\\myHighwayEnv\\Lib\\site-packages\\gymnasium\\utils\\passive_env_checker.py:158: UserWarning: \u001b[33mWARN: The obs returned by the `step()` method is not within the observation space.\u001b[0m\n",
      "  logger.warn(f\"{pre} is not within the observation space.\")\n"
     ]
    },
    {
     "name": "stdout",
     "output_type": "stream",
     "text": [
      "[1, 2, 3, 4]\n",
      "[1, 2, 3, 4]\n",
      "[1, 2, 3, 4]\n"
     ]
    },
    {
     "name": "stderr",
     "output_type": "stream",
     "text": [
      "c:\\Users\\Sounak\\anaconda3\\envs\\myHighwayEnv\\Lib\\site-packages\\gymnasium\\utils\\passive_env_checker.py:158: UserWarning: \u001b[33mWARN: The obs returned by the `step()` method is not within the observation space.\u001b[0m\n",
      "  logger.warn(f\"{pre} is not within the observation space.\")\n",
      "c:\\Users\\Sounak\\anaconda3\\envs\\myHighwayEnv\\Lib\\site-packages\\gymnasium\\utils\\passive_env_checker.py:158: UserWarning: \u001b[33mWARN: The obs returned by the `step()` method is not within the observation space.\u001b[0m\n",
      "  logger.warn(f\"{pre} is not within the observation space.\")\n"
     ]
    }
   ],
   "source": [
    "construal_rewards = {}\n",
    "for constr, policy in construal_policies.items():\n",
    "    actns = policy(constr.current_state)\n",
    "    print(actns)\n",
    "    temp_mdp = highway_mdp.get_copy()\n",
    "    obs, rwrd, done, truncated, info = temp_mdp.step(actns[0])\n",
    "    construal_rewards[constr] = rwrd\n",
    "\n",
    "# TODO: take optimal actions based on each policy and calculate reward\n",
    "# Question: The behavior of other vehicles will also change in these construals \n",
    "#           (do we account for that by repreating the construal creation process at each timestep?)\n",
    "\n",
    "# #2# The below oprations can be repeated upto max depth iterations, to execute all actions calculated by the current policy\n",
    "# acts = policy(highway_mdp.current_state)\n",
    "# _ = highway_mdp.step(acts[0])"
   ]
  },
  {
   "cell_type": "code",
   "execution_count": 6,
   "metadata": {},
   "outputs": [
    {
     "data": {
      "text/plain": [
       "{<highway_env.envs.discreteMDP_wrapper.HighwayDiscreteMDP at 0x22279d3ffe0>: 0.8666666666666667,\n",
       " <highway_env.envs.discreteMDP_wrapper.HighwayDiscreteMDP at 0x2227cd14590>: 0.8666666666666667,\n",
       " <highway_env.envs.discreteMDP_wrapper.HighwayDiscreteMDP at 0x2227d6378c0>: 0.8666666666666667,\n",
       " <highway_env.envs.discreteMDP_wrapper.HighwayDiscreteMDP at 0x2227ccb4f20>: 0.8666666666666667,\n",
       " <highway_env.envs.discreteMDP_wrapper.HighwayDiscreteMDP at 0x2227d8589e0>: 0.8666666666666667,\n",
       " <highway_env.envs.discreteMDP_wrapper.HighwayDiscreteMDP at 0x2227d991ac0>: 0.8666666666666667,\n",
       " <highway_env.envs.discreteMDP_wrapper.HighwayDiscreteMDP at 0x2227d8a6e40>: 0.8666666666666667,\n",
       " <highway_env.envs.discreteMDP_wrapper.HighwayDiscreteMDP at 0x2227d858800>: 0.8666666666666667,\n",
       " <highway_env.envs.discreteMDP_wrapper.HighwayDiscreteMDP at 0x2227d7c7e30>: 0.8666666666666667,\n",
       " <highway_env.envs.discreteMDP_wrapper.HighwayDiscreteMDP at 0x2227d9ce0c0>: 0.8666666666666667,\n",
       " <highway_env.envs.discreteMDP_wrapper.HighwayDiscreteMDP at 0x2227ce6da60>: 0.8666666666666667,\n",
       " <highway_env.envs.discreteMDP_wrapper.HighwayDiscreteMDP at 0x2227d9ebf20>: 0.8666666666666667,\n",
       " <highway_env.envs.discreteMDP_wrapper.HighwayDiscreteMDP at 0x2227d9ebb30>: 0.8666666666666667,\n",
       " <highway_env.envs.discreteMDP_wrapper.HighwayDiscreteMDP at 0x2227d9ebfe0>: 0.8666666666666667,\n",
       " <highway_env.envs.discreteMDP_wrapper.HighwayDiscreteMDP at 0x2227d9eba10>: 0.8666666666666667,\n",
       " <highway_env.envs.discreteMDP_wrapper.HighwayDiscreteMDP at 0x2227d73c320>: 0.8666666666666667,\n",
       " <highway_env.envs.discreteMDP_wrapper.HighwayDiscreteMDP at 0x2227da03b30>: 0.8666666666666667,\n",
       " <highway_env.envs.discreteMDP_wrapper.HighwayDiscreteMDP at 0x2227da03ad0>: 0.8666666666666667,\n",
       " <highway_env.envs.discreteMDP_wrapper.HighwayDiscreteMDP at 0x2227d82bb60>: 0.8666666666666667,\n",
       " <highway_env.envs.discreteMDP_wrapper.HighwayDiscreteMDP at 0x2227da02fc0>: 0.8666666666666667,\n",
       " <highway_env.envs.discreteMDP_wrapper.HighwayDiscreteMDP at 0x2227da02e70>: 0.8666666666666667,\n",
       " <highway_env.envs.discreteMDP_wrapper.HighwayDiscreteMDP at 0x2227da1f770>: 0.8666666666666667,\n",
       " <highway_env.envs.discreteMDP_wrapper.HighwayDiscreteMDP at 0x2227da1f680>: 0.8666666666666667,\n",
       " <highway_env.envs.discreteMDP_wrapper.HighwayDiscreteMDP at 0x2227da1fad0>: 0.8666666666666667,\n",
       " <highway_env.envs.discreteMDP_wrapper.HighwayDiscreteMDP at 0x2227da1dbe0>: 0.8666666666666667,\n",
       " <highway_env.envs.discreteMDP_wrapper.HighwayDiscreteMDP at 0x2227da1d1c0>: 0.8666666666666667,\n",
       " <highway_env.envs.discreteMDP_wrapper.HighwayDiscreteMDP at 0x2227da2f290>: 0.8666666666666667,\n",
       " <highway_env.envs.discreteMDP_wrapper.HighwayDiscreteMDP at 0x2227da2ff50>: 0.8666666666666667,\n",
       " <highway_env.envs.discreteMDP_wrapper.HighwayDiscreteMDP at 0x2227da2e4b0>: 0.8666666666666667,\n",
       " <highway_env.envs.discreteMDP_wrapper.HighwayDiscreteMDP at 0x2227da2fbc0>: 0.8666666666666667,\n",
       " <highway_env.envs.discreteMDP_wrapper.HighwayDiscreteMDP at 0x2227da2f680>: 0.8666666666666667}"
      ]
     },
     "execution_count": 6,
     "metadata": {},
     "output_type": "execute_result"
    }
   ],
   "source": [
    "construal_rewards\n",
    "# len(highway_mdp.env.unwrapped.road.vehicles)\n",
    "# highway_mdp.env.unwrapped.road.vehicles\n",
    "# len(highway_mdp.env.unwrapped.road.objects)\n",
    "# highway_mdp.env.unwrapped.road.objects\n",
    "# construals[3].env.unwrapped.road.vehicles\n",
    "# construals[1].env.unwrapped.road.objects"
   ]
  },
  {
   "cell_type": "code",
   "execution_count": 15,
   "metadata": {},
   "outputs": [
    {
     "data": {
      "text/plain": [
       "(frozendict.frozendict({'position': (154.56, 4.0), 'speed': (25.0, 0.0), 'heading': 0.0}),\n",
       " frozendict.frozendict({'position': (151.09, 4.0), 'speed': (0.0, 0.0), 'heading': -1}),\n",
       " frozendict.frozendict({'position': (176.5, 0.0), 'speed': (23.3, 0.0), 'heading': 0.0}),\n",
       " frozendict.frozendict({'position': (197.53, 0.0), 'speed': (21.31, 0.0), 'heading': 0.0}),\n",
       " frozendict.frozendict({'position': (218.85, 8.0), 'speed': (0.0, 0.0), 'heading': -1}),\n",
       " frozendict.frozendict({'position': (221.24, 8.0), 'speed': (23.13, 0.0), 'heading': 0.0}),\n",
       " frozendict.frozendict({'position': (242.76, 0.0), 'speed': (22.4, 0.0), 'heading': 0.0}),\n",
       " frozendict.frozendict({'position': (265.23, 4.0), 'speed': (22.53, 0.0), 'heading': 0.0}),\n",
       " frozendict.frozendict({'position': (268.53, 0.0), 'speed': (0.0, 0.0), 'heading': -1}),\n",
       " frozendict.frozendict({'position': (288.73, 8.0), 'speed': (21.33, 0.0), 'heading': 0.0}),\n",
       " frozendict.frozendict({'position': (294.44, 0.0), 'speed': (0.0, 0.0), 'heading': -1}),\n",
       " frozendict.frozendict({'position': (313.14, 4.0), 'speed': (21.45, 0.0), 'heading': 0.0}),\n",
       " frozendict.frozendict({'position': (335.64, 4.0), 'speed': (22.26, 0.0), 'heading': 0.0}),\n",
       " frozendict.frozendict({'position': (343.98, 4.0), 'speed': (0.0, 0.0), 'heading': -1}),\n",
       " frozendict.frozendict({'position': (0.0, 0.0), 'speed': (0.0, 0.0), 'heading': 0.0}),\n",
       " frozendict.frozendict({'position': (0.0, 0.0), 'speed': (0.0, 0.0), 'heading': 0.0}),\n",
       " frozendict.frozendict({'position': (0.0, 0.0), 'speed': (0.0, 0.0), 'heading': 0.0}),\n",
       " frozendict.frozendict({'position': (0.0, 0.0), 'speed': (0.0, 0.0), 'heading': 0.0}),\n",
       " frozendict.frozendict({'position': (0.0, 0.0), 'speed': (0.0, 0.0), 'heading': 0.0}),\n",
       " frozendict.frozendict({'position': (0.0, 0.0), 'speed': (0.0, 0.0), 'heading': 0.0}),\n",
       " frozendict.frozendict({'position': (0.0, 0.0), 'speed': (0.0, 0.0), 'heading': 0.0}),\n",
       " frozendict.frozendict({'position': (0.0, 0.0), 'speed': (0.0, 0.0), 'heading': 0.0}),\n",
       " frozendict.frozendict({'position': (0.0, 0.0), 'speed': (0.0, 0.0), 'heading': 0.0}),\n",
       " frozendict.frozendict({'position': (0.0, 0.0), 'speed': (0.0, 0.0), 'heading': 0.0}),\n",
       " frozendict.frozendict({'position': (0.0, 0.0), 'speed': (0.0, 0.0), 'heading': 0.0}),\n",
       " frozendict.frozendict({'position': (0.0, 0.0), 'speed': (0.0, 0.0), 'heading': 0.0}),\n",
       " frozendict.frozendict({'position': (0.0, 0.0), 'speed': (0.0, 0.0), 'heading': 0.0}),\n",
       " frozendict.frozendict({'position': (0.0, 0.0), 'speed': (0.0, 0.0), 'heading': 0.0}),\n",
       " frozendict.frozendict({'position': (0.0, 0.0), 'speed': (0.0, 0.0), 'heading': 0.0}),\n",
       " frozendict.frozendict({'position': (0.0, 0.0), 'speed': (0.0, 0.0), 'heading': 0.0}),\n",
       " frozendict.frozendict({'position': (0.0, 0.0), 'speed': (0.0, 0.0), 'heading': 0.0}),\n",
       " frozendict.frozendict({'position': (0.0, 0.0), 'speed': (0.0, 0.0), 'heading': 0.0}),\n",
       " frozendict.frozendict({'position': (0.0, 0.0), 'speed': (0.0, 0.0), 'heading': 0.0}),\n",
       " frozendict.frozendict({'position': (0.0, 0.0), 'speed': (0.0, 0.0), 'heading': 0.0}),\n",
       " frozendict.frozendict({'position': (0.0, 0.0), 'speed': (0.0, 0.0), 'heading': 0.0}),\n",
       " frozendict.frozendict({'position': (0.0, 0.0), 'speed': (0.0, 0.0), 'heading': 0.0}),\n",
       " frozendict.frozendict({'position': (0.0, 0.0), 'speed': (0.0, 0.0), 'heading': 0.0}),\n",
       " frozendict.frozendict({'position': (0.0, 0.0), 'speed': (0.0, 0.0), 'heading': 0.0}),\n",
       " frozendict.frozendict({'position': (0.0, 0.0), 'speed': (0.0, 0.0), 'heading': 0.0}),\n",
       " frozendict.frozendict({'position': (0.0, 0.0), 'speed': (0.0, 0.0), 'heading': 0.0}),\n",
       " frozendict.frozendict({'position': (0.0, 0.0), 'speed': (0.0, 0.0), 'heading': 0.0}),\n",
       " frozendict.frozendict({'position': (0.0, 0.0), 'speed': (0.0, 0.0), 'heading': 0.0}),\n",
       " frozendict.frozendict({'position': (0.0, 0.0), 'speed': (0.0, 0.0), 'heading': 0.0}),\n",
       " frozendict.frozendict({'position': (0.0, 0.0), 'speed': (0.0, 0.0), 'heading': 0.0}),\n",
       " frozendict.frozendict({'position': (0.0, 0.0), 'speed': (0.0, 0.0), 'heading': 0.0}),\n",
       " frozendict.frozendict({'position': (0.0, 0.0), 'speed': (0.0, 0.0), 'heading': 0.0}),\n",
       " frozendict.frozendict({'position': (0.0, 0.0), 'speed': (0.0, 0.0), 'heading': 0.0}),\n",
       " frozendict.frozendict({'position': (0.0, 0.0), 'speed': (0.0, 0.0), 'heading': 0.0}),\n",
       " frozendict.frozendict({'position': (0.0, 0.0), 'speed': (0.0, 0.0), 'heading': 0.0}),\n",
       " frozendict.frozendict({'position': (0.0, 0.0), 'speed': (0.0, 0.0), 'heading': 0.0}))"
      ]
     },
     "execution_count": 15,
     "metadata": {},
     "output_type": "execute_result"
    }
   ],
   "source": [
    "# construal_policies[0][0].first_state\n",
    "# construal_policies[0][0].current_state\n",
    "# policy(construal_policies[0][0].current_state)"
   ]
  },
  {
   "cell_type": "markdown",
   "metadata": {},
   "source": [
    "TODO:\n",
    "1. Create a m-vehicle n-icesheet environment\n",
    "2. Split it into x=m+n+1 separate environments each with a single ice-sheet or vehicle or completely empty\n",
    "3. Calculate the optimal policy for each of the x environments\n",
    "4. Run each of those poliies in the oriinal m-vehicle n-icesheet environment."
   ]
  },
  {
   "cell_type": "markdown",
   "metadata": {},
   "source": [
    "Print MDP Tables"
   ]
  },
  {
   "cell_type": "code",
   "execution_count": 5,
   "metadata": {},
   "outputs": [
    {
     "name": "stdout",
     "output_type": "stream",
     "text": [
      "{'LANE_LEFT': 0, 'IDLE': 1, 'LANE_RIGHT': 2, 'FASTER': 3, 'SLOWER': 4}\n"
     ]
    },
    {
     "data": {
      "text/plain": [
       "{(frozendict.frozendict({'position': (153.62, 0.0), 'speed': (25.0, 0.0), 'heading': 0.0}),\n",
       "  0): {frozendict.frozendict({'position': (178.62, 0.0), 'speed': (25.0, 0.0), 'heading': 0.0}): 1},\n",
       " (frozendict.frozendict({'position': (153.62, 0.0), 'speed': (25.0, 0.0), 'heading': 0.0}),\n",
       "  1): {frozendict.frozendict({'position': (178.62, 0.0), 'speed': (25.0, 0.0), 'heading': 0.0}): 1},\n",
       " (frozendict.frozendict({'position': (153.62, 0.0), 'speed': (25.0, 0.0), 'heading': 0.0}),\n",
       "  2): {frozendict.frozendict({'position': (178.3, 3.66), 'speed': (24.98, 1.08), 'heading': 0.043}): 1},\n",
       " (frozendict.frozendict({'position': (153.62, 0.0), 'speed': (25.0, 0.0), 'heading': 0.0}),\n",
       "  3): {frozendict.frozendict({'position': (181.02, 0.0), 'speed': (29.34, 0.0), 'heading': 0.0}): 1},\n",
       " (frozendict.frozendict({'position': (153.62, 0.0), 'speed': (25.0, 0.0), 'heading': 0.0}),\n",
       "  4): {frozendict.frozendict({'position': (176.23, 0.0), 'speed': (20.66, 0.0), 'heading': 0.0}): 1},\n",
       " (frozendict.frozendict({'position': (176.23, 0.0), 'speed': (20.66, 0.0), 'heading': 0.0}),\n",
       "  0): {frozendict.frozendict({'position': (196.57, 0.0), 'speed': (20.09, 0.0), 'heading': 0.0}): 1},\n",
       " (frozendict.frozendict({'position': (176.23, 0.0), 'speed': (20.66, 0.0), 'heading': 0.0}),\n",
       "  1): {frozendict.frozendict({'position': (196.57, 0.0), 'speed': (20.09, 0.0), 'heading': 0.0}): 1},\n",
       " (frozendict.frozendict({'position': (176.23, 0.0), 'speed': (20.66, 0.0), 'heading': 0.0}),\n",
       "  2): {frozendict.frozendict({'position': (196.19, 3.6), 'speed': (20.05, 1.16), 'heading': 0.058}): 1},\n",
       " (frozendict.frozendict({'position': (176.23, 0.0), 'speed': (20.66, 0.0), 'heading': 0.0}),\n",
       "  3): {frozendict.frozendict({'position': (198.96, 0.0), 'speed': (24.43, 0.0), 'heading': 0.0}): 1},\n",
       " (frozendict.frozendict({'position': (176.23, 0.0), 'speed': (20.66, 0.0), 'heading': 0.0}),\n",
       "  4): {frozendict.frozendict({'position': (196.57, 0.0), 'speed': (20.09, 0.0), 'heading': 0.0}): 1},\n",
       " (frozendict.frozendict({'position': (178.62, 0.0), 'speed': (25.0, 0.0), 'heading': 0.0}),\n",
       "  0): {frozendict.frozendict({'position': (203.62, 0.0), 'speed': (25.0, 0.0), 'heading': 0.0}): 1},\n",
       " (frozendict.frozendict({'position': (178.62, 0.0), 'speed': (25.0, 0.0), 'heading': 0.0}),\n",
       "  1): {frozendict.frozendict({'position': (203.62, 0.0), 'speed': (25.0, 0.0), 'heading': 0.0}): 1},\n",
       " (frozendict.frozendict({'position': (178.62, 0.0), 'speed': (25.0, 0.0), 'heading': 0.0}),\n",
       "  2): {frozendict.frozendict({'position': (203.3, 3.66), 'speed': (24.98, 1.08), 'heading': 0.043}): 1},\n",
       " (frozendict.frozendict({'position': (178.62, 0.0), 'speed': (25.0, 0.0), 'heading': 0.0}),\n",
       "  3): {frozendict.frozendict({'position': (206.02, 0.0), 'speed': (29.34, 0.0), 'heading': 0.0}): 1},\n",
       " (frozendict.frozendict({'position': (178.62, 0.0), 'speed': (25.0, 0.0), 'heading': 0.0}),\n",
       "  4): {frozendict.frozendict({'position': (201.23, 0.0), 'speed': (20.66, 0.0), 'heading': 0.0}): 1},\n",
       " (frozendict.frozendict({'position': (178.3, 3.66), 'speed': (24.98, 1.08), 'heading': 0.043}),\n",
       "  0): {frozendict.frozendict({'position': (203.03, 0.33), 'speed': (24.98, -1.04), 'heading': -0.042}): 1},\n",
       " (frozendict.frozendict({'position': (178.3, 3.66), 'speed': (24.98, 1.08), 'heading': 0.043}),\n",
       "  1): {frozendict.frozendict({'position': (203.3, 3.99), 'speed': (25.0, 0.04), 'heading': 0.002}): 1},\n",
       " (frozendict.frozendict({'position': (178.3, 3.66), 'speed': (24.98, 1.08), 'heading': 0.043}),\n",
       "  2): {frozendict.frozendict({'position': (202.92, 7.65), 'speed': (24.98, 1.12), 'heading': 0.045}): 1},\n",
       " (frozendict.frozendict({'position': (178.3, 3.66), 'speed': (24.98, 1.08), 'heading': 0.043}),\n",
       "  3): {frozendict.frozendict({'position': (205.69, 3.99), 'speed': (29.34, 0.03), 'heading': 0.001}): 1},\n",
       " (frozendict.frozendict({'position': (178.3, 3.66), 'speed': (24.98, 1.08), 'heading': 0.043}),\n",
       "  4): {frozendict.frozendict({'position': (200.9, 3.98), 'speed': (20.66, 0.05), 'heading': 0.002}): 1},\n",
       " (frozendict.frozendict({'position': (181.02, 0.0), 'speed': (29.34, 0.0), 'heading': 0.0}),\n",
       "  0): {frozendict.frozendict({'position': (210.67, 0.0), 'speed': (29.91, 0.0), 'heading': 0.0}): 1},\n",
       " (frozendict.frozendict({'position': (181.02, 0.0), 'speed': (29.34, 0.0), 'heading': 0.0}),\n",
       "  1): {frozendict.frozendict({'position': (210.67, 0.0), 'speed': (29.91, 0.0), 'heading': 0.0}): 1},\n",
       " (frozendict.frozendict({'position': (181.02, 0.0), 'speed': (29.34, 0.0), 'heading': 0.0}),\n",
       "  2): {frozendict.frozendict({'position': (210.39, 3.71), 'speed': (29.9, 1.02), 'heading': 0.034}): 1},\n",
       " (frozendict.frozendict({'position': (181.02, 0.0), 'speed': (29.34, 0.0), 'heading': 0.0}),\n",
       "  3): {frozendict.frozendict({'position': (210.67, 0.0), 'speed': (29.91, 0.0), 'heading': 0.0}): 1},\n",
       " (frozendict.frozendict({'position': (181.02, 0.0), 'speed': (29.34, 0.0), 'heading': 0.0}),\n",
       "  4): {frozendict.frozendict({'position': (208.28, 0.0), 'speed': (25.57, 0.0), 'heading': 0.0}): 1}}"
      ]
     },
     "execution_count": 5,
     "metadata": {},
     "output_type": "execute_result"
    }
   ],
   "source": [
    "print(highway_mdp.env.unwrapped.action_type.actions_indexes)\n",
    "\n",
    "highway_mdp.currMDP.transition"
   ]
  },
  {
   "cell_type": "code",
   "execution_count": 6,
   "metadata": {},
   "outputs": [
    {
     "data": {
      "text/plain": [
       "{(frozendict.frozendict({'position': (153.62, 0.0), 'speed': (25.0, 0.0), 'heading': 0.0}),\n",
       "  0,\n",
       "  frozendict.frozendict({'position': (178.62, 0.0), 'speed': (25.0, 0.0), 'heading': 0.0})): 0.7999999999999999,\n",
       " (frozendict.frozendict({'position': (153.62, 0.0), 'speed': (25.0, 0.0), 'heading': 0.0}),\n",
       "  1,\n",
       "  frozendict.frozendict({'position': (178.62, 0.0), 'speed': (25.0, 0.0), 'heading': 0.0})): 0.7999999999999999,\n",
       " (frozendict.frozendict({'position': (153.62, 0.0), 'speed': (25.0, 0.0), 'heading': 0.0}),\n",
       "  2,\n",
       "  frozendict.frozendict({'position': (178.3, 3.66), 'speed': (24.98, 1.08), 'heading': 0.043})): 0.8327113850086175,\n",
       " (frozendict.frozendict({'position': (153.62, 0.0), 'speed': (25.0, 0.0), 'heading': 0.0}),\n",
       "  3,\n",
       "  frozendict.frozendict({'position': (181.02, 0.0), 'speed': (29.34, 0.0), 'heading': 0.0})): 0.9157750342935529,\n",
       " (frozendict.frozendict({'position': (153.62, 0.0), 'speed': (25.0, 0.0), 'heading': 0.0}),\n",
       "  4,\n",
       "  frozendict.frozendict({'position': (176.23, 0.0), 'speed': (20.66, 0.0), 'heading': 0.0})): 0.6842249657064472,\n",
       " (frozendict.frozendict({'position': (176.23, 0.0), 'speed': (20.66, 0.0), 'heading': 0.0}),\n",
       "  0,\n",
       "  frozendict.frozendict({'position': (196.57, 0.0), 'speed': (20.09, 0.0), 'heading': 0.0})): 0.6689788706554444,\n",
       " (frozendict.frozendict({'position': (176.23, 0.0), 'speed': (20.66, 0.0), 'heading': 0.0}),\n",
       "  1,\n",
       "  frozendict.frozendict({'position': (196.57, 0.0), 'speed': (20.09, 0.0), 'heading': 0.0})): 0.6689788706554444,\n",
       " (frozendict.frozendict({'position': (176.23, 0.0), 'speed': (20.66, 0.0), 'heading': 0.0}),\n",
       "  2,\n",
       "  frozendict.frozendict({'position': (196.19, 3.6), 'speed': (20.05, 1.16), 'heading': 0.058})): 0.701422038389655,\n",
       " (frozendict.frozendict({'position': (176.23, 0.0), 'speed': (20.66, 0.0), 'heading': 0.0}),\n",
       "  3,\n",
       "  frozendict.frozendict({'position': (198.96, 0.0), 'speed': (24.43, 0.0), 'heading': 0.0})): 0.7847539049489972,\n",
       " (frozendict.frozendict({'position': (176.23, 0.0), 'speed': (20.66, 0.0), 'heading': 0.0}),\n",
       "  4,\n",
       "  frozendict.frozendict({'position': (196.57, 0.0), 'speed': (20.09, 0.0), 'heading': 0.0})): 0.6689788706554444,\n",
       " (frozendict.frozendict({'position': (178.62, 0.0), 'speed': (25.0, 0.0), 'heading': 0.0}),\n",
       "  0,\n",
       "  frozendict.frozendict({'position': (203.62, 0.0), 'speed': (25.0, 0.0), 'heading': 0.0})): 0.7999999999999999,\n",
       " (frozendict.frozendict({'position': (178.62, 0.0), 'speed': (25.0, 0.0), 'heading': 0.0}),\n",
       "  1,\n",
       "  frozendict.frozendict({'position': (203.62, 0.0), 'speed': (25.0, 0.0), 'heading': 0.0})): 0.7999999999999999,\n",
       " (frozendict.frozendict({'position': (178.62, 0.0), 'speed': (25.0, 0.0), 'heading': 0.0}),\n",
       "  2,\n",
       "  frozendict.frozendict({'position': (203.3, 3.66), 'speed': (24.98, 1.08), 'heading': 0.043})): 0.8327113850086175,\n",
       " (frozendict.frozendict({'position': (178.62, 0.0), 'speed': (25.0, 0.0), 'heading': 0.0}),\n",
       "  3,\n",
       "  frozendict.frozendict({'position': (206.02, 0.0), 'speed': (29.34, 0.0), 'heading': 0.0})): 0.9157750342935529,\n",
       " (frozendict.frozendict({'position': (178.62, 0.0), 'speed': (25.0, 0.0), 'heading': 0.0}),\n",
       "  4,\n",
       "  frozendict.frozendict({'position': (201.23, 0.0), 'speed': (20.66, 0.0), 'heading': 0.0})): 0.6842249657064472,\n",
       " (frozendict.frozendict({'position': (178.3, 3.66), 'speed': (24.98, 1.08), 'heading': 0.043}),\n",
       "  0,\n",
       "  frozendict.frozendict({'position': (203.03, 0.33), 'speed': (24.98, -1.04), 'heading': -0.042})): 0.799420639638421,\n",
       " (frozendict.frozendict({'position': (178.3, 3.66), 'speed': (24.98, 1.08), 'heading': 0.043}),\n",
       "  1,\n",
       "  frozendict.frozendict({'position': (203.3, 3.99), 'speed': (25.0, 0.04), 'heading': 0.002})): 0.8333325585628742,\n",
       " (frozendict.frozendict({'position': (178.3, 3.66), 'speed': (24.98, 1.08), 'heading': 0.043}),\n",
       "  2,\n",
       "  frozendict.frozendict({'position': (202.92, 7.65), 'speed': (24.98, 1.12), 'heading': 0.045})): 0.8660005399738949,\n",
       " (frozendict.frozendict({'position': (178.3, 3.66), 'speed': (24.98, 1.08), 'heading': 0.043}),\n",
       "  3,\n",
       "  frozendict.frozendict({'position': (205.69, 3.99), 'speed': (29.34, 0.03), 'heading': 0.001})): 0.9491080333766447,\n",
       " (frozendict.frozendict({'position': (178.3, 3.66), 'speed': (24.98, 1.08), 'heading': 0.043}),\n",
       "  4,\n",
       "  frozendict.frozendict({'position': (200.9, 3.98), 'speed': (20.66, 0.05), 'heading': 0.002})): 0.7175567607980314,\n",
       " (frozendict.frozendict({'position': (181.02, 0.0), 'speed': (29.34, 0.0), 'heading': 0.0}),\n",
       "  0,\n",
       "  frozendict.frozendict({'position': (210.67, 0.0), 'speed': (29.91, 0.0), 'heading': 0.0})): 0.9310211293445557,\n",
       " (frozendict.frozendict({'position': (181.02, 0.0), 'speed': (29.34, 0.0), 'heading': 0.0}),\n",
       "  1,\n",
       "  frozendict.frozendict({'position': (210.67, 0.0), 'speed': (29.91, 0.0), 'heading': 0.0})): 0.9310211293445557,\n",
       " (frozendict.frozendict({'position': (181.02, 0.0), 'speed': (29.34, 0.0), 'heading': 0.0}),\n",
       "  2,\n",
       "  frozendict.frozendict({'position': (210.39, 3.71), 'speed': (29.9, 1.02), 'heading': 0.034})): 0.9638923291747313,\n",
       " (frozendict.frozendict({'position': (181.02, 0.0), 'speed': (29.34, 0.0), 'heading': 0.0}),\n",
       "  3,\n",
       "  frozendict.frozendict({'position': (210.67, 0.0), 'speed': (29.91, 0.0), 'heading': 0.0})): 0.9310211293445557,\n",
       " (frozendict.frozendict({'position': (181.02, 0.0), 'speed': (29.34, 0.0), 'heading': 0.0}),\n",
       "  4,\n",
       "  frozendict.frozendict({'position': (208.28, 0.0), 'speed': (25.57, 0.0), 'heading': 0.0})): 0.8152460950510028}"
      ]
     },
     "execution_count": 6,
     "metadata": {},
     "output_type": "execute_result"
    }
   ],
   "source": [
    "highway_mdp.currMDP.reward"
   ]
  },
  {
   "cell_type": "code",
   "execution_count": 7,
   "metadata": {},
   "outputs": [
    {
     "data": {
      "text/plain": [
       "{frozendict.frozendict({'position': (178.62, 0.0), 'speed': (25.0, 0.0), 'heading': 0.0}): False,\n",
       " frozendict.frozendict({'position': (178.3, 3.66), 'speed': (24.98, 1.08), 'heading': 0.043}): False,\n",
       " frozendict.frozendict({'position': (181.02, 0.0), 'speed': (29.34, 0.0), 'heading': 0.0}): False,\n",
       " frozendict.frozendict({'position': (176.23, 0.0), 'speed': (20.66, 0.0), 'heading': 0.0}): False,\n",
       " frozendict.frozendict({'position': (196.57, 0.0), 'speed': (20.09, 0.0), 'heading': 0.0}): False,\n",
       " frozendict.frozendict({'position': (196.19, 3.6), 'speed': (20.05, 1.16), 'heading': 0.058}): False,\n",
       " frozendict.frozendict({'position': (198.96, 0.0), 'speed': (24.43, 0.0), 'heading': 0.0}): False,\n",
       " frozendict.frozendict({'position': (203.62, 0.0), 'speed': (25.0, 0.0), 'heading': 0.0}): False,\n",
       " frozendict.frozendict({'position': (203.3, 3.66), 'speed': (24.98, 1.08), 'heading': 0.043}): False,\n",
       " frozendict.frozendict({'position': (206.02, 0.0), 'speed': (29.34, 0.0), 'heading': 0.0}): False,\n",
       " frozendict.frozendict({'position': (201.23, 0.0), 'speed': (20.66, 0.0), 'heading': 0.0}): False,\n",
       " frozendict.frozendict({'position': (203.03, 0.33), 'speed': (24.98, -1.04), 'heading': -0.042}): False,\n",
       " frozendict.frozendict({'position': (203.3, 3.99), 'speed': (25.0, 0.04), 'heading': 0.002}): False,\n",
       " frozendict.frozendict({'position': (202.92, 7.65), 'speed': (24.98, 1.12), 'heading': 0.045}): False,\n",
       " frozendict.frozendict({'position': (205.69, 3.99), 'speed': (29.34, 0.03), 'heading': 0.001}): False,\n",
       " frozendict.frozendict({'position': (200.9, 3.98), 'speed': (20.66, 0.05), 'heading': 0.002}): False,\n",
       " frozendict.frozendict({'position': (210.67, 0.0), 'speed': (29.91, 0.0), 'heading': 0.0}): False,\n",
       " frozendict.frozendict({'position': (210.39, 3.71), 'speed': (29.9, 1.02), 'heading': 0.034}): False,\n",
       " frozendict.frozendict({'position': (208.28, 0.0), 'speed': (25.57, 0.0), 'heading': 0.0}): False}"
      ]
     },
     "execution_count": 7,
     "metadata": {},
     "output_type": "execute_result"
    }
   ],
   "source": [
    "highway_mdp.currMDP.absorption"
   ]
  },
  {
   "cell_type": "markdown",
   "metadata": {},
   "source": [
    "Profiling HighwayEnv"
   ]
  },
  {
   "cell_type": "code",
   "execution_count": 1,
   "metadata": {},
   "outputs": [
    {
     "name": "stdout",
     "output_type": "stream",
     "text": [
      "d:\\WorkFiles\\ProjectCode\\ActiveProjects\\HoLab\\Mine\\HighwayEnv-TRI\n"
     ]
    }
   ],
   "source": [
    "# |Move up one directory level to import local instance of highway environment\n",
    "%cd ..\n",
    "# %pwd\n",
    "\n",
    "import gymnasium\n",
    "import highway_env\n",
    "# from matplotlib import pyplot as plt\n",
    "# %matplotlib inline\n",
    "\n",
    "import numpy as np"
   ]
  },
  {
   "cell_type": "code",
   "execution_count": 2,
   "metadata": {},
   "outputs": [],
   "source": [
    "# Define Configuration\n",
    "num_of_vehicles = 2\n",
    "num_of_ice = 5\n",
    "env_length = 3000\n",
    "lane_count = 3\n",
    "config = {    \n",
    "        ## Parameters of interest ##\n",
    "        \"observation\": {\n",
    "            # For more details about observation parameters check out \"highway_env\\envs\\common\\observation.py\"\n",
    "            \"type\": \"Kinematics\",\n",
    "            \"vehicles_count\": num_of_vehicles+num_of_ice+5,   # Number of vehicles (and objects) to show in the observation. \n",
    "                                                                #   Keep greater than value of vehicles out outside obervation\n",
    "                                                                #   dictionary to observe all vehicles in the environment.\n",
    "            \"features\": [\"presence\", \"x\", \"y\", \"vx\", \"vy\"],# \"heading\"],\n",
    "            \"normalize\": False, # Normalize object coordinates\n",
    "            \"absolute\": True,   # Provide absolute coordinate of vehicles\n",
    "            \"order\": \"sorted\",\n",
    "            \"observe_intentions\": False,\n",
    "            \"include_obstacles\": True,\n",
    "            \"see_behind\": True  # Report vehicles behind the ego vehicle\n",
    "            },\n",
    "        ## Parameters specialized for the icy highway environment ##\n",
    "        \"ice_count\": num_of_ice,    # Number of ice sheets in the environment\n",
    "        \"env_len\":  env_length,    # Length of the road\n",
    "        ## Keep these to default, because the fast versions of the environments implement different values ##\n",
    "        ## of these variables for faster execution ##\n",
    "        \"vehicles_count\": num_of_vehicles,\n",
    "        \"lanes_count\": lane_count,\n",
    "        \"simulation_frequency\": 5,\n",
    "        \"duration\": 120,  # [s]\n",
    "        \"disable_collision_checks\": True,    # Check collisions for other vehicles\n",
    "        \"enable_lane_change\": False,\n",
    "        ## Other parameters aleady set by default configurations ##\n",
    "        # \"action\": {\n",
    "        #     \"type\": \"DiscreteMetaAction\",\n",
    "        # },\n",
    "        # \"controlled_vehicles\": 1,\n",
    "        # \"initial_lane_id\": None,\n",
    "        # \"ego_spacing\": 2,\n",
    "        # \"vehicles_density\": 1,\n",
    "        # \"collision_reward\": -1,  # The reward received when colliding with a vehicle.\n",
    "        # \"right_lane_reward\": 0.1,  # The reward received when driving on the right-most lanes, linearly mapped to\n",
    "        # # zero for other lanes.\n",
    "        # \"high_speed_reward\": 0.4,  # The reward received when driving at full speed, linearly mapped to zero for\n",
    "        # # lower speeds according to config[\"reward_speed_range\"].\n",
    "        # \"lane_change_reward\": 0,  # The reward received at each lane change action.\n",
    "        # \"reward_speed_range\": [20, 30],\n",
    "        # \"normalize_reward\": True,\n",
    "        # \"offroad_terminal\": False\n",
    "        }\n",
    "\n",
    "# env = gymnasium.make('highway-v0', config=config, render_mode='rgb_array')\n",
    "# env = gymnasium.make('highway-fast-v0', config=config, render_mode='rgb_array')\n",
    "env = gymnasium.make('highway-icy-custom-v0', config=config, render_mode='rgb_array')\n",
    "\n",
    "_ = env.reset()\n",
    "# action = env.unwrapped.action_type.actions_indexes[\"IDLE\"]"
   ]
  },
  {
   "cell_type": "code",
   "execution_count": 3,
   "metadata": {},
   "outputs": [],
   "source": [
    "import copy"
   ]
  },
  {
   "cell_type": "code",
   "execution_count": 5,
   "metadata": {},
   "outputs": [
    {
     "data": {
      "text/plain": [
       "array([154.01276665,   8.        ])"
      ]
     },
     "execution_count": 5,
     "metadata": {},
     "output_type": "execute_result"
    }
   ],
   "source": [
    "env.unwrapped.road.vehicles[0].position"
   ]
  },
  {
   "cell_type": "code",
   "execution_count": 33,
   "metadata": {},
   "outputs": [
    {
     "data": {
      "text/plain": [
       "[MDPVehicle #200: [50.  4.],\n",
       " IDMVehicle #904: [179.50159323   0.        ],\n",
       " IDMVehicle #952: [204.93595799   4.        ]]"
      ]
     },
     "execution_count": 33,
     "metadata": {},
     "output_type": "execute_result"
    }
   ],
   "source": [
    "env_copy = copy.deepcopy(env)\n",
    "env_copy.unwrapped.road.vehicles[0].position = np.array([50.0, 4.0])\n",
    "env_copy.unwrapped.road.vehicles"
   ]
  },
  {
   "cell_type": "code",
   "execution_count": 26,
   "metadata": {},
   "outputs": [
    {
     "data": {
      "text/plain": [
       "[MDPVehicle #344: [75.  4.],\n",
       " IDMVehicle #912: [200.95864985   0.        ],\n",
       " IDMVehicle #784: [226.00336446   4.82469402]]"
      ]
     },
     "execution_count": 26,
     "metadata": {},
     "output_type": "execute_result"
    }
   ],
   "source": [
    "env_copy.step(0)\n",
    "env_copy.unwrapped.road.vehicles"
   ]
  },
  {
   "cell_type": "code",
   "execution_count": 26,
   "metadata": {},
   "outputs": [
    {
     "data": {
      "text/plain": [
       "[3000.0, 8.0]"
      ]
     },
     "execution_count": 26,
     "metadata": {},
     "output_type": "execute_result"
    }
   ],
   "source": [
    "# Create discrete world grid\n",
    "temp = env.unwrapped.road.network.lanes_list()\n",
    "x_max = max([lane.end[0] for lane in temp])\n",
    "y_max = max([lane.end[1] for lane in temp])\n",
    "x_grid = np.linspace(0, x_max, 500)\n",
    "y_grid = np.linspace(0, y_max, lane_count)\n",
    "[x_max, y_max]"
   ]
  },
  {
   "cell_type": "code",
   "execution_count": 3,
   "metadata": {},
   "outputs": [
    {
     "name": "stdout",
     "output_type": "stream",
     "text": [
      " "
     ]
    },
    {
     "name": "stdout",
     "output_type": "stream",
     "text": [
      "         11827 function calls (11691 primitive calls) in 0.011 seconds\n",
      "\n",
      "   Ordered by: internal time\n",
      "\n",
      "   ncalls  tottime  percall  cumtime  percall filename:lineno(function)\n",
      "      296    0.001    0.000    0.001    0.000 lane.py:209(local_coordinates)\n",
      "      443    0.000    0.000    0.000    0.000 {method 'dot' of 'numpy.ndarray' objects}\n",
      "      195    0.000    0.000    0.001    0.000 linalg.py:2383(norm)\n",
      "      160    0.000    0.000    0.003    0.000 objects.py:133(_is_colliding)\n",
      "       12    0.000    0.000    0.001    0.000 objects.py:180(polygon)\n",
      "1173/1167    0.000    0.000    0.000    0.000 {built-in method builtins.isinstance}\n",
      "       16    0.000    0.000    0.001    0.000 controller.py:145(steering_control)\n",
      "      146    0.000    0.000    0.000    0.000 lane.py:80(on_lane)\n",
      "      106    0.000    0.000    0.000    0.000 _methods.py:90(_clip)\n",
      "        6    0.000    0.000    0.001    0.000 utils.py:194(are_polygons_intersecting)\n",
      "       12    0.000    0.000    0.001    0.000 road.py:480(neighbour_vehicles)\n",
      "       66    0.000    0.000    0.000    0.000 objects.py:172(direction)\n",
      "       14    0.000    0.000    0.001    0.000 behavior.py:150(acceleration)\n",
      "       15    0.000    0.000    0.001    0.000 kinematics.py:130(step)\n",
      "       44    0.000    0.000    0.000    0.000 utils.py:175(project_polygon)\n",
      "       57    0.000    0.000    0.000    0.000 fromnumeric.py:40(_wrapit)\n",
      "       38    0.000    0.000    0.000    0.000 {method 'reduce' of 'numpy.ufunc' objects}\n",
      "       33    0.000    0.000    0.000    0.000 construction.py:517(sanitize_array)\n",
      "      155    0.000    0.000    0.000    0.000 {built-in method numpy.array}\n",
      "        8    0.000    0.000    0.000    0.000 take.py:120(_take_nd_ndarray)\n",
      "      123    0.000    0.000    0.001    0.000 fromnumeric.py:53(_wrapfunc)\n",
      "       45    0.000    0.000    0.000    0.000 lane.py:132(distance_with_heading)\n",
      "       12    0.000    0.000    0.000    0.000 _methods.py:101(_mean)\n",
      "       10    0.000    0.000    0.002    0.000 behavior.py:93(act)\n",
      "       12    0.000    0.000    0.000    0.000 shape_base.py:1185(tile)\n",
      "      2/1    0.000    0.000    0.011    0.011 {built-in method builtins.exec}\n",
      "       14    0.000    0.000    0.000    0.000 shape_base.py:219(vstack)\n",
      "       15    0.000    0.000    0.001    0.000 road.py:55(get_closest_lane_index)\n",
      "      106    0.000    0.000    0.001    0.000 fromnumeric.py:2100(clip)\n",
      "        5    0.000    0.000    0.003    0.001 road.py:466(step)\n",
      "      324    0.000    0.000    0.000    0.000 {built-in method numpy.asarray}\n",
      "  523/394    0.000    0.000    0.000    0.000 {built-in method builtins.len}\n",
      "      525    0.000    0.000    0.000    0.000 {built-in method builtins.getattr}\n",
      "       14    0.000    0.000    0.000    0.000 behavior.py:192(desired_gap)\n",
      "        2    0.000    0.000    0.000    0.000 managers.py:708(_slice_take_blocks_ax0)\n",
      "       26    0.000    0.000    0.000    0.000 construction.py:1028(convert)\n",
      "        1    0.000    0.000    0.004    0.004 observation.py:233(observe)\n",
      "      165    0.000    0.000    0.003    0.000 objects.py:94(handle_collisions)\n",
      "       64    0.000    0.000    0.000    0.000 {method 'clip' of 'numpy.generic' objects}\n",
      "        2    0.000    0.000    0.000    0.000 concat.py:94(concatenate_managers)\n",
      "        7    0.000    0.000    0.000    0.000 base.py:475(__new__)\n",
      "       28    0.000    0.000    0.000    0.000 kinematics.py:215(velocity)\n",
      "      174    0.000    0.000    0.000    0.000 {built-in method _abc._abc_instancecheck}\n",
      "      560    0.000    0.000    0.000    0.000 {built-in method builtins.issubclass}\n",
      "        1    0.000    0.000    0.000    0.000 {method 'disable' of '_lsprof.Profiler' objects}\n",
      "       40    0.000    0.000    0.000    0.000 numeric.py:274(full)\n",
      "      195    0.000    0.000    0.000    0.000 {method 'ravel' of 'numpy.ndarray' objects}\n",
      "        2    0.000    0.000    0.000    0.000 concat.py:296(_get_combined_plan)\n",
      "      207    0.000    0.000    0.000    0.000 generic.py:42(_instancecheck)\n",
      "        2    0.000    0.000    0.000    0.000 managers.py:2190(_form_blocks)\n",
      "        7    0.000    0.000    0.000    0.000 cast.py:1156(maybe_infer_to_datetimelike)\n",
      "      207    0.000    0.000    0.000    0.000 generic.py:37(_check)\n",
      "        6    0.000    0.000    0.000    0.000 managers.py:2246(_stack_arrays)\n",
      "      606    0.000    0.000    0.000    0.000 multiarray.py:741(dot)\n",
      "      110    0.000    0.000    0.000    0.000 {built-in method builtins.max}\n",
      "        2    0.000    0.000    0.000    0.000 construction.py:891(_list_of_dict_to_arrays)\n",
      "      162    0.000    0.000    0.000    0.000 {built-in method numpy.zeros}\n",
      "       13    0.000    0.000    0.000    0.000 base.py:649(_simple_new)\n",
      "       70    0.000    0.000    0.000    0.000 utils.py:57(wrap_to_pi)\n",
      "       16    0.000    0.000    0.000    0.000 base.py:7593(ensure_index)\n",
      "      246    0.000    0.000    0.000    0.000 {method 'append' of 'list' objects}\n",
      "        2    0.000    0.000    0.000    0.000 managers.py:2276(_merge_blocks)\n",
      "      195    0.000    0.000    0.000    0.000 linalg.py:140(isComplexType)\n",
      "       13    0.000    0.000    0.000    0.000 base.py:5552(equals)\n",
      "      174    0.000    0.000    0.000    0.000 <frozen abc>:117(__instancecheck__)\n",
      "        1    0.000    0.000    0.010    0.010 abstract.py:224(step)\n",
      "        3    0.000    0.000    0.000    0.000 cast.py:123(maybe_convert_platform)\n",
      "        1    0.000    0.000    0.000    0.000 box.py:56(__init__)\n",
      "       18    0.000    0.000    0.000    0.000 objects.py:176(velocity)\n",
      "        2    0.000    0.000    0.000    0.000 construction.py:596(_homogenize)\n",
      "        6    0.000    0.000    0.000    0.000 common.py:231(asarray_tuplesafe)\n",
      "       58    0.000    0.000    0.000    0.000 {built-in method numpy.empty}\n",
      "      143    0.000    0.000    0.000    0.000 {built-in method builtins.abs}\n",
      "        6    0.000    0.000    0.000    0.000 controller.py:89(act)\n",
      "       12    0.000    0.000    0.000    0.000 _methods.py:67(_count_reduce_items)\n",
      "        2    0.000    0.000    0.000    0.000 construction.py:638(_extract_index)\n",
      "       40    0.000    0.000    0.000    0.000 {built-in method builtins.all}\n",
      "        5    0.000    0.000    0.000    0.000 base.py:2744(inferred_type)\n",
      "       54    0.000    0.000    0.000    0.000 lane.py:145(local_angle)\n",
      "        2    0.000    0.000    0.001    0.000 concat.py:622(get_result)\n",
      "        1    0.000    0.000    0.000    0.000 road.py:418(close_objects_to)\n",
      "       42    0.000    0.000    0.000    0.000 {method 'clip' of 'numpy.ndarray' objects}\n",
      "        2    0.000    0.000    0.001    0.001 frame.py:2318(from_records)\n",
      "       12    0.000    0.000    0.000    0.000 concat.py:322(_get_block_for_concat_plan)\n",
      "        9    0.000    0.000    0.000    0.000 missing.py:564(_array_equivalent_object)\n",
      "       12    0.000    0.000    0.000    0.000 _dtype.py:346(_name_get)\n",
      "       15    0.000    0.000    0.000    0.000 {method 'argmin' of 'numpy.ndarray' objects}\n",
      "        1    0.000    0.000    0.011    0.011 passive_env_checker.py:204(env_step_passive_checker)\n",
      "        2    0.000    0.000    0.000    0.000 base.py:2313(is_unique)\n",
      "       12    0.000    0.000    0.000    0.000 {method 'repeat' of 'numpy.ndarray' objects}\n",
      "       12    0.000    0.000    0.000    0.000 {method 'mean' of 'numpy.ndarray' objects}\n",
      "        9    0.000    0.000    0.000    0.000 blocks.py:324(slice_block_columns)\n",
      "       25    0.000    0.000    0.000    0.000 objects.py:194(lane_distance_to)\n",
      "        2    0.000    0.000    0.000    0.000 concat.py:405(__init__)\n",
      "        2    0.000    0.000    0.000    0.000 base.py:3955(_get_indexer)\n",
      "        2    0.000    0.000    0.000    0.000 highway_env_icy.py:144(_rewards)\n",
      "        1    0.000    0.000    0.000    0.000 managers.py:1707(_interleave)\n",
      "        7    0.000    0.000    0.000    0.000 generic.py:278(__init__)\n",
      "        4    0.000    0.000    0.000    0.000 base.py:1146(take)\n",
      "        2    0.000    0.000    0.000    0.000 utils.py:239(maybe_convert_indices)\n",
      "       14    0.000    0.000    0.000    0.000 shape_base.py:81(atleast_2d)\n",
      "        2    0.000    0.000    0.001    0.001 frame.py:4062(__getitem__)\n",
      "       60    0.000    0.000    0.000    0.000 utils.py:48(not_zero)\n",
      "        3    0.000    0.000    0.000    0.000 base.py:3820(get_indexer)\n",
      "        2    0.000    0.000    0.001    0.000 base.py:6186(_get_indexer_strict)\n",
      "       15    0.000    0.000    0.001    0.000 kinematics.py:184(on_state_update)\n",
      "       16    0.000    0.000    0.000    0.000 base.py:82(shape)\n",
      "        4    0.000    0.000    0.000    0.000 generic.py:6236(__finalize__)\n",
      "      195    0.000    0.000    0.000    0.000 linalg.py:2379(_norm_dispatcher)\n",
      "       16    0.000    0.000    0.000    0.000 controller.py:135(follow_road)\n",
      "       24    0.000    0.000    0.000    0.000 shape_base.py:1257(<genexpr>)\n",
      "       16    0.000    0.000    0.000    0.000 lane.py:120(after_end)\n",
      "        1    0.000    0.000    0.000    0.000 frame.py:694(__init__)\n",
      "       19    0.000    0.000    0.000    0.000 numerictypes.py:357(issubdtype)\n",
      "        2    0.000    0.000    0.000    0.000 base.py:6219(_raise_if_missing)\n",
      "        6    0.000    0.000    0.000    0.000 managers.py:180(blknos)\n",
      "        3    0.000    0.000    0.000    0.000 managers.py:1782(_consolidate_inplace)\n",
      "        3    0.000    0.000    0.000    0.000 kinematics.py:251(to_dict)\n",
      "       15    0.000    0.000    0.000    0.000 kinematics.py:155(clip_actions)\n",
      "        2    0.000    0.000    0.000    0.000 base.py:842(_engine)\n",
      "       73    0.000    0.000    0.000    0.000 road.py:41(get_lane)\n",
      "        2    0.000    0.000    0.000    0.000 behavior.py:265(mobil)\n",
      "       15    0.000    0.000    0.000    0.000 fromnumeric.py:1236(argmin)\n",
      "       24    0.000    0.000    0.000    0.000 {method 'reshape' of 'numpy.ndarray' objects}\n",
      "        1    0.000    0.000    0.004    0.004 abstract.py:252(_simulate)\n",
      "       12    0.000    0.000    0.000    0.000 concat.py:389(is_na)\n",
      "        2    0.000    0.000    0.000    0.000 generic.py:4027(take)\n",
      "       22    0.000    0.000    0.000    0.000 common.py:137(is_object_dtype)\n",
      "        6    0.000    0.000    0.000    0.000 _asarray.py:27(require)\n",
      "       33    0.000    0.000    0.000    0.000 construction.py:696(_sanitize_ndim)\n",
      "        1    0.000    0.000    0.011    0.011 common.py:389(step)\n",
      "       12    0.000    0.000    0.000    0.000 contextlib.py:104(__init__)\n",
      "        1    0.000    0.000    0.000    0.000 box.py:171(_cast_low)\n",
      "       10    0.000    0.000    0.000    0.000 behavior.py:219(change_lane_policy)\n",
      "        2    0.000    0.000    0.000    0.000 construction.py:928(_finalize_columns_and_data)\n",
      "        6    0.000    0.000    0.001    0.000 controller.py:295(act)\n",
      "        6    0.000    0.000    0.000    0.000 concat.py:572(_is_uniform_join_units)\n",
      "        3    0.000    0.000    0.000    0.000 managers.py:1772(_consolidate_check)\n",
      "        1    0.000    0.000    0.000    0.000 concat.py:52(concat_compat)\n",
      "        8    0.000    0.000    0.000    0.000 take.py:59(take_nd)\n",
      "        9    0.000    0.000    0.000    0.000 missing.py:466(array_equivalent)\n",
      "        6    0.000    0.000    0.000    0.000 kinematics.py:233(destination_direction)\n",
      "       24    0.000    0.000    0.000    0.000 _ufunc_config.py:452(_no_nep50_warning)\n",
      "       25    0.000    0.000    0.000    0.000 common.py:1434(_is_dtype_type)\n",
      "        2    0.000    0.000    0.001    0.000 concat.py:157(concat)\n",
      "      148    0.000    0.000    0.000    0.000 lane.py:206(width_at)\n",
      "       65    0.000    0.000    0.000    0.000 base.py:909(__len__)\n",
      "        1    0.000    0.000    0.000    0.000 construction.py:237(ndarray_to_mgr)\n",
      "        4    0.000    0.000    0.000    0.000 cast.py:1432(find_common_type)\n",
      "        2    0.000    0.000    0.000    0.000 managers.py:623(reindex_indexer)\n",
      "        1    0.000    0.000    0.000    0.000 concat.py:457(_concatenate_join_units)\n",
      "       38    0.000    0.000    0.000    0.000 numerictypes.py:283(issubclass_)\n",
      "       12    0.000    0.000    0.000    0.000 contextlib.py:299(helper)\n",
      "        4    0.000    0.000    0.000    0.000 blocks.py:225(_consolidate_key)\n",
      "        2    0.000    0.000    0.000    0.000 {method 'argsort' of 'numpy.ndarray' objects}\n",
      "        9    0.000    0.000    0.000    0.000 blocks.py:292(make_block_same_class)\n",
      "        2    0.000    0.000    0.000    0.000 base.py:1697(_validate_names)\n",
      "        2    0.000    0.000    0.000    0.000 api.py:202(union_indexes)\n",
      "        5    0.000    0.000    0.003    0.001 road.py:461(act)\n",
      "        2    0.000    0.000    0.000    0.000 managers.py:2121(create_block_manager_from_column_arrays)\n",
      "       10    0.000    0.000    0.000    0.000 behavior.py:139(step)\n",
      "        1    0.000    0.000    0.000    0.000 box.py:415(contains)\n",
      "       66    0.000    0.000    0.000    0.000 range.py:999(__len__)\n",
      "        4    0.000    0.000    0.000    0.000 objects.py:152(to_dict)\n",
      "        2    0.000    0.000    0.001    0.000 construction.py:96(arrays_to_mgr)\n",
      "        6    0.000    0.000    0.000    0.000 {built-in method _abc._abc_subclasscheck}\n",
      "        2    0.000    0.000    0.000    0.000 {method 'astype' of 'numpy.ndarray' objects}\n",
      "      106    0.000    0.000    0.000    0.000 fromnumeric.py:2096(_clip_dispatcher)\n",
      "        4    0.000    0.000    0.000    0.000 blocks.py:1287(take_nd)\n",
      "        4    0.000    0.000    0.000    0.000 cast.py:550(maybe_promote)\n",
      "       33    0.000    0.000    0.000    0.000 construction.py:416(extract_array)\n",
      "       24    0.000    0.000    0.000    0.000 {built-in method builtins.next}\n",
      "        2    0.000    0.000    0.000    0.000 managers.py:869(take)\n",
      "        3    0.000    0.000    0.000    0.000 managers.py:241(is_single_block)\n",
      "        9    0.000    0.000    0.000    0.000 fromnumeric.py:71(_wrapreduction)\n",
      "       33    0.000    0.000    0.000    0.000 construction.py:735(_sanitize_str_dtypes)\n",
      "        2    0.000    0.000    0.000    0.000 api.py:120(_get_combined_index)\n",
      "        2    0.000    0.000    0.000    0.000 construction.py:1006(convert_object_array)\n",
      "        3    0.000    0.000    0.000    0.000 cast.py:1579(construct_1d_object_array_from_listlike)\n",
      "        2    0.000    0.000    0.000    0.000 base.py:7704(get_unanimous_names)\n",
      "       12    0.000    0.000    0.000    0.000 contextlib.py:141(__exit__)\n",
      "       12    0.000    0.000    0.000    0.000 {method 'set' of '_contextvars.ContextVar' objects}\n",
      "       44    0.000    0.000    0.000    0.000 {method 'items' of 'dict' objects}\n",
      "       12    0.000    0.000    0.000    0.000 contextlib.py:132(__enter__)\n",
      "       44    0.000    0.000    0.000    0.000 utils.py:186(interval_distance)\n",
      "        9    0.000    0.000    0.000    0.000 kinematics.py:242(lane_offset)\n",
      "       10    0.000    0.000    0.000    0.000 {built-in method builtins.any}\n",
      "        8    0.000    0.000    0.000    0.000 take.py:325(_get_take_nd_function)\n",
      "       48    0.000    0.000    0.000    0.000 base.py:84(<genexpr>)\n",
      "       14    0.000    0.000    0.000    0.000 shape_base.py:207(_arrays_for_stack_dispatcher)\n",
      "        2    0.000    0.000    0.000    0.000 box.py:14(array_short_repr)\n",
      "       24    0.000    0.000    0.000    0.000 {built-in method __new__ of type object at 0x00007FFF48626A50}\n",
      "        2    0.000    0.000    0.000    0.000 construction.py:793(to_arrays)\n",
      "       43    0.000    0.000    0.000    0.000 {built-in method builtins.hasattr}\n",
      "        1    0.000    0.000    0.000    0.000 managers.py:1633(as_array)\n",
      "        1    0.000    0.000    0.000    0.000 observation.py:198(space)\n",
      "       16    0.000    0.000    0.000    0.000 construction.py:481(ensure_wrapped_if_datetimelike)\n",
      "       18    0.000    0.000    0.000    0.000 concat.py:587(<genexpr>)\n",
      "        6    0.000    0.000    0.000    0.000 generic.py:339(_from_mgr)\n",
      "        2    0.000    0.000    0.000    0.000 cast.py:1391(np_find_common_type)\n",
      "        4    0.000    0.000    0.000    0.000 blocks.py:2703(new_block_2d)\n",
      "       15    0.000    0.000    0.000    0.000 concat.py:597(<genexpr>)\n",
      "        8    0.000    0.000    0.000    0.000 take.py:564(_take_preprocess_indexer_and_fill_value)\n",
      "        2    0.000    0.000    0.000    0.000 concat.py:545(_get_sample_object)\n",
      "        1    0.000    0.000    0.000    0.000 managers.py:2259(_consolidate)\n",
      "       26    0.000    0.000    0.000    0.000 managers.py:2177(_grouping_func)\n",
      "        2    0.000    0.000    0.000    0.000 concat.py:494(_clean_keys_and_objs)\n",
      "       33    0.000    0.000    0.000    0.000 construction.py:758(_maybe_repeat)\n",
      "        2    0.000    0.000    0.000    0.000 concat.py:699(new_axes)\n",
      "        6    0.000    0.000    0.000    0.000 warnings.py:484(__enter__)\n",
      "        1    0.000    0.000    0.000    0.000 {built-in method numpy.arange}\n",
      "       12    0.000    0.000    0.000    0.000 _dtype.py:330(_name_includes_bit_suffix)\n",
      "       36    0.000    0.000    0.000    0.000 shape_base.py:1267(<genexpr>)\n",
      "        2    0.000    0.000    0.001    0.000 generic.py:4142(_take_with_is_copy)\n",
      "        2    0.000    0.000    0.000    0.000 base.py:1250(copy)\n",
      "        3    0.000    0.000    0.000    0.000 base.py:6394(_should_compare)\n",
      "       14    0.000    0.000    0.000    0.000 common.py:1331(is_ea_or_datetimelike_dtype)\n",
      "       10    0.000    0.000    0.000    0.000 blocks.py:2674(get_block_type)\n",
      "       10    0.000    0.000    0.000    0.000 {method 'any' of 'numpy.ndarray' objects}\n",
      "        2    0.000    0.000    0.000    0.000 base.py:4323(reindex)\n",
      "        2    0.000    0.000    0.000    0.000 {built-in method builtins.sorted}\n",
      "        8    0.000    0.000    0.000    0.000 missing.py:184(_isna)\n",
      "        9    0.000    0.000    0.000    0.000 {built-in method builtins.sum}\n",
      "       26    0.000    0.000    0.000    0.000 common.py:568(require_length_match)\n",
      "       16    0.000    0.000    0.000    0.000 kinematics.py:121(act)\n",
      "        1    0.000    0.000    0.011    0.011 <string>:1(<module>)\n",
      "       70    0.000    0.000    0.000    0.000 lane.py:203(heading_at)\n",
      "        2    0.000    0.000    0.000    0.000 frozen.py:76(__getitem__)\n",
      "        2    0.000    0.000    0.000    0.000 api.py:265(_find_common_index_dtype)\n",
      "       16    0.000    0.000    0.000    0.000 blocks.py:214(is_extension)\n",
      "       14    0.000    0.000    0.000    0.000 shape_base.py:215(_vhstack_dispatcher)\n",
      "        2    0.000    0.000    0.000    0.000 managers.py:935(_verify_integrity)\n",
      "       11    0.000    0.000    0.000    0.000 inference.py:334(is_hashable)\n",
      "        2    0.000    0.000    0.000    0.000 base.py:836(__iter__)\n",
      "        5    0.000    0.000    0.000    0.000 api.py:386(default_index)\n",
      "        2    0.000    0.000    0.000    0.000 lane.py:104(is_reachable_from)\n",
      "        1    0.000    0.000    0.000    0.000 astype.py:56(_astype_nansafe)\n",
      "       13    0.000    0.000    0.000    0.000 base.py:791(is_)\n",
      "        4    0.000    0.000    0.000    0.000 {method 'take' of 'numpy.ndarray' objects}\n",
      "        1    0.000    0.000    0.000    0.000 box.py:240(_cast_high)\n",
      "        4    0.000    0.000    0.000    0.000 algorithms.py:1131(take)\n",
      "        1    0.000    0.000    0.000    0.000 take.py:287(_get_take_nd_function_cached)\n",
      "        2    0.000    0.000    0.000    0.000 base.py:456(_engine_type)\n",
      "        2    0.000    0.000    0.000    0.000 concat.py:480(_get_ndims)\n",
      "        7    0.000    0.000    0.000    0.000 {method 'format' of 'str' objects}\n",
      "        5    0.000    0.000    0.000    0.000 range.py:201(_simple_new)\n",
      "        1    0.000    0.000    0.000    0.000 highway_env_icy.py:122(_reward)\n",
      "        3    0.000    0.000    0.000    0.000 common.py:1081(is_numeric_dtype)\n",
      "       18    0.000    0.000    0.000    0.000 base.py:831(_reset_identity)\n",
      "        2    0.000    0.000    0.000    0.000 base.py:6162(get_indexer_for)\n",
      "        1    0.000    0.000    0.000    0.000 passive_env_checker.py:115(check_obs)\n",
      "        3    0.000    0.000    0.000    0.000 config.py:635(_get_root)\n",
      "        1    0.000    0.000    0.000    0.000 ufunclike.py:142(isneginf)\n",
      "       12    0.000    0.000    0.000    0.000 {built-in method numpy.core._multiarray_umath.normalize_axis_index}\n",
      "        2    0.000    0.000    0.000    0.000 api.py:106(_get_distinct_objs)\n",
      "        4    0.000    0.000    0.000    0.000 blocks.py:2645(maybe_coerce_values)\n",
      "        9    0.000    0.000    0.000    0.000 construction.py:915(<genexpr>)\n",
      "        1    0.000    0.000    0.000    0.000 action.py:259(act)\n",
      "       30    0.000    0.000    0.000    0.000 common.py:1270(is_1d_only_ea_dtype)\n",
      "        2    0.000    0.000    0.000    0.000 astype.py:157(astype_array)\n",
      "        4    0.000    0.000    0.000    0.000 base.py:5170(_get_engine_target)\n",
      "        3    0.000    0.000    0.000    0.000 config.py:127(_get_single_key)\n",
      "        1    0.000    0.000    0.000    0.000 concat.py:526(_get_empty_dtype)\n",
      "        3    0.000    0.000    0.000    0.000 config.py:145(_get_option)\n",
      "        4    0.000    0.000    0.000    0.000 frame.py:659(_constructor_from_mgr)\n",
      "       12    0.000    0.000    0.000    0.000 blocks.py:230(_can_hold_na)\n",
      "       12    0.000    0.000    0.000    0.000 {method 'reset' of '_contextvars.ContextVar' objects}\n",
      "       40    0.000    0.000    0.000    0.000 {built-in method numpy.asanyarray}\n",
      "        2    0.000    0.000    0.000    0.000 concat.py:717(_get_concat_axis)\n",
      "        8    0.000    0.000    0.000    0.000 generic.py:586(_get_axis)\n",
      "        7    0.000    0.000    0.000    0.000 base.py:591(_ensure_array)\n",
      "        6    0.000    0.000    0.000    0.000 frame.py:1047(shape)\n",
      "       10    0.000    0.000    0.000    0.000 blocks.py:219(_can_consolidate)\n",
      "        2    0.000    0.000    0.000    0.000 concat.py:707(_get_comb_axis)\n",
      "        2    0.000    0.000    0.000    0.000 managers.py:2320(_preprocess_slice_or_indexer)\n",
      "        4    0.000    0.000    0.000    0.000 generic.py:6270(<genexpr>)\n",
      "        9    0.000    0.000    0.000    0.000 {method 'get' of 'dict' objects}\n",
      "        2    0.000    0.000    0.000    0.000 common.py:97(is_bool_indexer)\n",
      "       30    0.000    0.000    0.000    0.000 blocks.py:266(mgr_locs)\n",
      "       22    0.000    0.000    0.000    0.000 common.py:121(classes)\n",
      "       54    0.000    0.000    0.000    0.000 base.py:5144(_values)\n",
      "        1    0.000    0.000    0.011    0.011 core.py:318(step)\n",
      "        7    0.000    0.000    0.000    0.000 managers.py:913(__init__)\n",
      "       22    0.000    0.000    0.000    0.000 common.py:123(<lambda>)\n",
      "       18    0.000    0.000    0.000    0.000 concat.py:584(<genexpr>)\n",
      "        9    0.000    0.000    0.000    0.000 __init__.py:34(using_copy_on_write)\n",
      "        7    0.000    0.000    0.000    0.000 flags.py:51(__init__)\n",
      "        7    0.000    0.000    0.000    0.000 base.py:7688(maybe_extract_name)\n",
      "        4    0.000    0.000    0.000    0.000 missing.py:673(na_value_for_dtype)\n",
      "        6    0.000    0.000    0.000    0.000 warnings.py:505(__exit__)\n",
      "        1    0.000    0.000    0.000    0.000 {method 'copy' of 'numpy.ndarray' objects}\n",
      "        7    0.000    0.000    0.000    0.000 __init__.py:55(using_pyarrow_string_dtype)\n",
      "        4    0.000    0.000    0.000    0.000 blocks.py:253(fill_value)\n",
      "        4    0.000    0.000    0.000    0.000 {method 'max' of 'numpy.ndarray' objects}\n",
      "        3    0.000    0.000    0.000    0.000 base.py:6324(_maybe_downcast_for_indexing)\n",
      "        8    0.000    0.000    0.000    0.000 missing.py:101(isna)\n",
      "        2    0.000    0.000    0.000    0.000 api.py:72(get_objs_combined_axis)\n",
      "       23    0.000    0.000    0.000    0.000 blocks.py:718(dtype)\n",
      "        3    0.000    0.000    0.000    0.000 managers.py:1764(is_consolidated)\n",
      "       44    0.000    0.000    0.000    0.000 typing.py:2183(cast)\n",
      "       40    0.000    0.000    0.000    0.000 multiarray.py:1080(copyto)\n",
      "        1    0.000    0.000    0.000    0.000 ufunclike.py:71(isposinf)\n",
      "        3    0.000    0.000    0.000    0.000 base.py:7723(_unpack_nested_dtype)\n",
      "        6    0.000    0.000    0.000    0.000 generic.py:6277(<genexpr>)\n",
      "        3    0.000    0.000    0.000    0.000 base.py:3996(_check_indexing_method)\n",
      "        1    0.000    0.000    0.000    0.000 generic.py:4379(_set_is_copy)\n",
      "        8    0.000    0.000    0.000    0.000 base.py:1765(_get_names)\n",
      "        2    0.000    0.000    0.000    0.000 road.py:200(side_lanes)\n",
      "        2    0.000    0.000    0.000    0.000 api.py:330(_sanitize_and_check)\n",
      "       21    0.000    0.000    0.000    0.000 abstract.py:76(vehicle)\n",
      "        2    0.000    0.000    0.000    0.000 managers.py:948(from_blocks)\n",
      "        1    0.000    0.000    0.011    0.011 common.py:277(step)\n",
      "        6    0.000    0.000    0.000    0.000 controller.py:189(speed_control)\n",
      "        6    0.000    0.000    0.000    0.000 road.py:444(<lambda>)\n",
      "        5    0.000    0.000    0.000    0.000 highway_env_icy.py:129(<genexpr>)\n",
      "        3    0.000    0.000    0.000    0.000 config.py:676(_translate_key)\n",
      "       10    0.000    0.000    0.000    0.000 _methods.py:55(_any)\n",
      "        1    0.000    0.000    0.000    0.000 concat.py:152(_get_result_dtype)\n",
      "        7    0.000    0.000    0.000    0.000 base.py:609(_dtype_to_subclass)\n",
      "        2    0.000    0.000    0.000    0.000 base.py:4436(_wrap_reindex_result)\n",
      "        4    0.000    0.000    0.000    0.000 fromnumeric.py:2836(min)\n",
      "        1    0.000    0.000    0.000    0.000 frame.py:12590(values)\n",
      "        8    0.000    0.000    0.000    0.000 base.py:6312(_index_as_unique)\n",
      "       11    0.000    0.000    0.000    0.000 {built-in method builtins.hash}\n",
      "        2    0.000    0.000    0.000    0.000 {method 'sum' of 'numpy.ndarray' objects}\n",
      "       16    0.000    0.000    0.000    0.000 generic.py:572(_get_axis_number)\n",
      "        6    0.000    0.000    0.000    0.000 generic.py:592(_get_block_manager_axis)\n",
      "        9    0.000    0.000    0.000    0.000 blocks.py:1262(_slice)\n",
      "        1    0.000    0.000    0.000    0.000 fromnumeric.py:2322(any)\n",
      "        1    0.000    0.000    0.000    0.000 concat.py:503(_dtype_to_na_value)\n",
      "        4    0.000    0.000    0.000    0.000 base.py:7719(<genexpr>)\n",
      "        8    0.000    0.000    0.000    0.000 managers.py:2264(<lambda>)\n",
      "        3    0.000    0.000    0.000    0.000 utils.py:29(lmap)\n",
      "        2    0.000    0.000    0.000    0.000 common.py:372(apply_if_callable)\n",
      "        4    0.000    0.000    0.000    0.000 api.py:318(<genexpr>)\n",
      "        2    0.000    0.000    0.000    0.000 base.py:4440(_maybe_preserve_names)\n",
      "        6    0.000    0.000    0.000    0.000 warnings.py:458(__init__)\n",
      "        2    0.000    0.000    0.000    0.000 road.py:190(all_side_lanes)\n",
      "       12    0.000    0.000    0.000    0.000 _dtype.py:24(_kind_name)\n",
      "       22    0.000    0.000    0.000    0.000 multiarray.py:153(concatenate)\n",
      "        4    0.000    0.000    0.000    0.000 flags.py:87(allows_duplicate_labels)\n",
      "        2    0.000    0.000    0.000    0.000 concat.py:202(_maybe_reindex_columns_na_proxy)\n",
      "        1    0.000    0.000    0.000    0.000 typing.py:1492(__subclasscheck__)\n",
      "        3    0.000    0.000    0.000    0.000 {method 'split' of 'str' objects}\n",
      "        3    0.000    0.000    0.000    0.000 common.py:1375(_is_dtype)\n",
      "        3    0.000    0.000    0.000    0.000 base.py:6415(_is_comparable_dtype)\n",
      "        4    0.000    0.000    0.000    0.000 construction.py:916(<genexpr>)\n",
      "        4    0.000    0.000    0.000    0.000 inference.py:195(is_array_like)\n",
      "        3    0.000    0.000    0.000    0.000 construction.py:688(_sanitize_non_ordered)\n",
      "        2    0.000    0.000    0.000    0.000 indexing.py:2765(check_dict_or_set_indexers)\n",
      "       18    0.000    0.000    0.000    0.000 base.py:1671(name)\n",
      "        6    0.000    0.000    0.000    0.000 <frozen abc>:121(__subclasscheck__)\n",
      "        4    0.000    0.000    0.000    0.000 abstract.py:330(_automatic_rendering)\n",
      "        1    0.000    0.000    0.000    0.000 managers.py:2095(create_block_manager_from_blocks)\n",
      "        8    0.000    0.000    0.000    0.000 frame.py:1030(axes)\n",
      "        2    0.000    0.000    0.000    0.000 fromnumeric.py:1025(argsort)\n",
      "        1    0.000    0.000    0.000    0.000 generic.py:6301(__setattr__)\n",
      "        2    0.000    0.000    0.000    0.000 concat.py:431(get_reindexed_values)\n",
      "        2    0.000    0.000    0.000    0.000 base.py:773(_view)\n",
      "        1    0.000    0.000    0.000    0.000 {method 'all' of 'numpy.ndarray' objects}\n",
      "        2    0.000    0.000    0.000    0.000 box.py:31(is_float_integer)\n",
      "        2    0.000    0.000    0.000    0.000 construction.py:950(_validate_or_indexify_columns)\n",
      "        2    0.000    0.000    0.000    0.000 blocks.py:2795(extend_blocks)\n",
      "        8    0.000    0.000    0.000    0.000 managers.py:937(<genexpr>)\n",
      "       11    0.000    0.000    0.000    0.000 managers.py:196(blklocs)\n",
      "        1    0.000    0.000    0.000    0.000 typing.py:1221(__instancecheck__)\n",
      "        1    0.000    0.000    0.000    0.000 space.py:122(__contains__)\n",
      "        6    0.000    0.000    0.000    0.000 kinematics.py:219(destination)\n",
      "        1    0.000    0.000    0.000    0.000 abstract.py:169(_info)\n",
      "        3    0.000    0.000    0.000    0.000 config.py:617(_select_options)\n",
      "        1    0.000    0.000    0.000    0.000 construction.py:585(_ensure_2d)\n",
      "        4    0.000    0.000    0.000    0.000 _methods.py:39(_amax)\n",
      "        1    0.000    0.000    0.000    0.000 base.py:397(ensure_np_dtype)\n",
      "        8    0.000    0.000    0.000    0.000 {method 'keys' of 'dict' objects}\n",
      "        2    0.000    0.000    0.000    0.000 common.py:1571(validate_all_hashable)\n",
      "       11    0.000    0.000    0.000    0.000 base.py:974(dtype)\n",
      "        2    0.000    0.000    0.000    0.000 base.py:2794(_na_value)\n",
      "        6    0.000    0.000    0.000    0.000 {method 'upper' of 'str' objects}\n",
      "       15    0.000    0.000    0.000    0.000 fromnumeric.py:1232(_argmin_dispatcher)\n",
      "        2    0.000    0.000    0.000    0.000 fromnumeric.py:2692(max)\n",
      "        1    0.000    0.000    0.000    0.000 action.py:61(controlled_vehicle)\n",
      "        2    0.000    0.000    0.000    0.000 cast.py:1471(<genexpr>)\n",
      "       10    0.000    0.000    0.000    0.000 generic.py:696(ndim)\n",
      "        8    0.000    0.000    0.000    0.000 {method 'add' of 'set' objects}\n",
      "        2    0.000    0.000    0.000    0.000 fromnumeric.py:2421(all)\n",
      "       12    0.000    0.000    0.000    0.000 shape_base.py:1181(_tile_dispatcher)\n",
      "        2    0.000    0.000    0.000    0.000 concat.py:693(_get_result_dim)\n",
      "       10    0.000    0.000    0.000    0.000 utils.py:25(do_every)\n",
      "        2    0.000    0.000    0.000    0.000 common.py:174(not_none)\n",
      "       12    0.000    0.000    0.000    0.000 concat.py:351(__init__)\n",
      "        6    0.000    0.000    0.000    0.000 concat.py:754(<genexpr>)\n",
      "        3    0.000    0.000    0.000    0.000 box.py:105(<genexpr>)\n",
      "        1    0.000    0.000    0.000    0.000 highway_env_icy.py:163(_is_terminated)\n",
      "        3    0.000    0.000    0.000    0.000 common.py:126(_classes_and_not_datetimelike)\n",
      "        2    0.000    0.000    0.000    0.000 base.py:782(_rename)\n",
      "       12    0.000    0.000    0.000    0.000 {built-in method _warnings._filters_mutated}\n",
      "        1    0.000    0.000    0.000    0.000 highway_env_icy.py:171(_is_truncated)\n",
      "        3    0.000    0.000    0.000    0.000 config.py:649(_get_deprecated_option)\n",
      "        4    0.000    0.000    0.000    0.000 common.py:1590(<genexpr>)\n",
      "       10    0.000    0.000    0.000    0.000 generic.py:405(flags)\n",
      "        1    0.000    0.000    0.000    0.000 construction.py:742(_get_axes)\n",
      "        6    0.000    0.000    0.000    0.000 blocks.py:1249(shape)\n",
      "        8    0.000    0.000    0.000    0.000 {built-in method builtins.id}\n",
      "        1    0.000    0.000    0.000    0.000 space.py:45(__init__)\n",
      "        7    0.000    0.000    0.000    0.000 box.py:310(shape)\n",
      "        2    0.000    0.000    0.000    0.000 observation.py:36(observer_vehicle)\n",
      "        2    0.000    0.000    0.000    0.000 common.py:1040(needs_i8_conversion)\n",
      "        3    0.000    0.000    0.000    0.000 base.py:6679(_maybe_cast_listlike_indexer)\n",
      "        1    0.000    0.000    0.000    0.000 construction.py:405(_check_values_indices_shape_match)\n",
      "       14    0.000    0.000    0.000    0.000 shape_base.py:77(_atleast_2d_dispatcher)\n",
      "        2    0.000    0.000    0.000    0.000 base.py:7652(ensure_has_len)\n",
      "        1    0.000    0.000    0.000    0.000 {built-in method fromkeys}\n",
      "        2    0.000    0.000    0.000    0.000 objects.py:211(on_road)\n",
      "        1    0.000    0.000    0.000    0.000 construction.py:196(mgr_to_mgr)\n",
      "        3    0.000    0.000    0.000    0.000 common.py:1399(_get_dtype)\n",
      "        6    0.000    0.000    0.000    0.000 common.py:178(<genexpr>)\n",
      "        4    0.000    0.000    0.000    0.000 base.py:1176(_maybe_disallow_fill)\n",
      "        4    0.000    0.000    0.000    0.000 base.py:2776(_is_multi)\n",
      "        2    0.000    0.000    0.000    0.000 getlimits.py:484(__new__)\n",
      "        2    0.000    0.000    0.000    0.000 _methods.py:47(_sum)\n",
      "        3    0.000    0.000    0.000    0.000 box.py:111(<genexpr>)\n",
      "        3    0.000    0.000    0.000    0.000 common.py:131(<lambda>)\n",
      "        3    0.000    0.000    0.000    0.000 concat.py:160(<genexpr>)\n",
      "        1    0.000    0.000    0.000    0.000 base.py:378(interleaved_dtype)\n",
      "        2    0.000    0.000    0.000    0.000 managers.py:553(nblocks)\n",
      "        3    0.000    0.000    0.000    0.000 concat.py:471(<genexpr>)\n",
      "        1    0.000    0.000    0.000    0.000 {method 'transpose' of 'numpy.ndarray' objects}\n",
      "        3    0.000    0.000    0.000    0.000 cast.py:1462(<genexpr>)\n",
      "        2    0.000    0.000    0.000    0.000 concat.py:44(_is_nonempty)\n",
      "        6    0.000    0.000    0.000    0.000 flags.py:55(allows_duplicate_labels)\n",
      "        2    0.000    0.000    0.000    0.000 blocks.py:2586(get_values)\n",
      "        3    0.000    0.000    0.000    0.000 concat.py:540(<genexpr>)\n",
      "        2    0.000    0.000    0.000    0.000 concat.py:357(_is_valid_na_for)\n",
      "        2    0.000    0.000    0.000    0.000 function.py:64(__call__)\n",
      "        2    0.000    0.000    0.000    0.000 base.py:692(_constructor)\n",
      "        3    0.000    0.000    0.000    0.000 concat.py:463(<genexpr>)\n",
      "        3    0.000    0.000    0.000    0.000 common.py:1122(<lambda>)\n",
      "        3    0.000    0.000    0.000    0.000 missing.py:1073(clean_reindex_fill_method)\n",
      "        4    0.000    0.000    0.000    0.000 generic.py:363(attrs)\n",
      "        2    0.000    0.000    0.000    0.000 base.py:1979(nlevels)\n",
      "        2    0.000    0.000    0.000    0.000 managers.py:246(items)\n",
      "        2    0.000    0.000    0.000    0.000 {method 'pop' of 'set' objects}\n",
      "        4    0.000    0.000    0.000    0.000 fromnumeric.py:2831(_min_dispatcher)\n",
      "        2    0.000    0.000    0.000    0.000 cast.py:1473(<genexpr>)\n",
      "        2    0.000    0.000    0.000    0.000 fromnumeric.py:1021(_argsort_dispatcher)\n",
      "        2    0.000    0.000    0.000    0.000 fromnumeric.py:2416(_all_dispatcher)\n",
      "        1    0.000    0.000    0.000    0.000 _methods.py:61(_all)\n",
      "        3    0.000    0.000    0.000    0.000 cast.py:1478(<genexpr>)\n",
      "        2    0.000    0.000    0.000    0.000 {function FrozenList.__getitem__ at 0x000002545BAA20C0}\n",
      "        2    0.000    0.000    0.000    0.000 multiarray.py:669(result_type)\n",
      "        2    0.000    0.000    0.000    0.000 ufunclike.py:14(_dispatcher)\n",
      "        2    0.000    0.000    0.000    0.000 {built-in method builtins.callable}\n",
      "        1    0.000    0.000    0.000    0.000 multiarray.py:503(can_cast)\n",
      "        1    0.000    0.000    0.000    0.000 fromnumeric.py:2317(_any_dispatcher)\n",
      "        2    0.000    0.000    0.000    0.000 fromnumeric.py:2687(_max_dispatcher)"
     ]
    }
   ],
   "source": [
    "%prun obs, reward, done, truncated, info = env.step(action)"
   ]
  },
  {
   "cell_type": "code",
   "execution_count": 4,
   "metadata": {},
   "outputs": [
    {
     "data": {
      "text/plain": [
       "[MDPVehicle #824: [183.87107986   4.        ],\n",
       " IDMVehicle #216: [197.79668924   8.        ],\n",
       " IDMVehicle #904: [219.72090957   0.        ]]"
      ]
     },
     "execution_count": 4,
     "metadata": {},
     "output_type": "execute_result"
    }
   ],
   "source": [
    "env.unwrapped.road.vehicles"
   ]
  },
  {
   "cell_type": "code",
   "execution_count": 5,
   "metadata": {},
   "outputs": [
    {
     "data": {
      "text/plain": [
       "[Ice1 #760: at [151.090512   4.      ],\n",
       " Ice1 #432: at [218.85401083   8.        ],\n",
       " Ice1 #608: at [268.52539651   0.        ],\n",
       " Ice1 #528: at [294.43759937   0.        ],\n",
       " Ice1 #536: at [343.98100414   4.        ],\n",
       " Ice1 #712: at [392.53761495   8.        ],\n",
       " Ice1 #656: at [460.59978171   4.        ],\n",
       " Ice1 #528: at [505.44612845   0.        ],\n",
       " Ice1 #72: at [551.07811977   8.        ],\n",
       " Ice1 #64: at [633.43185766   0.        ]]"
      ]
     },
     "execution_count": 5,
     "metadata": {},
     "output_type": "execute_result"
    }
   ],
   "source": [
    "env.unwrapped.road.objects"
   ]
  },
  {
   "cell_type": "code",
   "execution_count": 6,
   "metadata": {},
   "outputs": [
    {
     "data": {
      "text/plain": [
       "array([[  1.      , 183.87108 ,   4.      ,  29.444445,   0.      ],\n",
       "       [  1.      , 197.79669 ,   8.      ,  17.942114,   0.      ],\n",
       "       [  1.      , 218.854   ,   8.      ,   0.      ,   0.      ],\n",
       "       [  1.      , 219.72092 ,   0.      ,  16.230988,   0.      ],\n",
       "       [  1.      , 268.5254  ,   0.      ,   0.      ,   0.      ],\n",
       "       [  1.      , 294.4376  ,   0.      ,   0.      ,   0.      ],\n",
       "       [  1.      , 343.98102 ,   4.      ,   0.      ,   0.      ],\n",
       "       [  0.      ,   0.      ,   0.      ,   0.      ,   0.      ],\n",
       "       [  0.      ,   0.      ,   0.      ,   0.      ,   0.      ],\n",
       "       [  0.      ,   0.      ,   0.      ,   0.      ,   0.      ],\n",
       "       [  0.      ,   0.      ,   0.      ,   0.      ,   0.      ],\n",
       "       [  0.      ,   0.      ,   0.      ,   0.      ,   0.      ]],\n",
       "      dtype=float32)"
      ]
     },
     "execution_count": 6,
     "metadata": {},
     "output_type": "execute_result"
    }
   ],
   "source": [
    "obs"
   ]
  },
  {
   "cell_type": "code",
   "execution_count": null,
   "metadata": {},
   "outputs": [],
   "source": []
  }
 ],
 "metadata": {
  "kernelspec": {
   "display_name": "myHighwayEnv",
   "language": "python",
   "name": "python3"
  },
  "language_info": {
   "codemirror_mode": {
    "name": "ipython",
    "version": 3
   },
   "file_extension": ".py",
   "mimetype": "text/x-python",
   "name": "python",
   "nbconvert_exporter": "python",
   "pygments_lexer": "ipython3",
   "version": "3.12.8"
  }
 },
 "nbformat": 4,
 "nbformat_minor": 2
}
