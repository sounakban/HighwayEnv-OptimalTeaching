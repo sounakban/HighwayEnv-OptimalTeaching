{
 "cells": [
  {
   "cell_type": "markdown",
   "metadata": {},
   "source": [
    "This code utilizes the discreteMDP_wrapper.py  codebase to simulate the icy highway environment and discretize its results and form it into an MDP table."
   ]
  },
  {
   "cell_type": "code",
   "execution_count": 1,
   "metadata": {},
   "outputs": [
    {
     "name": "stdout",
     "output_type": "stream",
     "text": [
      "d:\\WorkFiles\\ProjectCode\\ActiveProjects\\HoLab\\Mine\\HighwayEnv-TRI\n"
     ]
    }
   ],
   "source": [
    "# Move up one directory level to import local instance of highway environment\n",
    "%cd ..\n",
    "# %pwd"
   ]
  },
  {
   "cell_type": "markdown",
   "metadata": {},
   "source": [
    "Import necessary modules"
   ]
  },
  {
   "cell_type": "code",
   "execution_count": 2,
   "metadata": {},
   "outputs": [],
   "source": [
    "from highway_env.envs.discreteMDP_wrapper import HighwayDiscreteMDP, OptimalPolicy\n",
    "\n",
    "import logging\n",
    "logger = logging.getLogger()\n",
    "logger.setLevel(logging.INFO)    # Other options: INFO, WARNING, ERROR, CRITICAL\n",
    "\n",
    "import copy"
   ]
  },
  {
   "cell_type": "markdown",
   "metadata": {},
   "source": [
    "MDP Stuff"
   ]
  },
  {
   "cell_type": "code",
   "execution_count": 3,
   "metadata": {},
   "outputs": [
    {
     "name": "stderr",
     "output_type": "stream",
     "text": [
      "c:\\Users\\sb10438\\AppData\\Local\\anaconda3\\envs\\myHighwayEnv\\Lib\\site-packages\\gymnasium\\utils\\passive_env_checker.py:158: UserWarning: \u001b[33mWARN: The obs returned by the `reset()` method is not within the observation space.\u001b[0m\n",
      "  logger.warn(f\"{pre} is not within the observation space.\")\n"
     ]
    }
   ],
   "source": [
    "# Define Configuration\n",
    "num_of_vehicles = 2\n",
    "num_of_ice = 5\n",
    "config = {    \n",
    "        ## Parameters of interest ##\n",
    "        \"observation\": {\n",
    "            # For more details about observation parameters check out \"highway_env\\envs\\common\\observation.py\"\n",
    "            \"type\": \"Kinematics\",\n",
    "            \"vehicles_count\": num_of_vehicles+num_of_ice+5,   # Number of vehicles (and objects) to show in the observation. \n",
    "                                                                #   Keep greater than value of vehicles out outside obervation\n",
    "                                                                #   dictionary to observe all vehicles in the environment.\n",
    "            \"features\": [\"presence\", \"x\", \"y\", \"vx\", \"vy\"],# \"heading\"],\n",
    "            \"normalize\": False, # Normalize object coordinates\n",
    "            \"absolute\": True,   # Provide absolute coordinate of vehicles\n",
    "            \"order\": \"sorted\",\n",
    "            \"observe_intentions\": False,\n",
    "            \"include_obstacles\": True,\n",
    "            \"see_behind\": True  # Report vehicles behind the ego vehicle\n",
    "            },\n",
    "        ## Parameters specialized for the icy highway environment ##\n",
    "        \"ice_count\": num_of_ice,    # Number of ice sheets in the environment\n",
    "        \"env_len\":  3000,    # Length of the road\n",
    "        ## Keep these to default, because the fast versions of the environments implement different values ##\n",
    "        ## of these variables for faster execution ##\n",
    "        \"vehicles_count\": num_of_vehicles,\n",
    "        \"lanes_count\": 3,\n",
    "        \"simulation_frequency\": 5,\n",
    "        \"duration\": 120,  # [s]\n",
    "        \"disable_collision_checks\": True,    # Check collisions for other vehicles\n",
    "        \"enable_lane_change\": False,\n",
    "        ## Other parameters aleady set by default configurations ##\n",
    "        # \"action\": {\n",
    "        #     \"type\": \"DiscreteMetaAction\",\n",
    "        # },\n",
    "        # \"controlled_vehicles\": 1,\n",
    "        # \"initial_lane_id\": None,\n",
    "        # \"ego_spacing\": 2,\n",
    "        # \"vehicles_density\": 1,\n",
    "        # \"collision_reward\": -1,  # The reward received when colliding with a vehicle.\n",
    "        # \"right_lane_reward\": 0.1,  # The reward received when driving on the right-most lanes, linearly mapped to\n",
    "        # # zero for other lanes.\n",
    "        # \"high_speed_reward\": 0.4,  # The reward received when driving at full speed, linearly mapped to zero for\n",
    "        # # lower speeds according to config[\"reward_speed_range\"].\n",
    "        # \"lane_change_reward\": 0,  # The reward received at each lane change action.\n",
    "        # \"reward_speed_range\": [20, 30],\n",
    "        # \"normalize_reward\": True,\n",
    "        # \"offroad_terminal\": False\n",
    "        }\n",
    "# highway_mdp = HighwayDiscreteMDP('highway-v0', config=config, render_mode='rgb_array')\n",
    "# highway_mdp = HighwayDiscreteMDP('highway-v0', config=config, render_mode=None)\n",
    "# highway_mdp = HighwayDiscreteMDP('highway-fast-v0', config=config, render_mode=None)\n",
    "highway_mdp = HighwayDiscreteMDP('highway-icy-fast-v0', config=config, render_mode=None)\n",
    "# highway_mdp = HighwayDiscreteMDP('highway-icy-v0', config=config, render_mode=None)\n",
    "\n",
    "max_depth = 3"
   ]
  },
  {
   "cell_type": "code",
   "execution_count": null,
   "metadata": {},
   "outputs": [],
   "source": [
    "# Construal MDP Code\n",
    "construals = highway_mdp.get_construals_singleobj()\n",
    "# len(construals)\n",
    "\n",
    "construal_policies = dict()\n",
    "for constr in construals:\n",
    "    print(\"currently running contrual \", len(construal_policies)+1)\n",
    "    # print(constr.env.unwrapped.road.vehicles)\n",
    "    # print(constr.env.unwrapped.road.objects)\n",
    "    # print(\"----------------\")\n",
    "    constr.populate_MDPtable(max_depth = max_depth)\n",
    "    value_function = constr.value_iteration()\n",
    "    policy = OptimalPolicy(constr)\n",
    "    construal_policies[constr] = policy"
   ]
  },
  {
   "cell_type": "code",
   "execution_count": 7,
   "metadata": {},
   "outputs": [
    {
     "name": "stdout",
     "output_type": "stream",
     "text": [
      "[1, 2, 3, 4]\n",
      "[1, 2, 3, 4]\n",
      "[1, 2, 3, 4]\n"
     ]
    },
    {
     "name": "stderr",
     "output_type": "stream",
     "text": [
      "c:\\Users\\Sounak\\anaconda3\\envs\\myHighwayEnv\\Lib\\site-packages\\gymnasium\\utils\\passive_env_checker.py:158: UserWarning: \u001b[33mWARN: The obs returned by the `step()` method is not within the observation space.\u001b[0m\n",
      "  logger.warn(f\"{pre} is not within the observation space.\")\n",
      "c:\\Users\\Sounak\\anaconda3\\envs\\myHighwayEnv\\Lib\\site-packages\\gymnasium\\utils\\passive_env_checker.py:158: UserWarning: \u001b[33mWARN: The obs returned by the `step()` method is not within the observation space.\u001b[0m\n",
      "  logger.warn(f\"{pre} is not within the observation space.\")\n",
      "c:\\Users\\Sounak\\anaconda3\\envs\\myHighwayEnv\\Lib\\site-packages\\gymnasium\\utils\\passive_env_checker.py:158: UserWarning: \u001b[33mWARN: The obs returned by the `step()` method is not within the observation space.\u001b[0m\n",
      "  logger.warn(f\"{pre} is not within the observation space.\")\n"
     ]
    },
    {
     "name": "stdout",
     "output_type": "stream",
     "text": [
      "[1, 2, 3, 4]\n",
      "[1, 2, 3, 4]\n",
      "[1, 2, 3, 4]\n"
     ]
    },
    {
     "name": "stderr",
     "output_type": "stream",
     "text": [
      "c:\\Users\\Sounak\\anaconda3\\envs\\myHighwayEnv\\Lib\\site-packages\\gymnasium\\utils\\passive_env_checker.py:158: UserWarning: \u001b[33mWARN: The obs returned by the `step()` method is not within the observation space.\u001b[0m\n",
      "  logger.warn(f\"{pre} is not within the observation space.\")\n",
      "c:\\Users\\Sounak\\anaconda3\\envs\\myHighwayEnv\\Lib\\site-packages\\gymnasium\\utils\\passive_env_checker.py:158: UserWarning: \u001b[33mWARN: The obs returned by the `step()` method is not within the observation space.\u001b[0m\n",
      "  logger.warn(f\"{pre} is not within the observation space.\")\n",
      "c:\\Users\\Sounak\\anaconda3\\envs\\myHighwayEnv\\Lib\\site-packages\\gymnasium\\utils\\passive_env_checker.py:158: UserWarning: \u001b[33mWARN: The obs returned by the `step()` method is not within the observation space.\u001b[0m\n",
      "  logger.warn(f\"{pre} is not within the observation space.\")\n"
     ]
    },
    {
     "name": "stdout",
     "output_type": "stream",
     "text": [
      "[1, 2, 3, 4]\n",
      "[1, 2, 3, 4]\n",
      "[1, 2, 3, 4]\n"
     ]
    },
    {
     "name": "stderr",
     "output_type": "stream",
     "text": [
      "c:\\Users\\Sounak\\anaconda3\\envs\\myHighwayEnv\\Lib\\site-packages\\gymnasium\\utils\\passive_env_checker.py:158: UserWarning: \u001b[33mWARN: The obs returned by the `step()` method is not within the observation space.\u001b[0m\n",
      "  logger.warn(f\"{pre} is not within the observation space.\")\n",
      "c:\\Users\\Sounak\\anaconda3\\envs\\myHighwayEnv\\Lib\\site-packages\\gymnasium\\utils\\passive_env_checker.py:158: UserWarning: \u001b[33mWARN: The obs returned by the `step()` method is not within the observation space.\u001b[0m\n",
      "  logger.warn(f\"{pre} is not within the observation space.\")\n",
      "c:\\Users\\Sounak\\anaconda3\\envs\\myHighwayEnv\\Lib\\site-packages\\gymnasium\\utils\\passive_env_checker.py:158: UserWarning: \u001b[33mWARN: The obs returned by the `step()` method is not within the observation space.\u001b[0m\n",
      "  logger.warn(f\"{pre} is not within the observation space.\")\n"
     ]
    },
    {
     "name": "stdout",
     "output_type": "stream",
     "text": [
      "[1, 2, 3, 4]\n",
      "[1, 2, 3, 4]\n",
      "[1, 2, 3, 4]\n"
     ]
    },
    {
     "name": "stderr",
     "output_type": "stream",
     "text": [
      "c:\\Users\\Sounak\\anaconda3\\envs\\myHighwayEnv\\Lib\\site-packages\\gymnasium\\utils\\passive_env_checker.py:158: UserWarning: \u001b[33mWARN: The obs returned by the `step()` method is not within the observation space.\u001b[0m\n",
      "  logger.warn(f\"{pre} is not within the observation space.\")\n",
      "c:\\Users\\Sounak\\anaconda3\\envs\\myHighwayEnv\\Lib\\site-packages\\gymnasium\\utils\\passive_env_checker.py:158: UserWarning: \u001b[33mWARN: The obs returned by the `step()` method is not within the observation space.\u001b[0m\n",
      "  logger.warn(f\"{pre} is not within the observation space.\")\n",
      "c:\\Users\\Sounak\\anaconda3\\envs\\myHighwayEnv\\Lib\\site-packages\\gymnasium\\utils\\passive_env_checker.py:158: UserWarning: \u001b[33mWARN: The obs returned by the `step()` method is not within the observation space.\u001b[0m\n",
      "  logger.warn(f\"{pre} is not within the observation space.\")\n"
     ]
    },
    {
     "name": "stdout",
     "output_type": "stream",
     "text": [
      "[1, 2, 3, 4]\n",
      "[1, 2, 3, 4]\n"
     ]
    },
    {
     "name": "stderr",
     "output_type": "stream",
     "text": [
      "c:\\Users\\Sounak\\anaconda3\\envs\\myHighwayEnv\\Lib\\site-packages\\gymnasium\\utils\\passive_env_checker.py:158: UserWarning: \u001b[33mWARN: The obs returned by the `step()` method is not within the observation space.\u001b[0m\n",
      "  logger.warn(f\"{pre} is not within the observation space.\")\n",
      "c:\\Users\\Sounak\\anaconda3\\envs\\myHighwayEnv\\Lib\\site-packages\\gymnasium\\utils\\passive_env_checker.py:158: UserWarning: \u001b[33mWARN: The obs returned by the `step()` method is not within the observation space.\u001b[0m\n",
      "  logger.warn(f\"{pre} is not within the observation space.\")\n"
     ]
    },
    {
     "name": "stdout",
     "output_type": "stream",
     "text": [
      "[1, 2, 3, 4]\n",
      "[1, 2, 3, 4]\n"
     ]
    },
    {
     "name": "stderr",
     "output_type": "stream",
     "text": [
      "c:\\Users\\Sounak\\anaconda3\\envs\\myHighwayEnv\\Lib\\site-packages\\gymnasium\\utils\\passive_env_checker.py:158: UserWarning: \u001b[33mWARN: The obs returned by the `step()` method is not within the observation space.\u001b[0m\n",
      "  logger.warn(f\"{pre} is not within the observation space.\")\n",
      "c:\\Users\\Sounak\\anaconda3\\envs\\myHighwayEnv\\Lib\\site-packages\\gymnasium\\utils\\passive_env_checker.py:158: UserWarning: \u001b[33mWARN: The obs returned by the `step()` method is not within the observation space.\u001b[0m\n",
      "  logger.warn(f\"{pre} is not within the observation space.\")\n"
     ]
    },
    {
     "name": "stdout",
     "output_type": "stream",
     "text": [
      "[1, 2, 3, 4]\n",
      "[1, 2, 3, 4]\n",
      "[1, 2, 3, 4]\n"
     ]
    },
    {
     "name": "stderr",
     "output_type": "stream",
     "text": [
      "c:\\Users\\Sounak\\anaconda3\\envs\\myHighwayEnv\\Lib\\site-packages\\gymnasium\\utils\\passive_env_checker.py:158: UserWarning: \u001b[33mWARN: The obs returned by the `step()` method is not within the observation space.\u001b[0m\n",
      "  logger.warn(f\"{pre} is not within the observation space.\")\n",
      "c:\\Users\\Sounak\\anaconda3\\envs\\myHighwayEnv\\Lib\\site-packages\\gymnasium\\utils\\passive_env_checker.py:158: UserWarning: \u001b[33mWARN: The obs returned by the `step()` method is not within the observation space.\u001b[0m\n",
      "  logger.warn(f\"{pre} is not within the observation space.\")\n",
      "c:\\Users\\Sounak\\anaconda3\\envs\\myHighwayEnv\\Lib\\site-packages\\gymnasium\\utils\\passive_env_checker.py:158: UserWarning: \u001b[33mWARN: The obs returned by the `step()` method is not within the observation space.\u001b[0m\n",
      "  logger.warn(f\"{pre} is not within the observation space.\")\n"
     ]
    },
    {
     "name": "stdout",
     "output_type": "stream",
     "text": [
      "[1, 2, 3, 4]\n",
      "[1, 2, 3, 4]\n"
     ]
    },
    {
     "name": "stderr",
     "output_type": "stream",
     "text": [
      "c:\\Users\\Sounak\\anaconda3\\envs\\myHighwayEnv\\Lib\\site-packages\\gymnasium\\utils\\passive_env_checker.py:158: UserWarning: \u001b[33mWARN: The obs returned by the `step()` method is not within the observation space.\u001b[0m\n",
      "  logger.warn(f\"{pre} is not within the observation space.\")\n",
      "c:\\Users\\Sounak\\anaconda3\\envs\\myHighwayEnv\\Lib\\site-packages\\gymnasium\\utils\\passive_env_checker.py:158: UserWarning: \u001b[33mWARN: The obs returned by the `step()` method is not within the observation space.\u001b[0m\n",
      "  logger.warn(f\"{pre} is not within the observation space.\")\n"
     ]
    },
    {
     "name": "stdout",
     "output_type": "stream",
     "text": [
      "[1, 2, 3, 4]\n",
      "[1, 2, 3, 4]\n"
     ]
    },
    {
     "name": "stderr",
     "output_type": "stream",
     "text": [
      "c:\\Users\\Sounak\\anaconda3\\envs\\myHighwayEnv\\Lib\\site-packages\\gymnasium\\utils\\passive_env_checker.py:158: UserWarning: \u001b[33mWARN: The obs returned by the `step()` method is not within the observation space.\u001b[0m\n",
      "  logger.warn(f\"{pre} is not within the observation space.\")\n",
      "c:\\Users\\Sounak\\anaconda3\\envs\\myHighwayEnv\\Lib\\site-packages\\gymnasium\\utils\\passive_env_checker.py:158: UserWarning: \u001b[33mWARN: The obs returned by the `step()` method is not within the observation space.\u001b[0m\n",
      "  logger.warn(f\"{pre} is not within the observation space.\")\n"
     ]
    },
    {
     "name": "stdout",
     "output_type": "stream",
     "text": [
      "[1, 2, 3, 4]\n",
      "[1, 2, 3, 4]\n"
     ]
    },
    {
     "name": "stderr",
     "output_type": "stream",
     "text": [
      "c:\\Users\\Sounak\\anaconda3\\envs\\myHighwayEnv\\Lib\\site-packages\\gymnasium\\utils\\passive_env_checker.py:158: UserWarning: \u001b[33mWARN: The obs returned by the `step()` method is not within the observation space.\u001b[0m\n",
      "  logger.warn(f\"{pre} is not within the observation space.\")\n",
      "c:\\Users\\Sounak\\anaconda3\\envs\\myHighwayEnv\\Lib\\site-packages\\gymnasium\\utils\\passive_env_checker.py:158: UserWarning: \u001b[33mWARN: The obs returned by the `step()` method is not within the observation space.\u001b[0m\n",
      "  logger.warn(f\"{pre} is not within the observation space.\")\n",
      "c:\\Users\\Sounak\\anaconda3\\envs\\myHighwayEnv\\Lib\\site-packages\\gymnasium\\utils\\passive_env_checker.py:158: UserWarning: \u001b[33mWARN: The obs returned by the `step()` method is not within the observation space.\u001b[0m\n",
      "  logger.warn(f\"{pre} is not within the observation space.\")\n"
     ]
    },
    {
     "name": "stdout",
     "output_type": "stream",
     "text": [
      "[1, 2, 3, 4]\n",
      "[1, 2, 3, 4]\n",
      "[1, 2, 3, 4]\n"
     ]
    },
    {
     "name": "stderr",
     "output_type": "stream",
     "text": [
      "c:\\Users\\Sounak\\anaconda3\\envs\\myHighwayEnv\\Lib\\site-packages\\gymnasium\\utils\\passive_env_checker.py:158: UserWarning: \u001b[33mWARN: The obs returned by the `step()` method is not within the observation space.\u001b[0m\n",
      "  logger.warn(f\"{pre} is not within the observation space.\")\n",
      "c:\\Users\\Sounak\\anaconda3\\envs\\myHighwayEnv\\Lib\\site-packages\\gymnasium\\utils\\passive_env_checker.py:158: UserWarning: \u001b[33mWARN: The obs returned by the `step()` method is not within the observation space.\u001b[0m\n",
      "  logger.warn(f\"{pre} is not within the observation space.\")\n",
      "c:\\Users\\Sounak\\anaconda3\\envs\\myHighwayEnv\\Lib\\site-packages\\gymnasium\\utils\\passive_env_checker.py:158: UserWarning: \u001b[33mWARN: The obs returned by the `step()` method is not within the observation space.\u001b[0m\n",
      "  logger.warn(f\"{pre} is not within the observation space.\")\n"
     ]
    },
    {
     "name": "stdout",
     "output_type": "stream",
     "text": [
      "[1, 2, 3, 4]\n",
      "[1, 2, 3, 4]\n",
      "[1, 2, 3, 4]\n"
     ]
    },
    {
     "name": "stderr",
     "output_type": "stream",
     "text": [
      "c:\\Users\\Sounak\\anaconda3\\envs\\myHighwayEnv\\Lib\\site-packages\\gymnasium\\utils\\passive_env_checker.py:158: UserWarning: \u001b[33mWARN: The obs returned by the `step()` method is not within the observation space.\u001b[0m\n",
      "  logger.warn(f\"{pre} is not within the observation space.\")\n",
      "c:\\Users\\Sounak\\anaconda3\\envs\\myHighwayEnv\\Lib\\site-packages\\gymnasium\\utils\\passive_env_checker.py:158: UserWarning: \u001b[33mWARN: The obs returned by the `step()` method is not within the observation space.\u001b[0m\n",
      "  logger.warn(f\"{pre} is not within the observation space.\")\n"
     ]
    }
   ],
   "source": [
    "construal_rewards = {}\n",
    "for constr, policy in construal_policies.items():\n",
    "    actns = policy(constr.current_state)\n",
    "    print(actns)\n",
    "    temp_mdp = highway_mdp.get_copy()\n",
    "    obs, rwrd, done, truncated, info = temp_mdp.step(actns[0])\n",
    "    construal_rewards[constr] = rwrd\n",
    "\n",
    "# TODO: take optimal actions based on each policy and calculate reward\n",
    "# Question: The behavior of other vehicles will also change in these construals \n",
    "#           (do we account for that by repreating the construal creation process at each timestep?)\n",
    "\n",
    "# #2# The below oprations can be repeated upto max depth iterations, to execute all actions calculated by the current policy\n",
    "# acts = policy(highway_mdp.current_state)\n",
    "# _ = highway_mdp.step(acts[0])"
   ]
  },
  {
   "cell_type": "code",
   "execution_count": 6,
   "metadata": {},
   "outputs": [
    {
     "data": {
      "text/plain": [
       "{<highway_env.envs.discreteMDP_wrapper.HighwayDiscreteMDP at 0x22279d3ffe0>: 0.8666666666666667,\n",
       " <highway_env.envs.discreteMDP_wrapper.HighwayDiscreteMDP at 0x2227cd14590>: 0.8666666666666667,\n",
       " <highway_env.envs.discreteMDP_wrapper.HighwayDiscreteMDP at 0x2227d6378c0>: 0.8666666666666667,\n",
       " <highway_env.envs.discreteMDP_wrapper.HighwayDiscreteMDP at 0x2227ccb4f20>: 0.8666666666666667,\n",
       " <highway_env.envs.discreteMDP_wrapper.HighwayDiscreteMDP at 0x2227d8589e0>: 0.8666666666666667,\n",
       " <highway_env.envs.discreteMDP_wrapper.HighwayDiscreteMDP at 0x2227d991ac0>: 0.8666666666666667,\n",
       " <highway_env.envs.discreteMDP_wrapper.HighwayDiscreteMDP at 0x2227d8a6e40>: 0.8666666666666667,\n",
       " <highway_env.envs.discreteMDP_wrapper.HighwayDiscreteMDP at 0x2227d858800>: 0.8666666666666667,\n",
       " <highway_env.envs.discreteMDP_wrapper.HighwayDiscreteMDP at 0x2227d7c7e30>: 0.8666666666666667,\n",
       " <highway_env.envs.discreteMDP_wrapper.HighwayDiscreteMDP at 0x2227d9ce0c0>: 0.8666666666666667,\n",
       " <highway_env.envs.discreteMDP_wrapper.HighwayDiscreteMDP at 0x2227ce6da60>: 0.8666666666666667,\n",
       " <highway_env.envs.discreteMDP_wrapper.HighwayDiscreteMDP at 0x2227d9ebf20>: 0.8666666666666667,\n",
       " <highway_env.envs.discreteMDP_wrapper.HighwayDiscreteMDP at 0x2227d9ebb30>: 0.8666666666666667,\n",
       " <highway_env.envs.discreteMDP_wrapper.HighwayDiscreteMDP at 0x2227d9ebfe0>: 0.8666666666666667,\n",
       " <highway_env.envs.discreteMDP_wrapper.HighwayDiscreteMDP at 0x2227d9eba10>: 0.8666666666666667,\n",
       " <highway_env.envs.discreteMDP_wrapper.HighwayDiscreteMDP at 0x2227d73c320>: 0.8666666666666667,\n",
       " <highway_env.envs.discreteMDP_wrapper.HighwayDiscreteMDP at 0x2227da03b30>: 0.8666666666666667,\n",
       " <highway_env.envs.discreteMDP_wrapper.HighwayDiscreteMDP at 0x2227da03ad0>: 0.8666666666666667,\n",
       " <highway_env.envs.discreteMDP_wrapper.HighwayDiscreteMDP at 0x2227d82bb60>: 0.8666666666666667,\n",
       " <highway_env.envs.discreteMDP_wrapper.HighwayDiscreteMDP at 0x2227da02fc0>: 0.8666666666666667,\n",
       " <highway_env.envs.discreteMDP_wrapper.HighwayDiscreteMDP at 0x2227da02e70>: 0.8666666666666667,\n",
       " <highway_env.envs.discreteMDP_wrapper.HighwayDiscreteMDP at 0x2227da1f770>: 0.8666666666666667,\n",
       " <highway_env.envs.discreteMDP_wrapper.HighwayDiscreteMDP at 0x2227da1f680>: 0.8666666666666667,\n",
       " <highway_env.envs.discreteMDP_wrapper.HighwayDiscreteMDP at 0x2227da1fad0>: 0.8666666666666667,\n",
       " <highway_env.envs.discreteMDP_wrapper.HighwayDiscreteMDP at 0x2227da1dbe0>: 0.8666666666666667,\n",
       " <highway_env.envs.discreteMDP_wrapper.HighwayDiscreteMDP at 0x2227da1d1c0>: 0.8666666666666667,\n",
       " <highway_env.envs.discreteMDP_wrapper.HighwayDiscreteMDP at 0x2227da2f290>: 0.8666666666666667,\n",
       " <highway_env.envs.discreteMDP_wrapper.HighwayDiscreteMDP at 0x2227da2ff50>: 0.8666666666666667,\n",
       " <highway_env.envs.discreteMDP_wrapper.HighwayDiscreteMDP at 0x2227da2e4b0>: 0.8666666666666667,\n",
       " <highway_env.envs.discreteMDP_wrapper.HighwayDiscreteMDP at 0x2227da2fbc0>: 0.8666666666666667,\n",
       " <highway_env.envs.discreteMDP_wrapper.HighwayDiscreteMDP at 0x2227da2f680>: 0.8666666666666667}"
      ]
     },
     "execution_count": 6,
     "metadata": {},
     "output_type": "execute_result"
    }
   ],
   "source": [
    "construal_rewards\n",
    "# len(highway_mdp.env.unwrapped.road.vehicles)\n",
    "# highway_mdp.env.unwrapped.road.vehicles\n",
    "# len(highway_mdp.env.unwrapped.road.objects)\n",
    "# highway_mdp.env.unwrapped.road.objects\n",
    "# construals[3].env.unwrapped.road.vehicles\n",
    "# construals[1].env.unwrapped.road.objects"
   ]
  },
  {
   "cell_type": "code",
   "execution_count": 15,
   "metadata": {},
   "outputs": [
    {
     "data": {
      "text/plain": [
       "(frozendict.frozendict({'position': (154.56, 4.0), 'speed': (25.0, 0.0), 'heading': 0.0}),\n",
       " frozendict.frozendict({'position': (151.09, 4.0), 'speed': (0.0, 0.0), 'heading': -1}),\n",
       " frozendict.frozendict({'position': (176.5, 0.0), 'speed': (23.3, 0.0), 'heading': 0.0}),\n",
       " frozendict.frozendict({'position': (197.53, 0.0), 'speed': (21.31, 0.0), 'heading': 0.0}),\n",
       " frozendict.frozendict({'position': (218.85, 8.0), 'speed': (0.0, 0.0), 'heading': -1}),\n",
       " frozendict.frozendict({'position': (221.24, 8.0), 'speed': (23.13, 0.0), 'heading': 0.0}),\n",
       " frozendict.frozendict({'position': (242.76, 0.0), 'speed': (22.4, 0.0), 'heading': 0.0}),\n",
       " frozendict.frozendict({'position': (265.23, 4.0), 'speed': (22.53, 0.0), 'heading': 0.0}),\n",
       " frozendict.frozendict({'position': (268.53, 0.0), 'speed': (0.0, 0.0), 'heading': -1}),\n",
       " frozendict.frozendict({'position': (288.73, 8.0), 'speed': (21.33, 0.0), 'heading': 0.0}),\n",
       " frozendict.frozendict({'position': (294.44, 0.0), 'speed': (0.0, 0.0), 'heading': -1}),\n",
       " frozendict.frozendict({'position': (313.14, 4.0), 'speed': (21.45, 0.0), 'heading': 0.0}),\n",
       " frozendict.frozendict({'position': (335.64, 4.0), 'speed': (22.26, 0.0), 'heading': 0.0}),\n",
       " frozendict.frozendict({'position': (343.98, 4.0), 'speed': (0.0, 0.0), 'heading': -1}),\n",
       " frozendict.frozendict({'position': (0.0, 0.0), 'speed': (0.0, 0.0), 'heading': 0.0}),\n",
       " frozendict.frozendict({'position': (0.0, 0.0), 'speed': (0.0, 0.0), 'heading': 0.0}),\n",
       " frozendict.frozendict({'position': (0.0, 0.0), 'speed': (0.0, 0.0), 'heading': 0.0}),\n",
       " frozendict.frozendict({'position': (0.0, 0.0), 'speed': (0.0, 0.0), 'heading': 0.0}),\n",
       " frozendict.frozendict({'position': (0.0, 0.0), 'speed': (0.0, 0.0), 'heading': 0.0}),\n",
       " frozendict.frozendict({'position': (0.0, 0.0), 'speed': (0.0, 0.0), 'heading': 0.0}),\n",
       " frozendict.frozendict({'position': (0.0, 0.0), 'speed': (0.0, 0.0), 'heading': 0.0}),\n",
       " frozendict.frozendict({'position': (0.0, 0.0), 'speed': (0.0, 0.0), 'heading': 0.0}),\n",
       " frozendict.frozendict({'position': (0.0, 0.0), 'speed': (0.0, 0.0), 'heading': 0.0}),\n",
       " frozendict.frozendict({'position': (0.0, 0.0), 'speed': (0.0, 0.0), 'heading': 0.0}),\n",
       " frozendict.frozendict({'position': (0.0, 0.0), 'speed': (0.0, 0.0), 'heading': 0.0}),\n",
       " frozendict.frozendict({'position': (0.0, 0.0), 'speed': (0.0, 0.0), 'heading': 0.0}),\n",
       " frozendict.frozendict({'position': (0.0, 0.0), 'speed': (0.0, 0.0), 'heading': 0.0}),\n",
       " frozendict.frozendict({'position': (0.0, 0.0), 'speed': (0.0, 0.0), 'heading': 0.0}),\n",
       " frozendict.frozendict({'position': (0.0, 0.0), 'speed': (0.0, 0.0), 'heading': 0.0}),\n",
       " frozendict.frozendict({'position': (0.0, 0.0), 'speed': (0.0, 0.0), 'heading': 0.0}),\n",
       " frozendict.frozendict({'position': (0.0, 0.0), 'speed': (0.0, 0.0), 'heading': 0.0}),\n",
       " frozendict.frozendict({'position': (0.0, 0.0), 'speed': (0.0, 0.0), 'heading': 0.0}),\n",
       " frozendict.frozendict({'position': (0.0, 0.0), 'speed': (0.0, 0.0), 'heading': 0.0}),\n",
       " frozendict.frozendict({'position': (0.0, 0.0), 'speed': (0.0, 0.0), 'heading': 0.0}),\n",
       " frozendict.frozendict({'position': (0.0, 0.0), 'speed': (0.0, 0.0), 'heading': 0.0}),\n",
       " frozendict.frozendict({'position': (0.0, 0.0), 'speed': (0.0, 0.0), 'heading': 0.0}),\n",
       " frozendict.frozendict({'position': (0.0, 0.0), 'speed': (0.0, 0.0), 'heading': 0.0}),\n",
       " frozendict.frozendict({'position': (0.0, 0.0), 'speed': (0.0, 0.0), 'heading': 0.0}),\n",
       " frozendict.frozendict({'position': (0.0, 0.0), 'speed': (0.0, 0.0), 'heading': 0.0}),\n",
       " frozendict.frozendict({'position': (0.0, 0.0), 'speed': (0.0, 0.0), 'heading': 0.0}),\n",
       " frozendict.frozendict({'position': (0.0, 0.0), 'speed': (0.0, 0.0), 'heading': 0.0}),\n",
       " frozendict.frozendict({'position': (0.0, 0.0), 'speed': (0.0, 0.0), 'heading': 0.0}),\n",
       " frozendict.frozendict({'position': (0.0, 0.0), 'speed': (0.0, 0.0), 'heading': 0.0}),\n",
       " frozendict.frozendict({'position': (0.0, 0.0), 'speed': (0.0, 0.0), 'heading': 0.0}),\n",
       " frozendict.frozendict({'position': (0.0, 0.0), 'speed': (0.0, 0.0), 'heading': 0.0}),\n",
       " frozendict.frozendict({'position': (0.0, 0.0), 'speed': (0.0, 0.0), 'heading': 0.0}),\n",
       " frozendict.frozendict({'position': (0.0, 0.0), 'speed': (0.0, 0.0), 'heading': 0.0}),\n",
       " frozendict.frozendict({'position': (0.0, 0.0), 'speed': (0.0, 0.0), 'heading': 0.0}),\n",
       " frozendict.frozendict({'position': (0.0, 0.0), 'speed': (0.0, 0.0), 'heading': 0.0}),\n",
       " frozendict.frozendict({'position': (0.0, 0.0), 'speed': (0.0, 0.0), 'heading': 0.0}))"
      ]
     },
     "execution_count": 15,
     "metadata": {},
     "output_type": "execute_result"
    }
   ],
   "source": [
    "# construal_policies[0][0].first_state\n",
    "# construal_policies[0][0].current_state\n",
    "# policy(construal_policies[0][0].current_state)"
   ]
  },
  {
   "cell_type": "markdown",
   "metadata": {},
   "source": [
    "TODO:\n",
    "1. Create a m-vehicle n-icesheet environment\n",
    "2. Split it into x=m+n+1 separate environments each with a single ice-sheet or vehicle or completely empty\n",
    "3. Calculate the optimal policy for each of the x environments\n",
    "4. Run each of those poliies in the oriinal m-vehicle n-icesheet environment."
   ]
  },
  {
   "cell_type": "code",
   "execution_count": 4,
   "metadata": {},
   "outputs": [
    {
     "name": "stderr",
     "output_type": "stream",
     "text": [
      "INFO:root:Current Depth: 3 | Frontier: 0 | Visited: 28 | Transitions:55\n",
      "c:\\Users\\sb10438\\AppData\\Local\\anaconda3\\envs\\myHighwayEnv\\Lib\\site-packages\\gymnasium\\utils\\passive_env_checker.py:158: UserWarning: \u001b[33mWARN: The obs returned by the `step()` method is not within the observation space.\u001b[0m\n",
      "  logger.warn(f\"{pre} is not within the observation space.\")\n"
     ]
    }
   ],
   "source": [
    "# Simple MDP Code\n",
    "highway_mdp_current = highway_mdp.get_copy()\n",
    "\n",
    "#2# Set up the MDP\n",
    "_ = highway_mdp_current.populate_MDPtable(max_depth = max_depth)\n",
    "# matMDP = highway_mdp_current.get_MDPmatrices()    # value iteration already calls this function\n",
    "value_function = highway_mdp_current.value_iteration()\n",
    "policy = OptimalPolicy(highway_mdp_current)\n",
    "\n",
    "#2# The below oprations can be repeated upto max depth iterations, to execute all actions calculated by the current policy\n",
    "acts = policy(highway_mdp_current.current_state)\n",
    "_ = highway_mdp_current.step(acts[0])\n",
    "\n",
    "#2# OR optimal policy can be calculated for each action\n"
   ]
  },
  {
   "cell_type": "code",
   "execution_count": 8,
   "metadata": {},
   "outputs": [
    {
     "name": "stdout",
     "output_type": "stream",
     "text": [
      "A.foo\n",
      "B.foo\n"
     ]
    }
   ],
   "source": [
    "class A:\n",
    "  @classmethod\n",
    "  def foo(cls): print('A.foo')\n",
    "  def bar(self): self.foo()\n",
    "\n",
    "class B(A):\n",
    "  @classmethod\n",
    "  def foo(cls): print('B.foo')\n",
    "\n",
    "a = A()                \n",
    "a.bar()\n",
    "b = B()\n",
    "b.bar()  "
   ]
  },
  {
   "cell_type": "markdown",
   "metadata": {},
   "source": [
    "Print MDP Tables"
   ]
  },
  {
   "cell_type": "code",
   "execution_count": 5,
   "metadata": {},
   "outputs": [
    {
     "name": "stdout",
     "output_type": "stream",
     "text": [
      "{'LANE_LEFT': 0, 'IDLE': 1, 'LANE_RIGHT': 2, 'FASTER': 3, 'SLOWER': 4}\n"
     ]
    },
    {
     "data": {
      "text/plain": [
       "{(frozendict.frozendict({'position': (153.62, 0.0), 'speed': (25.0, 0.0), 'heading': 0.0}),\n",
       "  0): {frozendict.frozendict({'position': (178.62, 0.0), 'speed': (25.0, 0.0), 'heading': 0.0}): 1},\n",
       " (frozendict.frozendict({'position': (153.62, 0.0), 'speed': (25.0, 0.0), 'heading': 0.0}),\n",
       "  1): {frozendict.frozendict({'position': (178.62, 0.0), 'speed': (25.0, 0.0), 'heading': 0.0}): 1},\n",
       " (frozendict.frozendict({'position': (153.62, 0.0), 'speed': (25.0, 0.0), 'heading': 0.0}),\n",
       "  2): {frozendict.frozendict({'position': (178.3, 3.66), 'speed': (24.98, 1.08), 'heading': 0.043}): 1},\n",
       " (frozendict.frozendict({'position': (153.62, 0.0), 'speed': (25.0, 0.0), 'heading': 0.0}),\n",
       "  3): {frozendict.frozendict({'position': (181.02, 0.0), 'speed': (29.34, 0.0), 'heading': 0.0}): 1},\n",
       " (frozendict.frozendict({'position': (153.62, 0.0), 'speed': (25.0, 0.0), 'heading': 0.0}),\n",
       "  4): {frozendict.frozendict({'position': (176.23, 0.0), 'speed': (20.66, 0.0), 'heading': 0.0}): 1},\n",
       " (frozendict.frozendict({'position': (176.23, 0.0), 'speed': (20.66, 0.0), 'heading': 0.0}),\n",
       "  0): {frozendict.frozendict({'position': (196.57, 0.0), 'speed': (20.09, 0.0), 'heading': 0.0}): 1},\n",
       " (frozendict.frozendict({'position': (176.23, 0.0), 'speed': (20.66, 0.0), 'heading': 0.0}),\n",
       "  1): {frozendict.frozendict({'position': (196.57, 0.0), 'speed': (20.09, 0.0), 'heading': 0.0}): 1},\n",
       " (frozendict.frozendict({'position': (176.23, 0.0), 'speed': (20.66, 0.0), 'heading': 0.0}),\n",
       "  2): {frozendict.frozendict({'position': (196.19, 3.6), 'speed': (20.05, 1.16), 'heading': 0.058}): 1},\n",
       " (frozendict.frozendict({'position': (176.23, 0.0), 'speed': (20.66, 0.0), 'heading': 0.0}),\n",
       "  3): {frozendict.frozendict({'position': (198.96, 0.0), 'speed': (24.43, 0.0), 'heading': 0.0}): 1},\n",
       " (frozendict.frozendict({'position': (176.23, 0.0), 'speed': (20.66, 0.0), 'heading': 0.0}),\n",
       "  4): {frozendict.frozendict({'position': (196.57, 0.0), 'speed': (20.09, 0.0), 'heading': 0.0}): 1},\n",
       " (frozendict.frozendict({'position': (178.62, 0.0), 'speed': (25.0, 0.0), 'heading': 0.0}),\n",
       "  0): {frozendict.frozendict({'position': (203.62, 0.0), 'speed': (25.0, 0.0), 'heading': 0.0}): 1},\n",
       " (frozendict.frozendict({'position': (178.62, 0.0), 'speed': (25.0, 0.0), 'heading': 0.0}),\n",
       "  1): {frozendict.frozendict({'position': (203.62, 0.0), 'speed': (25.0, 0.0), 'heading': 0.0}): 1},\n",
       " (frozendict.frozendict({'position': (178.62, 0.0), 'speed': (25.0, 0.0), 'heading': 0.0}),\n",
       "  2): {frozendict.frozendict({'position': (203.3, 3.66), 'speed': (24.98, 1.08), 'heading': 0.043}): 1},\n",
       " (frozendict.frozendict({'position': (178.62, 0.0), 'speed': (25.0, 0.0), 'heading': 0.0}),\n",
       "  3): {frozendict.frozendict({'position': (206.02, 0.0), 'speed': (29.34, 0.0), 'heading': 0.0}): 1},\n",
       " (frozendict.frozendict({'position': (178.62, 0.0), 'speed': (25.0, 0.0), 'heading': 0.0}),\n",
       "  4): {frozendict.frozendict({'position': (201.23, 0.0), 'speed': (20.66, 0.0), 'heading': 0.0}): 1},\n",
       " (frozendict.frozendict({'position': (178.3, 3.66), 'speed': (24.98, 1.08), 'heading': 0.043}),\n",
       "  0): {frozendict.frozendict({'position': (203.03, 0.33), 'speed': (24.98, -1.04), 'heading': -0.042}): 1},\n",
       " (frozendict.frozendict({'position': (178.3, 3.66), 'speed': (24.98, 1.08), 'heading': 0.043}),\n",
       "  1): {frozendict.frozendict({'position': (203.3, 3.99), 'speed': (25.0, 0.04), 'heading': 0.002}): 1},\n",
       " (frozendict.frozendict({'position': (178.3, 3.66), 'speed': (24.98, 1.08), 'heading': 0.043}),\n",
       "  2): {frozendict.frozendict({'position': (202.92, 7.65), 'speed': (24.98, 1.12), 'heading': 0.045}): 1},\n",
       " (frozendict.frozendict({'position': (178.3, 3.66), 'speed': (24.98, 1.08), 'heading': 0.043}),\n",
       "  3): {frozendict.frozendict({'position': (205.69, 3.99), 'speed': (29.34, 0.03), 'heading': 0.001}): 1},\n",
       " (frozendict.frozendict({'position': (178.3, 3.66), 'speed': (24.98, 1.08), 'heading': 0.043}),\n",
       "  4): {frozendict.frozendict({'position': (200.9, 3.98), 'speed': (20.66, 0.05), 'heading': 0.002}): 1},\n",
       " (frozendict.frozendict({'position': (181.02, 0.0), 'speed': (29.34, 0.0), 'heading': 0.0}),\n",
       "  0): {frozendict.frozendict({'position': (210.67, 0.0), 'speed': (29.91, 0.0), 'heading': 0.0}): 1},\n",
       " (frozendict.frozendict({'position': (181.02, 0.0), 'speed': (29.34, 0.0), 'heading': 0.0}),\n",
       "  1): {frozendict.frozendict({'position': (210.67, 0.0), 'speed': (29.91, 0.0), 'heading': 0.0}): 1},\n",
       " (frozendict.frozendict({'position': (181.02, 0.0), 'speed': (29.34, 0.0), 'heading': 0.0}),\n",
       "  2): {frozendict.frozendict({'position': (210.39, 3.71), 'speed': (29.9, 1.02), 'heading': 0.034}): 1},\n",
       " (frozendict.frozendict({'position': (181.02, 0.0), 'speed': (29.34, 0.0), 'heading': 0.0}),\n",
       "  3): {frozendict.frozendict({'position': (210.67, 0.0), 'speed': (29.91, 0.0), 'heading': 0.0}): 1},\n",
       " (frozendict.frozendict({'position': (181.02, 0.0), 'speed': (29.34, 0.0), 'heading': 0.0}),\n",
       "  4): {frozendict.frozendict({'position': (208.28, 0.0), 'speed': (25.57, 0.0), 'heading': 0.0}): 1}}"
      ]
     },
     "execution_count": 5,
     "metadata": {},
     "output_type": "execute_result"
    }
   ],
   "source": [
    "print(highway_mdp.env.unwrapped.action_type.actions_indexes)\n",
    "\n",
    "highway_mdp.currMDP.transition"
   ]
  },
  {
   "cell_type": "code",
   "execution_count": 6,
   "metadata": {},
   "outputs": [
    {
     "data": {
      "text/plain": [
       "{(frozendict.frozendict({'position': (153.62, 0.0), 'speed': (25.0, 0.0), 'heading': 0.0}),\n",
       "  0,\n",
       "  frozendict.frozendict({'position': (178.62, 0.0), 'speed': (25.0, 0.0), 'heading': 0.0})): 0.7999999999999999,\n",
       " (frozendict.frozendict({'position': (153.62, 0.0), 'speed': (25.0, 0.0), 'heading': 0.0}),\n",
       "  1,\n",
       "  frozendict.frozendict({'position': (178.62, 0.0), 'speed': (25.0, 0.0), 'heading': 0.0})): 0.7999999999999999,\n",
       " (frozendict.frozendict({'position': (153.62, 0.0), 'speed': (25.0, 0.0), 'heading': 0.0}),\n",
       "  2,\n",
       "  frozendict.frozendict({'position': (178.3, 3.66), 'speed': (24.98, 1.08), 'heading': 0.043})): 0.8327113850086175,\n",
       " (frozendict.frozendict({'position': (153.62, 0.0), 'speed': (25.0, 0.0), 'heading': 0.0}),\n",
       "  3,\n",
       "  frozendict.frozendict({'position': (181.02, 0.0), 'speed': (29.34, 0.0), 'heading': 0.0})): 0.9157750342935529,\n",
       " (frozendict.frozendict({'position': (153.62, 0.0), 'speed': (25.0, 0.0), 'heading': 0.0}),\n",
       "  4,\n",
       "  frozendict.frozendict({'position': (176.23, 0.0), 'speed': (20.66, 0.0), 'heading': 0.0})): 0.6842249657064472,\n",
       " (frozendict.frozendict({'position': (176.23, 0.0), 'speed': (20.66, 0.0), 'heading': 0.0}),\n",
       "  0,\n",
       "  frozendict.frozendict({'position': (196.57, 0.0), 'speed': (20.09, 0.0), 'heading': 0.0})): 0.6689788706554444,\n",
       " (frozendict.frozendict({'position': (176.23, 0.0), 'speed': (20.66, 0.0), 'heading': 0.0}),\n",
       "  1,\n",
       "  frozendict.frozendict({'position': (196.57, 0.0), 'speed': (20.09, 0.0), 'heading': 0.0})): 0.6689788706554444,\n",
       " (frozendict.frozendict({'position': (176.23, 0.0), 'speed': (20.66, 0.0), 'heading': 0.0}),\n",
       "  2,\n",
       "  frozendict.frozendict({'position': (196.19, 3.6), 'speed': (20.05, 1.16), 'heading': 0.058})): 0.701422038389655,\n",
       " (frozendict.frozendict({'position': (176.23, 0.0), 'speed': (20.66, 0.0), 'heading': 0.0}),\n",
       "  3,\n",
       "  frozendict.frozendict({'position': (198.96, 0.0), 'speed': (24.43, 0.0), 'heading': 0.0})): 0.7847539049489972,\n",
       " (frozendict.frozendict({'position': (176.23, 0.0), 'speed': (20.66, 0.0), 'heading': 0.0}),\n",
       "  4,\n",
       "  frozendict.frozendict({'position': (196.57, 0.0), 'speed': (20.09, 0.0), 'heading': 0.0})): 0.6689788706554444,\n",
       " (frozendict.frozendict({'position': (178.62, 0.0), 'speed': (25.0, 0.0), 'heading': 0.0}),\n",
       "  0,\n",
       "  frozendict.frozendict({'position': (203.62, 0.0), 'speed': (25.0, 0.0), 'heading': 0.0})): 0.7999999999999999,\n",
       " (frozendict.frozendict({'position': (178.62, 0.0), 'speed': (25.0, 0.0), 'heading': 0.0}),\n",
       "  1,\n",
       "  frozendict.frozendict({'position': (203.62, 0.0), 'speed': (25.0, 0.0), 'heading': 0.0})): 0.7999999999999999,\n",
       " (frozendict.frozendict({'position': (178.62, 0.0), 'speed': (25.0, 0.0), 'heading': 0.0}),\n",
       "  2,\n",
       "  frozendict.frozendict({'position': (203.3, 3.66), 'speed': (24.98, 1.08), 'heading': 0.043})): 0.8327113850086175,\n",
       " (frozendict.frozendict({'position': (178.62, 0.0), 'speed': (25.0, 0.0), 'heading': 0.0}),\n",
       "  3,\n",
       "  frozendict.frozendict({'position': (206.02, 0.0), 'speed': (29.34, 0.0), 'heading': 0.0})): 0.9157750342935529,\n",
       " (frozendict.frozendict({'position': (178.62, 0.0), 'speed': (25.0, 0.0), 'heading': 0.0}),\n",
       "  4,\n",
       "  frozendict.frozendict({'position': (201.23, 0.0), 'speed': (20.66, 0.0), 'heading': 0.0})): 0.6842249657064472,\n",
       " (frozendict.frozendict({'position': (178.3, 3.66), 'speed': (24.98, 1.08), 'heading': 0.043}),\n",
       "  0,\n",
       "  frozendict.frozendict({'position': (203.03, 0.33), 'speed': (24.98, -1.04), 'heading': -0.042})): 0.799420639638421,\n",
       " (frozendict.frozendict({'position': (178.3, 3.66), 'speed': (24.98, 1.08), 'heading': 0.043}),\n",
       "  1,\n",
       "  frozendict.frozendict({'position': (203.3, 3.99), 'speed': (25.0, 0.04), 'heading': 0.002})): 0.8333325585628742,\n",
       " (frozendict.frozendict({'position': (178.3, 3.66), 'speed': (24.98, 1.08), 'heading': 0.043}),\n",
       "  2,\n",
       "  frozendict.frozendict({'position': (202.92, 7.65), 'speed': (24.98, 1.12), 'heading': 0.045})): 0.8660005399738949,\n",
       " (frozendict.frozendict({'position': (178.3, 3.66), 'speed': (24.98, 1.08), 'heading': 0.043}),\n",
       "  3,\n",
       "  frozendict.frozendict({'position': (205.69, 3.99), 'speed': (29.34, 0.03), 'heading': 0.001})): 0.9491080333766447,\n",
       " (frozendict.frozendict({'position': (178.3, 3.66), 'speed': (24.98, 1.08), 'heading': 0.043}),\n",
       "  4,\n",
       "  frozendict.frozendict({'position': (200.9, 3.98), 'speed': (20.66, 0.05), 'heading': 0.002})): 0.7175567607980314,\n",
       " (frozendict.frozendict({'position': (181.02, 0.0), 'speed': (29.34, 0.0), 'heading': 0.0}),\n",
       "  0,\n",
       "  frozendict.frozendict({'position': (210.67, 0.0), 'speed': (29.91, 0.0), 'heading': 0.0})): 0.9310211293445557,\n",
       " (frozendict.frozendict({'position': (181.02, 0.0), 'speed': (29.34, 0.0), 'heading': 0.0}),\n",
       "  1,\n",
       "  frozendict.frozendict({'position': (210.67, 0.0), 'speed': (29.91, 0.0), 'heading': 0.0})): 0.9310211293445557,\n",
       " (frozendict.frozendict({'position': (181.02, 0.0), 'speed': (29.34, 0.0), 'heading': 0.0}),\n",
       "  2,\n",
       "  frozendict.frozendict({'position': (210.39, 3.71), 'speed': (29.9, 1.02), 'heading': 0.034})): 0.9638923291747313,\n",
       " (frozendict.frozendict({'position': (181.02, 0.0), 'speed': (29.34, 0.0), 'heading': 0.0}),\n",
       "  3,\n",
       "  frozendict.frozendict({'position': (210.67, 0.0), 'speed': (29.91, 0.0), 'heading': 0.0})): 0.9310211293445557,\n",
       " (frozendict.frozendict({'position': (181.02, 0.0), 'speed': (29.34, 0.0), 'heading': 0.0}),\n",
       "  4,\n",
       "  frozendict.frozendict({'position': (208.28, 0.0), 'speed': (25.57, 0.0), 'heading': 0.0})): 0.8152460950510028}"
      ]
     },
     "execution_count": 6,
     "metadata": {},
     "output_type": "execute_result"
    }
   ],
   "source": [
    "highway_mdp.currMDP.reward"
   ]
  },
  {
   "cell_type": "code",
   "execution_count": 7,
   "metadata": {},
   "outputs": [
    {
     "data": {
      "text/plain": [
       "{frozendict.frozendict({'position': (178.62, 0.0), 'speed': (25.0, 0.0), 'heading': 0.0}): False,\n",
       " frozendict.frozendict({'position': (178.3, 3.66), 'speed': (24.98, 1.08), 'heading': 0.043}): False,\n",
       " frozendict.frozendict({'position': (181.02, 0.0), 'speed': (29.34, 0.0), 'heading': 0.0}): False,\n",
       " frozendict.frozendict({'position': (176.23, 0.0), 'speed': (20.66, 0.0), 'heading': 0.0}): False,\n",
       " frozendict.frozendict({'position': (196.57, 0.0), 'speed': (20.09, 0.0), 'heading': 0.0}): False,\n",
       " frozendict.frozendict({'position': (196.19, 3.6), 'speed': (20.05, 1.16), 'heading': 0.058}): False,\n",
       " frozendict.frozendict({'position': (198.96, 0.0), 'speed': (24.43, 0.0), 'heading': 0.0}): False,\n",
       " frozendict.frozendict({'position': (203.62, 0.0), 'speed': (25.0, 0.0), 'heading': 0.0}): False,\n",
       " frozendict.frozendict({'position': (203.3, 3.66), 'speed': (24.98, 1.08), 'heading': 0.043}): False,\n",
       " frozendict.frozendict({'position': (206.02, 0.0), 'speed': (29.34, 0.0), 'heading': 0.0}): False,\n",
       " frozendict.frozendict({'position': (201.23, 0.0), 'speed': (20.66, 0.0), 'heading': 0.0}): False,\n",
       " frozendict.frozendict({'position': (203.03, 0.33), 'speed': (24.98, -1.04), 'heading': -0.042}): False,\n",
       " frozendict.frozendict({'position': (203.3, 3.99), 'speed': (25.0, 0.04), 'heading': 0.002}): False,\n",
       " frozendict.frozendict({'position': (202.92, 7.65), 'speed': (24.98, 1.12), 'heading': 0.045}): False,\n",
       " frozendict.frozendict({'position': (205.69, 3.99), 'speed': (29.34, 0.03), 'heading': 0.001}): False,\n",
       " frozendict.frozendict({'position': (200.9, 3.98), 'speed': (20.66, 0.05), 'heading': 0.002}): False,\n",
       " frozendict.frozendict({'position': (210.67, 0.0), 'speed': (29.91, 0.0), 'heading': 0.0}): False,\n",
       " frozendict.frozendict({'position': (210.39, 3.71), 'speed': (29.9, 1.02), 'heading': 0.034}): False,\n",
       " frozendict.frozendict({'position': (208.28, 0.0), 'speed': (25.57, 0.0), 'heading': 0.0}): False}"
      ]
     },
     "execution_count": 7,
     "metadata": {},
     "output_type": "execute_result"
    }
   ],
   "source": [
    "highway_mdp.currMDP.absorption"
   ]
  },
  {
   "cell_type": "markdown",
   "metadata": {},
   "source": [
    "Find optimal policy"
   ]
  },
  {
   "cell_type": "code",
   "execution_count": null,
   "metadata": {},
   "outputs": [],
   "source": []
  },
  {
   "cell_type": "markdown",
   "metadata": {},
   "source": [
    "# TEST CODE"
   ]
  },
  {
   "cell_type": "code",
   "execution_count": null,
   "metadata": {},
   "outputs": [
    {
     "name": "stderr",
     "output_type": "stream",
     "text": [
      "INFO:root:Current Depth: 0 | Frontier: 5 | Visited: 1 | Transitions:5\n",
      "INFO:root:Current Depth: 1 | Frontier: 9 | Visited: 2 | Transitions:10\n",
      "INFO:root:Current Depth: 1 | Frontier: 13 | Visited: 3 | Transitions:15\n",
      "INFO:root:Current Depth: 1 | Frontier: 16 | Visited: 5 | Transitions:20\n",
      "INFO:root:Current Depth: 1 | Frontier: 13 | Visited: 12 | Transitions:25\n",
      "INFO:root:Current Depth: 1 | Frontier: 4 | Visited: 17 | Transitions:25\n"
     ]
    }
   ],
   "source": [
    "import functools\n",
    "import multiprocessing as mp\n",
    "process_count = (mp.cpu_count()-2)\n",
    "from pathos.multiprocessing import ProcessingPool as Pool    # Can run multiprocessing in interactive shell\n",
    "\n",
    "\n",
    "max_depth = 2   # The number of steps to plan ahead\n",
    "actions = highway_mdp.actions\n",
    "\n",
    "start_env = (highway_mdp.initial_state, 0, highway_mdp)\n",
    "visited = set()\n",
    "transitions = {}\n",
    "rewards = {}\n",
    "absorption = {}\n",
    "frontier = {start_env}\n",
    "env2close = set()   # Maintain list of environments to close\n",
    "while frontier:\n",
    "    state, depth, curr_MDPstate = frontier.pop()\n",
    "    visited.add(state)\n",
    "    env2close.add(curr_MDPstate)\n",
    "    if depth < max_depth:\n",
    "        with Pool(process_count) as pool:\n",
    "            return_vals = pool.map(functools.partial(HighwayDiscreteMDP.exeuteAction, envMDP=curr_MDPstate), actions)\n",
    "        for action, next_state, trans_prob, reward, done, truncated, info, updated_MDPstate in return_vals:\n",
    "            logging.debug(str(state[0]) + ' | ' + str(action) + ' | ' + str(next_state[0]))\n",
    "            #2# Populate transitions table\n",
    "            if (state[0], action) not in transitions:\n",
    "                transitions[(state[0], action)] = {}\n",
    "            if next_state[0] not in transitions[(state[0], action)]:\n",
    "                transitions[(state[0], action)][next_state[0]] = trans_prob\n",
    "            #2# Populate reward functions\n",
    "            if (state[0], action) in rewards:\n",
    "                rewards[(state[0], action, next_state[0])] += reward * trans_prob\n",
    "            else:\n",
    "                rewards[(state[0], action, next_state[0])] = reward * trans_prob\n",
    "            #2# set absorption states\n",
    "            absorption[next_state[0]] = done or truncated\n",
    "            #2# Populate visited\n",
    "            if next_state not in visited:\n",
    "                frontier.add((next_state, depth + 1, updated_MDPstate))\n",
    "            else:\n",
    "                updated_MDPstate.env.close()\n",
    "        MDPstatus = \"Current Depth: \" + str(depth) + \" | Frontier: \" + str(len(frontier)) +\\\n",
    "                    \" | Visited: \" + str(len(visited)) + \" | Transitions:\" + str(len(transitions))\n",
    "        logging.info(MDPstatus)\n",
    "env2close.discard(start_env[2]) #Keep the first step active\n",
    "for curr_MDPstate in env2close:\n",
    "    # close all duplicate environments\n",
    "    curr_MDPstate.env.close()\n",
    "env2close = set()   # Close ununsed environments at the end of the loop\n",
    "# print(highway_mdp.actions)\n",
    "highway_mdp.create_MDPTable(transition=transitions, absorption=absorption, reward=rewards, state_list=visited, action_list=actions)"
   ]
  },
  {
   "cell_type": "code",
   "execution_count": null,
   "metadata": {},
   "outputs": [
    {
     "name": "stdout",
     "output_type": "stream",
     "text": [
      "frozendict.frozendict({'position': (251.43, 0.0), 'speed': (25.0, -0.0), 'heading': -0.0}) frozendict.frozendict({'position': (251.43, 0.0), 'speed': (25.0, -0.0), 'heading': -0.0})\n",
      "frozendict.frozendict({'position': (250.74, 4.0), 'speed': (19.92, 0.01), 'heading': 0.0}) frozendict.frozendict({'position': (248.15, 3.95), 'speed': (19.14, 0.15), 'heading': 0.008})\n",
      "\n",
      "\n",
      "frozendict.frozendict({'position': (253.83, 0.0), 'speed': (29.34, -0.0), 'heading': -0.0}) frozendict.frozendict({'position': (253.83, 0.0), 'speed': (29.34, -0.0), 'heading': -0.0})\n",
      "frozendict.frozendict({'position': (248.15, 3.95), 'speed': (19.14, 0.15), 'heading': 0.008}) frozendict.frozendict({'position': (250.74, 4.0), 'speed': (19.92, 0.01), 'heading': 0.0})\n",
      "\n",
      "\n",
      "frozendict.frozendict({'position': (244.38, 0.0), 'speed': (20.09, -0.0), 'heading': -0.0}) frozendict.frozendict({'position': (244.38, 0.0), 'speed': (20.09, -0.0), 'heading': -0.0})\n",
      "frozendict.frozendict({'position': (248.15, 3.95), 'speed': (19.14, 0.15), 'heading': 0.008}) frozendict.frozendict({'position': (250.74, 4.0), 'speed': (19.92, 0.01), 'heading': 0.0})\n",
      "\n",
      "\n",
      "frozendict.frozendict({'position': (246.78, 8.0), 'speed': (24.43, 0.0), 'heading': 0.0}) frozendict.frozendict({'position': (246.78, 8.0), 'speed': (24.43, 0.0), 'heading': 0.0})\n",
      "frozendict.frozendict({'position': (250.74, 4.0), 'speed': (19.92, 0.01), 'heading': 0.0}) frozendict.frozendict({'position': (248.15, 3.95), 'speed': (19.14, 0.15), 'heading': 0.008})\n",
      "\n",
      "\n",
      "frozendict.frozendict({'position': (244.38, 8.0), 'speed': (20.09, 0.0), 'heading': 0.0}) frozendict.frozendict({'position': (244.38, 8.0), 'speed': (20.09, 0.0), 'heading': 0.0})\n",
      "frozendict.frozendict({'position': (250.74, 4.0), 'speed': (19.92, 0.01), 'heading': 0.0}) frozendict.frozendict({'position': (248.15, 3.95), 'speed': (19.14, 0.15), 'heading': 0.008})\n",
      "\n",
      "\n",
      "frozendict.frozendict({'position': (253.83, 8.0), 'speed': (29.34, 0.0), 'heading': 0.0}) frozendict.frozendict({'position': (253.83, 8.0), 'speed': (29.34, 0.0), 'heading': 0.0})\n",
      "frozendict.frozendict({'position': (248.15, 3.95), 'speed': (19.14, 0.15), 'heading': 0.008}) frozendict.frozendict({'position': (250.74, 4.0), 'speed': (19.92, 0.01), 'heading': 0.0})\n",
      "\n",
      "\n",
      "frozendict.frozendict({'position': (251.43, 8.0), 'speed': (25.0, 0.0), 'heading': 0.0}) frozendict.frozendict({'position': (251.43, 8.0), 'speed': (25.0, 0.0), 'heading': 0.0})\n",
      "frozendict.frozendict({'position': (250.74, 4.0), 'speed': (19.92, 0.01), 'heading': 0.0}) frozendict.frozendict({'position': (248.15, 3.95), 'speed': (19.14, 0.15), 'heading': 0.008})\n",
      "\n",
      "\n",
      "frozendict.frozendict({'position': (244.38, 8.0), 'speed': (20.09, 0.0), 'heading': 0.0}) frozendict.frozendict({'position': (244.38, 8.0), 'speed': (20.09, 0.0), 'heading': 0.0})\n",
      "frozendict.frozendict({'position': (248.15, 3.95), 'speed': (19.14, 0.15), 'heading': 0.008}) frozendict.frozendict({'position': (250.74, 4.0), 'speed': (19.92, 0.01), 'heading': 0.0})\n",
      "\n",
      "\n",
      "frozendict.frozendict({'position': (249.04, 0.0), 'speed': (20.66, -0.0), 'heading': -0.0}) frozendict.frozendict({'position': (249.04, 0.0), 'speed': (20.66, -0.0), 'heading': -0.0})\n",
      "frozendict.frozendict({'position': (250.74, 4.0), 'speed': (19.92, 0.01), 'heading': 0.0}) frozendict.frozendict({'position': (248.15, 3.95), 'speed': (19.14, 0.15), 'heading': 0.008})\n",
      "\n",
      "\n",
      "frozendict.frozendict({'position': (256.09, 8.0), 'speed': (25.57, 0.0), 'heading': 0.0}) frozendict.frozendict({'position': (256.09, 8.0), 'speed': (25.57, 0.0), 'heading': 0.0})\n",
      "frozendict.frozendict({'position': (248.15, 3.95), 'speed': (19.14, 0.15), 'heading': 0.008}) frozendict.frozendict({'position': (250.74, 4.0), 'speed': (19.92, 0.01), 'heading': 0.0})\n",
      "\n",
      "\n",
      "frozendict.frozendict({'position': (246.78, 0.0), 'speed': (24.43, -0.0), 'heading': -0.0}) frozendict.frozendict({'position': (246.78, 0.0), 'speed': (24.43, -0.0), 'heading': -0.0})\n",
      "frozendict.frozendict({'position': (250.74, 4.0), 'speed': (19.92, 0.01), 'heading': 0.0}) frozendict.frozendict({'position': (248.15, 3.95), 'speed': (19.14, 0.15), 'heading': 0.008})\n",
      "\n",
      "\n",
      "frozendict.frozendict({'position': (249.04, 0.0), 'speed': (20.66, -0.0), 'heading': -0.0}) frozendict.frozendict({'position': (249.04, 0.0), 'speed': (20.66, -0.0), 'heading': -0.0})\n",
      "frozendict.frozendict({'position': (248.15, 3.95), 'speed': (19.14, 0.15), 'heading': 0.008}) frozendict.frozendict({'position': (250.74, 4.0), 'speed': (19.92, 0.01), 'heading': 0.0})\n",
      "\n",
      "\n",
      "frozendict.frozendict({'position': (253.83, 8.0), 'speed': (29.34, 0.0), 'heading': 0.0}) frozendict.frozendict({'position': (253.83, 8.0), 'speed': (29.34, 0.0), 'heading': 0.0})\n",
      "frozendict.frozendict({'position': (250.74, 4.0), 'speed': (19.92, 0.01), 'heading': 0.0}) frozendict.frozendict({'position': (248.15, 3.95), 'speed': (19.14, 0.15), 'heading': 0.008})\n",
      "\n",
      "\n",
      "frozendict.frozendict({'position': (249.04, 8.0), 'speed': (20.66, 0.0), 'heading': 0.0}) frozendict.frozendict({'position': (249.04, 8.0), 'speed': (20.66, 0.0), 'heading': 0.0})\n",
      "frozendict.frozendict({'position': (248.15, 3.95), 'speed': (19.14, 0.15), 'heading': 0.008}) frozendict.frozendict({'position': (250.74, 4.0), 'speed': (19.92, 0.01), 'heading': 0.0})\n",
      "\n",
      "\n",
      "frozendict.frozendict({'position': (253.83, 0.0), 'speed': (29.34, -0.0), 'heading': -0.0}) frozendict.frozendict({'position': (253.83, 0.0), 'speed': (29.34, -0.0), 'heading': -0.0})\n",
      "frozendict.frozendict({'position': (250.74, 4.0), 'speed': (19.92, 0.01), 'heading': 0.0}) frozendict.frozendict({'position': (248.15, 3.95), 'speed': (19.14, 0.15), 'heading': 0.008})\n",
      "\n",
      "\n",
      "frozendict.frozendict({'position': (256.09, 8.0), 'speed': (25.57, 0.0), 'heading': 0.0}) frozendict.frozendict({'position': (256.09, 8.0), 'speed': (25.57, 0.0), 'heading': 0.0})\n",
      "frozendict.frozendict({'position': (250.74, 4.0), 'speed': (19.92, 0.01), 'heading': 0.0}) frozendict.frozendict({'position': (248.15, 3.95), 'speed': (19.14, 0.15), 'heading': 0.008})\n",
      "\n",
      "\n",
      "frozendict.frozendict({'position': (258.48, 8.0), 'speed': (29.91, 0.0), 'heading': 0.0}) frozendict.frozendict({'position': (258.48, 8.0), 'speed': (29.91, 0.0), 'heading': 0.0})\n",
      "frozendict.frozendict({'position': (250.74, 4.0), 'speed': (19.92, 0.01), 'heading': 0.0}) frozendict.frozendict({'position': (286.78, 0.0), 'speed': (21.75, 0.0), 'heading': 0.0})\n",
      "frozendict.frozendict({'position': (286.78, 0.0), 'speed': (21.75, 0.0), 'heading': 0.0}) frozendict.frozendict({'position': (313.03, 4.0), 'speed': (21.17, 0.0), 'heading': 0.0})\n",
      "frozendict.frozendict({'position': (313.03, 4.0), 'speed': (21.17, 0.0), 'heading': 0.0}) frozendict.frozendict({'position': (314.1, 8.0), 'speed': (15.39, 0.0), 'heading': 0.0})\n",
      "frozendict.frozendict({'position': (314.1, 8.0), 'speed': (15.39, 0.0), 'heading': 0.0}) frozendict.frozendict({'position': (348.79, 8.0), 'speed': (18.35, 0.0), 'heading': 0.0})\n",
      "frozendict.frozendict({'position': (348.79, 8.0), 'speed': (18.35, 0.0), 'heading': 0.0}) frozendict.frozendict({'position': (378.97, 4.0), 'speed': (20.74, 0.0), 'heading': 0.0})\n",
      "frozendict.frozendict({'position': (378.97, 4.0), 'speed': (20.74, 0.0), 'heading': 0.0}) frozendict.frozendict({'position': (399.21, 8.0), 'speed': (19.2, 0.0), 'heading': 0.0})\n",
      "frozendict.frozendict({'position': (399.21, 8.0), 'speed': (19.2, 0.0), 'heading': 0.0}) frozendict.frozendict({'position': (427.25, 0.0), 'speed': (21.19, -0.0), 'heading': -0.0})\n",
      "frozendict.frozendict({'position': (427.25, 0.0), 'speed': (21.19, -0.0), 'heading': -0.0}) frozendict.frozendict({'position': (453.41, 8.0), 'speed': (20.69, 0.0), 'heading': 0.0})\n",
      "frozendict.frozendict({'position': (453.41, 8.0), 'speed': (20.69, 0.0), 'heading': 0.0}) frozendict.frozendict({'position': (475.68, 4.0), 'speed': (20.37, 0.0), 'heading': 0.0})\n",
      "frozendict.frozendict({'position': (475.68, 4.0), 'speed': (20.37, 0.0), 'heading': 0.0}) frozendict.frozendict({'position': (506.92, 0.0), 'speed': (21.43, 0.0), 'heading': 0.0})\n",
      "frozendict.frozendict({'position': (506.92, 0.0), 'speed': (21.43, 0.0), 'heading': 0.0}) frozendict.frozendict({'position': (525.75, 8.0), 'speed': (19.66, 0.0), 'heading': 0.0})\n",
      "frozendict.frozendict({'position': (525.75, 8.0), 'speed': (19.66, 0.0), 'heading': 0.0}) frozendict.frozendict({'position': (549.33, 4.0), 'speed': (20.39, 0.0), 'heading': 0.0})\n",
      "frozendict.frozendict({'position': (549.33, 4.0), 'speed': (20.39, 0.0), 'heading': 0.0}) frozendict.frozendict({'position': (576.35, 0.0), 'speed': (21.02, 0.0), 'heading': 0.0})\n",
      "frozendict.frozendict({'position': (576.35, 0.0), 'speed': (21.02, 0.0), 'heading': 0.0}) frozendict.frozendict({'position': (601.17, 8.0), 'speed': (11.9, 0.0), 'heading': 0.0})\n",
      "frozendict.frozendict({'position': (601.17, 8.0), 'speed': (11.9, 0.0), 'heading': 0.0}) frozendict.frozendict({'position': (612.11, 4.0), 'speed': (23.98, 0.0), 'heading': 0.0})\n",
      "frozendict.frozendict({'position': (612.11, 4.0), 'speed': (23.98, 0.0), 'heading': 0.0}) frozendict.frozendict({'position': (627.33, 8.0), 'speed': (14.96, 0.0), 'heading': 0.0})\n",
      "frozendict.frozendict({'position': (627.33, 8.0), 'speed': (14.96, 0.0), 'heading': 0.0}) frozendict.frozendict({'position': (659.76, 8.0), 'speed': (18.18, 0.0), 'heading': 0.0})\n",
      "frozendict.frozendict({'position': (659.76, 8.0), 'speed': (18.18, 0.0), 'heading': 0.0}) frozendict.frozendict({'position': (699.53, 8.0), 'speed': (22.55, 0.0), 'heading': 0.0})\n",
      "frozendict.frozendict({'position': (699.53, 8.0), 'speed': (22.55, 0.0), 'heading': 0.0}) frozendict.frozendict({'position': (718.3, 0.0), 'speed': (21.06, 0.0), 'heading': 0.0})\n",
      "frozendict.frozendict({'position': (718.3, 0.0), 'speed': (21.06, 0.0), 'heading': 0.0}) frozendict.frozendict({'position': (0.0, 0.0), 'speed': (0.0, 0.0), 'heading': 0.0})\n",
      "\n",
      "\n",
      "frozendict.frozendict({'position': (246.78, 8.0), 'speed': (24.43, 0.0), 'heading': 0.0}) frozendict.frozendict({'position': (246.78, 8.0), 'speed': (24.43, 0.0), 'heading': 0.0})\n",
      "frozendict.frozendict({'position': (248.15, 3.95), 'speed': (19.14, 0.15), 'heading': 0.008}) frozendict.frozendict({'position': (250.74, 4.0), 'speed': (19.92, 0.01), 'heading': 0.0})\n",
      "\n",
      "\n",
      "frozendict.frozendict({'position': (246.78, 0.0), 'speed': (24.43, -0.0), 'heading': -0.0}) frozendict.frozendict({'position': (246.78, 0.0), 'speed': (24.43, -0.0), 'heading': -0.0})\n",
      "frozendict.frozendict({'position': (248.15, 3.95), 'speed': (19.14, 0.15), 'heading': 0.008}) frozendict.frozendict({'position': (250.74, 4.0), 'speed': (19.92, 0.01), 'heading': 0.0})\n",
      "\n",
      "\n",
      "frozendict.frozendict({'position': (244.38, 0.0), 'speed': (20.09, -0.0), 'heading': -0.0}) frozendict.frozendict({'position': (244.38, 0.0), 'speed': (20.09, -0.0), 'heading': -0.0})\n",
      "frozendict.frozendict({'position': (250.74, 4.0), 'speed': (19.92, 0.01), 'heading': 0.0}) frozendict.frozendict({'position': (248.15, 3.95), 'speed': (19.14, 0.15), 'heading': 0.008})\n",
      "\n",
      "\n",
      "frozendict.frozendict({'position': (249.04, 8.0), 'speed': (20.66, 0.0), 'heading': 0.0}) frozendict.frozendict({'position': (249.04, 8.0), 'speed': (20.66, 0.0), 'heading': 0.0})\n",
      "frozendict.frozendict({'position': (250.74, 4.0), 'speed': (19.92, 0.01), 'heading': 0.0}) frozendict.frozendict({'position': (248.15, 3.95), 'speed': (19.14, 0.15), 'heading': 0.008})\n",
      "\n",
      "\n",
      "frozendict.frozendict({'position': (251.43, 8.0), 'speed': (25.0, 0.0), 'heading': 0.0}) frozendict.frozendict({'position': (251.43, 8.0), 'speed': (25.0, 0.0), 'heading': 0.0})\n",
      "frozendict.frozendict({'position': (248.15, 3.95), 'speed': (19.14, 0.15), 'heading': 0.008}) frozendict.frozendict({'position': (250.74, 4.0), 'speed': (19.92, 0.01), 'heading': 0.0})\n",
      "\n",
      "\n",
      "frozendict.frozendict({'position': (258.48, 8.0), 'speed': (29.91, 0.0), 'heading': 0.0}) frozendict.frozendict({'position': (258.48, 8.0), 'speed': (29.91, 0.0), 'heading': 0.0})\n",
      "frozendict.frozendict({'position': (286.78, 0.0), 'speed': (21.75, 0.0), 'heading': 0.0}) frozendict.frozendict({'position': (250.74, 4.0), 'speed': (19.92, 0.01), 'heading': 0.0})\n",
      "frozendict.frozendict({'position': (313.03, 4.0), 'speed': (21.17, 0.0), 'heading': 0.0}) frozendict.frozendict({'position': (286.78, 0.0), 'speed': (21.75, 0.0), 'heading': 0.0})\n",
      "frozendict.frozendict({'position': (314.1, 8.0), 'speed': (15.39, 0.0), 'heading': 0.0}) frozendict.frozendict({'position': (313.03, 4.0), 'speed': (21.17, 0.0), 'heading': 0.0})\n",
      "frozendict.frozendict({'position': (348.79, 8.0), 'speed': (18.35, 0.0), 'heading': 0.0}) frozendict.frozendict({'position': (314.1, 8.0), 'speed': (15.39, 0.0), 'heading': 0.0})\n",
      "frozendict.frozendict({'position': (378.97, 4.0), 'speed': (20.74, 0.0), 'heading': 0.0}) frozendict.frozendict({'position': (348.79, 8.0), 'speed': (18.35, 0.0), 'heading': 0.0})\n",
      "frozendict.frozendict({'position': (399.21, 8.0), 'speed': (19.2, 0.0), 'heading': 0.0}) frozendict.frozendict({'position': (378.97, 4.0), 'speed': (20.74, 0.0), 'heading': 0.0})\n",
      "frozendict.frozendict({'position': (427.25, 0.0), 'speed': (21.19, -0.0), 'heading': -0.0}) frozendict.frozendict({'position': (399.21, 8.0), 'speed': (19.2, 0.0), 'heading': 0.0})\n",
      "frozendict.frozendict({'position': (453.41, 8.0), 'speed': (20.69, 0.0), 'heading': 0.0}) frozendict.frozendict({'position': (427.25, 0.0), 'speed': (21.19, -0.0), 'heading': -0.0})\n",
      "frozendict.frozendict({'position': (475.68, 4.0), 'speed': (20.37, 0.0), 'heading': 0.0}) frozendict.frozendict({'position': (453.41, 8.0), 'speed': (20.69, 0.0), 'heading': 0.0})\n",
      "frozendict.frozendict({'position': (506.92, 0.0), 'speed': (21.43, 0.0), 'heading': 0.0}) frozendict.frozendict({'position': (475.68, 4.0), 'speed': (20.37, 0.0), 'heading': 0.0})\n",
      "frozendict.frozendict({'position': (525.75, 8.0), 'speed': (19.66, 0.0), 'heading': 0.0}) frozendict.frozendict({'position': (506.92, 0.0), 'speed': (21.43, 0.0), 'heading': 0.0})\n",
      "frozendict.frozendict({'position': (549.33, 4.0), 'speed': (20.39, 0.0), 'heading': 0.0}) frozendict.frozendict({'position': (525.75, 8.0), 'speed': (19.66, 0.0), 'heading': 0.0})\n",
      "frozendict.frozendict({'position': (576.35, 0.0), 'speed': (21.02, 0.0), 'heading': 0.0}) frozendict.frozendict({'position': (549.33, 4.0), 'speed': (20.39, 0.0), 'heading': 0.0})\n",
      "frozendict.frozendict({'position': (601.17, 8.0), 'speed': (11.9, 0.0), 'heading': 0.0}) frozendict.frozendict({'position': (576.35, 0.0), 'speed': (21.02, 0.0), 'heading': 0.0})\n",
      "frozendict.frozendict({'position': (612.11, 4.0), 'speed': (23.98, 0.0), 'heading': 0.0}) frozendict.frozendict({'position': (601.17, 8.0), 'speed': (11.9, 0.0), 'heading': 0.0})\n",
      "frozendict.frozendict({'position': (627.33, 8.0), 'speed': (14.96, 0.0), 'heading': 0.0}) frozendict.frozendict({'position': (612.11, 4.0), 'speed': (23.98, 0.0), 'heading': 0.0})\n",
      "frozendict.frozendict({'position': (659.76, 8.0), 'speed': (18.18, 0.0), 'heading': 0.0}) frozendict.frozendict({'position': (627.33, 8.0), 'speed': (14.96, 0.0), 'heading': 0.0})\n",
      "frozendict.frozendict({'position': (699.53, 8.0), 'speed': (22.55, 0.0), 'heading': 0.0}) frozendict.frozendict({'position': (659.76, 8.0), 'speed': (18.18, 0.0), 'heading': 0.0})\n",
      "frozendict.frozendict({'position': (718.3, 0.0), 'speed': (21.06, 0.0), 'heading': 0.0}) frozendict.frozendict({'position': (699.53, 8.0), 'speed': (22.55, 0.0), 'heading': 0.0})\n",
      "frozendict.frozendict({'position': (0.0, 0.0), 'speed': (0.0, 0.0), 'heading': 0.0}) frozendict.frozendict({'position': (718.3, 0.0), 'speed': (21.06, 0.0), 'heading': 0.0})\n",
      "\n",
      "\n"
     ]
    }
   ],
   "source": [
    "# Test differences in environment state for situations with same ego-vehivle state\n",
    "visited = highway_mdp.populate_MDPtable(max_depth = 4)\n",
    "\n",
    "for v1 in list(visited)[:-1]:\n",
    "    for v2 in list(visited)[1:]:\n",
    "        if v1 != v2 and v1[0] == v2[0]:\n",
    "            print(v1[0],v2[0])\n",
    "            for veh1, veh2 in zip(v1,v2):\n",
    "                if veh1 != veh2:\n",
    "                    print(veh1, veh2)\n",
    "            print('\\n')\n"
   ]
  },
  {
   "cell_type": "code",
   "execution_count": null,
   "metadata": {},
   "outputs": [
    {
     "name": "stdout",
     "output_type": "stream",
     "text": [
      "MDPVehicle #544: [207.38302935   8.        ]\n",
      "MDPVehicle #248: [207.38302935   8.        ]\n",
      "1 [1.   1.   0.08 1.   0.   0.  ]\n",
      "MDPVehicle #544: [232.38302935   8.        ]\n",
      "MDPVehicle #248: [207.38302935   8.        ]\n",
      "MDPVehicle #248: [207.38302935   8.        ]\n"
     ]
    }
   ],
   "source": [
    "# |DEBUGGING CODE\n",
    "\n",
    "print(highway_mdp.env.unwrapped.road.vehicles[0])\n",
    "tmp = highway_mdp.env()\n",
    "print(tmp.unwrapped.road.vehicles[0])\n",
    "highway_mdp.step(1)\n",
    "print(highway_mdp.env.unwrapped.road.vehicles[0])\n",
    "print(tmp.unwrapped.road.vehicles[0])\n",
    "highway_mdp.env = tmp\n",
    "print(highway_mdp.env.unwrapped.road.vehicles[0])\n",
    "\n",
    "\n",
    "# dir(highway_mdp.env.unwrapped)\n",
    "\n",
    "next_state, reward, done, truncated, info = highway_mdp.step(1)\n",
    "# next_state\n"
   ]
  },
  {
   "cell_type": "code",
   "execution_count": null,
   "metadata": {},
   "outputs": [],
   "source": [
    "config = {\n",
    "        \"observation\": {\n",
    "            \"type\": \"Kinematics\",\n",
    "            \"vehicles_count\": 50,\n",
    "            \"features\": [\"presence\", \"x\", \"y\", \"vx\", \"vy\", \"heading\"],\n",
    "            \"normalize\": False,\n",
    "            \"absolute\": True,\n",
    "            \"order\": \"sorted\",\n",
    "            \"observe_intentions\": False,\n",
    "            \"include_obstacles\": True\n",
    "            }\n",
    "        }\n",
    "\n",
    "env = gym.make('highway-v0', config=config, render_mode='human')"
   ]
  },
  {
   "cell_type": "code",
   "execution_count": 75,
   "metadata": {},
   "outputs": [
    {
     "data": {
      "text/plain": [
       "(frozendict.frozendict({'position': (1.0, 0.08), 'speed': (1.0, 0.0), 'heading': 0.0}),\n",
       " frozendict.frozendict({'position': (0.08, 0.0), 'speed': (-0.24, 0.0), 'heading': 0.0}),\n",
       " frozendict.frozendict({'position': (0.33, -0.04), 'speed': (-0.18, 0.0), 'heading': 0.003}),\n",
       " frozendict.frozendict({'position': (0.45, 0.04), 'speed': (-0.31, 0.0), 'heading': 0.005}),\n",
       " frozendict.frozendict({'position': (0.72, 0.0), 'speed': (-0.19, 0.0), 'heading': 0.0}),\n",
       " frozendict.frozendict({'position': (0.93, 0.04), 'speed': (-0.19, 0.0), 'heading': 0.0}),\n",
       " frozendict.frozendict({'position': (1.0, -0.08), 'speed': (-0.27, 0.0), 'heading': 0.0}),\n",
       " frozendict.frozendict({'position': (1.0, -0.04), 'speed': (-0.24, -0.0), 'heading': -0.0}),\n",
       " frozendict.frozendict({'position': (1.0, -0.0), 'speed': (-0.16, 0.0), 'heading': 0.001}),\n",
       " frozendict.frozendict({'position': (1.0, -0.08), 'speed': (-0.28, 0.0), 'heading': 0.0}),\n",
       " frozendict.frozendict({'position': (0.0, 0.0), 'speed': (0.0, 0.0), 'heading': 0.0}),\n",
       " frozendict.frozendict({'position': (0.0, 0.0), 'speed': (0.0, 0.0), 'heading': 0.0}),\n",
       " frozendict.frozendict({'position': (0.0, 0.0), 'speed': (0.0, 0.0), 'heading': 0.0}),\n",
       " frozendict.frozendict({'position': (0.0, 0.0), 'speed': (0.0, 0.0), 'heading': 0.0}),\n",
       " frozendict.frozendict({'position': (0.0, 0.0), 'speed': (0.0, 0.0), 'heading': 0.0}))"
      ]
     },
     "execution_count": 75,
     "metadata": {},
     "output_type": "execute_result"
    }
   ],
   "source": [
    "vehicles = []\n",
    "for veh_state in obs:\n",
    "    feature_vals = {k: v for k,v in zip(config[\"observation\"][\"features\"], veh_state)}\n",
    "    veh = {}\n",
    "    veh[\"position\"] = tuple(np.round((feature_vals[\"x\"],feature_vals[\"y\"]), 2))\n",
    "    veh[\"speed\"] = tuple(np.round((feature_vals[\"vx\"],feature_vals[\"vy\"]), 2))\n",
    "    veh[\"heading\"] = np.round(feature_vals[\"heading\"], 3)\n",
    "    vehicles.append(frozendict(veh))\n",
    "vehicles = tuple(vehicles)\n",
    "vehicles"
   ]
  },
  {
   "cell_type": "code",
   "execution_count": 77,
   "metadata": {},
   "outputs": [
    {
     "data": {
      "text/plain": [
       "48"
      ]
     },
     "execution_count": 77,
     "metadata": {},
     "output_type": "execute_result"
    }
   ],
   "source": [
    "import sys\n",
    "\n",
    "# sys.getsizeof(transitions)\n",
    "sys.getsizeof(highway_mdp.copy_env())\n",
    "# sys.getsizeof(int(10.0))\n"
   ]
  },
  {
   "cell_type": "markdown",
   "metadata": {},
   "source": [
    "Profiling HighwayEnv"
   ]
  },
  {
   "cell_type": "code",
   "execution_count": 1,
   "metadata": {},
   "outputs": [
    {
     "name": "stdout",
     "output_type": "stream",
     "text": [
      "d:\\WorkFiles\\ProjectCode\\ActiveProjects\\HoLab\\Mine\\HighwayEnv-TRI\n"
     ]
    }
   ],
   "source": [
    "# |Move up one directory level to import local instance of highway environment\n",
    "%cd ..\n",
    "# %pwd\n",
    "\n",
    "import gymnasium\n",
    "import highway_env\n",
    "# from matplotlib import pyplot as plt\n",
    "# %matplotlib inline"
   ]
  },
  {
   "cell_type": "code",
   "execution_count": 10,
   "metadata": {},
   "outputs": [],
   "source": [
    "# Define Configuration\n",
    "num_of_vehicles = 2\n",
    "num_of_ice = 5\n",
    "config = {    \n",
    "        ## Parameters of interest ##\n",
    "        \"observation\": {\n",
    "            # For more details about observation parameters check out \"highway_env\\envs\\common\\observation.py\"\n",
    "            \"type\": \"Kinematics\",\n",
    "            \"vehicles_count\": num_of_vehicles+num_of_ice+5,   # Number of vehicles (and objects) to show in the observation. \n",
    "                                                                #   Keep greater than value of vehicles out outside obervation\n",
    "                                                                #   dictionary to observe all vehicles in the environment.\n",
    "            \"features\": [\"presence\", \"x\", \"y\", \"vx\", \"vy\"],# \"heading\"],\n",
    "            \"normalize\": False, # Normalize object coordinates\n",
    "            \"absolute\": True,   # Provide absolute coordinate of vehicles\n",
    "            \"order\": \"sorted\",\n",
    "            \"observe_intentions\": False,\n",
    "            \"include_obstacles\": True,\n",
    "            \"see_behind\": True  # Report vehicles behind the ego vehicle\n",
    "            },\n",
    "        ## Parameters specialized for the icy highway environment ##\n",
    "        \"ice_count\": num_of_ice,    # Number of ice sheets in the environment\n",
    "        \"env_len\":  3000,    # Length of the road\n",
    "        ## Keep these to default, because the fast versions of the environments implement different values ##\n",
    "        ## of these variables for faster execution ##\n",
    "        \"vehicles_count\": num_of_vehicles,\n",
    "        \"lanes_count\": 3,\n",
    "        \"simulation_frequency\": 5,\n",
    "        \"duration\": 120,  # [s]\n",
    "        \"disable_collision_checks\": True,    # Check collisions for other vehicles\n",
    "        \"enable_lane_change\": False,\n",
    "        ## Other parameters aleady set by default configurations ##\n",
    "        # \"action\": {\n",
    "        #     \"type\": \"DiscreteMetaAction\",\n",
    "        # },\n",
    "        # \"controlled_vehicles\": 1,\n",
    "        # \"initial_lane_id\": None,\n",
    "        # \"ego_spacing\": 2,\n",
    "        # \"vehicles_density\": 1,\n",
    "        # \"collision_reward\": -1,  # The reward received when colliding with a vehicle.\n",
    "        # \"right_lane_reward\": 0.1,  # The reward received when driving on the right-most lanes, linearly mapped to\n",
    "        # # zero for other lanes.\n",
    "        # \"high_speed_reward\": 0.4,  # The reward received when driving at full speed, linearly mapped to zero for\n",
    "        # # lower speeds according to config[\"reward_speed_range\"].\n",
    "        # \"lane_change_reward\": 0,  # The reward received at each lane change action.\n",
    "        # \"reward_speed_range\": [20, 30],\n",
    "        # \"normalize_reward\": True,\n",
    "        # \"offroad_terminal\": False\n",
    "        }\n",
    "\n",
    "# env = gymnasium.make('highway-v0', config=config, render_mode='rgb_array')\n",
    "# env = gymnasium.make('highway-fast-v0', config=config, render_mode='rgb_array')\n",
    "env = gymnasium.make('highway-icy-custom-v0', config=config, render_mode='rgb_array')\n",
    "\n",
    "env.reset()\n",
    "action = env.unwrapped.action_type.actions_indexes[\"IDLE\"]"
   ]
  },
  {
   "cell_type": "code",
   "execution_count": 22,
   "metadata": {},
   "outputs": [
    {
     "name": "stdout",
     "output_type": "stream",
     "text": [
      " "
     ]
    },
    {
     "name": "stdout",
     "output_type": "stream",
     "text": [
      "         12734 function calls (12599 primitive calls) in 0.021 seconds\n",
      "\n",
      "   Ordered by: internal time\n",
      "\n",
      "   ncalls  tottime  percall  cumtime  percall filename:lineno(function)\n",
      "      946    0.001    0.000    0.001    0.000 {method 'dot' of 'numpy.ndarray' objects}\n",
      "      210    0.001    0.000    0.001    0.000 lane.py:209(local_coordinates)\n",
      "      160    0.001    0.000    0.010    0.000 objects.py:133(_is_colliding)\n",
      "       13    0.001    0.000    0.004    0.000 utils.py:194(are_polygons_intersecting)\n",
      "      236    0.001    0.000    0.002    0.000 linalg.py:2383(norm)\n",
      "       26    0.001    0.000    0.002    0.000 objects.py:180(polygon)\n",
      "      126    0.001    0.000    0.001    0.000 utils.py:175(project_polygon)\n",
      "       59    0.000    0.000    0.000    0.000 objects.py:172(direction)\n",
      "       34    0.000    0.000    0.001    0.000 _methods.py:101(_mean)\n",
      "1167/1161    0.000    0.000    0.001    0.000 {built-in method builtins.isinstance}\n",
      "       11    0.000    0.000    0.001    0.000 controller.py:145(steering_control)\n",
      "       26    0.000    0.000    0.001    0.000 shape_base.py:1185(tile)\n",
      "      231    0.000    0.000    0.000    0.000 {built-in method numpy.array}\n",
      "       58    0.000    0.000    0.000    0.000 {method 'reduce' of 'numpy.ufunc' objects}\n",
      "       69    0.000    0.000    0.000    0.000 _methods.py:90(_clip)\n",
      "       15    0.000    0.000    0.001    0.000 kinematics.py:130(step)\n",
      "        7    0.000    0.000    0.001    0.000 road.py:480(neighbour_vehicles)\n",
      "       86    0.000    0.000    0.000    0.000 lane.py:80(on_lane)\n",
      "       28    0.000    0.000    0.000    0.000 shape_base.py:219(vstack)\n",
      "       33    0.000    0.000    0.001    0.000 construction.py:517(sanitize_array)\n",
      "       45    0.000    0.000    0.001    0.000 lane.py:132(distance_with_heading)\n",
      "       44    0.000    0.000    0.000    0.000 fromnumeric.py:40(_wrapit)\n",
      "        5    0.000    0.000    0.018    0.004 road.py:466(step)\n",
      "      165    0.000    0.000    0.017    0.000 objects.py:94(handle_collisions)\n",
      "        2    0.000    0.000    0.000    0.000 base.py:1250(copy)\n",
      "       86    0.000    0.000    0.001    0.000 fromnumeric.py:53(_wrapfunc)\n",
      "       15    0.000    0.000    0.001    0.000 road.py:55(get_closest_lane_index)\n",
      "  550/421    0.000    0.000    0.000    0.000 {built-in method builtins.len}\n",
      "        2    0.000    0.000    0.000    0.000 concat.py:296(_get_combined_plan)\n",
      "      352    0.000    0.000    0.000    0.000 {built-in method numpy.asarray}\n",
      "       11    0.000    0.000    0.001    0.000 behavior.py:150(acceleration)\n",
      "      672    0.000    0.000    0.000    0.000 {built-in method builtins.issubclass}\n",
      "      236    0.000    0.000    0.000    0.000 {method 'ravel' of 'numpy.ndarray' objects}\n",
      "       34    0.000    0.000    0.000    0.000 _methods.py:67(_count_reduce_items)\n",
      "      490    0.000    0.000    0.000    0.000 {built-in method builtins.getattr}\n",
      "       26    0.000    0.000    0.000    0.000 construction.py:1028(convert)\n",
      "       69    0.000    0.000    0.001    0.000 fromnumeric.py:2100(clip)\n",
      "       26    0.000    0.000    0.000    0.000 kinematics.py:215(velocity)\n",
      "        1    0.000    0.000    0.021    0.021 <string>:1(<module>)\n",
      "        9    0.000    0.000    0.000    0.000 missing.py:564(_array_equivalent_object)\n",
      "       10    0.000    0.000    0.003    0.000 behavior.py:93(act)\n",
      "       22    0.000    0.000    0.000    0.000 common.py:123(<lambda>)\n",
      "       40    0.000    0.000    0.000    0.000 numeric.py:274(full)\n",
      "       34    0.000    0.000    0.001    0.000 {method 'mean' of 'numpy.ndarray' objects}\n",
      "        7    0.000    0.000    0.001    0.000 base.py:475(__new__)\n",
      "        1    0.000    0.000    0.000    0.000 {method 'disable' of '_lsprof.Profiler' objects}\n",
      "      236    0.000    0.000    0.000    0.000 linalg.py:140(isComplexType)\n",
      "       40    0.000    0.000    0.000    0.000 {method 'clip' of 'numpy.generic' objects}\n",
      "      207    0.000    0.000    0.000    0.000 generic.py:42(_instancecheck)\n",
      "        2    0.000    0.000    0.001    0.000 concat.py:94(concatenate_managers)\n",
      "        7    0.000    0.000    0.000    0.000 behavior.py:192(desired_gap)\n",
      "      273    0.000    0.000    0.000    0.000 {method 'append' of 'list' objects}\n",
      "        7    0.000    0.000    0.000    0.000 cast.py:1156(maybe_infer_to_datetimelike)\n",
      "        2    0.000    0.000    0.000    0.000 managers.py:708(_slice_take_blocks_ax0)\n",
      "      207    0.000    0.000    0.000    0.000 generic.py:37(_check)\n",
      "       28    0.000    0.000    0.000    0.000 shape_base.py:81(atleast_2d)\n",
      "        1    0.000    0.000    0.006    0.006 observation.py:233(observe)\n",
      "       13    0.000    0.000    0.000    0.000 base.py:5552(equals)\n",
      "      111    0.000    0.000    0.000    0.000 {built-in method _abc._abc_instancecheck}\n",
      "        8    0.000    0.000    0.000    0.000 take.py:120(_take_nd_ndarray)\n",
      "       65    0.000    0.000    0.000    0.000 utils.py:57(wrap_to_pi)\n",
      "       13    0.000    0.000    0.000    0.000 base.py:649(_simple_new)\n",
      "       26    0.000    0.000    0.000    0.000 {method 'repeat' of 'numpy.ndarray' objects}\n",
      "        2    0.000    0.000    0.000    0.000 managers.py:2190(_form_blocks)\n",
      "      103    0.000    0.000    0.000    0.000 {built-in method builtins.max}\n",
      "       20    0.000    0.000    0.000    0.000 objects.py:176(velocity)\n",
      "      155    0.000    0.000    0.000    0.000 {built-in method numpy.zeros}\n",
      "       52    0.000    0.000    0.000    0.000 {method 'reshape' of 'numpy.ndarray' objects}\n",
      "       34    0.000    0.000    0.000    0.000 contextlib.py:104(__init__)\n",
      "       54    0.000    0.000    0.000    0.000 {built-in method builtins.all}\n",
      "      427    0.000    0.000    0.000    0.000 multiarray.py:741(dot)\n",
      "        2    0.000    0.000    0.000    0.000 construction.py:596(_homogenize)\n",
      "       68    0.000    0.000    0.000    0.000 {built-in method builtins.next}\n",
      "       54    0.000    0.000    0.000    0.000 lane.py:145(local_angle)\n",
      "       12    0.000    0.000    0.000    0.000 concat.py:322(_get_block_for_concat_plan)\n",
      "        1    0.000    0.000    0.000    0.000 road.py:418(close_objects_to)\n",
      "        2    0.000    0.000    0.000    0.000 construction.py:891(_list_of_dict_to_arrays)\n",
      "       16    0.000    0.000    0.001    0.000 base.py:7593(ensure_index)\n",
      "        6    0.000    0.000    0.001    0.000 controller.py:89(act)\n",
      "       34    0.000    0.000    0.000    0.000 contextlib.py:299(helper)\n",
      "       68    0.000    0.000    0.000    0.000 _ufunc_config.py:452(_no_nep50_warning)\n",
      "        2    0.000    0.000    0.000    0.000 construction.py:638(_extract_index)\n",
      "        6    0.000    0.000    0.000    0.000 common.py:231(asarray_tuplesafe)\n",
      "        2    0.000    0.000    0.000    0.000 managers.py:2276(_merge_blocks)\n",
      "       34    0.000    0.000    0.000    0.000 contextlib.py:141(__exit__)\n",
      "        5    0.000    0.000    0.000    0.000 base.py:2744(inferred_type)\n",
      "        3    0.000    0.000    0.000    0.000 cast.py:123(maybe_convert_platform)\n",
      "        2    0.000    0.000    0.002    0.001 concat.py:622(get_result)\n",
      "      159    0.000    0.000    0.000    0.000 {built-in method builtins.abs}\n",
      "       29    0.000    0.000    0.000    0.000 {method 'clip' of 'numpy.ndarray' objects}\n",
      "        6    0.000    0.000    0.000    0.000 managers.py:180(blknos)\n",
      "       58    0.000    0.000    0.000    0.000 {built-in method numpy.empty}\n",
      "      111    0.000    0.000    0.000    0.000 <frozen abc>:117(__instancecheck__)\n",
      "      126    0.000    0.000    0.000    0.000 utils.py:186(interval_distance)\n",
      "      236    0.000    0.000    0.000    0.000 linalg.py:2379(_norm_dispatcher)\n",
      "        9    0.000    0.000    0.000    0.000 blocks.py:324(slice_block_columns)\n",
      "       15    0.000    0.000    0.001    0.000 kinematics.py:184(on_state_update)\n",
      "       34    0.000    0.000    0.000    0.000 {method 'set' of '_contextvars.ContextVar' objects}\n",
      "       15    0.000    0.000    0.000    0.000 kinematics.py:155(clip_actions)\n",
      "       16    0.000    0.000    0.000    0.000 base.py:82(shape)\n",
      "        6    0.000    0.000    0.000    0.000 managers.py:2246(_stack_arrays)\n",
      "       52    0.000    0.000    0.000    0.000 shape_base.py:1257(<genexpr>)\n",
      "       15    0.000    0.000    0.000    0.000 {method 'argmin' of 'numpy.ndarray' objects}\n",
      "       22    0.000    0.000    0.000    0.000 common.py:137(is_object_dtype)\n",
      "        1    0.000    0.000    0.000    0.000 box.py:56(__init__)\n",
      "        2    0.000    0.000    0.000    0.000 highway_env_icy.py:145(_rewards)\n",
      "       10    0.000    0.000    0.000    0.000 _dtype.py:346(_name_get)\n",
      "       34    0.000    0.000    0.000    0.000 contextlib.py:132(__enter__)\n",
      "        9    0.000    0.000    0.000    0.000 missing.py:466(array_equivalent)\n",
      "        2    0.000    0.000    0.002    0.001 frame.py:2318(from_records)\n",
      "        7    0.000    0.000    0.000    0.000 generic.py:278(__init__)\n",
      "       62    0.000    0.000    0.000    0.000 {built-in method builtins.hasattr}\n",
      "        2    0.000    0.000    0.000    0.000 base.py:2313(is_unique)\n",
      "       15    0.000    0.000    0.000    0.000 fromnumeric.py:1236(argmin)\n",
      "        2    0.000    0.000    0.000    0.000 base.py:6219(_raise_if_missing)\n",
      "        2    0.000    0.000    0.002    0.001 concat.py:157(concat)\n",
      "       36    0.000    0.000    0.000    0.000 utils.py:48(not_zero)\n",
      "       42    0.000    0.000    0.000    0.000 {method 'items' of 'dict' objects}\n",
      "        2    0.000    0.000    0.000    0.000 utils.py:239(maybe_convert_indices)\n",
      "       20    0.000    0.000    0.000    0.000 objects.py:194(lane_distance_to)\n",
      "       28    0.000    0.000    0.000    0.000 shape_base.py:207(_arrays_for_stack_dispatcher)\n",
      "        2    0.000    0.000    0.000    0.000 base.py:3955(_get_indexer)\n",
      "       78    0.000    0.000    0.000    0.000 shape_base.py:1267(<genexpr>)\n",
      "        3    0.000    0.000    0.000    0.000 base.py:3820(get_indexer)\n",
      "        4    0.000    0.000    0.000    0.000 generic.py:6236(__finalize__)\n",
      "       12    0.000    0.000    0.000    0.000 concat.py:389(is_na)\n",
      "        2    0.000    0.000    0.000    0.000 base.py:842(_engine)\n",
      "       25    0.000    0.000    0.000    0.000 common.py:1434(_is_dtype_type)\n",
      "        1    0.000    0.000    0.000    0.000 managers.py:1707(_interleave)\n",
      "        5    0.000    0.000    0.003    0.001 road.py:461(act)\n",
      "       11    0.000    0.000    0.000    0.000 lane.py:120(after_end)\n",
      "        4    0.000    0.000    0.000    0.000 base.py:1146(take)\n",
      "       33    0.000    0.000    0.000    0.000 construction.py:696(_sanitize_ndim)\n",
      "        2    0.000    0.000    0.002    0.001 frame.py:4062(__getitem__)\n",
      "        6    0.000    0.000    0.000    0.000 concat.py:572(_is_uniform_join_units)\n",
      "       15    0.000    0.000    0.000    0.000 numerictypes.py:357(issubdtype)\n",
      "       34    0.000    0.000    0.000    0.000 {method 'reset' of '_contextvars.ContextVar' objects}\n",
      "       11    0.000    0.000    0.000    0.000 controller.py:135(follow_road)\n",
      "        3    0.000    0.000    0.000    0.000 managers.py:1782(_consolidate_inplace)\n",
      "       65    0.000    0.000    0.000    0.000 base.py:909(__len__)\n",
      "        2    0.000    0.000    0.001    0.000 base.py:6186(_get_indexer_strict)\n",
      "       52    0.000    0.000    0.000    0.000 road.py:41(get_lane)\n",
      "       66    0.000    0.000    0.000    0.000 range.py:999(__len__)\n",
      "        3    0.000    0.000    0.000    0.000 kinematics.py:251(to_dict)\n",
      "        3    0.000    0.000    0.000    0.000 managers.py:1772(_consolidate_check)\n",
      "        2    0.000    0.000    0.000    0.000 construction.py:928(_finalize_columns_and_data)\n",
      "        4    0.000    0.000    0.000    0.000 cast.py:1432(find_common_type)\n",
      "        5    0.000    0.000    0.000    0.000 objects.py:152(to_dict)\n",
      "        6    0.000    0.000    0.001    0.000 controller.py:295(act)\n",
      "        6    0.000    0.000    0.000    0.000 kinematics.py:233(destination_direction)\n",
      "        6    0.000    0.000    0.000    0.000 _asarray.py:27(require)\n",
      "       10    0.000    0.000    0.001    0.000 behavior.py:139(step)\n",
      "       90    0.000    0.000    0.000    0.000 {built-in method numpy.asanyarray}\n",
      "        2    0.000    0.000    0.000    0.000 base.py:7704(get_unanimous_names)\n",
      "        1    0.000    0.000    0.000    0.000 traitlets.py:1527(_notify_observers)\n",
      "        8    0.000    0.000    0.000    0.000 take.py:59(take_nd)\n",
      "        2    0.000    0.000    0.000    0.000 base.py:1697(_validate_names)\n",
      "        2    0.000    0.000    0.000    0.000 api.py:202(union_indexes)\n",
      "        1    0.000    0.000    0.000    0.000 box.py:171(_cast_low)\n",
      "        2    0.000    0.000    0.000    0.000 frozen.py:76(__getitem__)\n",
      "        2    0.000    0.000    0.000    0.000 concat.py:405(__init__)\n",
      "        1    0.000    0.000    0.021    0.021 abstract.py:224(step)\n",
      "        5    0.000    0.000    0.000    0.000 behavior.py:219(change_lane_policy)\n",
      "       28    0.000    0.000    0.000    0.000 shape_base.py:215(_vhstack_dispatcher)\n",
      "        2    0.000    0.000    0.001    0.000 generic.py:4027(take)\n",
      "       18    0.000    0.000    0.000    0.000 concat.py:587(<genexpr>)\n",
      "        9    0.000    0.000    0.000    0.000 blocks.py:292(make_block_same_class)\n",
      "        1    0.000    0.000    0.014    0.014 abstract.py:252(_simulate)\n",
      "       33    0.000    0.000    0.000    0.000 construction.py:735(_sanitize_str_dtypes)\n",
      "        1    0.000    0.000    0.000    0.000 concat.py:52(concat_compat)\n",
      "        4    0.000    0.000    0.000    0.000 blocks.py:225(_consolidate_key)\n",
      "       30    0.000    0.000    0.000    0.000 numerictypes.py:283(issubclass_)\n",
      "       48    0.000    0.000    0.000    0.000 base.py:84(<genexpr>)\n",
      "        2    0.000    0.000    0.000    0.000 concat.py:717(_get_concat_axis)\n",
      "        1    0.000    0.000    0.000    0.000 construction.py:237(ndarray_to_mgr)\n",
      "       33    0.000    0.000    0.000    0.000 construction.py:416(extract_array)\n",
      "        2    0.000    0.000    0.001    0.000 concat.py:699(new_axes)\n",
      "        4    0.000    0.000    0.000    0.000 blocks.py:1287(take_nd)\n",
      "       24    0.000    0.000    0.000    0.000 {built-in method __new__ of type object at 0x00007FFF48626A50}\n",
      "        9    0.000    0.000    0.000    0.000 kinematics.py:242(lane_offset)\n",
      "        7    0.000    0.000    0.000    0.000 fromnumeric.py:71(_wrapreduction)\n",
      "       87    0.000    0.000    0.000    0.000 lane.py:206(width_at)\n",
      "        2    0.000    0.000    0.000    0.000 cast.py:1391(np_find_common_type)\n",
      "       34    0.000    0.000    0.000    0.000 {built-in method numpy.core._multiarray_umath.normalize_axis_index}\n",
      "        9    0.000    0.000    0.000    0.000 {built-in method builtins.sum}\n",
      "        2    0.000    0.000    0.000    0.000 box.py:14(array_short_repr)\n",
      "        6    0.000    0.000    0.000    0.000 generic.py:339(_from_mgr)\n",
      "        2    0.000    0.000    0.000    0.000 managers.py:623(reindex_indexer)\n",
      "       69    0.000    0.000    0.000    0.000 fromnumeric.py:2096(_clip_dispatcher)\n",
      "        1    0.000    0.000    0.000    0.000 astype.py:56(_astype_nansafe)\n",
      "        2    0.000    0.000    0.001    0.001 construction.py:96(arrays_to_mgr)\n",
      "       26    0.000    0.000    0.000    0.000 managers.py:2177(_grouping_func)\n",
      "       33    0.000    0.000    0.000    0.000 construction.py:758(_maybe_repeat)\n",
      "       10    0.000    0.000    0.000    0.000 {built-in method builtins.any}\n",
      "       16    0.000    0.000    0.000    0.000 construction.py:481(ensure_wrapped_if_datetimelike)\n",
      "       18    0.000    0.000    0.000    0.000 base.py:831(_reset_identity)\n",
      "        1    0.000    0.000    0.000    0.000 frame.py:694(__init__)\n",
      "        2    0.000    0.000    0.000    0.000 managers.py:2121(create_block_manager_from_column_arrays)\n",
      "       65    0.000    0.000    0.000    0.000 lane.py:203(heading_at)\n",
      "        2    0.000    0.000    0.000    0.000 {method 'argsort' of 'numpy.ndarray' objects}\n",
      "        6    0.000    0.000    0.000    0.000 warnings.py:484(__enter__)\n",
      "        2    0.000    0.000    0.000    0.000 traitlets.py:3631(set)\n",
      "        2    0.000    0.000    0.000    0.000 construction.py:1006(convert_object_array)\n",
      "       15    0.000    0.000    0.000    0.000 concat.py:597(<genexpr>)\n",
      "       11    0.000    0.000    0.000    0.000 kinematics.py:121(act)\n",
      "       10    0.000    0.000    0.000    0.000 blocks.py:2674(get_block_type)\n",
      "        2    0.000    0.000    0.001    0.000 api.py:120(_get_combined_index)\n",
      "       14    0.000    0.000    0.000    0.000 common.py:1331(is_ea_or_datetimelike_dtype)\n",
      "       26    0.000    0.000    0.000    0.000 common.py:568(require_length_match)\n",
      "        2    0.000    0.000    0.000    0.000 base.py:4323(reindex)\n",
      "        2    0.000    0.000    0.000    0.000 managers.py:935(_verify_integrity)\n",
      "        3    0.000    0.000    0.000    0.000 cast.py:1579(construct_1d_object_array_from_listlike)\n",
      "        4    0.000    0.000    0.000    0.000 blocks.py:2703(new_block_2d)\n",
      "       10    0.000    0.000    0.000    0.000 {method 'any' of 'numpy.ndarray' objects}\n",
      "        2    0.000    0.000    0.001    0.000 construction.py:793(to_arrays)\n",
      "        2    0.000    0.000    0.000    0.000 traitlets.py:727(_cross_validate)\n",
      "       13    0.000    0.000    0.000    0.000 base.py:791(is_)\n",
      "        4    0.000    0.000    0.000    0.000 cast.py:550(maybe_promote)\n",
      "        2    0.000    0.000    0.000    0.000 concat.py:494(_clean_keys_and_objs)\n",
      "        5    0.000    0.000    0.000    0.000 range.py:201(_simple_new)\n",
      "        3    0.000    0.000    0.000    0.000 base.py:6394(_should_compare)\n",
      "        2    0.000    0.000    0.000    0.000 traitlets.py:718(_validate)\n",
      "        5    0.000    0.000    0.000    0.000 api.py:386(default_index)\n",
      "        2    0.000    0.000    0.000    0.000 managers.py:869(take)\n",
      "       10    0.000    0.000    0.000    0.000 _dtype.py:330(_name_includes_bit_suffix)\n",
      "       10    0.000    0.000    0.000    0.000 construction.py:915(<genexpr>)\n",
      "        2    0.000    0.000    0.000    0.000 {method '__exit__' of 'sqlite3.Connection' objects}\n",
      "        2    0.000    0.000    0.000    0.000 concat.py:480(_get_ndims)\n",
      "        2    0.000    0.000    0.000    0.000 {built-in method builtins.sorted}\n",
      "        8    0.000    0.000    0.000    0.000 take.py:564(_take_preprocess_indexer_and_fill_value)\n",
      "        2    0.000    0.000    0.000    0.000 traitlets.py:689(set)\n",
      "        4    0.000    0.000    0.000    0.000 algorithms.py:1131(take)\n",
      "        2    0.000    0.000    0.000    0.000 base.py:836(__iter__)\n",
      "        1    0.000    0.000    0.000    0.000 box.py:240(_cast_high)\n",
      "        1    0.000    0.000    0.000    0.000 managers.py:2259(_consolidate)\n",
      "       11    0.000    0.000    0.000    0.000 inference.py:334(is_hashable)\n",
      "       30    0.000    0.000    0.000    0.000 common.py:1270(is_1d_only_ea_dtype)\n",
      "        8    0.000    0.000    0.000    0.000 missing.py:184(_isna)\n",
      "        2    0.000    0.000    0.000    0.000 concat.py:545(_get_sample_object)\n",
      "       16    0.000    0.000    0.000    0.000 blocks.py:214(is_extension)\n",
      "        3    0.000    0.000    0.000    0.000 common.py:1081(is_numeric_dtype)\n",
      "        1    0.000    0.000    0.000    0.000 concat.py:457(_concatenate_join_units)\n",
      "        4    0.000    0.000    0.000    0.000 base.py:5170(_get_engine_target)\n",
      "        1    0.000    0.000    0.000    0.000 {built-in method _thread.allocate_lock}\n",
      "        1    0.000    0.000    0.000    0.000 concat.py:526(_get_empty_dtype)\n",
      "        2    0.000    0.000    0.000    0.000 {method 'astype' of 'numpy.ndarray' objects}\n",
      "        2    0.000    0.000    0.000    0.000 api.py:265(_find_common_index_dtype)\n",
      "        2    0.000    0.000    0.000    0.000 traitlets.py:3474(validate)\n",
      "        8    0.000    0.000    0.000    0.000 generic.py:586(_get_axis)\n",
      "        4    0.000    0.000    0.000    0.000 {method 'take' of 'numpy.ndarray' objects}\n",
      "        2    0.000    0.000    0.000    0.000 api.py:106(_get_distinct_objs)\n",
      "        2    0.000    0.000    0.001    0.000 generic.py:4142(_take_with_is_copy)\n",
      "       22    0.000    0.000    0.000    0.000 common.py:121(classes)\n",
      "        5    0.000    0.000    0.000    0.000 {method 'format' of 'str' objects}\n",
      "        8    0.000    0.000    0.000    0.000 frame.py:1030(axes)\n",
      "       12    0.000    0.000    0.000    0.000 blocks.py:230(_can_hold_na)\n",
      "       58    0.000    0.000    0.000    0.000 typing.py:2183(cast)\n",
      "        2    0.000    0.000    0.000    0.000 traitlets.py:708(__set__)\n",
      "        1    0.000    0.000    0.000    0.000 behavior.py:265(mobil)\n",
      "       54    0.000    0.000    0.000    0.000 base.py:5144(_values)\n",
      "        2    0.000    0.000    0.000    0.000 base.py:773(_view)\n",
      "        8    0.000    0.000    0.000    0.000 base.py:1765(_get_names)\n",
      "        1    0.000    0.000    0.000    0.000 ufunclike.py:142(isneginf)\n",
      "        3    0.000    0.000    0.000    0.000 config.py:635(_get_root)\n",
      "        7    0.000    0.000    0.000    0.000 base.py:591(_ensure_array)\n",
      "       40    0.000    0.000    0.000    0.000 multiarray.py:1080(copyto)\n",
      "        6    0.000    0.000    0.000    0.000 frame.py:1047(shape)\n",
      "        4    0.000    0.000    0.000    0.000 blocks.py:2645(maybe_coerce_values)\n",
      "        1    0.000    0.000    0.000    0.000 traitlets.py:1512(_notify_trait)\n",
      "        4    0.000    0.000    0.000    0.000 base.py:7719(<genexpr>)\n",
      "        1    0.000    0.000    0.000    0.000 observation.py:198(space)\n",
      "        8    0.000    0.000    0.000    0.000 take.py:325(_get_take_nd_function)\n",
      "        7    0.000    0.000    0.000    0.000 base.py:7688(maybe_extract_name)\n",
      "       26    0.000    0.000    0.000    0.000 shape_base.py:1181(_tile_dispatcher)\n",
      "       10    0.000    0.000    0.000    0.000 blocks.py:219(_can_consolidate)\n",
      "       36    0.000    0.000    0.000    0.000 multiarray.py:153(concatenate)\n",
      "        3    0.000    0.000    0.000    0.000 config.py:127(_get_single_key)\n",
      "       18    0.000    0.000    0.000    0.000 concat.py:584(<genexpr>)\n",
      "        3    0.000    0.000    0.000    0.000 config.py:145(_get_option)\n",
      "       12    0.000    0.000    0.000    0.000 {method 'get' of 'dict' objects}\n",
      "        2    0.000    0.000    0.000    0.000 common.py:97(is_bool_indexer)\n",
      "        1    0.000    0.000    0.000    0.000 history.py:839(_writeout_output_cache)\n",
      "        2    0.000    0.000    0.000    0.000 concat.py:202(_maybe_reindex_columns_na_proxy)\n",
      "        6    0.000    0.000    0.000    0.000 warnings.py:505(__exit__)\n",
      "        1    0.000    0.000    0.000    0.000 managers.py:1633(as_array)\n",
      "       23    0.000    0.000    0.000    0.000 blocks.py:718(dtype)\n",
      "        2    0.000    0.000    0.000    0.000 traitlets.py:3624(validate_elements)\n",
      "        1    0.000    0.000    0.000    0.000 highway_env_icy.py:123(_reward)\n",
      "        3    0.000    0.000    0.000    0.000 base.py:6324(_maybe_downcast_for_indexing)\n",
      "        6    0.000    0.000    0.000    0.000 generic.py:6277(<genexpr>)\n",
      "       30    0.000    0.000    0.000    0.000 blocks.py:266(mgr_locs)\n",
      "        1    0.000    0.000    0.000    0.000 ufunclike.py:71(isposinf)\n",
      "        4    0.000    0.000    0.000    0.000 generic.py:6270(<genexpr>)\n",
      "        9    0.000    0.000    0.000    0.000 blocks.py:1262(_slice)\n",
      "        3    0.000    0.000    0.000    0.000 base.py:3996(_check_indexing_method)\n",
      "        2    0.000    0.000    0.001    0.000 concat.py:707(_get_comb_axis)\n",
      "       10    0.000    0.000    0.000    0.000 _methods.py:55(_any)\n",
      "        2    0.000    0.000    0.000    0.000 api.py:330(_sanitize_and_check)\n",
      "        2    0.000    0.000    0.001    0.000 api.py:72(get_objs_combined_axis)\n",
      "        1    0.000    0.000    0.000    0.000 {built-in method numpy.arange}\n",
      "        7    0.000    0.000    0.000    0.000 managers.py:913(__init__)\n",
      "        1    0.000    0.000    0.021    0.021 core.py:318(step)\n",
      "        4    0.000    0.000    0.000    0.000 frame.py:659(_constructor_from_mgr)\n",
      "       28    0.000    0.000    0.000    0.000 shape_base.py:77(_atleast_2d_dispatcher)\n",
      "        7    0.000    0.000    0.000    0.000 road.py:444(<lambda>)\n",
      "        8    0.000    0.000    0.000    0.000 base.py:6312(_index_as_unique)\n",
      "        2    0.000    0.000    0.000    0.000 managers.py:948(from_blocks)\n",
      "        7    0.000    0.000    0.000    0.000 __init__.py:55(using_pyarrow_string_dtype)\n",
      "        7    0.000    0.000    0.000    0.000 base.py:609(_dtype_to_subclass)\n",
      "        8    0.000    0.000    0.000    0.000 managers.py:2264(<lambda>)\n",
      "       21    0.000    0.000    0.000    0.000 abstract.py:76(vehicle)\n",
      "        7    0.000    0.000    0.000    0.000 flags.py:51(__init__)\n",
      "        6    0.000    0.000    0.000    0.000 generic.py:592(_get_block_manager_axis)\n",
      "        4    0.000    0.000    0.000    0.000 blocks.py:253(fill_value)\n",
      "        2    0.000    0.000    0.000    0.000 traitlets.py:676(__get__)\n",
      "        1    0.000    0.000    0.000    0.000 lane.py:104(is_reachable_from)\n",
      "        9    0.000    0.000    0.000    0.000 __init__.py:34(using_copy_on_write)\n",
      "        4    0.000    0.000    0.000    0.000 missing.py:673(na_value_for_dtype)\n",
      "        4    0.000    0.000    0.000    0.000 {method 'max' of 'numpy.ndarray' objects}\n",
      "        4    0.000    0.000    0.000    0.000 fromnumeric.py:2836(min)\n",
      "        1    0.000    0.000    0.000    0.000 traitlets.py:1523(notify_change)\n",
      "        2    0.000    0.000    0.000    0.000 road.py:190(all_side_lanes)\n",
      "        2    0.000    0.000    0.000    0.000 traitlets.py:2304(validate)\n",
      "        8    0.000    0.000    0.000    0.000 missing.py:101(isna)\n",
      "       11    0.000    0.000    0.000    0.000 {built-in method builtins.hash}\n",
      "        2    0.000    0.000    0.000    0.000 base.py:6162(get_indexer_for)\n",
      "        4    0.000    0.000    0.000    0.000 construction.py:916(<genexpr>)\n",
      "        1    0.000    0.000    0.000    0.000 action.py:259(act)\n",
      "       18    0.000    0.000    0.000    0.000 base.py:1671(name)\n",
      "        3    0.000    0.000    0.000    0.000 utils.py:29(lmap)\n",
      "        3    0.000    0.000    0.000    0.000 base.py:7723(_unpack_nested_dtype)\n",
      "        1    0.000    0.000    0.000    0.000 concat.py:503(_dtype_to_na_value)\n",
      "        4    0.000    0.000    0.000    0.000 flags.py:87(allows_duplicate_labels)\n",
      "        2    0.000    0.000    0.000    0.000 base.py:4440(_maybe_preserve_names)\n",
      "        6    0.000    0.000    0.000    0.000 controller.py:189(speed_control)\n",
      "        1    0.000    0.000    0.000    0.000 concat.py:152(_get_result_dtype)\n",
      "        3    0.000    0.000    0.000    0.000 config.py:676(_translate_key)\n",
      "        6    0.000    0.000    0.000    0.000 warnings.py:458(__init__)\n",
      "       16    0.000    0.000    0.000    0.000 generic.py:572(_get_axis_number)\n",
      "        1    0.000    0.000    0.021    0.021 common.py:389(step)\n",
      "        2    0.000    0.000    0.000    0.000 managers.py:2320(_preprocess_slice_or_indexer)\n",
      "        3    0.000    0.000    0.000    0.000 managers.py:1764(is_consolidated)\n",
      "        8    0.000    0.000    0.000    0.000 managers.py:937(<genexpr>)\n",
      "        2    0.000    0.000    0.000    0.000 base.py:456(_engine_type)\n",
      "        3    0.000    0.000    0.000    0.000 common.py:1375(_is_dtype)\n",
      "        2    0.000    0.000    0.000    0.000 common.py:372(apply_if_callable)\n",
      "        2    0.000    0.000    0.000    0.000 {method 'sum' of 'numpy.ndarray' objects}\n",
      "        2    0.000    0.000    0.000    0.000 astype.py:157(astype_array)\n",
      "        3    0.000    0.000    0.000    0.000 {method 'split' of 'str' objects}\n",
      "        4    0.000    0.000    0.000    0.000 api.py:318(<genexpr>)\n",
      "       10    0.000    0.000    0.000    0.000 _dtype.py:24(_kind_name)\n",
      "        4    0.000    0.000    0.000    0.000 inference.py:195(is_array_like)\n",
      "        5    0.000    0.000    0.000    0.000 highway_env_icy.py:130(<genexpr>)\n",
      "        1    0.000    0.000    0.000    0.000 typing.py:1221(__instancecheck__)\n",
      "        6    0.000    0.000    0.000    0.000 kinematics.py:219(destination)\n",
      "        2    0.000    0.000    0.000    0.000 indexing.py:2765(check_dict_or_set_indexers)\n",
      "       11    0.000    0.000    0.000    0.000 managers.py:196(blklocs)\n",
      "        1    0.000    0.000    0.000    0.000 fromnumeric.py:2322(any)\n",
      "        2    0.000    0.000    0.000    0.000 traitlets.py:629(get)\n",
      "        3    0.000    0.000    0.000    0.000 base.py:6415(_is_comparable_dtype)\n",
      "        6    0.000    0.000    0.000    0.000 concat.py:754(<genexpr>)\n",
      "        1    0.000    0.000    0.000    0.000 base.py:397(ensure_np_dtype)\n",
      "       15    0.000    0.000    0.000    0.000 fromnumeric.py:1232(_argmin_dispatcher)\n",
      "        8    0.000    0.000    0.000    0.000 {method 'add' of 'set' objects}\n",
      "        1    0.000    0.000    0.000    0.000 threading.py:314(_is_owned)\n",
      "        1    0.000    0.000    0.000    0.000 threading.py:308(_release_save)\n",
      "        1    0.000    0.000    0.000    0.000 managers.py:2095(create_block_manager_from_blocks)\n",
      "        2    0.000    0.000    0.000    0.000 box.py:31(is_float_integer)\n",
      "        2    0.000    0.000    0.000    0.000 construction.py:950(_validate_or_indexify_columns)\n",
      "       11    0.000    0.000    0.000    0.000 base.py:974(dtype)\n",
      "        1    0.000    0.000    0.000    0.000 abstract.py:169(_info)\n",
      "        9    0.000    0.000    0.000    0.000 {method 'keys' of 'dict' objects}\n",
      "        3    0.000    0.000    0.000    0.000 config.py:617(_select_options)\n",
      "        3    0.000    0.000    0.000    0.000 construction.py:688(_sanitize_non_ordered)\n",
      "       10    0.000    0.000    0.000    0.000 generic.py:696(ndim)\n",
      "        2    0.000    0.000    0.000    0.000 base.py:782(_rename)\n",
      "        2    0.000    0.000    0.000    0.000 fromnumeric.py:2692(max)\n",
      "        3    0.000    0.000    0.000    0.000 box.py:105(<genexpr>)\n",
      "        2    0.000    0.000    0.000    0.000 common.py:1571(validate_all_hashable)\n",
      "        2    0.000    0.000    0.000    0.000 blocks.py:2795(extend_blocks)\n",
      "        2    0.000    0.000    0.000    0.000 managers.py:553(nblocks)\n",
      "        4    0.000    0.000    0.000    0.000 _methods.py:39(_amax)\n",
      "        2    0.000    0.000    0.000    0.000 common.py:1040(needs_i8_conversion)\n",
      "        1    0.000    0.000    0.000    0.000 threading.py:299(__enter__)\n",
      "        6    0.000    0.000    0.000    0.000 {method 'upper' of 'str' objects}\n",
      "        1    0.000    0.000    0.000    0.000 frame.py:12590(values)\n",
      "        2    0.000    0.000    0.000    0.000 base.py:4436(_wrap_reindex_result)\n",
      "        1    0.000    0.000    0.000    0.000 <frozen abc>:121(__subclasscheck__)\n",
      "        2    0.000    0.000    0.000    0.000 concat.py:431(get_reindexed_values)\n",
      "       12    0.000    0.000    0.000    0.000 concat.py:351(__init__)\n",
      "        2    0.000    0.000    0.000    0.000 fromnumeric.py:1025(argsort)\n",
      "        1    0.000    0.000    0.000    0.000 {built-in method _abc._abc_subclasscheck}\n",
      "       12    0.000    0.000    0.000    0.000 {built-in method _warnings._filters_mutated}\n",
      "        2    0.000    0.000    0.000    0.000 base.py:2794(_na_value)\n",
      "        2    0.000    0.000    0.000    0.000 _methods.py:47(_sum)\n",
      "        2    0.000    0.000    0.000    0.000 objects.py:211(on_road)\n",
      "        2    0.000    0.000    0.000    0.000 common.py:174(not_none)\n",
      "        8    0.000    0.000    0.000    0.000 {built-in method builtins.id}\n",
      "        1    0.000    0.000    0.000    0.000 {method 'all' of 'numpy.ndarray' objects}\n",
      "        1    0.000    0.000    0.000    0.000 typing.py:1492(__subclasscheck__)\n",
      "        3    0.000    0.000    0.000    0.000 base.py:6679(_maybe_cast_listlike_indexer)\n",
      "        2    0.000    0.000    0.000    0.000 traitlets.py:3486(validate_elements)\n",
      "        1    0.000    0.000    0.021    0.021 common.py:277(step)\n",
      "        2    0.000    0.000    0.000    0.000 observation.py:36(observer_vehicle)\n",
      "        1    0.000    0.000    0.000    0.000 road.py:200(side_lanes)\n",
      "        4    0.000    0.000    0.000    0.000 common.py:1590(<genexpr>)\n",
      "        2    0.000    0.000    0.000    0.000 {method '__exit__' of '_thread.lock' objects}\n",
      "        2    0.000    0.000    0.000    0.000 {function FrozenList.__getitem__ at 0x0000014E832F60C0}\n",
      "        1    0.000    0.000    0.000    0.000 generic.py:6301(__setattr__)\n",
      "        4    0.000    0.000    0.000    0.000 base.py:2776(_is_multi)\n",
      "        3    0.000    0.000    0.000    0.000 managers.py:241(is_single_block)\n",
      "        3    0.000    0.000    0.000    0.000 concat.py:471(<genexpr>)\n",
      "        1    0.000    0.000    0.000    0.000 space.py:45(__init__)\n",
      "        3    0.000    0.000    0.000    0.000 config.py:649(_get_deprecated_option)\n",
      "        3    0.000    0.000    0.000    0.000 common.py:131(<lambda>)\n",
      "        2    0.000    0.000    0.000    0.000 {method 'acquire' of '_thread.lock' objects}\n",
      "        1    0.000    0.000    0.000    0.000 generic.py:4379(_set_is_copy)\n",
      "        2    0.000    0.000    0.000    0.000 base.py:7652(ensure_has_len)\n",
      "        1    0.000    0.000    0.000    0.000 construction.py:742(_get_axes)\n",
      "        3    0.000    0.000    0.000    0.000 common.py:1399(_get_dtype)\n",
      "        3    0.000    0.000    0.000    0.000 concat.py:160(<genexpr>)\n",
      "        1    0.000    0.000    0.000    0.000 {method 'copy' of 'numpy.ndarray' objects}\n",
      "       10    0.000    0.000    0.000    0.000 generic.py:405(flags)\n",
      "        6    0.000    0.000    0.000    0.000 blocks.py:1249(shape)\n",
      "        3    0.000    0.000    0.000    0.000 cast.py:1462(<genexpr>)\n",
      "        2    0.000    0.000    0.000    0.000 cast.py:1471(<genexpr>)\n",
      "        6    0.000    0.000    0.000    0.000 common.py:178(<genexpr>)\n",
      "        3    0.000    0.000    0.000    0.000 common.py:126(_classes_and_not_datetimelike)\n",
      "        1    0.000    0.000    0.000    0.000 construction.py:405(_check_values_indices_shape_match)\n",
      "        1    0.000    0.000    0.000    0.000 base.py:378(interleaved_dtype)\n",
      "        2    0.000    0.000    0.000    0.000 concat.py:693(_get_result_dim)\n",
      "        1    0.000    0.000    0.000    0.000 {built-in method fromkeys}\n",
      "        4    0.000    0.000    0.000    0.000 abstract.py:330(_automatic_rendering)\n",
      "        3    0.000    0.000    0.000    0.000 common.py:1122(<lambda>)\n",
      "        2    0.000    0.000    0.000    0.000 concat.py:44(_is_nonempty)\n",
      "        4    0.000    0.000    0.000    0.000 base.py:1176(_maybe_disallow_fill)\n",
      "        1    0.000    0.000    0.000    0.000 action.py:61(controlled_vehicle)\n",
      "        1    0.000    0.000    0.000    0.000 {method '__enter__' of '_thread.lock' objects}\n",
      "        2    0.000    0.000    0.000    0.000 concat.py:357(_is_valid_na_for)\n",
      "        2    0.000    0.000    0.000    0.000 managers.py:246(items)\n",
      "        3    0.000    0.000    0.000    0.000 box.py:111(<genexpr>)\n",
      "        5    0.000    0.000    0.000    0.000 utils.py:25(do_every)\n",
      "        6    0.000    0.000    0.000    0.000 flags.py:55(allows_duplicate_labels)\n",
      "        2    0.000    0.000    0.000    0.000 base.py:692(_constructor)\n",
      "        2    0.000    0.000    0.000    0.000 getlimits.py:484(__new__)\n",
      "        5    0.000    0.000    0.000    0.000 box.py:310(shape)\n",
      "        2    0.000    0.000    0.000    0.000 cast.py:1473(<genexpr>)\n",
      "        2    0.000    0.000    0.000    0.000 function.py:64(__call__)\n",
      "        2    0.000    0.000    0.000    0.000 {method 'extend' of 'list' objects}\n",
      "        2    0.000    0.000    0.000    0.000 {method 'pop' of 'set' objects}\n",
      "        1    0.000    0.000    0.000    0.000 {method 'transpose' of 'numpy.ndarray' objects}\n",
      "        1    0.000    0.000    0.000    0.000 highway_env_icy.py:172(_is_truncated)\n",
      "        3    0.000    0.000    0.000    0.000 concat.py:463(<genexpr>)\n",
      "        1    0.000    0.000    0.000    0.000 _methods.py:61(_all)\n",
      "        1    0.000    0.000    0.000    0.000 {method 'append' of 'collections.deque' objects}\n",
      "        1    0.000    0.000    0.000    0.000 construction.py:196(mgr_to_mgr)\n",
      "        4    0.000    0.000    0.000    0.000 generic.py:363(attrs)\n",
      "        3    0.000    0.000    0.000    0.000 concat.py:540(<genexpr>)\n",
      "        1    0.000    0.000    0.000    0.000 construction.py:585(_ensure_2d)\n",
      "        4    0.000    0.000    0.000    0.000 fromnumeric.py:2831(_min_dispatcher)\n",
      "        3    0.000    0.000    0.000    0.000 missing.py:1073(clean_reindex_fill_method)\n",
      "        3    0.000    0.000    0.000    0.000 cast.py:1478(<genexpr>)\n",
      "        1    0.000    0.000    0.000    0.000 {method 'release' of '_thread.lock' objects}\n",
      "        2    0.000    0.000    0.000    0.000 {built-in method builtins.callable}\n",
      "        2    0.000    0.000    0.000    0.000 blocks.py:2586(get_values)\n",
      "        2    0.000    0.000    0.000    0.000 fromnumeric.py:1021(_argsort_dispatcher)\n",
      "        2    0.000    0.000    0.000    0.000 ufunclike.py:14(_dispatcher)\n",
      "        1    0.000    0.000    0.000    0.000 highway_env_icy.py:164(_is_terminated)\n",
      "        2    0.000    0.000    0.000    0.000 base.py:1979(nlevels)\n",
      "        2    0.000    0.000    0.000    0.000 multiarray.py:669(result_type)\n",
      "        2    0.000    0.000    0.000    0.000 fromnumeric.py:2687(_max_dispatcher)\n",
      "        1    0.000    0.000    0.000    0.000 fromnumeric.py:2317(_any_dispatcher)"
     ]
    }
   ],
   "source": [
    "%prun obs, reward, done, truncated, info = env.step(action)"
   ]
  },
  {
   "cell_type": "code",
   "execution_count": 4,
   "metadata": {},
   "outputs": [
    {
     "data": {
      "text/plain": [
       "[MDPVehicle #824: [183.87107986   4.        ],\n",
       " IDMVehicle #216: [197.79668924   8.        ],\n",
       " IDMVehicle #904: [219.72090957   0.        ]]"
      ]
     },
     "execution_count": 4,
     "metadata": {},
     "output_type": "execute_result"
    }
   ],
   "source": [
    "env.unwrapped.road.vehicles"
   ]
  },
  {
   "cell_type": "code",
   "execution_count": 5,
   "metadata": {},
   "outputs": [
    {
     "data": {
      "text/plain": [
       "[Ice1 #760: at [151.090512   4.      ],\n",
       " Ice1 #432: at [218.85401083   8.        ],\n",
       " Ice1 #608: at [268.52539651   0.        ],\n",
       " Ice1 #528: at [294.43759937   0.        ],\n",
       " Ice1 #536: at [343.98100414   4.        ],\n",
       " Ice1 #712: at [392.53761495   8.        ],\n",
       " Ice1 #656: at [460.59978171   4.        ],\n",
       " Ice1 #528: at [505.44612845   0.        ],\n",
       " Ice1 #72: at [551.07811977   8.        ],\n",
       " Ice1 #64: at [633.43185766   0.        ]]"
      ]
     },
     "execution_count": 5,
     "metadata": {},
     "output_type": "execute_result"
    }
   ],
   "source": [
    "env.unwrapped.road.objects"
   ]
  },
  {
   "cell_type": "code",
   "execution_count": 6,
   "metadata": {},
   "outputs": [
    {
     "data": {
      "text/plain": [
       "array([[  1.      , 183.87108 ,   4.      ,  29.444445,   0.      ],\n",
       "       [  1.      , 197.79669 ,   8.      ,  17.942114,   0.      ],\n",
       "       [  1.      , 218.854   ,   8.      ,   0.      ,   0.      ],\n",
       "       [  1.      , 219.72092 ,   0.      ,  16.230988,   0.      ],\n",
       "       [  1.      , 268.5254  ,   0.      ,   0.      ,   0.      ],\n",
       "       [  1.      , 294.4376  ,   0.      ,   0.      ,   0.      ],\n",
       "       [  1.      , 343.98102 ,   4.      ,   0.      ,   0.      ],\n",
       "       [  0.      ,   0.      ,   0.      ,   0.      ,   0.      ],\n",
       "       [  0.      ,   0.      ,   0.      ,   0.      ,   0.      ],\n",
       "       [  0.      ,   0.      ,   0.      ,   0.      ,   0.      ],\n",
       "       [  0.      ,   0.      ,   0.      ,   0.      ,   0.      ],\n",
       "       [  0.      ,   0.      ,   0.      ,   0.      ,   0.      ]],\n",
       "      dtype=float32)"
      ]
     },
     "execution_count": 6,
     "metadata": {},
     "output_type": "execute_result"
    }
   ],
   "source": [
    "obs"
   ]
  },
  {
   "cell_type": "code",
   "execution_count": null,
   "metadata": {},
   "outputs": [],
   "source": []
  }
 ],
 "metadata": {
  "kernelspec": {
   "display_name": "myHighwayEnv",
   "language": "python",
   "name": "python3"
  },
  "language_info": {
   "codemirror_mode": {
    "name": "ipython",
    "version": 3
   },
   "file_extension": ".py",
   "mimetype": "text/x-python",
   "name": "python",
   "nbconvert_exporter": "python",
   "pygments_lexer": "ipython3",
   "version": "3.12.8"
  }
 },
 "nbformat": 4,
 "nbformat_minor": 2
}
